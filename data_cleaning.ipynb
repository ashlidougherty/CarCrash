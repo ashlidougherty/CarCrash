{
 "cells": [
  {
   "cell_type": "markdown",
   "metadata": {},
   "source": [
    "# Datasets "
   ]
  },
  {
   "cell_type": "markdown",
   "metadata": {},
   "source": [
    "Data is from three CSVs published by the City of Chicago and last updated on August 22, 2022.\n",
    "\n",
    "Traffic Crashes - Crashes: https://data.cityofchicago.org/Transportation/Traffic-Crashes-Crashes/85ca-t3if\n",
    "\n",
    "Traffic Crashes - Vehicle: https://data.cityofchicago.org/Transportation/Traffic-Crashes-Vehicles/68nd-jvt3\n",
    "\n",
    "Traffic Crashes - People: https://data.cityofchicago.org/Transportation/Traffic-Crashes-People/u6pd-qa9d\n",
    "\n",
    "I stored these files locally to avoid github large file storage system."
   ]
  },
  {
   "cell_type": "markdown",
   "metadata": {},
   "source": [
    "## Setting Up Imports"
   ]
  },
  {
   "cell_type": "code",
   "execution_count": 1,
   "metadata": {},
   "outputs": [],
   "source": [
    "import pandas as pd\n",
    "import numpy as np\n",
    "import matplotlib.pyplot as plt\n",
    "%matplotlib inline\n",
    "import seaborn as sns"
   ]
  },
  {
   "cell_type": "markdown",
   "metadata": {},
   "source": [
    "## Unzipping Files"
   ]
  },
  {
   "cell_type": "code",
   "execution_count": 2,
   "metadata": {},
   "outputs": [],
   "source": [
    "# unzipped files were added to .gitignore file"
   ]
  },
  {
   "cell_type": "markdown",
   "metadata": {},
   "source": [
    "### Crashes Dataset"
   ]
  },
  {
   "cell_type": "code",
   "execution_count": 3,
   "metadata": {},
   "outputs": [],
   "source": [
    "# # from Kevin Rivera\n",
    "# from zipfile import ZipFile\n",
    "# # specifying the zip file name\n",
    "# file_name = \"../CarCrashData/Traffic_Crashes_Crashes.csv\"\n",
    "# # opening the zip file in READ mode\n",
    "# # with ZipFile(file_name, 'r') as zip:\n",
    "# #     # printing all the contents of the zip file\n",
    "# #     zip.printdir()\n",
    "# #     # extracting all the files\n",
    "# #     print('Extracting all the files now...')\n",
    "# #     # extract data to the same directory as the other data\n",
    "# #     zip.extractall(path='./zippedData')\n",
    "# #     print('Done!')\n"
   ]
  },
  {
   "cell_type": "code",
   "execution_count": 4,
   "metadata": {},
   "outputs": [
    {
     "data": {
      "text/html": [
       "<div>\n",
       "<style scoped>\n",
       "    .dataframe tbody tr th:only-of-type {\n",
       "        vertical-align: middle;\n",
       "    }\n",
       "\n",
       "    .dataframe tbody tr th {\n",
       "        vertical-align: top;\n",
       "    }\n",
       "\n",
       "    .dataframe thead th {\n",
       "        text-align: right;\n",
       "    }\n",
       "</style>\n",
       "<table border=\"1\" class=\"dataframe\">\n",
       "  <thead>\n",
       "    <tr style=\"text-align: right;\">\n",
       "      <th></th>\n",
       "      <th>CRASH_RECORD_ID</th>\n",
       "      <th>RD_NO</th>\n",
       "      <th>CRASH_DATE_EST_I</th>\n",
       "      <th>CRASH_DATE</th>\n",
       "      <th>POSTED_SPEED_LIMIT</th>\n",
       "      <th>TRAFFIC_CONTROL_DEVICE</th>\n",
       "      <th>DEVICE_CONDITION</th>\n",
       "      <th>WEATHER_CONDITION</th>\n",
       "      <th>LIGHTING_CONDITION</th>\n",
       "      <th>FIRST_CRASH_TYPE</th>\n",
       "      <th>...</th>\n",
       "      <th>INJURIES_NON_INCAPACITATING</th>\n",
       "      <th>INJURIES_REPORTED_NOT_EVIDENT</th>\n",
       "      <th>INJURIES_NO_INDICATION</th>\n",
       "      <th>INJURIES_UNKNOWN</th>\n",
       "      <th>CRASH_HOUR</th>\n",
       "      <th>CRASH_DAY_OF_WEEK</th>\n",
       "      <th>CRASH_MONTH</th>\n",
       "      <th>LATITUDE</th>\n",
       "      <th>LONGITUDE</th>\n",
       "      <th>LOCATION</th>\n",
       "    </tr>\n",
       "  </thead>\n",
       "  <tbody>\n",
       "    <tr>\n",
       "      <th>0</th>\n",
       "      <td>0115ade9a755e835255508463f7e9c4a9a0b47e9304238...</td>\n",
       "      <td>JF318029</td>\n",
       "      <td>NaN</td>\n",
       "      <td>07/15/2022 12:45:00 AM</td>\n",
       "      <td>30</td>\n",
       "      <td>UNKNOWN</td>\n",
       "      <td>UNKNOWN</td>\n",
       "      <td>CLEAR</td>\n",
       "      <td>DARKNESS, LIGHTED ROAD</td>\n",
       "      <td>ANGLE</td>\n",
       "      <td>...</td>\n",
       "      <td>0.0</td>\n",
       "      <td>0.0</td>\n",
       "      <td>2.0</td>\n",
       "      <td>0.0</td>\n",
       "      <td>0</td>\n",
       "      <td>6</td>\n",
       "      <td>7</td>\n",
       "      <td>41.886336</td>\n",
       "      <td>-87.716203</td>\n",
       "      <td>POINT (-87.716203130599 41.886336409761)</td>\n",
       "    </tr>\n",
       "    <tr>\n",
       "      <th>1</th>\n",
       "      <td>017040c61958d2fa977c956b2bd2d6759ef7754496dc96...</td>\n",
       "      <td>JF324552</td>\n",
       "      <td>NaN</td>\n",
       "      <td>07/15/2022 06:50:00 PM</td>\n",
       "      <td>30</td>\n",
       "      <td>TRAFFIC SIGNAL</td>\n",
       "      <td>FUNCTIONING PROPERLY</td>\n",
       "      <td>CLEAR</td>\n",
       "      <td>DAYLIGHT</td>\n",
       "      <td>REAR END</td>\n",
       "      <td>...</td>\n",
       "      <td>0.0</td>\n",
       "      <td>0.0</td>\n",
       "      <td>2.0</td>\n",
       "      <td>0.0</td>\n",
       "      <td>18</td>\n",
       "      <td>6</td>\n",
       "      <td>7</td>\n",
       "      <td>41.925111</td>\n",
       "      <td>-87.667997</td>\n",
       "      <td>POINT (-87.667997321599 41.925110815832)</td>\n",
       "    </tr>\n",
       "    <tr>\n",
       "      <th>2</th>\n",
       "      <td>01aaa759c6bbefd0f584226fbd88bdc549de3ed1e46255...</td>\n",
       "      <td>JF319819</td>\n",
       "      <td>NaN</td>\n",
       "      <td>07/15/2022 05:10:00 PM</td>\n",
       "      <td>40</td>\n",
       "      <td>NO CONTROLS</td>\n",
       "      <td>NO CONTROLS</td>\n",
       "      <td>CLOUDY/OVERCAST</td>\n",
       "      <td>DAYLIGHT</td>\n",
       "      <td>ANGLE</td>\n",
       "      <td>...</td>\n",
       "      <td>0.0</td>\n",
       "      <td>0.0</td>\n",
       "      <td>2.0</td>\n",
       "      <td>0.0</td>\n",
       "      <td>17</td>\n",
       "      <td>6</td>\n",
       "      <td>7</td>\n",
       "      <td>41.975826</td>\n",
       "      <td>-87.650420</td>\n",
       "      <td>POINT (-87.650419778017 41.975826016449)</td>\n",
       "    </tr>\n",
       "    <tr>\n",
       "      <th>3</th>\n",
       "      <td>0362b3f8ddb8589dfe889356efbc2ad213efe2031556f0...</td>\n",
       "      <td>JF318271</td>\n",
       "      <td>NaN</td>\n",
       "      <td>07/15/2022 08:44:00 AM</td>\n",
       "      <td>30</td>\n",
       "      <td>NO CONTROLS</td>\n",
       "      <td>NO CONTROLS</td>\n",
       "      <td>RAIN</td>\n",
       "      <td>DAYLIGHT</td>\n",
       "      <td>REAR END</td>\n",
       "      <td>...</td>\n",
       "      <td>0.0</td>\n",
       "      <td>0.0</td>\n",
       "      <td>3.0</td>\n",
       "      <td>0.0</td>\n",
       "      <td>8</td>\n",
       "      <td>6</td>\n",
       "      <td>7</td>\n",
       "      <td>41.944199</td>\n",
       "      <td>-87.747157</td>\n",
       "      <td>POINT (-87.747157281564 41.944198992304)</td>\n",
       "    </tr>\n",
       "    <tr>\n",
       "      <th>4</th>\n",
       "      <td>03d3679ef44bb8aa0f2060cb0376f3eeb1d9dbb2197322...</td>\n",
       "      <td>JF318956</td>\n",
       "      <td>NaN</td>\n",
       "      <td>07/15/2022 04:10:00 PM</td>\n",
       "      <td>30</td>\n",
       "      <td>STOP SIGN/FLASHER</td>\n",
       "      <td>FUNCTIONING PROPERLY</td>\n",
       "      <td>RAIN</td>\n",
       "      <td>DAYLIGHT</td>\n",
       "      <td>PEDESTRIAN</td>\n",
       "      <td>...</td>\n",
       "      <td>1.0</td>\n",
       "      <td>0.0</td>\n",
       "      <td>1.0</td>\n",
       "      <td>0.0</td>\n",
       "      <td>16</td>\n",
       "      <td>6</td>\n",
       "      <td>7</td>\n",
       "      <td>41.855974</td>\n",
       "      <td>-87.663860</td>\n",
       "      <td>POINT (-87.663860117648 41.855973928536)</td>\n",
       "    </tr>\n",
       "  </tbody>\n",
       "</table>\n",
       "<p>5 rows × 49 columns</p>\n",
       "</div>"
      ],
      "text/plain": [
       "                                     CRASH_RECORD_ID     RD_NO  \\\n",
       "0  0115ade9a755e835255508463f7e9c4a9a0b47e9304238...  JF318029   \n",
       "1  017040c61958d2fa977c956b2bd2d6759ef7754496dc96...  JF324552   \n",
       "2  01aaa759c6bbefd0f584226fbd88bdc549de3ed1e46255...  JF319819   \n",
       "3  0362b3f8ddb8589dfe889356efbc2ad213efe2031556f0...  JF318271   \n",
       "4  03d3679ef44bb8aa0f2060cb0376f3eeb1d9dbb2197322...  JF318956   \n",
       "\n",
       "  CRASH_DATE_EST_I              CRASH_DATE  POSTED_SPEED_LIMIT  \\\n",
       "0              NaN  07/15/2022 12:45:00 AM                  30   \n",
       "1              NaN  07/15/2022 06:50:00 PM                  30   \n",
       "2              NaN  07/15/2022 05:10:00 PM                  40   \n",
       "3              NaN  07/15/2022 08:44:00 AM                  30   \n",
       "4              NaN  07/15/2022 04:10:00 PM                  30   \n",
       "\n",
       "  TRAFFIC_CONTROL_DEVICE      DEVICE_CONDITION WEATHER_CONDITION  \\\n",
       "0                UNKNOWN               UNKNOWN             CLEAR   \n",
       "1         TRAFFIC SIGNAL  FUNCTIONING PROPERLY             CLEAR   \n",
       "2            NO CONTROLS           NO CONTROLS   CLOUDY/OVERCAST   \n",
       "3            NO CONTROLS           NO CONTROLS              RAIN   \n",
       "4      STOP SIGN/FLASHER  FUNCTIONING PROPERLY              RAIN   \n",
       "\n",
       "       LIGHTING_CONDITION FIRST_CRASH_TYPE  ... INJURIES_NON_INCAPACITATING  \\\n",
       "0  DARKNESS, LIGHTED ROAD            ANGLE  ...                         0.0   \n",
       "1                DAYLIGHT         REAR END  ...                         0.0   \n",
       "2                DAYLIGHT            ANGLE  ...                         0.0   \n",
       "3                DAYLIGHT         REAR END  ...                         0.0   \n",
       "4                DAYLIGHT       PEDESTRIAN  ...                         1.0   \n",
       "\n",
       "   INJURIES_REPORTED_NOT_EVIDENT INJURIES_NO_INDICATION INJURIES_UNKNOWN  \\\n",
       "0                            0.0                    2.0              0.0   \n",
       "1                            0.0                    2.0              0.0   \n",
       "2                            0.0                    2.0              0.0   \n",
       "3                            0.0                    3.0              0.0   \n",
       "4                            0.0                    1.0              0.0   \n",
       "\n",
       "  CRASH_HOUR CRASH_DAY_OF_WEEK CRASH_MONTH   LATITUDE  LONGITUDE  \\\n",
       "0          0                 6           7  41.886336 -87.716203   \n",
       "1         18                 6           7  41.925111 -87.667997   \n",
       "2         17                 6           7  41.975826 -87.650420   \n",
       "3          8                 6           7  41.944199 -87.747157   \n",
       "4         16                 6           7  41.855974 -87.663860   \n",
       "\n",
       "                                   LOCATION  \n",
       "0  POINT (-87.716203130599 41.886336409761)  \n",
       "1  POINT (-87.667997321599 41.925110815832)  \n",
       "2  POINT (-87.650419778017 41.975826016449)  \n",
       "3  POINT (-87.747157281564 41.944198992304)  \n",
       "4  POINT (-87.663860117648 41.855973928536)  \n",
       "\n",
       "[5 rows x 49 columns]"
      ]
     },
     "execution_count": 4,
     "metadata": {},
     "output_type": "execute_result"
    }
   ],
   "source": [
    "crashes = pd.read_csv('../CarCrashData/Traffic_Crashes_Crashes.csv')\n",
    "crashes.head()"
   ]
  },
  {
   "cell_type": "code",
   "execution_count": 5,
   "metadata": {},
   "outputs": [
    {
     "data": {
      "text/plain": [
       "(643075, 49)"
      ]
     },
     "execution_count": 5,
     "metadata": {},
     "output_type": "execute_result"
    }
   ],
   "source": [
    "crashes.shape"
   ]
  },
  {
   "cell_type": "code",
   "execution_count": 6,
   "metadata": {},
   "outputs": [
    {
     "name": "stdout",
     "output_type": "stream",
     "text": [
      "<class 'pandas.core.frame.DataFrame'>\n",
      "RangeIndex: 643075 entries, 0 to 643074\n",
      "Data columns (total 49 columns):\n",
      " #   Column                         Non-Null Count   Dtype  \n",
      "---  ------                         --------------   -----  \n",
      " 0   CRASH_RECORD_ID                643075 non-null  object \n",
      " 1   RD_NO                          639096 non-null  object \n",
      " 2   CRASH_DATE_EST_I               48816 non-null   object \n",
      " 3   CRASH_DATE                     643075 non-null  object \n",
      " 4   POSTED_SPEED_LIMIT             643075 non-null  int64  \n",
      " 5   TRAFFIC_CONTROL_DEVICE         643075 non-null  object \n",
      " 6   DEVICE_CONDITION               643075 non-null  object \n",
      " 7   WEATHER_CONDITION              643075 non-null  object \n",
      " 8   LIGHTING_CONDITION             643075 non-null  object \n",
      " 9   FIRST_CRASH_TYPE               643075 non-null  object \n",
      " 10  TRAFFICWAY_TYPE                643075 non-null  object \n",
      " 11  LANE_CNT                       198990 non-null  float64\n",
      " 12  ALIGNMENT                      643075 non-null  object \n",
      " 13  ROADWAY_SURFACE_COND           643075 non-null  object \n",
      " 14  ROAD_DEFECT                    643075 non-null  object \n",
      " 15  REPORT_TYPE                    626026 non-null  object \n",
      " 16  CRASH_TYPE                     643075 non-null  object \n",
      " 17  INTERSECTION_RELATED_I         147110 non-null  object \n",
      " 18  NOT_RIGHT_OF_WAY_I             30297 non-null   object \n",
      " 19  HIT_AND_RUN_I                  198023 non-null  object \n",
      " 20  DAMAGE                         643075 non-null  object \n",
      " 21  DATE_POLICE_NOTIFIED           643075 non-null  object \n",
      " 22  PRIM_CONTRIBUTORY_CAUSE        643075 non-null  object \n",
      " 23  SEC_CONTRIBUTORY_CAUSE         643075 non-null  object \n",
      " 24  STREET_NO                      643075 non-null  int64  \n",
      " 25  STREET_DIRECTION               643071 non-null  object \n",
      " 26  STREET_NAME                    643074 non-null  object \n",
      " 27  BEAT_OF_OCCURRENCE             643070 non-null  float64\n",
      " 28  PHOTOS_TAKEN_I                 7913 non-null    object \n",
      " 29  STATEMENTS_TAKEN_I             13198 non-null   object \n",
      " 30  DOORING_I                      2013 non-null    object \n",
      " 31  WORK_ZONE_I                    3825 non-null    object \n",
      " 32  WORK_ZONE_TYPE                 3002 non-null    object \n",
      " 33  WORKERS_PRESENT_I              972 non-null     object \n",
      " 34  NUM_UNITS                      643075 non-null  int64  \n",
      " 35  MOST_SEVERE_INJURY             641710 non-null  object \n",
      " 36  INJURIES_TOTAL                 641721 non-null  float64\n",
      " 37  INJURIES_FATAL                 641721 non-null  float64\n",
      " 38  INJURIES_INCAPACITATING        641721 non-null  float64\n",
      " 39  INJURIES_NON_INCAPACITATING    641721 non-null  float64\n",
      " 40  INJURIES_REPORTED_NOT_EVIDENT  641721 non-null  float64\n",
      " 41  INJURIES_NO_INDICATION         641721 non-null  float64\n",
      " 42  INJURIES_UNKNOWN               641721 non-null  float64\n",
      " 43  CRASH_HOUR                     643075 non-null  int64  \n",
      " 44  CRASH_DAY_OF_WEEK              643075 non-null  int64  \n",
      " 45  CRASH_MONTH                    643075 non-null  int64  \n",
      " 46  LATITUDE                       639116 non-null  float64\n",
      " 47  LONGITUDE                      639116 non-null  float64\n",
      " 48  LOCATION                       639116 non-null  object \n",
      "dtypes: float64(11), int64(6), object(32)\n",
      "memory usage: 240.4+ MB\n"
     ]
    }
   ],
   "source": [
    "crashes.info()"
   ]
  },
  {
   "cell_type": "code",
   "execution_count": 7,
   "metadata": {},
   "outputs": [],
   "source": [
    "# all data types are object, int or float"
   ]
  },
  {
   "cell_type": "code",
   "execution_count": 8,
   "metadata": {},
   "outputs": [
    {
     "data": {
      "text/html": [
       "<div>\n",
       "<style scoped>\n",
       "    .dataframe tbody tr th:only-of-type {\n",
       "        vertical-align: middle;\n",
       "    }\n",
       "\n",
       "    .dataframe tbody tr th {\n",
       "        vertical-align: top;\n",
       "    }\n",
       "\n",
       "    .dataframe thead th {\n",
       "        text-align: right;\n",
       "    }\n",
       "</style>\n",
       "<table border=\"1\" class=\"dataframe\">\n",
       "  <thead>\n",
       "    <tr style=\"text-align: right;\">\n",
       "      <th></th>\n",
       "      <th>POSTED_SPEED_LIMIT</th>\n",
       "      <th>LANE_CNT</th>\n",
       "      <th>STREET_NO</th>\n",
       "      <th>BEAT_OF_OCCURRENCE</th>\n",
       "      <th>NUM_UNITS</th>\n",
       "      <th>INJURIES_TOTAL</th>\n",
       "      <th>INJURIES_FATAL</th>\n",
       "      <th>INJURIES_INCAPACITATING</th>\n",
       "      <th>INJURIES_NON_INCAPACITATING</th>\n",
       "      <th>INJURIES_REPORTED_NOT_EVIDENT</th>\n",
       "      <th>INJURIES_NO_INDICATION</th>\n",
       "      <th>INJURIES_UNKNOWN</th>\n",
       "      <th>CRASH_HOUR</th>\n",
       "      <th>CRASH_DAY_OF_WEEK</th>\n",
       "      <th>CRASH_MONTH</th>\n",
       "      <th>LATITUDE</th>\n",
       "      <th>LONGITUDE</th>\n",
       "    </tr>\n",
       "  </thead>\n",
       "  <tbody>\n",
       "    <tr>\n",
       "      <th>count</th>\n",
       "      <td>643075.000000</td>\n",
       "      <td>1.989900e+05</td>\n",
       "      <td>643075.000000</td>\n",
       "      <td>643070.000000</td>\n",
       "      <td>643075.000000</td>\n",
       "      <td>641721.000000</td>\n",
       "      <td>641721.000000</td>\n",
       "      <td>641721.000000</td>\n",
       "      <td>641721.000000</td>\n",
       "      <td>641721.000000</td>\n",
       "      <td>641721.000000</td>\n",
       "      <td>641721.0</td>\n",
       "      <td>643075.000000</td>\n",
       "      <td>643075.000000</td>\n",
       "      <td>643075.000000</td>\n",
       "      <td>639116.000000</td>\n",
       "      <td>639116.000000</td>\n",
       "    </tr>\n",
       "    <tr>\n",
       "      <th>mean</th>\n",
       "      <td>28.353324</td>\n",
       "      <td>1.333114e+01</td>\n",
       "      <td>3679.008766</td>\n",
       "      <td>1238.270918</td>\n",
       "      <td>2.034330</td>\n",
       "      <td>0.184465</td>\n",
       "      <td>0.001156</td>\n",
       "      <td>0.019896</td>\n",
       "      <td>0.103741</td>\n",
       "      <td>0.059671</td>\n",
       "      <td>2.009839</td>\n",
       "      <td>0.0</td>\n",
       "      <td>13.227376</td>\n",
       "      <td>4.126030</td>\n",
       "      <td>6.602992</td>\n",
       "      <td>41.854442</td>\n",
       "      <td>-87.673189</td>\n",
       "    </tr>\n",
       "    <tr>\n",
       "      <th>std</th>\n",
       "      <td>6.307755</td>\n",
       "      <td>2.961743e+03</td>\n",
       "      <td>2902.152690</td>\n",
       "      <td>705.607060</td>\n",
       "      <td>0.451205</td>\n",
       "      <td>0.557587</td>\n",
       "      <td>0.036971</td>\n",
       "      <td>0.164731</td>\n",
       "      <td>0.414922</td>\n",
       "      <td>0.314099</td>\n",
       "      <td>1.159724</td>\n",
       "      <td>0.0</td>\n",
       "      <td>5.546454</td>\n",
       "      <td>1.980984</td>\n",
       "      <td>3.384845</td>\n",
       "      <td>0.334011</td>\n",
       "      <td>0.678619</td>\n",
       "    </tr>\n",
       "    <tr>\n",
       "      <th>min</th>\n",
       "      <td>0.000000</td>\n",
       "      <td>0.000000e+00</td>\n",
       "      <td>0.000000</td>\n",
       "      <td>111.000000</td>\n",
       "      <td>1.000000</td>\n",
       "      <td>0.000000</td>\n",
       "      <td>0.000000</td>\n",
       "      <td>0.000000</td>\n",
       "      <td>0.000000</td>\n",
       "      <td>0.000000</td>\n",
       "      <td>0.000000</td>\n",
       "      <td>0.0</td>\n",
       "      <td>0.000000</td>\n",
       "      <td>1.000000</td>\n",
       "      <td>1.000000</td>\n",
       "      <td>0.000000</td>\n",
       "      <td>-87.936193</td>\n",
       "    </tr>\n",
       "    <tr>\n",
       "      <th>25%</th>\n",
       "      <td>30.000000</td>\n",
       "      <td>2.000000e+00</td>\n",
       "      <td>1230.000000</td>\n",
       "      <td>712.000000</td>\n",
       "      <td>2.000000</td>\n",
       "      <td>0.000000</td>\n",
       "      <td>0.000000</td>\n",
       "      <td>0.000000</td>\n",
       "      <td>0.000000</td>\n",
       "      <td>0.000000</td>\n",
       "      <td>1.000000</td>\n",
       "      <td>0.0</td>\n",
       "      <td>9.000000</td>\n",
       "      <td>2.000000</td>\n",
       "      <td>4.000000</td>\n",
       "      <td>41.781068</td>\n",
       "      <td>-87.721345</td>\n",
       "    </tr>\n",
       "    <tr>\n",
       "      <th>50%</th>\n",
       "      <td>30.000000</td>\n",
       "      <td>2.000000e+00</td>\n",
       "      <td>3200.000000</td>\n",
       "      <td>1135.000000</td>\n",
       "      <td>2.000000</td>\n",
       "      <td>0.000000</td>\n",
       "      <td>0.000000</td>\n",
       "      <td>0.000000</td>\n",
       "      <td>0.000000</td>\n",
       "      <td>0.000000</td>\n",
       "      <td>2.000000</td>\n",
       "      <td>0.0</td>\n",
       "      <td>14.000000</td>\n",
       "      <td>4.000000</td>\n",
       "      <td>7.000000</td>\n",
       "      <td>41.874541</td>\n",
       "      <td>-87.673565</td>\n",
       "    </tr>\n",
       "    <tr>\n",
       "      <th>75%</th>\n",
       "      <td>30.000000</td>\n",
       "      <td>4.000000e+00</td>\n",
       "      <td>5600.000000</td>\n",
       "      <td>1822.000000</td>\n",
       "      <td>2.000000</td>\n",
       "      <td>0.000000</td>\n",
       "      <td>0.000000</td>\n",
       "      <td>0.000000</td>\n",
       "      <td>0.000000</td>\n",
       "      <td>0.000000</td>\n",
       "      <td>2.000000</td>\n",
       "      <td>0.0</td>\n",
       "      <td>17.000000</td>\n",
       "      <td>6.000000</td>\n",
       "      <td>10.000000</td>\n",
       "      <td>41.923985</td>\n",
       "      <td>-87.632917</td>\n",
       "    </tr>\n",
       "    <tr>\n",
       "      <th>max</th>\n",
       "      <td>99.000000</td>\n",
       "      <td>1.191625e+06</td>\n",
       "      <td>451100.000000</td>\n",
       "      <td>6100.000000</td>\n",
       "      <td>18.000000</td>\n",
       "      <td>21.000000</td>\n",
       "      <td>4.000000</td>\n",
       "      <td>7.000000</td>\n",
       "      <td>21.000000</td>\n",
       "      <td>15.000000</td>\n",
       "      <td>61.000000</td>\n",
       "      <td>0.0</td>\n",
       "      <td>23.000000</td>\n",
       "      <td>7.000000</td>\n",
       "      <td>12.000000</td>\n",
       "      <td>42.022780</td>\n",
       "      <td>0.000000</td>\n",
       "    </tr>\n",
       "  </tbody>\n",
       "</table>\n",
       "</div>"
      ],
      "text/plain": [
       "       POSTED_SPEED_LIMIT      LANE_CNT      STREET_NO  BEAT_OF_OCCURRENCE  \\\n",
       "count       643075.000000  1.989900e+05  643075.000000       643070.000000   \n",
       "mean            28.353324  1.333114e+01    3679.008766         1238.270918   \n",
       "std              6.307755  2.961743e+03    2902.152690          705.607060   \n",
       "min              0.000000  0.000000e+00       0.000000          111.000000   \n",
       "25%             30.000000  2.000000e+00    1230.000000          712.000000   \n",
       "50%             30.000000  2.000000e+00    3200.000000         1135.000000   \n",
       "75%             30.000000  4.000000e+00    5600.000000         1822.000000   \n",
       "max             99.000000  1.191625e+06  451100.000000         6100.000000   \n",
       "\n",
       "           NUM_UNITS  INJURIES_TOTAL  INJURIES_FATAL  INJURIES_INCAPACITATING  \\\n",
       "count  643075.000000   641721.000000   641721.000000            641721.000000   \n",
       "mean        2.034330        0.184465        0.001156                 0.019896   \n",
       "std         0.451205        0.557587        0.036971                 0.164731   \n",
       "min         1.000000        0.000000        0.000000                 0.000000   \n",
       "25%         2.000000        0.000000        0.000000                 0.000000   \n",
       "50%         2.000000        0.000000        0.000000                 0.000000   \n",
       "75%         2.000000        0.000000        0.000000                 0.000000   \n",
       "max        18.000000       21.000000        4.000000                 7.000000   \n",
       "\n",
       "       INJURIES_NON_INCAPACITATING  INJURIES_REPORTED_NOT_EVIDENT  \\\n",
       "count                641721.000000                  641721.000000   \n",
       "mean                      0.103741                       0.059671   \n",
       "std                       0.414922                       0.314099   \n",
       "min                       0.000000                       0.000000   \n",
       "25%                       0.000000                       0.000000   \n",
       "50%                       0.000000                       0.000000   \n",
       "75%                       0.000000                       0.000000   \n",
       "max                      21.000000                      15.000000   \n",
       "\n",
       "       INJURIES_NO_INDICATION  INJURIES_UNKNOWN     CRASH_HOUR  \\\n",
       "count           641721.000000          641721.0  643075.000000   \n",
       "mean                 2.009839               0.0      13.227376   \n",
       "std                  1.159724               0.0       5.546454   \n",
       "min                  0.000000               0.0       0.000000   \n",
       "25%                  1.000000               0.0       9.000000   \n",
       "50%                  2.000000               0.0      14.000000   \n",
       "75%                  2.000000               0.0      17.000000   \n",
       "max                 61.000000               0.0      23.000000   \n",
       "\n",
       "       CRASH_DAY_OF_WEEK    CRASH_MONTH       LATITUDE      LONGITUDE  \n",
       "count      643075.000000  643075.000000  639116.000000  639116.000000  \n",
       "mean            4.126030       6.602992      41.854442     -87.673189  \n",
       "std             1.980984       3.384845       0.334011       0.678619  \n",
       "min             1.000000       1.000000       0.000000     -87.936193  \n",
       "25%             2.000000       4.000000      41.781068     -87.721345  \n",
       "50%             4.000000       7.000000      41.874541     -87.673565  \n",
       "75%             6.000000      10.000000      41.923985     -87.632917  \n",
       "max             7.000000      12.000000      42.022780       0.000000  "
      ]
     },
     "execution_count": 8,
     "metadata": {},
     "output_type": "execute_result"
    }
   ],
   "source": [
    "crashes.describe()"
   ]
  },
  {
   "cell_type": "markdown",
   "metadata": {},
   "source": [
    "### Dropping columns with high null counts"
   ]
  },
  {
   "cell_type": "code",
   "execution_count": 9,
   "metadata": {},
   "outputs": [
    {
     "data": {
      "text/html": [
       "<div>\n",
       "<style scoped>\n",
       "    .dataframe tbody tr th:only-of-type {\n",
       "        vertical-align: middle;\n",
       "    }\n",
       "\n",
       "    .dataframe tbody tr th {\n",
       "        vertical-align: top;\n",
       "    }\n",
       "\n",
       "    .dataframe thead th {\n",
       "        text-align: right;\n",
       "    }\n",
       "</style>\n",
       "<table border=\"1\" class=\"dataframe\">\n",
       "  <thead>\n",
       "    <tr style=\"text-align: right;\">\n",
       "      <th></th>\n",
       "      <th>column_name</th>\n",
       "      <th>percent_missing</th>\n",
       "    </tr>\n",
       "  </thead>\n",
       "  <tbody>\n",
       "    <tr>\n",
       "      <th>WORKERS_PRESENT_I</th>\n",
       "      <td>WORKERS_PRESENT_I</td>\n",
       "      <td>99.848851</td>\n",
       "    </tr>\n",
       "    <tr>\n",
       "      <th>DOORING_I</th>\n",
       "      <td>DOORING_I</td>\n",
       "      <td>99.686973</td>\n",
       "    </tr>\n",
       "    <tr>\n",
       "      <th>WORK_ZONE_TYPE</th>\n",
       "      <td>WORK_ZONE_TYPE</td>\n",
       "      <td>99.533180</td>\n",
       "    </tr>\n",
       "    <tr>\n",
       "      <th>WORK_ZONE_I</th>\n",
       "      <td>WORK_ZONE_I</td>\n",
       "      <td>99.405202</td>\n",
       "    </tr>\n",
       "    <tr>\n",
       "      <th>PHOTOS_TAKEN_I</th>\n",
       "      <td>PHOTOS_TAKEN_I</td>\n",
       "      <td>98.769506</td>\n",
       "    </tr>\n",
       "    <tr>\n",
       "      <th>STATEMENTS_TAKEN_I</th>\n",
       "      <td>STATEMENTS_TAKEN_I</td>\n",
       "      <td>97.947673</td>\n",
       "    </tr>\n",
       "    <tr>\n",
       "      <th>NOT_RIGHT_OF_WAY_I</th>\n",
       "      <td>NOT_RIGHT_OF_WAY_I</td>\n",
       "      <td>95.288730</td>\n",
       "    </tr>\n",
       "    <tr>\n",
       "      <th>CRASH_DATE_EST_I</th>\n",
       "      <td>CRASH_DATE_EST_I</td>\n",
       "      <td>92.408973</td>\n",
       "    </tr>\n",
       "    <tr>\n",
       "      <th>INTERSECTION_RELATED_I</th>\n",
       "      <td>INTERSECTION_RELATED_I</td>\n",
       "      <td>77.123975</td>\n",
       "    </tr>\n",
       "    <tr>\n",
       "      <th>HIT_AND_RUN_I</th>\n",
       "      <td>HIT_AND_RUN_I</td>\n",
       "      <td>69.206858</td>\n",
       "    </tr>\n",
       "    <tr>\n",
       "      <th>LANE_CNT</th>\n",
       "      <td>LANE_CNT</td>\n",
       "      <td>69.056486</td>\n",
       "    </tr>\n",
       "    <tr>\n",
       "      <th>REPORT_TYPE</th>\n",
       "      <td>REPORT_TYPE</td>\n",
       "      <td>2.651168</td>\n",
       "    </tr>\n",
       "    <tr>\n",
       "      <th>RD_NO</th>\n",
       "      <td>RD_NO</td>\n",
       "      <td>0.618746</td>\n",
       "    </tr>\n",
       "    <tr>\n",
       "      <th>LOCATION</th>\n",
       "      <td>LOCATION</td>\n",
       "      <td>0.615636</td>\n",
       "    </tr>\n",
       "    <tr>\n",
       "      <th>LONGITUDE</th>\n",
       "      <td>LONGITUDE</td>\n",
       "      <td>0.615636</td>\n",
       "    </tr>\n",
       "    <tr>\n",
       "      <th>LATITUDE</th>\n",
       "      <td>LATITUDE</td>\n",
       "      <td>0.615636</td>\n",
       "    </tr>\n",
       "    <tr>\n",
       "      <th>MOST_SEVERE_INJURY</th>\n",
       "      <td>MOST_SEVERE_INJURY</td>\n",
       "      <td>0.212261</td>\n",
       "    </tr>\n",
       "    <tr>\n",
       "      <th>INJURIES_INCAPACITATING</th>\n",
       "      <td>INJURIES_INCAPACITATING</td>\n",
       "      <td>0.210551</td>\n",
       "    </tr>\n",
       "    <tr>\n",
       "      <th>INJURIES_NON_INCAPACITATING</th>\n",
       "      <td>INJURIES_NON_INCAPACITATING</td>\n",
       "      <td>0.210551</td>\n",
       "    </tr>\n",
       "    <tr>\n",
       "      <th>INJURIES_UNKNOWN</th>\n",
       "      <td>INJURIES_UNKNOWN</td>\n",
       "      <td>0.210551</td>\n",
       "    </tr>\n",
       "    <tr>\n",
       "      <th>INJURIES_NO_INDICATION</th>\n",
       "      <td>INJURIES_NO_INDICATION</td>\n",
       "      <td>0.210551</td>\n",
       "    </tr>\n",
       "    <tr>\n",
       "      <th>INJURIES_TOTAL</th>\n",
       "      <td>INJURIES_TOTAL</td>\n",
       "      <td>0.210551</td>\n",
       "    </tr>\n",
       "    <tr>\n",
       "      <th>INJURIES_REPORTED_NOT_EVIDENT</th>\n",
       "      <td>INJURIES_REPORTED_NOT_EVIDENT</td>\n",
       "      <td>0.210551</td>\n",
       "    </tr>\n",
       "    <tr>\n",
       "      <th>INJURIES_FATAL</th>\n",
       "      <td>INJURIES_FATAL</td>\n",
       "      <td>0.210551</td>\n",
       "    </tr>\n",
       "    <tr>\n",
       "      <th>BEAT_OF_OCCURRENCE</th>\n",
       "      <td>BEAT_OF_OCCURRENCE</td>\n",
       "      <td>0.000778</td>\n",
       "    </tr>\n",
       "    <tr>\n",
       "      <th>STREET_DIRECTION</th>\n",
       "      <td>STREET_DIRECTION</td>\n",
       "      <td>0.000622</td>\n",
       "    </tr>\n",
       "    <tr>\n",
       "      <th>STREET_NAME</th>\n",
       "      <td>STREET_NAME</td>\n",
       "      <td>0.000156</td>\n",
       "    </tr>\n",
       "    <tr>\n",
       "      <th>CRASH_HOUR</th>\n",
       "      <td>CRASH_HOUR</td>\n",
       "      <td>0.000000</td>\n",
       "    </tr>\n",
       "    <tr>\n",
       "      <th>CRASH_DAY_OF_WEEK</th>\n",
       "      <td>CRASH_DAY_OF_WEEK</td>\n",
       "      <td>0.000000</td>\n",
       "    </tr>\n",
       "    <tr>\n",
       "      <th>CRASH_MONTH</th>\n",
       "      <td>CRASH_MONTH</td>\n",
       "      <td>0.000000</td>\n",
       "    </tr>\n",
       "    <tr>\n",
       "      <th>NUM_UNITS</th>\n",
       "      <td>NUM_UNITS</td>\n",
       "      <td>0.000000</td>\n",
       "    </tr>\n",
       "    <tr>\n",
       "      <th>CRASH_RECORD_ID</th>\n",
       "      <td>CRASH_RECORD_ID</td>\n",
       "      <td>0.000000</td>\n",
       "    </tr>\n",
       "    <tr>\n",
       "      <th>SEC_CONTRIBUTORY_CAUSE</th>\n",
       "      <td>SEC_CONTRIBUTORY_CAUSE</td>\n",
       "      <td>0.000000</td>\n",
       "    </tr>\n",
       "    <tr>\n",
       "      <th>FIRST_CRASH_TYPE</th>\n",
       "      <td>FIRST_CRASH_TYPE</td>\n",
       "      <td>0.000000</td>\n",
       "    </tr>\n",
       "    <tr>\n",
       "      <th>CRASH_DATE</th>\n",
       "      <td>CRASH_DATE</td>\n",
       "      <td>0.000000</td>\n",
       "    </tr>\n",
       "    <tr>\n",
       "      <th>POSTED_SPEED_LIMIT</th>\n",
       "      <td>POSTED_SPEED_LIMIT</td>\n",
       "      <td>0.000000</td>\n",
       "    </tr>\n",
       "    <tr>\n",
       "      <th>TRAFFIC_CONTROL_DEVICE</th>\n",
       "      <td>TRAFFIC_CONTROL_DEVICE</td>\n",
       "      <td>0.000000</td>\n",
       "    </tr>\n",
       "    <tr>\n",
       "      <th>DEVICE_CONDITION</th>\n",
       "      <td>DEVICE_CONDITION</td>\n",
       "      <td>0.000000</td>\n",
       "    </tr>\n",
       "    <tr>\n",
       "      <th>WEATHER_CONDITION</th>\n",
       "      <td>WEATHER_CONDITION</td>\n",
       "      <td>0.000000</td>\n",
       "    </tr>\n",
       "    <tr>\n",
       "      <th>LIGHTING_CONDITION</th>\n",
       "      <td>LIGHTING_CONDITION</td>\n",
       "      <td>0.000000</td>\n",
       "    </tr>\n",
       "    <tr>\n",
       "      <th>TRAFFICWAY_TYPE</th>\n",
       "      <td>TRAFFICWAY_TYPE</td>\n",
       "      <td>0.000000</td>\n",
       "    </tr>\n",
       "    <tr>\n",
       "      <th>PRIM_CONTRIBUTORY_CAUSE</th>\n",
       "      <td>PRIM_CONTRIBUTORY_CAUSE</td>\n",
       "      <td>0.000000</td>\n",
       "    </tr>\n",
       "    <tr>\n",
       "      <th>ALIGNMENT</th>\n",
       "      <td>ALIGNMENT</td>\n",
       "      <td>0.000000</td>\n",
       "    </tr>\n",
       "    <tr>\n",
       "      <th>ROADWAY_SURFACE_COND</th>\n",
       "      <td>ROADWAY_SURFACE_COND</td>\n",
       "      <td>0.000000</td>\n",
       "    </tr>\n",
       "    <tr>\n",
       "      <th>ROAD_DEFECT</th>\n",
       "      <td>ROAD_DEFECT</td>\n",
       "      <td>0.000000</td>\n",
       "    </tr>\n",
       "    <tr>\n",
       "      <th>CRASH_TYPE</th>\n",
       "      <td>CRASH_TYPE</td>\n",
       "      <td>0.000000</td>\n",
       "    </tr>\n",
       "    <tr>\n",
       "      <th>DAMAGE</th>\n",
       "      <td>DAMAGE</td>\n",
       "      <td>0.000000</td>\n",
       "    </tr>\n",
       "    <tr>\n",
       "      <th>DATE_POLICE_NOTIFIED</th>\n",
       "      <td>DATE_POLICE_NOTIFIED</td>\n",
       "      <td>0.000000</td>\n",
       "    </tr>\n",
       "    <tr>\n",
       "      <th>STREET_NO</th>\n",
       "      <td>STREET_NO</td>\n",
       "      <td>0.000000</td>\n",
       "    </tr>\n",
       "  </tbody>\n",
       "</table>\n",
       "</div>"
      ],
      "text/plain": [
       "                                                 column_name  percent_missing\n",
       "WORKERS_PRESENT_I                          WORKERS_PRESENT_I        99.848851\n",
       "DOORING_I                                          DOORING_I        99.686973\n",
       "WORK_ZONE_TYPE                                WORK_ZONE_TYPE        99.533180\n",
       "WORK_ZONE_I                                      WORK_ZONE_I        99.405202\n",
       "PHOTOS_TAKEN_I                                PHOTOS_TAKEN_I        98.769506\n",
       "STATEMENTS_TAKEN_I                        STATEMENTS_TAKEN_I        97.947673\n",
       "NOT_RIGHT_OF_WAY_I                        NOT_RIGHT_OF_WAY_I        95.288730\n",
       "CRASH_DATE_EST_I                            CRASH_DATE_EST_I        92.408973\n",
       "INTERSECTION_RELATED_I                INTERSECTION_RELATED_I        77.123975\n",
       "HIT_AND_RUN_I                                  HIT_AND_RUN_I        69.206858\n",
       "LANE_CNT                                            LANE_CNT        69.056486\n",
       "REPORT_TYPE                                      REPORT_TYPE         2.651168\n",
       "RD_NO                                                  RD_NO         0.618746\n",
       "LOCATION                                            LOCATION         0.615636\n",
       "LONGITUDE                                          LONGITUDE         0.615636\n",
       "LATITUDE                                            LATITUDE         0.615636\n",
       "MOST_SEVERE_INJURY                        MOST_SEVERE_INJURY         0.212261\n",
       "INJURIES_INCAPACITATING              INJURIES_INCAPACITATING         0.210551\n",
       "INJURIES_NON_INCAPACITATING      INJURIES_NON_INCAPACITATING         0.210551\n",
       "INJURIES_UNKNOWN                            INJURIES_UNKNOWN         0.210551\n",
       "INJURIES_NO_INDICATION                INJURIES_NO_INDICATION         0.210551\n",
       "INJURIES_TOTAL                                INJURIES_TOTAL         0.210551\n",
       "INJURIES_REPORTED_NOT_EVIDENT  INJURIES_REPORTED_NOT_EVIDENT         0.210551\n",
       "INJURIES_FATAL                                INJURIES_FATAL         0.210551\n",
       "BEAT_OF_OCCURRENCE                        BEAT_OF_OCCURRENCE         0.000778\n",
       "STREET_DIRECTION                            STREET_DIRECTION         0.000622\n",
       "STREET_NAME                                      STREET_NAME         0.000156\n",
       "CRASH_HOUR                                        CRASH_HOUR         0.000000\n",
       "CRASH_DAY_OF_WEEK                          CRASH_DAY_OF_WEEK         0.000000\n",
       "CRASH_MONTH                                      CRASH_MONTH         0.000000\n",
       "NUM_UNITS                                          NUM_UNITS         0.000000\n",
       "CRASH_RECORD_ID                              CRASH_RECORD_ID         0.000000\n",
       "SEC_CONTRIBUTORY_CAUSE                SEC_CONTRIBUTORY_CAUSE         0.000000\n",
       "FIRST_CRASH_TYPE                            FIRST_CRASH_TYPE         0.000000\n",
       "CRASH_DATE                                        CRASH_DATE         0.000000\n",
       "POSTED_SPEED_LIMIT                        POSTED_SPEED_LIMIT         0.000000\n",
       "TRAFFIC_CONTROL_DEVICE                TRAFFIC_CONTROL_DEVICE         0.000000\n",
       "DEVICE_CONDITION                            DEVICE_CONDITION         0.000000\n",
       "WEATHER_CONDITION                          WEATHER_CONDITION         0.000000\n",
       "LIGHTING_CONDITION                        LIGHTING_CONDITION         0.000000\n",
       "TRAFFICWAY_TYPE                              TRAFFICWAY_TYPE         0.000000\n",
       "PRIM_CONTRIBUTORY_CAUSE              PRIM_CONTRIBUTORY_CAUSE         0.000000\n",
       "ALIGNMENT                                          ALIGNMENT         0.000000\n",
       "ROADWAY_SURFACE_COND                    ROADWAY_SURFACE_COND         0.000000\n",
       "ROAD_DEFECT                                      ROAD_DEFECT         0.000000\n",
       "CRASH_TYPE                                        CRASH_TYPE         0.000000\n",
       "DAMAGE                                                DAMAGE         0.000000\n",
       "DATE_POLICE_NOTIFIED                    DATE_POLICE_NOTIFIED         0.000000\n",
       "STREET_NO                                          STREET_NO         0.000000"
      ]
     },
     "execution_count": 9,
     "metadata": {},
     "output_type": "execute_result"
    }
   ],
   "source": [
    "percent_missing = crashes.isnull().sum() * 100 / len(crashes)\n",
    "crashes_null_values = pd.DataFrame({'column_name': crashes.columns,\n",
    "                                    'percent_missing': percent_missing})\n",
    "crashes_null_values.sort_values(by='percent_missing', ascending=False)"
   ]
  },
  {
   "cell_type": "code",
   "execution_count": 10,
   "metadata": {},
   "outputs": [],
   "source": [
    "#columns with high null values (>70%) will be dropped.\n",
    "#WORKERS_PRESENT_I\n",
    "#DOORING_I\n",
    "#WORK_ZONE_TYPE\n",
    "#WORK_ZONE_I\n",
    "#PHOTOS_TAKEN_I\n",
    "#STATEMENTS_TAKEN_I\n",
    "#NOT_RIGHT_OF_WAY_I\n",
    "#CRASH_DATE_EST_I\n",
    "#INTERSECTION_RELATED_I"
   ]
  },
  {
   "cell_type": "code",
   "execution_count": 11,
   "metadata": {},
   "outputs": [],
   "source": [
    "crashes.drop(columns = ['WORKERS_PRESENT_I', 'DOORING_I','WORK_ZONE_TYPE',\n",
    "                        'WORK_ZONE_I','PHOTOS_TAKEN_I', 'STATEMENTS_TAKEN_I', \n",
    "                        'NOT_RIGHT_OF_WAY_I', 'CRASH_DATE_EST_I', 'INTERSECTION_RELATED_I'],\n",
    "             inplace=True)"
   ]
  },
  {
   "cell_type": "code",
   "execution_count": 12,
   "metadata": {
    "scrolled": false
   },
   "outputs": [
    {
     "data": {
      "text/html": [
       "<div>\n",
       "<style scoped>\n",
       "    .dataframe tbody tr th:only-of-type {\n",
       "        vertical-align: middle;\n",
       "    }\n",
       "\n",
       "    .dataframe tbody tr th {\n",
       "        vertical-align: top;\n",
       "    }\n",
       "\n",
       "    .dataframe thead th {\n",
       "        text-align: right;\n",
       "    }\n",
       "</style>\n",
       "<table border=\"1\" class=\"dataframe\">\n",
       "  <thead>\n",
       "    <tr style=\"text-align: right;\">\n",
       "      <th></th>\n",
       "      <th>CRASH_RECORD_ID</th>\n",
       "      <th>RD_NO</th>\n",
       "      <th>CRASH_DATE</th>\n",
       "      <th>POSTED_SPEED_LIMIT</th>\n",
       "      <th>TRAFFIC_CONTROL_DEVICE</th>\n",
       "      <th>DEVICE_CONDITION</th>\n",
       "      <th>WEATHER_CONDITION</th>\n",
       "      <th>LIGHTING_CONDITION</th>\n",
       "      <th>FIRST_CRASH_TYPE</th>\n",
       "      <th>TRAFFICWAY_TYPE</th>\n",
       "      <th>...</th>\n",
       "      <th>INJURIES_NON_INCAPACITATING</th>\n",
       "      <th>INJURIES_REPORTED_NOT_EVIDENT</th>\n",
       "      <th>INJURIES_NO_INDICATION</th>\n",
       "      <th>INJURIES_UNKNOWN</th>\n",
       "      <th>CRASH_HOUR</th>\n",
       "      <th>CRASH_DAY_OF_WEEK</th>\n",
       "      <th>CRASH_MONTH</th>\n",
       "      <th>LATITUDE</th>\n",
       "      <th>LONGITUDE</th>\n",
       "      <th>LOCATION</th>\n",
       "    </tr>\n",
       "  </thead>\n",
       "  <tbody>\n",
       "    <tr>\n",
       "      <th>0</th>\n",
       "      <td>0115ade9a755e835255508463f7e9c4a9a0b47e9304238...</td>\n",
       "      <td>JF318029</td>\n",
       "      <td>07/15/2022 12:45:00 AM</td>\n",
       "      <td>30</td>\n",
       "      <td>UNKNOWN</td>\n",
       "      <td>UNKNOWN</td>\n",
       "      <td>CLEAR</td>\n",
       "      <td>DARKNESS, LIGHTED ROAD</td>\n",
       "      <td>ANGLE</td>\n",
       "      <td>NOT DIVIDED</td>\n",
       "      <td>...</td>\n",
       "      <td>0.0</td>\n",
       "      <td>0.0</td>\n",
       "      <td>2.0</td>\n",
       "      <td>0.0</td>\n",
       "      <td>0</td>\n",
       "      <td>6</td>\n",
       "      <td>7</td>\n",
       "      <td>41.886336</td>\n",
       "      <td>-87.716203</td>\n",
       "      <td>POINT (-87.716203130599 41.886336409761)</td>\n",
       "    </tr>\n",
       "    <tr>\n",
       "      <th>1</th>\n",
       "      <td>017040c61958d2fa977c956b2bd2d6759ef7754496dc96...</td>\n",
       "      <td>JF324552</td>\n",
       "      <td>07/15/2022 06:50:00 PM</td>\n",
       "      <td>30</td>\n",
       "      <td>TRAFFIC SIGNAL</td>\n",
       "      <td>FUNCTIONING PROPERLY</td>\n",
       "      <td>CLEAR</td>\n",
       "      <td>DAYLIGHT</td>\n",
       "      <td>REAR END</td>\n",
       "      <td>NOT DIVIDED</td>\n",
       "      <td>...</td>\n",
       "      <td>0.0</td>\n",
       "      <td>0.0</td>\n",
       "      <td>2.0</td>\n",
       "      <td>0.0</td>\n",
       "      <td>18</td>\n",
       "      <td>6</td>\n",
       "      <td>7</td>\n",
       "      <td>41.925111</td>\n",
       "      <td>-87.667997</td>\n",
       "      <td>POINT (-87.667997321599 41.925110815832)</td>\n",
       "    </tr>\n",
       "    <tr>\n",
       "      <th>2</th>\n",
       "      <td>01aaa759c6bbefd0f584226fbd88bdc549de3ed1e46255...</td>\n",
       "      <td>JF319819</td>\n",
       "      <td>07/15/2022 05:10:00 PM</td>\n",
       "      <td>40</td>\n",
       "      <td>NO CONTROLS</td>\n",
       "      <td>NO CONTROLS</td>\n",
       "      <td>CLOUDY/OVERCAST</td>\n",
       "      <td>DAYLIGHT</td>\n",
       "      <td>ANGLE</td>\n",
       "      <td>DIVIDED - W/MEDIAN BARRIER</td>\n",
       "      <td>...</td>\n",
       "      <td>0.0</td>\n",
       "      <td>0.0</td>\n",
       "      <td>2.0</td>\n",
       "      <td>0.0</td>\n",
       "      <td>17</td>\n",
       "      <td>6</td>\n",
       "      <td>7</td>\n",
       "      <td>41.975826</td>\n",
       "      <td>-87.650420</td>\n",
       "      <td>POINT (-87.650419778017 41.975826016449)</td>\n",
       "    </tr>\n",
       "    <tr>\n",
       "      <th>3</th>\n",
       "      <td>0362b3f8ddb8589dfe889356efbc2ad213efe2031556f0...</td>\n",
       "      <td>JF318271</td>\n",
       "      <td>07/15/2022 08:44:00 AM</td>\n",
       "      <td>30</td>\n",
       "      <td>NO CONTROLS</td>\n",
       "      <td>NO CONTROLS</td>\n",
       "      <td>RAIN</td>\n",
       "      <td>DAYLIGHT</td>\n",
       "      <td>REAR END</td>\n",
       "      <td>DIVIDED - W/MEDIAN (NOT RAISED)</td>\n",
       "      <td>...</td>\n",
       "      <td>0.0</td>\n",
       "      <td>0.0</td>\n",
       "      <td>3.0</td>\n",
       "      <td>0.0</td>\n",
       "      <td>8</td>\n",
       "      <td>6</td>\n",
       "      <td>7</td>\n",
       "      <td>41.944199</td>\n",
       "      <td>-87.747157</td>\n",
       "      <td>POINT (-87.747157281564 41.944198992304)</td>\n",
       "    </tr>\n",
       "    <tr>\n",
       "      <th>4</th>\n",
       "      <td>03d3679ef44bb8aa0f2060cb0376f3eeb1d9dbb2197322...</td>\n",
       "      <td>JF318956</td>\n",
       "      <td>07/15/2022 04:10:00 PM</td>\n",
       "      <td>30</td>\n",
       "      <td>STOP SIGN/FLASHER</td>\n",
       "      <td>FUNCTIONING PROPERLY</td>\n",
       "      <td>RAIN</td>\n",
       "      <td>DAYLIGHT</td>\n",
       "      <td>PEDESTRIAN</td>\n",
       "      <td>FOUR WAY</td>\n",
       "      <td>...</td>\n",
       "      <td>1.0</td>\n",
       "      <td>0.0</td>\n",
       "      <td>1.0</td>\n",
       "      <td>0.0</td>\n",
       "      <td>16</td>\n",
       "      <td>6</td>\n",
       "      <td>7</td>\n",
       "      <td>41.855974</td>\n",
       "      <td>-87.663860</td>\n",
       "      <td>POINT (-87.663860117648 41.855973928536)</td>\n",
       "    </tr>\n",
       "  </tbody>\n",
       "</table>\n",
       "<p>5 rows × 40 columns</p>\n",
       "</div>"
      ],
      "text/plain": [
       "                                     CRASH_RECORD_ID     RD_NO  \\\n",
       "0  0115ade9a755e835255508463f7e9c4a9a0b47e9304238...  JF318029   \n",
       "1  017040c61958d2fa977c956b2bd2d6759ef7754496dc96...  JF324552   \n",
       "2  01aaa759c6bbefd0f584226fbd88bdc549de3ed1e46255...  JF319819   \n",
       "3  0362b3f8ddb8589dfe889356efbc2ad213efe2031556f0...  JF318271   \n",
       "4  03d3679ef44bb8aa0f2060cb0376f3eeb1d9dbb2197322...  JF318956   \n",
       "\n",
       "               CRASH_DATE  POSTED_SPEED_LIMIT TRAFFIC_CONTROL_DEVICE  \\\n",
       "0  07/15/2022 12:45:00 AM                  30                UNKNOWN   \n",
       "1  07/15/2022 06:50:00 PM                  30         TRAFFIC SIGNAL   \n",
       "2  07/15/2022 05:10:00 PM                  40            NO CONTROLS   \n",
       "3  07/15/2022 08:44:00 AM                  30            NO CONTROLS   \n",
       "4  07/15/2022 04:10:00 PM                  30      STOP SIGN/FLASHER   \n",
       "\n",
       "       DEVICE_CONDITION WEATHER_CONDITION      LIGHTING_CONDITION  \\\n",
       "0               UNKNOWN             CLEAR  DARKNESS, LIGHTED ROAD   \n",
       "1  FUNCTIONING PROPERLY             CLEAR                DAYLIGHT   \n",
       "2           NO CONTROLS   CLOUDY/OVERCAST                DAYLIGHT   \n",
       "3           NO CONTROLS              RAIN                DAYLIGHT   \n",
       "4  FUNCTIONING PROPERLY              RAIN                DAYLIGHT   \n",
       "\n",
       "  FIRST_CRASH_TYPE                  TRAFFICWAY_TYPE  ...  \\\n",
       "0            ANGLE                      NOT DIVIDED  ...   \n",
       "1         REAR END                      NOT DIVIDED  ...   \n",
       "2            ANGLE       DIVIDED - W/MEDIAN BARRIER  ...   \n",
       "3         REAR END  DIVIDED - W/MEDIAN (NOT RAISED)  ...   \n",
       "4       PEDESTRIAN                         FOUR WAY  ...   \n",
       "\n",
       "   INJURIES_NON_INCAPACITATING INJURIES_REPORTED_NOT_EVIDENT  \\\n",
       "0                          0.0                           0.0   \n",
       "1                          0.0                           0.0   \n",
       "2                          0.0                           0.0   \n",
       "3                          0.0                           0.0   \n",
       "4                          1.0                           0.0   \n",
       "\n",
       "  INJURIES_NO_INDICATION INJURIES_UNKNOWN CRASH_HOUR CRASH_DAY_OF_WEEK  \\\n",
       "0                    2.0              0.0          0                 6   \n",
       "1                    2.0              0.0         18                 6   \n",
       "2                    2.0              0.0         17                 6   \n",
       "3                    3.0              0.0          8                 6   \n",
       "4                    1.0              0.0         16                 6   \n",
       "\n",
       "  CRASH_MONTH   LATITUDE  LONGITUDE                                  LOCATION  \n",
       "0           7  41.886336 -87.716203  POINT (-87.716203130599 41.886336409761)  \n",
       "1           7  41.925111 -87.667997  POINT (-87.667997321599 41.925110815832)  \n",
       "2           7  41.975826 -87.650420  POINT (-87.650419778017 41.975826016449)  \n",
       "3           7  41.944199 -87.747157  POINT (-87.747157281564 41.944198992304)  \n",
       "4           7  41.855974 -87.663860  POINT (-87.663860117648 41.855973928536)  \n",
       "\n",
       "[5 rows x 40 columns]"
      ]
     },
     "execution_count": 12,
     "metadata": {},
     "output_type": "execute_result"
    }
   ],
   "source": [
    "crashes.head()"
   ]
  },
  {
   "cell_type": "code",
   "execution_count": 13,
   "metadata": {},
   "outputs": [
    {
     "name": "stdout",
     "output_type": "stream",
     "text": [
      "<class 'pandas.core.frame.DataFrame'>\n",
      "RangeIndex: 643075 entries, 0 to 643074\n",
      "Data columns (total 40 columns):\n",
      " #   Column                         Non-Null Count   Dtype  \n",
      "---  ------                         --------------   -----  \n",
      " 0   CRASH_RECORD_ID                643075 non-null  object \n",
      " 1   RD_NO                          639096 non-null  object \n",
      " 2   CRASH_DATE                     643075 non-null  object \n",
      " 3   POSTED_SPEED_LIMIT             643075 non-null  int64  \n",
      " 4   TRAFFIC_CONTROL_DEVICE         643075 non-null  object \n",
      " 5   DEVICE_CONDITION               643075 non-null  object \n",
      " 6   WEATHER_CONDITION              643075 non-null  object \n",
      " 7   LIGHTING_CONDITION             643075 non-null  object \n",
      " 8   FIRST_CRASH_TYPE               643075 non-null  object \n",
      " 9   TRAFFICWAY_TYPE                643075 non-null  object \n",
      " 10  LANE_CNT                       198990 non-null  float64\n",
      " 11  ALIGNMENT                      643075 non-null  object \n",
      " 12  ROADWAY_SURFACE_COND           643075 non-null  object \n",
      " 13  ROAD_DEFECT                    643075 non-null  object \n",
      " 14  REPORT_TYPE                    626026 non-null  object \n",
      " 15  CRASH_TYPE                     643075 non-null  object \n",
      " 16  HIT_AND_RUN_I                  198023 non-null  object \n",
      " 17  DAMAGE                         643075 non-null  object \n",
      " 18  DATE_POLICE_NOTIFIED           643075 non-null  object \n",
      " 19  PRIM_CONTRIBUTORY_CAUSE        643075 non-null  object \n",
      " 20  SEC_CONTRIBUTORY_CAUSE         643075 non-null  object \n",
      " 21  STREET_NO                      643075 non-null  int64  \n",
      " 22  STREET_DIRECTION               643071 non-null  object \n",
      " 23  STREET_NAME                    643074 non-null  object \n",
      " 24  BEAT_OF_OCCURRENCE             643070 non-null  float64\n",
      " 25  NUM_UNITS                      643075 non-null  int64  \n",
      " 26  MOST_SEVERE_INJURY             641710 non-null  object \n",
      " 27  INJURIES_TOTAL                 641721 non-null  float64\n",
      " 28  INJURIES_FATAL                 641721 non-null  float64\n",
      " 29  INJURIES_INCAPACITATING        641721 non-null  float64\n",
      " 30  INJURIES_NON_INCAPACITATING    641721 non-null  float64\n",
      " 31  INJURIES_REPORTED_NOT_EVIDENT  641721 non-null  float64\n",
      " 32  INJURIES_NO_INDICATION         641721 non-null  float64\n",
      " 33  INJURIES_UNKNOWN               641721 non-null  float64\n",
      " 34  CRASH_HOUR                     643075 non-null  int64  \n",
      " 35  CRASH_DAY_OF_WEEK              643075 non-null  int64  \n",
      " 36  CRASH_MONTH                    643075 non-null  int64  \n",
      " 37  LATITUDE                       639116 non-null  float64\n",
      " 38  LONGITUDE                      639116 non-null  float64\n",
      " 39  LOCATION                       639116 non-null  object \n",
      "dtypes: float64(11), int64(6), object(23)\n",
      "memory usage: 196.3+ MB\n"
     ]
    }
   ],
   "source": [
    "crashes.info()"
   ]
  },
  {
   "cell_type": "markdown",
   "metadata": {},
   "source": [
    "### Dropping Irrelavant Columns \n",
    "We want to keep columns that will help us predict the causes of an accident. This decision was based the description of the columns from the City of Chicago website."
   ]
  },
  {
   "cell_type": "code",
   "execution_count": 14,
   "metadata": {},
   "outputs": [],
   "source": [
    "crash_rc = [\n",
    "    'CRASH_RECORD_ID', \n",
    "    'CRASH_DATE', \n",
    "    'POSTED_SPEED_LIMIT', \n",
    "    'DEVICE_CONDITION', \n",
    "    'WEATHER_CONDITION', \n",
    "    'LIGHTING_CONDITION',\n",
    "    'FIRST_CRASH_TYPE',\n",
    "    'TRAFFICWAY_TYPE',\n",
    "    'ALIGNMENT',\n",
    "    'ROADWAY_SURFACE_COND',\n",
    "    'ROAD_DEFECT',\n",
    "    'PRIM_CONTRIBUTORY_CAUSE',\n",
    "    'SEC_CONTRIBUTORY_CAUSE',\n",
    "    'INJURIES_TOTAL',\n",
    "    'INJURIES_FATAL',\n",
    "    'CRASH_HOUR', \n",
    "    'CRASH_DAY_OF_WEEK',\n",
    "    'CRASH_MONTH',\n",
    "    'LATITUDE',\n",
    "    'LONGITUDE']\n",
    "crashes = crashes[crash_rc]"
   ]
  },
  {
   "cell_type": "code",
   "execution_count": 15,
   "metadata": {},
   "outputs": [
    {
     "data": {
      "text/html": [
       "<div>\n",
       "<style scoped>\n",
       "    .dataframe tbody tr th:only-of-type {\n",
       "        vertical-align: middle;\n",
       "    }\n",
       "\n",
       "    .dataframe tbody tr th {\n",
       "        vertical-align: top;\n",
       "    }\n",
       "\n",
       "    .dataframe thead th {\n",
       "        text-align: right;\n",
       "    }\n",
       "</style>\n",
       "<table border=\"1\" class=\"dataframe\">\n",
       "  <thead>\n",
       "    <tr style=\"text-align: right;\">\n",
       "      <th></th>\n",
       "      <th>CRASH_RECORD_ID</th>\n",
       "      <th>CRASH_DATE</th>\n",
       "      <th>POSTED_SPEED_LIMIT</th>\n",
       "      <th>DEVICE_CONDITION</th>\n",
       "      <th>WEATHER_CONDITION</th>\n",
       "      <th>LIGHTING_CONDITION</th>\n",
       "      <th>FIRST_CRASH_TYPE</th>\n",
       "      <th>TRAFFICWAY_TYPE</th>\n",
       "      <th>ALIGNMENT</th>\n",
       "      <th>ROADWAY_SURFACE_COND</th>\n",
       "      <th>ROAD_DEFECT</th>\n",
       "      <th>PRIM_CONTRIBUTORY_CAUSE</th>\n",
       "      <th>SEC_CONTRIBUTORY_CAUSE</th>\n",
       "      <th>INJURIES_TOTAL</th>\n",
       "      <th>INJURIES_FATAL</th>\n",
       "      <th>CRASH_HOUR</th>\n",
       "      <th>CRASH_DAY_OF_WEEK</th>\n",
       "      <th>CRASH_MONTH</th>\n",
       "      <th>LATITUDE</th>\n",
       "      <th>LONGITUDE</th>\n",
       "    </tr>\n",
       "  </thead>\n",
       "  <tbody>\n",
       "    <tr>\n",
       "      <th>0</th>\n",
       "      <td>0115ade9a755e835255508463f7e9c4a9a0b47e9304238...</td>\n",
       "      <td>07/15/2022 12:45:00 AM</td>\n",
       "      <td>30</td>\n",
       "      <td>UNKNOWN</td>\n",
       "      <td>CLEAR</td>\n",
       "      <td>DARKNESS, LIGHTED ROAD</td>\n",
       "      <td>ANGLE</td>\n",
       "      <td>NOT DIVIDED</td>\n",
       "      <td>STRAIGHT AND LEVEL</td>\n",
       "      <td>DRY</td>\n",
       "      <td>UNKNOWN</td>\n",
       "      <td>UNABLE TO DETERMINE</td>\n",
       "      <td>UNABLE TO DETERMINE</td>\n",
       "      <td>0.0</td>\n",
       "      <td>0.0</td>\n",
       "      <td>0</td>\n",
       "      <td>6</td>\n",
       "      <td>7</td>\n",
       "      <td>41.886336</td>\n",
       "      <td>-87.716203</td>\n",
       "    </tr>\n",
       "    <tr>\n",
       "      <th>1</th>\n",
       "      <td>017040c61958d2fa977c956b2bd2d6759ef7754496dc96...</td>\n",
       "      <td>07/15/2022 06:50:00 PM</td>\n",
       "      <td>30</td>\n",
       "      <td>FUNCTIONING PROPERLY</td>\n",
       "      <td>CLEAR</td>\n",
       "      <td>DAYLIGHT</td>\n",
       "      <td>REAR END</td>\n",
       "      <td>NOT DIVIDED</td>\n",
       "      <td>STRAIGHT AND LEVEL</td>\n",
       "      <td>DRY</td>\n",
       "      <td>NO DEFECTS</td>\n",
       "      <td>UNABLE TO DETERMINE</td>\n",
       "      <td>UNABLE TO DETERMINE</td>\n",
       "      <td>0.0</td>\n",
       "      <td>0.0</td>\n",
       "      <td>18</td>\n",
       "      <td>6</td>\n",
       "      <td>7</td>\n",
       "      <td>41.925111</td>\n",
       "      <td>-87.667997</td>\n",
       "    </tr>\n",
       "    <tr>\n",
       "      <th>2</th>\n",
       "      <td>01aaa759c6bbefd0f584226fbd88bdc549de3ed1e46255...</td>\n",
       "      <td>07/15/2022 05:10:00 PM</td>\n",
       "      <td>40</td>\n",
       "      <td>NO CONTROLS</td>\n",
       "      <td>CLOUDY/OVERCAST</td>\n",
       "      <td>DAYLIGHT</td>\n",
       "      <td>ANGLE</td>\n",
       "      <td>DIVIDED - W/MEDIAN BARRIER</td>\n",
       "      <td>STRAIGHT AND LEVEL</td>\n",
       "      <td>DRY</td>\n",
       "      <td>NO DEFECTS</td>\n",
       "      <td>IMPROPER LANE USAGE</td>\n",
       "      <td>NOT APPLICABLE</td>\n",
       "      <td>0.0</td>\n",
       "      <td>0.0</td>\n",
       "      <td>17</td>\n",
       "      <td>6</td>\n",
       "      <td>7</td>\n",
       "      <td>41.975826</td>\n",
       "      <td>-87.650420</td>\n",
       "    </tr>\n",
       "    <tr>\n",
       "      <th>3</th>\n",
       "      <td>0362b3f8ddb8589dfe889356efbc2ad213efe2031556f0...</td>\n",
       "      <td>07/15/2022 08:44:00 AM</td>\n",
       "      <td>30</td>\n",
       "      <td>NO CONTROLS</td>\n",
       "      <td>RAIN</td>\n",
       "      <td>DAYLIGHT</td>\n",
       "      <td>REAR END</td>\n",
       "      <td>DIVIDED - W/MEDIAN (NOT RAISED)</td>\n",
       "      <td>STRAIGHT AND LEVEL</td>\n",
       "      <td>WET</td>\n",
       "      <td>NO DEFECTS</td>\n",
       "      <td>UNABLE TO DETERMINE</td>\n",
       "      <td>UNABLE TO DETERMINE</td>\n",
       "      <td>0.0</td>\n",
       "      <td>0.0</td>\n",
       "      <td>8</td>\n",
       "      <td>6</td>\n",
       "      <td>7</td>\n",
       "      <td>41.944199</td>\n",
       "      <td>-87.747157</td>\n",
       "    </tr>\n",
       "    <tr>\n",
       "      <th>4</th>\n",
       "      <td>03d3679ef44bb8aa0f2060cb0376f3eeb1d9dbb2197322...</td>\n",
       "      <td>07/15/2022 04:10:00 PM</td>\n",
       "      <td>30</td>\n",
       "      <td>FUNCTIONING PROPERLY</td>\n",
       "      <td>RAIN</td>\n",
       "      <td>DAYLIGHT</td>\n",
       "      <td>PEDESTRIAN</td>\n",
       "      <td>FOUR WAY</td>\n",
       "      <td>STRAIGHT AND LEVEL</td>\n",
       "      <td>WET</td>\n",
       "      <td>NO DEFECTS</td>\n",
       "      <td>FAILING TO YIELD RIGHT-OF-WAY</td>\n",
       "      <td>UNABLE TO DETERMINE</td>\n",
       "      <td>1.0</td>\n",
       "      <td>0.0</td>\n",
       "      <td>16</td>\n",
       "      <td>6</td>\n",
       "      <td>7</td>\n",
       "      <td>41.855974</td>\n",
       "      <td>-87.663860</td>\n",
       "    </tr>\n",
       "  </tbody>\n",
       "</table>\n",
       "</div>"
      ],
      "text/plain": [
       "                                     CRASH_RECORD_ID              CRASH_DATE  \\\n",
       "0  0115ade9a755e835255508463f7e9c4a9a0b47e9304238...  07/15/2022 12:45:00 AM   \n",
       "1  017040c61958d2fa977c956b2bd2d6759ef7754496dc96...  07/15/2022 06:50:00 PM   \n",
       "2  01aaa759c6bbefd0f584226fbd88bdc549de3ed1e46255...  07/15/2022 05:10:00 PM   \n",
       "3  0362b3f8ddb8589dfe889356efbc2ad213efe2031556f0...  07/15/2022 08:44:00 AM   \n",
       "4  03d3679ef44bb8aa0f2060cb0376f3eeb1d9dbb2197322...  07/15/2022 04:10:00 PM   \n",
       "\n",
       "   POSTED_SPEED_LIMIT      DEVICE_CONDITION WEATHER_CONDITION  \\\n",
       "0                  30               UNKNOWN             CLEAR   \n",
       "1                  30  FUNCTIONING PROPERLY             CLEAR   \n",
       "2                  40           NO CONTROLS   CLOUDY/OVERCAST   \n",
       "3                  30           NO CONTROLS              RAIN   \n",
       "4                  30  FUNCTIONING PROPERLY              RAIN   \n",
       "\n",
       "       LIGHTING_CONDITION FIRST_CRASH_TYPE                  TRAFFICWAY_TYPE  \\\n",
       "0  DARKNESS, LIGHTED ROAD            ANGLE                      NOT DIVIDED   \n",
       "1                DAYLIGHT         REAR END                      NOT DIVIDED   \n",
       "2                DAYLIGHT            ANGLE       DIVIDED - W/MEDIAN BARRIER   \n",
       "3                DAYLIGHT         REAR END  DIVIDED - W/MEDIAN (NOT RAISED)   \n",
       "4                DAYLIGHT       PEDESTRIAN                         FOUR WAY   \n",
       "\n",
       "            ALIGNMENT ROADWAY_SURFACE_COND ROAD_DEFECT  \\\n",
       "0  STRAIGHT AND LEVEL                  DRY     UNKNOWN   \n",
       "1  STRAIGHT AND LEVEL                  DRY  NO DEFECTS   \n",
       "2  STRAIGHT AND LEVEL                  DRY  NO DEFECTS   \n",
       "3  STRAIGHT AND LEVEL                  WET  NO DEFECTS   \n",
       "4  STRAIGHT AND LEVEL                  WET  NO DEFECTS   \n",
       "\n",
       "         PRIM_CONTRIBUTORY_CAUSE SEC_CONTRIBUTORY_CAUSE  INJURIES_TOTAL  \\\n",
       "0            UNABLE TO DETERMINE    UNABLE TO DETERMINE             0.0   \n",
       "1            UNABLE TO DETERMINE    UNABLE TO DETERMINE             0.0   \n",
       "2            IMPROPER LANE USAGE         NOT APPLICABLE             0.0   \n",
       "3            UNABLE TO DETERMINE    UNABLE TO DETERMINE             0.0   \n",
       "4  FAILING TO YIELD RIGHT-OF-WAY    UNABLE TO DETERMINE             1.0   \n",
       "\n",
       "   INJURIES_FATAL  CRASH_HOUR  CRASH_DAY_OF_WEEK  CRASH_MONTH   LATITUDE  \\\n",
       "0             0.0           0                  6            7  41.886336   \n",
       "1             0.0          18                  6            7  41.925111   \n",
       "2             0.0          17                  6            7  41.975826   \n",
       "3             0.0           8                  6            7  41.944199   \n",
       "4             0.0          16                  6            7  41.855974   \n",
       "\n",
       "   LONGITUDE  \n",
       "0 -87.716203  \n",
       "1 -87.667997  \n",
       "2 -87.650420  \n",
       "3 -87.747157  \n",
       "4 -87.663860  "
      ]
     },
     "execution_count": 15,
     "metadata": {},
     "output_type": "execute_result"
    }
   ],
   "source": [
    "crashes.head()"
   ]
  },
  {
   "cell_type": "markdown",
   "metadata": {},
   "source": [
    "***"
   ]
  },
  {
   "cell_type": "markdown",
   "metadata": {},
   "source": [
    "### Vehicle Dataset"
   ]
  },
  {
   "cell_type": "code",
   "execution_count": 16,
   "metadata": {},
   "outputs": [],
   "source": [
    "# # from Kevin Rivera\n",
    "# from zipfile import ZipFile\n",
    "# # specifying the zip file name\n",
    "# file_name = \"./Traffic_Crashes_Vehicles.csv.zip\"\n",
    "# # opening the zip file in READ mode\n",
    "# with ZipFile(file_name, 'r') as zip:\n",
    "#     # printing all the contents of the zip file\n",
    "#     zip.printdir()\n",
    "#     # extracting all the files\n",
    "#     print('Extracting all the files now...')\n",
    "#     # extract data to the same directory as the other data\n",
    "#     zip.extractall(path='./zippedData')\n",
    "#     print('Done!')\n"
   ]
  },
  {
   "cell_type": "code",
   "execution_count": 17,
   "metadata": {},
   "outputs": [
    {
     "data": {
      "text/html": [
       "<div>\n",
       "<style scoped>\n",
       "    .dataframe tbody tr th:only-of-type {\n",
       "        vertical-align: middle;\n",
       "    }\n",
       "\n",
       "    .dataframe tbody tr th {\n",
       "        vertical-align: top;\n",
       "    }\n",
       "\n",
       "    .dataframe thead th {\n",
       "        text-align: right;\n",
       "    }\n",
       "</style>\n",
       "<table border=\"1\" class=\"dataframe\">\n",
       "  <thead>\n",
       "    <tr style=\"text-align: right;\">\n",
       "      <th></th>\n",
       "      <th>CRASH_UNIT_ID</th>\n",
       "      <th>CRASH_RECORD_ID</th>\n",
       "      <th>RD_NO</th>\n",
       "      <th>CRASH_DATE</th>\n",
       "      <th>UNIT_NO</th>\n",
       "      <th>UNIT_TYPE</th>\n",
       "      <th>NUM_PASSENGERS</th>\n",
       "      <th>VEHICLE_ID</th>\n",
       "      <th>CMRC_VEH_I</th>\n",
       "      <th>MAKE</th>\n",
       "      <th>...</th>\n",
       "      <th>TRAILER1_LENGTH</th>\n",
       "      <th>TRAILER2_LENGTH</th>\n",
       "      <th>TOTAL_VEHICLE_LENGTH</th>\n",
       "      <th>AXLE_CNT</th>\n",
       "      <th>VEHICLE_CONFIG</th>\n",
       "      <th>CARGO_BODY_TYPE</th>\n",
       "      <th>LOAD_TYPE</th>\n",
       "      <th>HAZMAT_OUT_OF_SERVICE_I</th>\n",
       "      <th>MCS_OUT_OF_SERVICE_I</th>\n",
       "      <th>HAZMAT_CLASS</th>\n",
       "    </tr>\n",
       "  </thead>\n",
       "  <tbody>\n",
       "    <tr>\n",
       "      <th>0</th>\n",
       "      <td>829999</td>\n",
       "      <td>24ddf9fd8542199d832e1c223cc474e5601b356f1d77a6...</td>\n",
       "      <td>JD124535</td>\n",
       "      <td>01/22/2020 06:25:00 AM</td>\n",
       "      <td>1</td>\n",
       "      <td>DRIVER</td>\n",
       "      <td>NaN</td>\n",
       "      <td>796949.0</td>\n",
       "      <td>NaN</td>\n",
       "      <td>INFINITI</td>\n",
       "      <td>...</td>\n",
       "      <td>NaN</td>\n",
       "      <td>NaN</td>\n",
       "      <td>NaN</td>\n",
       "      <td>NaN</td>\n",
       "      <td>NaN</td>\n",
       "      <td>NaN</td>\n",
       "      <td>NaN</td>\n",
       "      <td>NaN</td>\n",
       "      <td>NaN</td>\n",
       "      <td>NaN</td>\n",
       "    </tr>\n",
       "    <tr>\n",
       "      <th>1</th>\n",
       "      <td>749947</td>\n",
       "      <td>81dc0de2ed92aa62baccab641fa377be7feb1cc47e6554...</td>\n",
       "      <td>JC451435</td>\n",
       "      <td>09/28/2019 03:30:00 AM</td>\n",
       "      <td>1</td>\n",
       "      <td>DRIVER</td>\n",
       "      <td>NaN</td>\n",
       "      <td>834816.0</td>\n",
       "      <td>NaN</td>\n",
       "      <td>HONDA</td>\n",
       "      <td>...</td>\n",
       "      <td>NaN</td>\n",
       "      <td>NaN</td>\n",
       "      <td>NaN</td>\n",
       "      <td>NaN</td>\n",
       "      <td>NaN</td>\n",
       "      <td>NaN</td>\n",
       "      <td>NaN</td>\n",
       "      <td>NaN</td>\n",
       "      <td>NaN</td>\n",
       "      <td>NaN</td>\n",
       "    </tr>\n",
       "    <tr>\n",
       "      <th>2</th>\n",
       "      <td>749949</td>\n",
       "      <td>81dc0de2ed92aa62baccab641fa377be7feb1cc47e6554...</td>\n",
       "      <td>JC451435</td>\n",
       "      <td>09/28/2019 03:30:00 AM</td>\n",
       "      <td>2</td>\n",
       "      <td>PARKED</td>\n",
       "      <td>NaN</td>\n",
       "      <td>834819.0</td>\n",
       "      <td>NaN</td>\n",
       "      <td>TOYOTA</td>\n",
       "      <td>...</td>\n",
       "      <td>NaN</td>\n",
       "      <td>NaN</td>\n",
       "      <td>NaN</td>\n",
       "      <td>NaN</td>\n",
       "      <td>NaN</td>\n",
       "      <td>NaN</td>\n",
       "      <td>NaN</td>\n",
       "      <td>NaN</td>\n",
       "      <td>NaN</td>\n",
       "      <td>NaN</td>\n",
       "    </tr>\n",
       "    <tr>\n",
       "      <th>3</th>\n",
       "      <td>749950</td>\n",
       "      <td>81dc0de2ed92aa62baccab641fa377be7feb1cc47e6554...</td>\n",
       "      <td>JC451435</td>\n",
       "      <td>09/28/2019 03:30:00 AM</td>\n",
       "      <td>3</td>\n",
       "      <td>PARKED</td>\n",
       "      <td>NaN</td>\n",
       "      <td>834817.0</td>\n",
       "      <td>NaN</td>\n",
       "      <td>GENERAL MOTORS CORPORATION (GMC)</td>\n",
       "      <td>...</td>\n",
       "      <td>NaN</td>\n",
       "      <td>NaN</td>\n",
       "      <td>NaN</td>\n",
       "      <td>NaN</td>\n",
       "      <td>NaN</td>\n",
       "      <td>NaN</td>\n",
       "      <td>NaN</td>\n",
       "      <td>NaN</td>\n",
       "      <td>NaN</td>\n",
       "      <td>NaN</td>\n",
       "    </tr>\n",
       "    <tr>\n",
       "      <th>4</th>\n",
       "      <td>871921</td>\n",
       "      <td>af84fb5c8d996fcd3aefd36593c3a02e6e7509eeb27568...</td>\n",
       "      <td>JD208731</td>\n",
       "      <td>04/13/2020 10:50:00 PM</td>\n",
       "      <td>2</td>\n",
       "      <td>DRIVER</td>\n",
       "      <td>NaN</td>\n",
       "      <td>827212.0</td>\n",
       "      <td>NaN</td>\n",
       "      <td>BUICK</td>\n",
       "      <td>...</td>\n",
       "      <td>NaN</td>\n",
       "      <td>NaN</td>\n",
       "      <td>NaN</td>\n",
       "      <td>NaN</td>\n",
       "      <td>NaN</td>\n",
       "      <td>NaN</td>\n",
       "      <td>NaN</td>\n",
       "      <td>NaN</td>\n",
       "      <td>NaN</td>\n",
       "      <td>NaN</td>\n",
       "    </tr>\n",
       "  </tbody>\n",
       "</table>\n",
       "<p>5 rows × 72 columns</p>\n",
       "</div>"
      ],
      "text/plain": [
       "   CRASH_UNIT_ID                                    CRASH_RECORD_ID     RD_NO  \\\n",
       "0         829999  24ddf9fd8542199d832e1c223cc474e5601b356f1d77a6...  JD124535   \n",
       "1         749947  81dc0de2ed92aa62baccab641fa377be7feb1cc47e6554...  JC451435   \n",
       "2         749949  81dc0de2ed92aa62baccab641fa377be7feb1cc47e6554...  JC451435   \n",
       "3         749950  81dc0de2ed92aa62baccab641fa377be7feb1cc47e6554...  JC451435   \n",
       "4         871921  af84fb5c8d996fcd3aefd36593c3a02e6e7509eeb27568...  JD208731   \n",
       "\n",
       "               CRASH_DATE  UNIT_NO UNIT_TYPE  NUM_PASSENGERS  VEHICLE_ID  \\\n",
       "0  01/22/2020 06:25:00 AM        1    DRIVER             NaN    796949.0   \n",
       "1  09/28/2019 03:30:00 AM        1    DRIVER             NaN    834816.0   \n",
       "2  09/28/2019 03:30:00 AM        2    PARKED             NaN    834819.0   \n",
       "3  09/28/2019 03:30:00 AM        3    PARKED             NaN    834817.0   \n",
       "4  04/13/2020 10:50:00 PM        2    DRIVER             NaN    827212.0   \n",
       "\n",
       "  CMRC_VEH_I                              MAKE  ... TRAILER1_LENGTH  \\\n",
       "0        NaN                          INFINITI  ...             NaN   \n",
       "1        NaN                             HONDA  ...             NaN   \n",
       "2        NaN                            TOYOTA  ...             NaN   \n",
       "3        NaN  GENERAL MOTORS CORPORATION (GMC)  ...             NaN   \n",
       "4        NaN                             BUICK  ...             NaN   \n",
       "\n",
       "  TRAILER2_LENGTH  TOTAL_VEHICLE_LENGTH AXLE_CNT VEHICLE_CONFIG  \\\n",
       "0             NaN                   NaN      NaN            NaN   \n",
       "1             NaN                   NaN      NaN            NaN   \n",
       "2             NaN                   NaN      NaN            NaN   \n",
       "3             NaN                   NaN      NaN            NaN   \n",
       "4             NaN                   NaN      NaN            NaN   \n",
       "\n",
       "  CARGO_BODY_TYPE LOAD_TYPE HAZMAT_OUT_OF_SERVICE_I MCS_OUT_OF_SERVICE_I  \\\n",
       "0             NaN       NaN                     NaN                  NaN   \n",
       "1             NaN       NaN                     NaN                  NaN   \n",
       "2             NaN       NaN                     NaN                  NaN   \n",
       "3             NaN       NaN                     NaN                  NaN   \n",
       "4             NaN       NaN                     NaN                  NaN   \n",
       "\n",
       "  HAZMAT_CLASS  \n",
       "0          NaN  \n",
       "1          NaN  \n",
       "2          NaN  \n",
       "3          NaN  \n",
       "4          NaN  \n",
       "\n",
       "[5 rows x 72 columns]"
      ]
     },
     "execution_count": 17,
     "metadata": {},
     "output_type": "execute_result"
    }
   ],
   "source": [
    "vehicles = pd.read_csv('../CarCrashData/Traffic_Crashes_Vehicles.csv', low_memory=False)\n",
    "vehicles.head()"
   ]
  },
  {
   "cell_type": "code",
   "execution_count": 18,
   "metadata": {},
   "outputs": [
    {
     "data": {
      "text/plain": [
       "(1310508, 72)"
      ]
     },
     "execution_count": 18,
     "metadata": {},
     "output_type": "execute_result"
    }
   ],
   "source": [
    "vehicles.shape"
   ]
  },
  {
   "cell_type": "code",
   "execution_count": 19,
   "metadata": {},
   "outputs": [
    {
     "name": "stdout",
     "output_type": "stream",
     "text": [
      "<class 'pandas.core.frame.DataFrame'>\n",
      "RangeIndex: 1310508 entries, 0 to 1310507\n",
      "Data columns (total 72 columns):\n",
      " #   Column                    Non-Null Count    Dtype  \n",
      "---  ------                    --------------    -----  \n",
      " 0   CRASH_UNIT_ID             1310508 non-null  int64  \n",
      " 1   CRASH_RECORD_ID           1310508 non-null  object \n",
      " 2   RD_NO                     1302413 non-null  object \n",
      " 3   CRASH_DATE                1310508 non-null  object \n",
      " 4   UNIT_NO                   1310508 non-null  int64  \n",
      " 5   UNIT_TYPE                 1308666 non-null  object \n",
      " 6   NUM_PASSENGERS            194875 non-null   float64\n",
      " 7   VEHICLE_ID                1280912 non-null  float64\n",
      " 8   CMRC_VEH_I                24428 non-null    object \n",
      " 9   MAKE                      1280907 non-null  object \n",
      " 10  MODEL                     1280763 non-null  object \n",
      " 11  LIC_PLATE_STATE           1165456 non-null  object \n",
      " 12  VEHICLE_YEAR              1072167 non-null  float64\n",
      " 13  VEHICLE_DEFECT            1280912 non-null  object \n",
      " 14  VEHICLE_TYPE              1280912 non-null  object \n",
      " 15  VEHICLE_USE               1280912 non-null  object \n",
      " 16  TRAVEL_DIRECTION          1280912 non-null  object \n",
      " 17  MANEUVER                  1280912 non-null  object \n",
      " 18  TOWED_I                   158821 non-null   object \n",
      " 19  FIRE_I                    1042 non-null     object \n",
      " 20  OCCUPANT_CNT              1280912 non-null  float64\n",
      " 21  EXCEED_SPEED_LIMIT_I      2397 non-null     object \n",
      " 22  TOWED_BY                  118011 non-null   object \n",
      " 23  TOWED_TO                  72662 non-null    object \n",
      " 24  AREA_00_I                 47179 non-null    object \n",
      " 25  AREA_01_I                 345019 non-null   object \n",
      " 26  AREA_02_I                 213001 non-null   object \n",
      " 27  AREA_03_I                 124254 non-null   object \n",
      " 28  AREA_04_I                 126575 non-null   object \n",
      " 29  AREA_05_I                 195613 non-null   object \n",
      " 30  AREA_06_I                 202194 non-null   object \n",
      " 31  AREA_07_I                 181038 non-null   object \n",
      " 32  AREA_08_I                 199909 non-null   object \n",
      " 33  AREA_09_I                 74164 non-null    object \n",
      " 34  AREA_10_I                 106994 non-null   object \n",
      " 35  AREA_11_I                 210077 non-null   object \n",
      " 36  AREA_12_I                 207062 non-null   object \n",
      " 37  AREA_99_I                 143619 non-null   object \n",
      " 38  FIRST_CONTACT_POINT       1269789 non-null  object \n",
      " 39  CMV_ID                    13755 non-null    float64\n",
      " 40  USDOT_NO                  7905 non-null     object \n",
      " 41  CCMC_NO                   1717 non-null     object \n",
      " 42  ILCC_NO                   1212 non-null     object \n",
      " 43  COMMERCIAL_SRC            9411 non-null     object \n",
      " 44  GVWR                      7856 non-null     object \n",
      " 45  CARRIER_NAME              13155 non-null    object \n",
      " 46  CARRIER_STATE             12405 non-null    object \n",
      " 47  CARRIER_CITY              12184 non-null    object \n",
      " 48  HAZMAT_PLACARDS_I         273 non-null      object \n",
      " 49  HAZMAT_NAME               51 non-null       object \n",
      " 50  UN_NO                     480 non-null      object \n",
      " 51  HAZMAT_PRESENT_I          10093 non-null    object \n",
      " 52  HAZMAT_REPORT_I           9787 non-null     object \n",
      " 53  HAZMAT_REPORT_NO          1 non-null        object \n",
      " 54  MCS_REPORT_I              9846 non-null     object \n",
      " 55  MCS_REPORT_NO             6 non-null        object \n",
      " 56  HAZMAT_VIO_CAUSE_CRASH_I  9944 non-null     object \n",
      " 57  MCS_VIO_CAUSE_CRASH_I     9762 non-null     object \n",
      " 58  IDOT_PERMIT_NO            784 non-null      object \n",
      " 59  WIDE_LOAD_I               121 non-null      object \n",
      " 60  TRAILER1_WIDTH            2545 non-null     object \n",
      " 61  TRAILER2_WIDTH            298 non-null      object \n",
      " 62  TRAILER1_LENGTH           2096 non-null     float64\n",
      " 63  TRAILER2_LENGTH           58 non-null       float64\n",
      " 64  TOTAL_VEHICLE_LENGTH      2547 non-null     float64\n",
      " 65  AXLE_CNT                  3738 non-null     float64\n",
      " 66  VEHICLE_CONFIG            11425 non-null    object \n",
      " 67  CARGO_BODY_TYPE           10929 non-null    object \n",
      " 68  LOAD_TYPE                 10439 non-null    object \n",
      " 69  HAZMAT_OUT_OF_SERVICE_I   9496 non-null     object \n",
      " 70  MCS_OUT_OF_SERVICE_I      9743 non-null     object \n",
      " 71  HAZMAT_CLASS              921 non-null      object \n",
      "dtypes: float64(9), int64(2), object(61)\n",
      "memory usage: 719.9+ MB\n"
     ]
    }
   ],
   "source": [
    "vehicles.info()"
   ]
  },
  {
   "cell_type": "code",
   "execution_count": 20,
   "metadata": {
    "scrolled": true
   },
   "outputs": [
    {
     "data": {
      "text/html": [
       "<div>\n",
       "<style scoped>\n",
       "    .dataframe tbody tr th:only-of-type {\n",
       "        vertical-align: middle;\n",
       "    }\n",
       "\n",
       "    .dataframe tbody tr th {\n",
       "        vertical-align: top;\n",
       "    }\n",
       "\n",
       "    .dataframe thead th {\n",
       "        text-align: right;\n",
       "    }\n",
       "</style>\n",
       "<table border=\"1\" class=\"dataframe\">\n",
       "  <thead>\n",
       "    <tr style=\"text-align: right;\">\n",
       "      <th></th>\n",
       "      <th>CRASH_UNIT_ID</th>\n",
       "      <th>UNIT_NO</th>\n",
       "      <th>NUM_PASSENGERS</th>\n",
       "      <th>VEHICLE_ID</th>\n",
       "      <th>VEHICLE_YEAR</th>\n",
       "      <th>OCCUPANT_CNT</th>\n",
       "      <th>CMV_ID</th>\n",
       "      <th>TRAILER1_LENGTH</th>\n",
       "      <th>TRAILER2_LENGTH</th>\n",
       "      <th>TOTAL_VEHICLE_LENGTH</th>\n",
       "      <th>AXLE_CNT</th>\n",
       "    </tr>\n",
       "  </thead>\n",
       "  <tbody>\n",
       "    <tr>\n",
       "      <th>count</th>\n",
       "      <td>1.310508e+06</td>\n",
       "      <td>1.310508e+06</td>\n",
       "      <td>194875.000000</td>\n",
       "      <td>1.280912e+06</td>\n",
       "      <td>1.072167e+06</td>\n",
       "      <td>1.280912e+06</td>\n",
       "      <td>13755.000000</td>\n",
       "      <td>2096.000000</td>\n",
       "      <td>58.000000</td>\n",
       "      <td>2547.000000</td>\n",
       "      <td>3738.000000</td>\n",
       "    </tr>\n",
       "    <tr>\n",
       "      <th>mean</th>\n",
       "      <td>7.004904e+05</td>\n",
       "      <td>4.446720e+00</td>\n",
       "      <td>1.471174</td>\n",
       "      <td>6.664611e+05</td>\n",
       "      <td>2.013581e+03</td>\n",
       "      <td>1.079832e+00</td>\n",
       "      <td>7676.348964</td>\n",
       "      <td>48.527195</td>\n",
       "      <td>44.517241</td>\n",
       "      <td>53.125245</td>\n",
       "      <td>10.701980</td>\n",
       "    </tr>\n",
       "    <tr>\n",
       "      <th>std</th>\n",
       "      <td>4.064380e+05</td>\n",
       "      <td>3.300243e+03</td>\n",
       "      <td>1.049482</td>\n",
       "      <td>3.844537e+05</td>\n",
       "      <td>1.440080e+02</td>\n",
       "      <td>7.843180e-01</td>\n",
       "      <td>4453.821184</td>\n",
       "      <td>21.564827</td>\n",
       "      <td>28.649265</td>\n",
       "      <td>32.022755</td>\n",
       "      <td>425.355581</td>\n",
       "    </tr>\n",
       "    <tr>\n",
       "      <th>min</th>\n",
       "      <td>2.000000e+00</td>\n",
       "      <td>0.000000e+00</td>\n",
       "      <td>1.000000</td>\n",
       "      <td>2.000000e+00</td>\n",
       "      <td>1.900000e+03</td>\n",
       "      <td>0.000000e+00</td>\n",
       "      <td>1.000000</td>\n",
       "      <td>1.000000</td>\n",
       "      <td>2.000000</td>\n",
       "      <td>1.000000</td>\n",
       "      <td>1.000000</td>\n",
       "    </tr>\n",
       "    <tr>\n",
       "      <th>25%</th>\n",
       "      <td>3.470888e+05</td>\n",
       "      <td>1.000000e+00</td>\n",
       "      <td>1.000000</td>\n",
       "      <td>3.338198e+05</td>\n",
       "      <td>2.006000e+03</td>\n",
       "      <td>1.000000e+00</td>\n",
       "      <td>3799.500000</td>\n",
       "      <td>45.000000</td>\n",
       "      <td>24.250000</td>\n",
       "      <td>35.000000</td>\n",
       "      <td>2.000000</td>\n",
       "    </tr>\n",
       "    <tr>\n",
       "      <th>50%</th>\n",
       "      <td>7.016955e+05</td>\n",
       "      <td>2.000000e+00</td>\n",
       "      <td>1.000000</td>\n",
       "      <td>6.669690e+05</td>\n",
       "      <td>2.012000e+03</td>\n",
       "      <td>1.000000e+00</td>\n",
       "      <td>7695.000000</td>\n",
       "      <td>53.000000</td>\n",
       "      <td>48.000000</td>\n",
       "      <td>53.000000</td>\n",
       "      <td>3.000000</td>\n",
       "    </tr>\n",
       "    <tr>\n",
       "      <th>75%</th>\n",
       "      <td>1.053070e+06</td>\n",
       "      <td>2.000000e+00</td>\n",
       "      <td>2.000000</td>\n",
       "      <td>9.989482e+05</td>\n",
       "      <td>2.016000e+03</td>\n",
       "      <td>1.000000e+00</td>\n",
       "      <td>11549.500000</td>\n",
       "      <td>53.000000</td>\n",
       "      <td>53.000000</td>\n",
       "      <td>65.000000</td>\n",
       "      <td>5.000000</td>\n",
       "    </tr>\n",
       "    <tr>\n",
       "      <th>max</th>\n",
       "      <td>1.403472e+06</td>\n",
       "      <td>3.778035e+06</td>\n",
       "      <td>59.000000</td>\n",
       "      <td>1.333658e+06</td>\n",
       "      <td>9.999000e+03</td>\n",
       "      <td>9.900000e+01</td>\n",
       "      <td>15365.000000</td>\n",
       "      <td>740.000000</td>\n",
       "      <td>123.000000</td>\n",
       "      <td>999.000000</td>\n",
       "      <td>26009.000000</td>\n",
       "    </tr>\n",
       "  </tbody>\n",
       "</table>\n",
       "</div>"
      ],
      "text/plain": [
       "       CRASH_UNIT_ID       UNIT_NO  NUM_PASSENGERS    VEHICLE_ID  \\\n",
       "count   1.310508e+06  1.310508e+06   194875.000000  1.280912e+06   \n",
       "mean    7.004904e+05  4.446720e+00        1.471174  6.664611e+05   \n",
       "std     4.064380e+05  3.300243e+03        1.049482  3.844537e+05   \n",
       "min     2.000000e+00  0.000000e+00        1.000000  2.000000e+00   \n",
       "25%     3.470888e+05  1.000000e+00        1.000000  3.338198e+05   \n",
       "50%     7.016955e+05  2.000000e+00        1.000000  6.669690e+05   \n",
       "75%     1.053070e+06  2.000000e+00        2.000000  9.989482e+05   \n",
       "max     1.403472e+06  3.778035e+06       59.000000  1.333658e+06   \n",
       "\n",
       "       VEHICLE_YEAR  OCCUPANT_CNT        CMV_ID  TRAILER1_LENGTH  \\\n",
       "count  1.072167e+06  1.280912e+06  13755.000000      2096.000000   \n",
       "mean   2.013581e+03  1.079832e+00   7676.348964        48.527195   \n",
       "std    1.440080e+02  7.843180e-01   4453.821184        21.564827   \n",
       "min    1.900000e+03  0.000000e+00      1.000000         1.000000   \n",
       "25%    2.006000e+03  1.000000e+00   3799.500000        45.000000   \n",
       "50%    2.012000e+03  1.000000e+00   7695.000000        53.000000   \n",
       "75%    2.016000e+03  1.000000e+00  11549.500000        53.000000   \n",
       "max    9.999000e+03  9.900000e+01  15365.000000       740.000000   \n",
       "\n",
       "       TRAILER2_LENGTH  TOTAL_VEHICLE_LENGTH      AXLE_CNT  \n",
       "count        58.000000           2547.000000   3738.000000  \n",
       "mean         44.517241             53.125245     10.701980  \n",
       "std          28.649265             32.022755    425.355581  \n",
       "min           2.000000              1.000000      1.000000  \n",
       "25%          24.250000             35.000000      2.000000  \n",
       "50%          48.000000             53.000000      3.000000  \n",
       "75%          53.000000             65.000000      5.000000  \n",
       "max         123.000000            999.000000  26009.000000  "
      ]
     },
     "execution_count": 20,
     "metadata": {},
     "output_type": "execute_result"
    }
   ],
   "source": [
    "vehicles.describe()"
   ]
  },
  {
   "cell_type": "markdown",
   "metadata": {},
   "source": [
    "### Dropping Columns with high null values"
   ]
  },
  {
   "cell_type": "code",
   "execution_count": 21,
   "metadata": {},
   "outputs": [
    {
     "data": {
      "text/html": [
       "<div>\n",
       "<style scoped>\n",
       "    .dataframe tbody tr th:only-of-type {\n",
       "        vertical-align: middle;\n",
       "    }\n",
       "\n",
       "    .dataframe tbody tr th {\n",
       "        vertical-align: top;\n",
       "    }\n",
       "\n",
       "    .dataframe thead th {\n",
       "        text-align: right;\n",
       "    }\n",
       "</style>\n",
       "<table border=\"1\" class=\"dataframe\">\n",
       "  <thead>\n",
       "    <tr style=\"text-align: right;\">\n",
       "      <th></th>\n",
       "      <th>column_name</th>\n",
       "      <th>percent_missing</th>\n",
       "    </tr>\n",
       "  </thead>\n",
       "  <tbody>\n",
       "    <tr>\n",
       "      <th>HAZMAT_REPORT_NO</th>\n",
       "      <td>HAZMAT_REPORT_NO</td>\n",
       "      <td>99.999924</td>\n",
       "    </tr>\n",
       "    <tr>\n",
       "      <th>MCS_REPORT_NO</th>\n",
       "      <td>MCS_REPORT_NO</td>\n",
       "      <td>99.999542</td>\n",
       "    </tr>\n",
       "    <tr>\n",
       "      <th>HAZMAT_NAME</th>\n",
       "      <td>HAZMAT_NAME</td>\n",
       "      <td>99.996108</td>\n",
       "    </tr>\n",
       "    <tr>\n",
       "      <th>TRAILER2_LENGTH</th>\n",
       "      <td>TRAILER2_LENGTH</td>\n",
       "      <td>99.995574</td>\n",
       "    </tr>\n",
       "    <tr>\n",
       "      <th>WIDE_LOAD_I</th>\n",
       "      <td>WIDE_LOAD_I</td>\n",
       "      <td>99.990767</td>\n",
       "    </tr>\n",
       "    <tr>\n",
       "      <th>...</th>\n",
       "      <td>...</td>\n",
       "      <td>...</td>\n",
       "    </tr>\n",
       "    <tr>\n",
       "      <th>UNIT_TYPE</th>\n",
       "      <td>UNIT_TYPE</td>\n",
       "      <td>0.140556</td>\n",
       "    </tr>\n",
       "    <tr>\n",
       "      <th>CRASH_RECORD_ID</th>\n",
       "      <td>CRASH_RECORD_ID</td>\n",
       "      <td>0.000000</td>\n",
       "    </tr>\n",
       "    <tr>\n",
       "      <th>UNIT_NO</th>\n",
       "      <td>UNIT_NO</td>\n",
       "      <td>0.000000</td>\n",
       "    </tr>\n",
       "    <tr>\n",
       "      <th>CRASH_DATE</th>\n",
       "      <td>CRASH_DATE</td>\n",
       "      <td>0.000000</td>\n",
       "    </tr>\n",
       "    <tr>\n",
       "      <th>CRASH_UNIT_ID</th>\n",
       "      <td>CRASH_UNIT_ID</td>\n",
       "      <td>0.000000</td>\n",
       "    </tr>\n",
       "  </tbody>\n",
       "</table>\n",
       "<p>72 rows × 2 columns</p>\n",
       "</div>"
      ],
      "text/plain": [
       "                       column_name  percent_missing\n",
       "HAZMAT_REPORT_NO  HAZMAT_REPORT_NO        99.999924\n",
       "MCS_REPORT_NO        MCS_REPORT_NO        99.999542\n",
       "HAZMAT_NAME            HAZMAT_NAME        99.996108\n",
       "TRAILER2_LENGTH    TRAILER2_LENGTH        99.995574\n",
       "WIDE_LOAD_I            WIDE_LOAD_I        99.990767\n",
       "...                            ...              ...\n",
       "UNIT_TYPE                UNIT_TYPE         0.140556\n",
       "CRASH_RECORD_ID    CRASH_RECORD_ID         0.000000\n",
       "UNIT_NO                    UNIT_NO         0.000000\n",
       "CRASH_DATE              CRASH_DATE         0.000000\n",
       "CRASH_UNIT_ID        CRASH_UNIT_ID         0.000000\n",
       "\n",
       "[72 rows x 2 columns]"
      ]
     },
     "execution_count": 21,
     "metadata": {},
     "output_type": "execute_result"
    }
   ],
   "source": [
    "percent_missing2 = vehicles.isnull().sum() * 100 / len(vehicles)\n",
    "vehicles_null_values = pd.DataFrame({'column_name': vehicles.columns,'percent_missing': percent_missing2})\n",
    "vehicles_null_values.sort_values(by='percent_missing', ascending=False)"
   ]
  },
  {
   "cell_type": "code",
   "execution_count": 22,
   "metadata": {},
   "outputs": [],
   "source": [
    "relevant_columns = [    \n",
    " 'CRASH_UNIT_ID',\n",
    " 'CRASH_RECORD_ID',    \n",
    " 'RD_NO',  \n",
    " 'CRASH_DATE',  \n",
    " 'UNIT_NO',    \n",
    " 'UNIT_TYPE',    \n",
    " 'VEHICLE_ID', \n",
    " 'MAKE',\n",
    " 'MODEL',\n",
    " 'LIC_PLATE_STATE',\n",
    " 'VEHICLE_YEAR',\n",
    " 'VEHICLE_DEFECT',\n",
    " 'VEHICLE_TYPE',\n",
    " 'VEHICLE_USE',\n",
    " 'TRAVEL_DIRECTION',\n",
    " 'MANEUVER',\n",
    " 'OCCUPANT_CNT',\n",
    " 'FIRST_CONTACT_POINT',\n",
    "]\n",
    "vehicles = vehicles[relevant_columns]"
   ]
  },
  {
   "cell_type": "code",
   "execution_count": 23,
   "metadata": {},
   "outputs": [
    {
     "name": "stdout",
     "output_type": "stream",
     "text": [
      "<class 'pandas.core.frame.DataFrame'>\n",
      "RangeIndex: 1310508 entries, 0 to 1310507\n",
      "Data columns (total 18 columns):\n",
      " #   Column               Non-Null Count    Dtype  \n",
      "---  ------               --------------    -----  \n",
      " 0   CRASH_UNIT_ID        1310508 non-null  int64  \n",
      " 1   CRASH_RECORD_ID      1310508 non-null  object \n",
      " 2   RD_NO                1302413 non-null  object \n",
      " 3   CRASH_DATE           1310508 non-null  object \n",
      " 4   UNIT_NO              1310508 non-null  int64  \n",
      " 5   UNIT_TYPE            1308666 non-null  object \n",
      " 6   VEHICLE_ID           1280912 non-null  float64\n",
      " 7   MAKE                 1280907 non-null  object \n",
      " 8   MODEL                1280763 non-null  object \n",
      " 9   LIC_PLATE_STATE      1165456 non-null  object \n",
      " 10  VEHICLE_YEAR         1072167 non-null  float64\n",
      " 11  VEHICLE_DEFECT       1280912 non-null  object \n",
      " 12  VEHICLE_TYPE         1280912 non-null  object \n",
      " 13  VEHICLE_USE          1280912 non-null  object \n",
      " 14  TRAVEL_DIRECTION     1280912 non-null  object \n",
      " 15  MANEUVER             1280912 non-null  object \n",
      " 16  OCCUPANT_CNT         1280912 non-null  float64\n",
      " 17  FIRST_CONTACT_POINT  1269789 non-null  object \n",
      "dtypes: float64(3), int64(2), object(13)\n",
      "memory usage: 180.0+ MB\n"
     ]
    }
   ],
   "source": [
    "vehicles.info()"
   ]
  },
  {
   "cell_type": "code",
   "execution_count": 24,
   "metadata": {},
   "outputs": [],
   "source": [
    "#columns dropped had more than 70% missing values"
   ]
  },
  {
   "cell_type": "markdown",
   "metadata": {},
   "source": [
    "### Dropping Irrelevant Columns "
   ]
  },
  {
   "cell_type": "code",
   "execution_count": 25,
   "metadata": {},
   "outputs": [],
   "source": [
    "vehicle_rc = [\n",
    "    'CRASH_UNIT_ID',\n",
    "    'CRASH_RECORD_ID',\n",
    "    'CRASH_DATE',\n",
    "    'UNIT_NO',\n",
    "    'UNIT_TYPE',\n",
    "    'VEHICLE_ID',\n",
    "    'MAKE',\n",
    "    'MODEL',\n",
    "    'LIC_PLATE_STATE',\n",
    "    'VEHICLE_YEAR',\n",
    "    'VEHICLE_DEFECT',\n",
    "    'VEHICLE_TYPE',\n",
    "    'VEHICLE_USE',\n",
    "    'TRAVEL_DIRECTION',\n",
    "    'MANEUVER',\n",
    "    'OCCUPANT_CNT',\n",
    "]\n",
    "\n",
    "vehicles = vehicles[vehicle_rc]"
   ]
  },
  {
   "cell_type": "code",
   "execution_count": 26,
   "metadata": {},
   "outputs": [
    {
     "data": {
      "text/html": [
       "<div>\n",
       "<style scoped>\n",
       "    .dataframe tbody tr th:only-of-type {\n",
       "        vertical-align: middle;\n",
       "    }\n",
       "\n",
       "    .dataframe tbody tr th {\n",
       "        vertical-align: top;\n",
       "    }\n",
       "\n",
       "    .dataframe thead th {\n",
       "        text-align: right;\n",
       "    }\n",
       "</style>\n",
       "<table border=\"1\" class=\"dataframe\">\n",
       "  <thead>\n",
       "    <tr style=\"text-align: right;\">\n",
       "      <th></th>\n",
       "      <th>CRASH_UNIT_ID</th>\n",
       "      <th>CRASH_RECORD_ID</th>\n",
       "      <th>CRASH_DATE</th>\n",
       "      <th>UNIT_NO</th>\n",
       "      <th>UNIT_TYPE</th>\n",
       "      <th>VEHICLE_ID</th>\n",
       "      <th>MAKE</th>\n",
       "      <th>MODEL</th>\n",
       "      <th>LIC_PLATE_STATE</th>\n",
       "      <th>VEHICLE_YEAR</th>\n",
       "      <th>VEHICLE_DEFECT</th>\n",
       "      <th>VEHICLE_TYPE</th>\n",
       "      <th>VEHICLE_USE</th>\n",
       "      <th>TRAVEL_DIRECTION</th>\n",
       "      <th>MANEUVER</th>\n",
       "      <th>OCCUPANT_CNT</th>\n",
       "    </tr>\n",
       "  </thead>\n",
       "  <tbody>\n",
       "    <tr>\n",
       "      <th>0</th>\n",
       "      <td>829999</td>\n",
       "      <td>24ddf9fd8542199d832e1c223cc474e5601b356f1d77a6...</td>\n",
       "      <td>01/22/2020 06:25:00 AM</td>\n",
       "      <td>1</td>\n",
       "      <td>DRIVER</td>\n",
       "      <td>796949.0</td>\n",
       "      <td>INFINITI</td>\n",
       "      <td>UNKNOWN</td>\n",
       "      <td>IL</td>\n",
       "      <td>2017.0</td>\n",
       "      <td>NONE</td>\n",
       "      <td>PASSENGER</td>\n",
       "      <td>PERSONAL</td>\n",
       "      <td>N</td>\n",
       "      <td>STRAIGHT AHEAD</td>\n",
       "      <td>1.0</td>\n",
       "    </tr>\n",
       "    <tr>\n",
       "      <th>1</th>\n",
       "      <td>749947</td>\n",
       "      <td>81dc0de2ed92aa62baccab641fa377be7feb1cc47e6554...</td>\n",
       "      <td>09/28/2019 03:30:00 AM</td>\n",
       "      <td>1</td>\n",
       "      <td>DRIVER</td>\n",
       "      <td>834816.0</td>\n",
       "      <td>HONDA</td>\n",
       "      <td>CIVIC</td>\n",
       "      <td>IL</td>\n",
       "      <td>2016.0</td>\n",
       "      <td>UNKNOWN</td>\n",
       "      <td>PASSENGER</td>\n",
       "      <td>PERSONAL</td>\n",
       "      <td>N</td>\n",
       "      <td>STRAIGHT AHEAD</td>\n",
       "      <td>1.0</td>\n",
       "    </tr>\n",
       "    <tr>\n",
       "      <th>2</th>\n",
       "      <td>749949</td>\n",
       "      <td>81dc0de2ed92aa62baccab641fa377be7feb1cc47e6554...</td>\n",
       "      <td>09/28/2019 03:30:00 AM</td>\n",
       "      <td>2</td>\n",
       "      <td>PARKED</td>\n",
       "      <td>834819.0</td>\n",
       "      <td>TOYOTA</td>\n",
       "      <td>YARIS</td>\n",
       "      <td>IL</td>\n",
       "      <td>2010.0</td>\n",
       "      <td>NONE</td>\n",
       "      <td>UNKNOWN/NA</td>\n",
       "      <td>PERSONAL</td>\n",
       "      <td>N</td>\n",
       "      <td>PARKED</td>\n",
       "      <td>0.0</td>\n",
       "    </tr>\n",
       "    <tr>\n",
       "      <th>3</th>\n",
       "      <td>749950</td>\n",
       "      <td>81dc0de2ed92aa62baccab641fa377be7feb1cc47e6554...</td>\n",
       "      <td>09/28/2019 03:30:00 AM</td>\n",
       "      <td>3</td>\n",
       "      <td>PARKED</td>\n",
       "      <td>834817.0</td>\n",
       "      <td>GENERAL MOTORS CORPORATION (GMC)</td>\n",
       "      <td>SIERRA</td>\n",
       "      <td>IL</td>\n",
       "      <td>2008.0</td>\n",
       "      <td>UNKNOWN</td>\n",
       "      <td>UNKNOWN/NA</td>\n",
       "      <td>UNKNOWN/NA</td>\n",
       "      <td>N</td>\n",
       "      <td>PARKED</td>\n",
       "      <td>0.0</td>\n",
       "    </tr>\n",
       "    <tr>\n",
       "      <th>4</th>\n",
       "      <td>871921</td>\n",
       "      <td>af84fb5c8d996fcd3aefd36593c3a02e6e7509eeb27568...</td>\n",
       "      <td>04/13/2020 10:50:00 PM</td>\n",
       "      <td>2</td>\n",
       "      <td>DRIVER</td>\n",
       "      <td>827212.0</td>\n",
       "      <td>BUICK</td>\n",
       "      <td>ENCORE</td>\n",
       "      <td>IL</td>\n",
       "      <td>NaN</td>\n",
       "      <td>NONE</td>\n",
       "      <td>PASSENGER</td>\n",
       "      <td>PERSONAL</td>\n",
       "      <td>W</td>\n",
       "      <td>STRAIGHT AHEAD</td>\n",
       "      <td>1.0</td>\n",
       "    </tr>\n",
       "  </tbody>\n",
       "</table>\n",
       "</div>"
      ],
      "text/plain": [
       "   CRASH_UNIT_ID                                    CRASH_RECORD_ID  \\\n",
       "0         829999  24ddf9fd8542199d832e1c223cc474e5601b356f1d77a6...   \n",
       "1         749947  81dc0de2ed92aa62baccab641fa377be7feb1cc47e6554...   \n",
       "2         749949  81dc0de2ed92aa62baccab641fa377be7feb1cc47e6554...   \n",
       "3         749950  81dc0de2ed92aa62baccab641fa377be7feb1cc47e6554...   \n",
       "4         871921  af84fb5c8d996fcd3aefd36593c3a02e6e7509eeb27568...   \n",
       "\n",
       "               CRASH_DATE  UNIT_NO UNIT_TYPE  VEHICLE_ID  \\\n",
       "0  01/22/2020 06:25:00 AM        1    DRIVER    796949.0   \n",
       "1  09/28/2019 03:30:00 AM        1    DRIVER    834816.0   \n",
       "2  09/28/2019 03:30:00 AM        2    PARKED    834819.0   \n",
       "3  09/28/2019 03:30:00 AM        3    PARKED    834817.0   \n",
       "4  04/13/2020 10:50:00 PM        2    DRIVER    827212.0   \n",
       "\n",
       "                               MAKE    MODEL LIC_PLATE_STATE  VEHICLE_YEAR  \\\n",
       "0                          INFINITI  UNKNOWN              IL        2017.0   \n",
       "1                             HONDA    CIVIC              IL        2016.0   \n",
       "2                            TOYOTA    YARIS              IL        2010.0   \n",
       "3  GENERAL MOTORS CORPORATION (GMC)   SIERRA              IL        2008.0   \n",
       "4                             BUICK   ENCORE              IL           NaN   \n",
       "\n",
       "  VEHICLE_DEFECT VEHICLE_TYPE VEHICLE_USE TRAVEL_DIRECTION        MANEUVER  \\\n",
       "0           NONE    PASSENGER    PERSONAL                N  STRAIGHT AHEAD   \n",
       "1        UNKNOWN    PASSENGER    PERSONAL                N  STRAIGHT AHEAD   \n",
       "2           NONE   UNKNOWN/NA    PERSONAL                N          PARKED   \n",
       "3        UNKNOWN   UNKNOWN/NA  UNKNOWN/NA                N          PARKED   \n",
       "4           NONE    PASSENGER    PERSONAL                W  STRAIGHT AHEAD   \n",
       "\n",
       "   OCCUPANT_CNT  \n",
       "0           1.0  \n",
       "1           1.0  \n",
       "2           0.0  \n",
       "3           0.0  \n",
       "4           1.0  "
      ]
     },
     "execution_count": 26,
     "metadata": {},
     "output_type": "execute_result"
    }
   ],
   "source": [
    "vehicles.head()"
   ]
  },
  {
   "cell_type": "markdown",
   "metadata": {},
   "source": [
    "***"
   ]
  },
  {
   "cell_type": "markdown",
   "metadata": {},
   "source": [
    "### People Dataset"
   ]
  },
  {
   "cell_type": "code",
   "execution_count": 27,
   "metadata": {},
   "outputs": [],
   "source": [
    "# # from Kevin Rivera\n",
    "# from zipfile import ZipFile\n",
    "# # specifying the zip file name\n",
    "# file_name = \"./Traffic_Crashes_People.csv.zip\"\n",
    "# # opening the zip file in READ mode\n",
    "# with ZipFile(file_name, 'r') as zip:\n",
    "#     # printing all the contents of the zip file\n",
    "#     zip.printdir()\n",
    "#     # extracting all the files\n",
    "#     print('Extracting all the files now...')\n",
    "#     # extract data to the same directory as the other data\n",
    "#     zip.extractall(path='./zippedData')\n",
    "#     print('Done!')\n"
   ]
  },
  {
   "cell_type": "code",
   "execution_count": 28,
   "metadata": {},
   "outputs": [
    {
     "data": {
      "text/html": [
       "<div>\n",
       "<style scoped>\n",
       "    .dataframe tbody tr th:only-of-type {\n",
       "        vertical-align: middle;\n",
       "    }\n",
       "\n",
       "    .dataframe tbody tr th {\n",
       "        vertical-align: top;\n",
       "    }\n",
       "\n",
       "    .dataframe thead th {\n",
       "        text-align: right;\n",
       "    }\n",
       "</style>\n",
       "<table border=\"1\" class=\"dataframe\">\n",
       "  <thead>\n",
       "    <tr style=\"text-align: right;\">\n",
       "      <th></th>\n",
       "      <th>PERSON_ID</th>\n",
       "      <th>PERSON_TYPE</th>\n",
       "      <th>CRASH_RECORD_ID</th>\n",
       "      <th>RD_NO</th>\n",
       "      <th>VEHICLE_ID</th>\n",
       "      <th>CRASH_DATE</th>\n",
       "      <th>SEAT_NO</th>\n",
       "      <th>CITY</th>\n",
       "      <th>STATE</th>\n",
       "      <th>ZIPCODE</th>\n",
       "      <th>...</th>\n",
       "      <th>EMS_RUN_NO</th>\n",
       "      <th>DRIVER_ACTION</th>\n",
       "      <th>DRIVER_VISION</th>\n",
       "      <th>PHYSICAL_CONDITION</th>\n",
       "      <th>PEDPEDAL_ACTION</th>\n",
       "      <th>PEDPEDAL_VISIBILITY</th>\n",
       "      <th>PEDPEDAL_LOCATION</th>\n",
       "      <th>BAC_RESULT</th>\n",
       "      <th>BAC_RESULT VALUE</th>\n",
       "      <th>CELL_PHONE_USE</th>\n",
       "    </tr>\n",
       "  </thead>\n",
       "  <tbody>\n",
       "    <tr>\n",
       "      <th>0</th>\n",
       "      <td>O749947</td>\n",
       "      <td>DRIVER</td>\n",
       "      <td>81dc0de2ed92aa62baccab641fa377be7feb1cc47e6554...</td>\n",
       "      <td>JC451435</td>\n",
       "      <td>834816.0</td>\n",
       "      <td>09/28/2019 03:30:00 AM</td>\n",
       "      <td>NaN</td>\n",
       "      <td>CHICAGO</td>\n",
       "      <td>IL</td>\n",
       "      <td>60651</td>\n",
       "      <td>...</td>\n",
       "      <td>NaN</td>\n",
       "      <td>UNKNOWN</td>\n",
       "      <td>UNKNOWN</td>\n",
       "      <td>UNKNOWN</td>\n",
       "      <td>NaN</td>\n",
       "      <td>NaN</td>\n",
       "      <td>NaN</td>\n",
       "      <td>TEST NOT OFFERED</td>\n",
       "      <td>NaN</td>\n",
       "      <td>NaN</td>\n",
       "    </tr>\n",
       "    <tr>\n",
       "      <th>1</th>\n",
       "      <td>O871921</td>\n",
       "      <td>DRIVER</td>\n",
       "      <td>af84fb5c8d996fcd3aefd36593c3a02e6e7509eeb27568...</td>\n",
       "      <td>JD208731</td>\n",
       "      <td>827212.0</td>\n",
       "      <td>04/13/2020 10:50:00 PM</td>\n",
       "      <td>NaN</td>\n",
       "      <td>CHICAGO</td>\n",
       "      <td>IL</td>\n",
       "      <td>60620</td>\n",
       "      <td>...</td>\n",
       "      <td>NaN</td>\n",
       "      <td>NONE</td>\n",
       "      <td>NOT OBSCURED</td>\n",
       "      <td>NORMAL</td>\n",
       "      <td>NaN</td>\n",
       "      <td>NaN</td>\n",
       "      <td>NaN</td>\n",
       "      <td>TEST NOT OFFERED</td>\n",
       "      <td>NaN</td>\n",
       "      <td>NaN</td>\n",
       "    </tr>\n",
       "    <tr>\n",
       "      <th>2</th>\n",
       "      <td>O10018</td>\n",
       "      <td>DRIVER</td>\n",
       "      <td>71162af7bf22799b776547132ebf134b5b438dcf3dac6b...</td>\n",
       "      <td>HY484534</td>\n",
       "      <td>9579.0</td>\n",
       "      <td>11/01/2015 05:00:00 AM</td>\n",
       "      <td>NaN</td>\n",
       "      <td>NaN</td>\n",
       "      <td>NaN</td>\n",
       "      <td>NaN</td>\n",
       "      <td>...</td>\n",
       "      <td>NaN</td>\n",
       "      <td>IMPROPER BACKING</td>\n",
       "      <td>UNKNOWN</td>\n",
       "      <td>UNKNOWN</td>\n",
       "      <td>NaN</td>\n",
       "      <td>NaN</td>\n",
       "      <td>NaN</td>\n",
       "      <td>TEST NOT OFFERED</td>\n",
       "      <td>NaN</td>\n",
       "      <td>NaN</td>\n",
       "    </tr>\n",
       "    <tr>\n",
       "      <th>3</th>\n",
       "      <td>O10038</td>\n",
       "      <td>DRIVER</td>\n",
       "      <td>c21c476e2ccc41af550b5d858d22aaac4ffc88745a1700...</td>\n",
       "      <td>HY484750</td>\n",
       "      <td>9598.0</td>\n",
       "      <td>11/01/2015 08:00:00 AM</td>\n",
       "      <td>NaN</td>\n",
       "      <td>NaN</td>\n",
       "      <td>NaN</td>\n",
       "      <td>NaN</td>\n",
       "      <td>...</td>\n",
       "      <td>NaN</td>\n",
       "      <td>UNKNOWN</td>\n",
       "      <td>UNKNOWN</td>\n",
       "      <td>UNKNOWN</td>\n",
       "      <td>NaN</td>\n",
       "      <td>NaN</td>\n",
       "      <td>NaN</td>\n",
       "      <td>TEST NOT OFFERED</td>\n",
       "      <td>NaN</td>\n",
       "      <td>NaN</td>\n",
       "    </tr>\n",
       "    <tr>\n",
       "      <th>4</th>\n",
       "      <td>O10039</td>\n",
       "      <td>DRIVER</td>\n",
       "      <td>eb390a4c8e114c69488f5fb8a097fe629f5a92fd528cf4...</td>\n",
       "      <td>HY484778</td>\n",
       "      <td>9600.0</td>\n",
       "      <td>11/01/2015 10:15:00 AM</td>\n",
       "      <td>NaN</td>\n",
       "      <td>NaN</td>\n",
       "      <td>NaN</td>\n",
       "      <td>NaN</td>\n",
       "      <td>...</td>\n",
       "      <td>NaN</td>\n",
       "      <td>UNKNOWN</td>\n",
       "      <td>UNKNOWN</td>\n",
       "      <td>UNKNOWN</td>\n",
       "      <td>NaN</td>\n",
       "      <td>NaN</td>\n",
       "      <td>NaN</td>\n",
       "      <td>TEST NOT OFFERED</td>\n",
       "      <td>NaN</td>\n",
       "      <td>NaN</td>\n",
       "    </tr>\n",
       "  </tbody>\n",
       "</table>\n",
       "<p>5 rows × 30 columns</p>\n",
       "</div>"
      ],
      "text/plain": [
       "  PERSON_ID PERSON_TYPE                                    CRASH_RECORD_ID  \\\n",
       "0   O749947      DRIVER  81dc0de2ed92aa62baccab641fa377be7feb1cc47e6554...   \n",
       "1   O871921      DRIVER  af84fb5c8d996fcd3aefd36593c3a02e6e7509eeb27568...   \n",
       "2    O10018      DRIVER  71162af7bf22799b776547132ebf134b5b438dcf3dac6b...   \n",
       "3    O10038      DRIVER  c21c476e2ccc41af550b5d858d22aaac4ffc88745a1700...   \n",
       "4    O10039      DRIVER  eb390a4c8e114c69488f5fb8a097fe629f5a92fd528cf4...   \n",
       "\n",
       "      RD_NO  VEHICLE_ID              CRASH_DATE  SEAT_NO     CITY STATE  \\\n",
       "0  JC451435    834816.0  09/28/2019 03:30:00 AM      NaN  CHICAGO    IL   \n",
       "1  JD208731    827212.0  04/13/2020 10:50:00 PM      NaN  CHICAGO    IL   \n",
       "2  HY484534      9579.0  11/01/2015 05:00:00 AM      NaN      NaN   NaN   \n",
       "3  HY484750      9598.0  11/01/2015 08:00:00 AM      NaN      NaN   NaN   \n",
       "4  HY484778      9600.0  11/01/2015 10:15:00 AM      NaN      NaN   NaN   \n",
       "\n",
       "  ZIPCODE  ... EMS_RUN_NO     DRIVER_ACTION DRIVER_VISION PHYSICAL_CONDITION  \\\n",
       "0   60651  ...        NaN           UNKNOWN       UNKNOWN            UNKNOWN   \n",
       "1   60620  ...        NaN              NONE  NOT OBSCURED             NORMAL   \n",
       "2     NaN  ...        NaN  IMPROPER BACKING       UNKNOWN            UNKNOWN   \n",
       "3     NaN  ...        NaN           UNKNOWN       UNKNOWN            UNKNOWN   \n",
       "4     NaN  ...        NaN           UNKNOWN       UNKNOWN            UNKNOWN   \n",
       "\n",
       "  PEDPEDAL_ACTION PEDPEDAL_VISIBILITY PEDPEDAL_LOCATION        BAC_RESULT  \\\n",
       "0             NaN                 NaN               NaN  TEST NOT OFFERED   \n",
       "1             NaN                 NaN               NaN  TEST NOT OFFERED   \n",
       "2             NaN                 NaN               NaN  TEST NOT OFFERED   \n",
       "3             NaN                 NaN               NaN  TEST NOT OFFERED   \n",
       "4             NaN                 NaN               NaN  TEST NOT OFFERED   \n",
       "\n",
       "  BAC_RESULT VALUE CELL_PHONE_USE  \n",
       "0              NaN            NaN  \n",
       "1              NaN            NaN  \n",
       "2              NaN            NaN  \n",
       "3              NaN            NaN  \n",
       "4              NaN            NaN  \n",
       "\n",
       "[5 rows x 30 columns]"
      ]
     },
     "execution_count": 28,
     "metadata": {},
     "output_type": "execute_result"
    }
   ],
   "source": [
    "people = pd.read_csv('../CarCrashData/Traffic_Crashes_People.csv', low_memory = False)\n",
    "people.head()"
   ]
  },
  {
   "cell_type": "code",
   "execution_count": 29,
   "metadata": {},
   "outputs": [
    {
     "data": {
      "text/plain": [
       "(1411302, 30)"
      ]
     },
     "execution_count": 29,
     "metadata": {},
     "output_type": "execute_result"
    }
   ],
   "source": [
    "people.shape"
   ]
  },
  {
   "cell_type": "code",
   "execution_count": 30,
   "metadata": {},
   "outputs": [
    {
     "name": "stdout",
     "output_type": "stream",
     "text": [
      "<class 'pandas.core.frame.DataFrame'>\n",
      "RangeIndex: 1411302 entries, 0 to 1411301\n",
      "Data columns (total 30 columns):\n",
      " #   Column                 Non-Null Count    Dtype  \n",
      "---  ------                 --------------    -----  \n",
      " 0   PERSON_ID              1411302 non-null  object \n",
      " 1   PERSON_TYPE            1411302 non-null  object \n",
      " 2   CRASH_RECORD_ID        1411302 non-null  object \n",
      " 3   RD_NO                  1402786 non-null  object \n",
      " 4   VEHICLE_ID             1383689 non-null  float64\n",
      " 5   CRASH_DATE             1411302 non-null  object \n",
      " 6   SEAT_NO                286695 non-null   float64\n",
      " 7   CITY                   1032365 non-null  object \n",
      " 8   STATE                  1045620 non-null  object \n",
      " 9   ZIPCODE                943216 non-null   object \n",
      " 10  SEX                    1389569 non-null  object \n",
      " 11  AGE                    1002324 non-null  float64\n",
      " 12  DRIVERS_LICENSE_STATE  830404 non-null   object \n",
      " 13  DRIVERS_LICENSE_CLASS  706269 non-null   object \n",
      " 14  SAFETY_EQUIPMENT       1407276 non-null  object \n",
      " 15  AIRBAG_DEPLOYED        1384813 non-null  object \n",
      " 16  EJECTION               1394291 non-null  object \n",
      " 17  INJURY_CLASSIFICATION  1410679 non-null  object \n",
      " 18  HOSPITAL               247011 non-null   object \n",
      " 19  EMS_AGENCY             154288 non-null   object \n",
      " 20  EMS_RUN_NO             25294 non-null    object \n",
      " 21  DRIVER_ACTION          1122032 non-null  object \n",
      " 22  DRIVER_VISION          1121621 non-null  object \n",
      " 23  PHYSICAL_CONDITION     1122820 non-null  object \n",
      " 24  PEDPEDAL_ACTION        26099 non-null    object \n",
      " 25  PEDPEDAL_VISIBILITY    26046 non-null    object \n",
      " 26  PEDPEDAL_LOCATION      26096 non-null    object \n",
      " 27  BAC_RESULT             1123055 non-null  object \n",
      " 28  BAC_RESULT VALUE       1726 non-null     float64\n",
      " 29  CELL_PHONE_USE         1157 non-null     object \n",
      "dtypes: float64(4), object(26)\n",
      "memory usage: 323.0+ MB\n"
     ]
    }
   ],
   "source": [
    "people.info()"
   ]
  },
  {
   "cell_type": "code",
   "execution_count": 31,
   "metadata": {},
   "outputs": [
    {
     "data": {
      "text/html": [
       "<div>\n",
       "<style scoped>\n",
       "    .dataframe tbody tr th:only-of-type {\n",
       "        vertical-align: middle;\n",
       "    }\n",
       "\n",
       "    .dataframe tbody tr th {\n",
       "        vertical-align: top;\n",
       "    }\n",
       "\n",
       "    .dataframe thead th {\n",
       "        text-align: right;\n",
       "    }\n",
       "</style>\n",
       "<table border=\"1\" class=\"dataframe\">\n",
       "  <thead>\n",
       "    <tr style=\"text-align: right;\">\n",
       "      <th></th>\n",
       "      <th>VEHICLE_ID</th>\n",
       "      <th>SEAT_NO</th>\n",
       "      <th>AGE</th>\n",
       "      <th>BAC_RESULT VALUE</th>\n",
       "    </tr>\n",
       "  </thead>\n",
       "  <tbody>\n",
       "    <tr>\n",
       "      <th>count</th>\n",
       "      <td>1.383689e+06</td>\n",
       "      <td>286695.000000</td>\n",
       "      <td>1.002324e+06</td>\n",
       "      <td>1726.000000</td>\n",
       "    </tr>\n",
       "    <tr>\n",
       "      <th>mean</th>\n",
       "      <td>6.615749e+05</td>\n",
       "      <td>4.160526</td>\n",
       "      <td>3.780826e+01</td>\n",
       "      <td>0.168662</td>\n",
       "    </tr>\n",
       "    <tr>\n",
       "      <th>std</th>\n",
       "      <td>3.832647e+05</td>\n",
       "      <td>2.196837</td>\n",
       "      <td>1.710068e+01</td>\n",
       "      <td>0.102762</td>\n",
       "    </tr>\n",
       "    <tr>\n",
       "      <th>min</th>\n",
       "      <td>2.000000e+00</td>\n",
       "      <td>1.000000</td>\n",
       "      <td>-1.770000e+02</td>\n",
       "      <td>0.000000</td>\n",
       "    </tr>\n",
       "    <tr>\n",
       "      <th>25%</th>\n",
       "      <td>3.317300e+05</td>\n",
       "      <td>3.000000</td>\n",
       "      <td>2.500000e+01</td>\n",
       "      <td>0.120000</td>\n",
       "    </tr>\n",
       "    <tr>\n",
       "      <th>50%</th>\n",
       "      <td>6.573470e+05</td>\n",
       "      <td>3.000000</td>\n",
       "      <td>3.500000e+01</td>\n",
       "      <td>0.170000</td>\n",
       "    </tr>\n",
       "    <tr>\n",
       "      <th>75%</th>\n",
       "      <td>9.928570e+05</td>\n",
       "      <td>5.000000</td>\n",
       "      <td>5.000000e+01</td>\n",
       "      <td>0.217500</td>\n",
       "    </tr>\n",
       "    <tr>\n",
       "      <th>max</th>\n",
       "      <td>1.333658e+06</td>\n",
       "      <td>12.000000</td>\n",
       "      <td>1.100000e+02</td>\n",
       "      <td>1.000000</td>\n",
       "    </tr>\n",
       "  </tbody>\n",
       "</table>\n",
       "</div>"
      ],
      "text/plain": [
       "         VEHICLE_ID        SEAT_NO           AGE  BAC_RESULT VALUE\n",
       "count  1.383689e+06  286695.000000  1.002324e+06       1726.000000\n",
       "mean   6.615749e+05       4.160526  3.780826e+01          0.168662\n",
       "std    3.832647e+05       2.196837  1.710068e+01          0.102762\n",
       "min    2.000000e+00       1.000000 -1.770000e+02          0.000000\n",
       "25%    3.317300e+05       3.000000  2.500000e+01          0.120000\n",
       "50%    6.573470e+05       3.000000  3.500000e+01          0.170000\n",
       "75%    9.928570e+05       5.000000  5.000000e+01          0.217500\n",
       "max    1.333658e+06      12.000000  1.100000e+02          1.000000"
      ]
     },
     "execution_count": 31,
     "metadata": {},
     "output_type": "execute_result"
    }
   ],
   "source": [
    "people.describe()"
   ]
  },
  {
   "cell_type": "markdown",
   "metadata": {},
   "source": [
    "### Dropping columns with high null values"
   ]
  },
  {
   "cell_type": "code",
   "execution_count": 32,
   "metadata": {},
   "outputs": [
    {
     "data": {
      "text/html": [
       "<div>\n",
       "<style scoped>\n",
       "    .dataframe tbody tr th:only-of-type {\n",
       "        vertical-align: middle;\n",
       "    }\n",
       "\n",
       "    .dataframe tbody tr th {\n",
       "        vertical-align: top;\n",
       "    }\n",
       "\n",
       "    .dataframe thead th {\n",
       "        text-align: right;\n",
       "    }\n",
       "</style>\n",
       "<table border=\"1\" class=\"dataframe\">\n",
       "  <thead>\n",
       "    <tr style=\"text-align: right;\">\n",
       "      <th></th>\n",
       "      <th>column_name</th>\n",
       "      <th>percent_missing</th>\n",
       "    </tr>\n",
       "  </thead>\n",
       "  <tbody>\n",
       "    <tr>\n",
       "      <th>CELL_PHONE_USE</th>\n",
       "      <td>CELL_PHONE_USE</td>\n",
       "      <td>99.918019</td>\n",
       "    </tr>\n",
       "    <tr>\n",
       "      <th>BAC_RESULT VALUE</th>\n",
       "      <td>BAC_RESULT VALUE</td>\n",
       "      <td>99.877702</td>\n",
       "    </tr>\n",
       "    <tr>\n",
       "      <th>EMS_RUN_NO</th>\n",
       "      <td>EMS_RUN_NO</td>\n",
       "      <td>98.207754</td>\n",
       "    </tr>\n",
       "    <tr>\n",
       "      <th>PEDPEDAL_VISIBILITY</th>\n",
       "      <td>PEDPEDAL_VISIBILITY</td>\n",
       "      <td>98.154470</td>\n",
       "    </tr>\n",
       "    <tr>\n",
       "      <th>PEDPEDAL_LOCATION</th>\n",
       "      <td>PEDPEDAL_LOCATION</td>\n",
       "      <td>98.150927</td>\n",
       "    </tr>\n",
       "    <tr>\n",
       "      <th>PEDPEDAL_ACTION</th>\n",
       "      <td>PEDPEDAL_ACTION</td>\n",
       "      <td>98.150715</td>\n",
       "    </tr>\n",
       "    <tr>\n",
       "      <th>EMS_AGENCY</th>\n",
       "      <td>EMS_AGENCY</td>\n",
       "      <td>89.067684</td>\n",
       "    </tr>\n",
       "    <tr>\n",
       "      <th>HOSPITAL</th>\n",
       "      <td>HOSPITAL</td>\n",
       "      <td>82.497651</td>\n",
       "    </tr>\n",
       "    <tr>\n",
       "      <th>SEAT_NO</th>\n",
       "      <td>SEAT_NO</td>\n",
       "      <td>79.685780</td>\n",
       "    </tr>\n",
       "    <tr>\n",
       "      <th>DRIVERS_LICENSE_CLASS</th>\n",
       "      <td>DRIVERS_LICENSE_CLASS</td>\n",
       "      <td>49.956211</td>\n",
       "    </tr>\n",
       "    <tr>\n",
       "      <th>DRIVERS_LICENSE_STATE</th>\n",
       "      <td>DRIVERS_LICENSE_STATE</td>\n",
       "      <td>41.160432</td>\n",
       "    </tr>\n",
       "    <tr>\n",
       "      <th>ZIPCODE</th>\n",
       "      <td>ZIPCODE</td>\n",
       "      <td>33.166962</td>\n",
       "    </tr>\n",
       "    <tr>\n",
       "      <th>AGE</th>\n",
       "      <td>AGE</td>\n",
       "      <td>28.978773</td>\n",
       "    </tr>\n",
       "    <tr>\n",
       "      <th>CITY</th>\n",
       "      <td>CITY</td>\n",
       "      <td>26.850171</td>\n",
       "    </tr>\n",
       "    <tr>\n",
       "      <th>STATE</th>\n",
       "      <td>STATE</td>\n",
       "      <td>25.910967</td>\n",
       "    </tr>\n",
       "    <tr>\n",
       "      <th>DRIVER_VISION</th>\n",
       "      <td>DRIVER_VISION</td>\n",
       "      <td>20.525798</td>\n",
       "    </tr>\n",
       "    <tr>\n",
       "      <th>DRIVER_ACTION</th>\n",
       "      <td>DRIVER_ACTION</td>\n",
       "      <td>20.496676</td>\n",
       "    </tr>\n",
       "    <tr>\n",
       "      <th>PHYSICAL_CONDITION</th>\n",
       "      <td>PHYSICAL_CONDITION</td>\n",
       "      <td>20.440841</td>\n",
       "    </tr>\n",
       "    <tr>\n",
       "      <th>BAC_RESULT</th>\n",
       "      <td>BAC_RESULT</td>\n",
       "      <td>20.424190</td>\n",
       "    </tr>\n",
       "    <tr>\n",
       "      <th>VEHICLE_ID</th>\n",
       "      <td>VEHICLE_ID</td>\n",
       "      <td>1.956562</td>\n",
       "    </tr>\n",
       "    <tr>\n",
       "      <th>AIRBAG_DEPLOYED</th>\n",
       "      <td>AIRBAG_DEPLOYED</td>\n",
       "      <td>1.876919</td>\n",
       "    </tr>\n",
       "    <tr>\n",
       "      <th>SEX</th>\n",
       "      <td>SEX</td>\n",
       "      <td>1.539926</td>\n",
       "    </tr>\n",
       "    <tr>\n",
       "      <th>EJECTION</th>\n",
       "      <td>EJECTION</td>\n",
       "      <td>1.205341</td>\n",
       "    </tr>\n",
       "    <tr>\n",
       "      <th>RD_NO</th>\n",
       "      <td>RD_NO</td>\n",
       "      <td>0.603414</td>\n",
       "    </tr>\n",
       "    <tr>\n",
       "      <th>SAFETY_EQUIPMENT</th>\n",
       "      <td>SAFETY_EQUIPMENT</td>\n",
       "      <td>0.285268</td>\n",
       "    </tr>\n",
       "    <tr>\n",
       "      <th>INJURY_CLASSIFICATION</th>\n",
       "      <td>INJURY_CLASSIFICATION</td>\n",
       "      <td>0.044144</td>\n",
       "    </tr>\n",
       "    <tr>\n",
       "      <th>PERSON_TYPE</th>\n",
       "      <td>PERSON_TYPE</td>\n",
       "      <td>0.000000</td>\n",
       "    </tr>\n",
       "    <tr>\n",
       "      <th>CRASH_DATE</th>\n",
       "      <td>CRASH_DATE</td>\n",
       "      <td>0.000000</td>\n",
       "    </tr>\n",
       "    <tr>\n",
       "      <th>CRASH_RECORD_ID</th>\n",
       "      <td>CRASH_RECORD_ID</td>\n",
       "      <td>0.000000</td>\n",
       "    </tr>\n",
       "    <tr>\n",
       "      <th>PERSON_ID</th>\n",
       "      <td>PERSON_ID</td>\n",
       "      <td>0.000000</td>\n",
       "    </tr>\n",
       "  </tbody>\n",
       "</table>\n",
       "</div>"
      ],
      "text/plain": [
       "                                 column_name  percent_missing\n",
       "CELL_PHONE_USE                CELL_PHONE_USE        99.918019\n",
       "BAC_RESULT VALUE            BAC_RESULT VALUE        99.877702\n",
       "EMS_RUN_NO                        EMS_RUN_NO        98.207754\n",
       "PEDPEDAL_VISIBILITY      PEDPEDAL_VISIBILITY        98.154470\n",
       "PEDPEDAL_LOCATION          PEDPEDAL_LOCATION        98.150927\n",
       "PEDPEDAL_ACTION              PEDPEDAL_ACTION        98.150715\n",
       "EMS_AGENCY                        EMS_AGENCY        89.067684\n",
       "HOSPITAL                            HOSPITAL        82.497651\n",
       "SEAT_NO                              SEAT_NO        79.685780\n",
       "DRIVERS_LICENSE_CLASS  DRIVERS_LICENSE_CLASS        49.956211\n",
       "DRIVERS_LICENSE_STATE  DRIVERS_LICENSE_STATE        41.160432\n",
       "ZIPCODE                              ZIPCODE        33.166962\n",
       "AGE                                      AGE        28.978773\n",
       "CITY                                    CITY        26.850171\n",
       "STATE                                  STATE        25.910967\n",
       "DRIVER_VISION                  DRIVER_VISION        20.525798\n",
       "DRIVER_ACTION                  DRIVER_ACTION        20.496676\n",
       "PHYSICAL_CONDITION        PHYSICAL_CONDITION        20.440841\n",
       "BAC_RESULT                        BAC_RESULT        20.424190\n",
       "VEHICLE_ID                        VEHICLE_ID         1.956562\n",
       "AIRBAG_DEPLOYED              AIRBAG_DEPLOYED         1.876919\n",
       "SEX                                      SEX         1.539926\n",
       "EJECTION                            EJECTION         1.205341\n",
       "RD_NO                                  RD_NO         0.603414\n",
       "SAFETY_EQUIPMENT            SAFETY_EQUIPMENT         0.285268\n",
       "INJURY_CLASSIFICATION  INJURY_CLASSIFICATION         0.044144\n",
       "PERSON_TYPE                      PERSON_TYPE         0.000000\n",
       "CRASH_DATE                        CRASH_DATE         0.000000\n",
       "CRASH_RECORD_ID              CRASH_RECORD_ID         0.000000\n",
       "PERSON_ID                          PERSON_ID         0.000000"
      ]
     },
     "execution_count": 32,
     "metadata": {},
     "output_type": "execute_result"
    }
   ],
   "source": [
    "percent_missing3 = people.isnull().sum() * 100 / len(people)\n",
    "people_null_values = pd.DataFrame({'column_name': people.columns,'percent_missing': percent_missing3})\n",
    "people_null_values.sort_values(by='percent_missing', ascending=False)"
   ]
  },
  {
   "cell_type": "code",
   "execution_count": 33,
   "metadata": {},
   "outputs": [],
   "source": [
    "people.drop(columns = ['CELL_PHONE_USE', 'BAC_RESULT VALUE','EMS_RUN_NO',\n",
    "                      'PEDPEDAL_VISIBILITY', 'PEDPEDAL_LOCATION', 'PEDPEDAL_ACTION',\n",
    "                      'EMS_AGENCY', 'HOSPITAL', 'SEAT_NO'],\n",
    "             inplace=True)"
   ]
  },
  {
   "cell_type": "code",
   "execution_count": 34,
   "metadata": {},
   "outputs": [
    {
     "data": {
      "text/html": [
       "<div>\n",
       "<style scoped>\n",
       "    .dataframe tbody tr th:only-of-type {\n",
       "        vertical-align: middle;\n",
       "    }\n",
       "\n",
       "    .dataframe tbody tr th {\n",
       "        vertical-align: top;\n",
       "    }\n",
       "\n",
       "    .dataframe thead th {\n",
       "        text-align: right;\n",
       "    }\n",
       "</style>\n",
       "<table border=\"1\" class=\"dataframe\">\n",
       "  <thead>\n",
       "    <tr style=\"text-align: right;\">\n",
       "      <th></th>\n",
       "      <th>PERSON_ID</th>\n",
       "      <th>PERSON_TYPE</th>\n",
       "      <th>CRASH_RECORD_ID</th>\n",
       "      <th>RD_NO</th>\n",
       "      <th>VEHICLE_ID</th>\n",
       "      <th>CRASH_DATE</th>\n",
       "      <th>CITY</th>\n",
       "      <th>STATE</th>\n",
       "      <th>ZIPCODE</th>\n",
       "      <th>SEX</th>\n",
       "      <th>...</th>\n",
       "      <th>DRIVERS_LICENSE_STATE</th>\n",
       "      <th>DRIVERS_LICENSE_CLASS</th>\n",
       "      <th>SAFETY_EQUIPMENT</th>\n",
       "      <th>AIRBAG_DEPLOYED</th>\n",
       "      <th>EJECTION</th>\n",
       "      <th>INJURY_CLASSIFICATION</th>\n",
       "      <th>DRIVER_ACTION</th>\n",
       "      <th>DRIVER_VISION</th>\n",
       "      <th>PHYSICAL_CONDITION</th>\n",
       "      <th>BAC_RESULT</th>\n",
       "    </tr>\n",
       "  </thead>\n",
       "  <tbody>\n",
       "    <tr>\n",
       "      <th>0</th>\n",
       "      <td>O749947</td>\n",
       "      <td>DRIVER</td>\n",
       "      <td>81dc0de2ed92aa62baccab641fa377be7feb1cc47e6554...</td>\n",
       "      <td>JC451435</td>\n",
       "      <td>834816.0</td>\n",
       "      <td>09/28/2019 03:30:00 AM</td>\n",
       "      <td>CHICAGO</td>\n",
       "      <td>IL</td>\n",
       "      <td>60651</td>\n",
       "      <td>M</td>\n",
       "      <td>...</td>\n",
       "      <td>IL</td>\n",
       "      <td>D</td>\n",
       "      <td>NONE PRESENT</td>\n",
       "      <td>DEPLOYMENT UNKNOWN</td>\n",
       "      <td>NONE</td>\n",
       "      <td>NO INDICATION OF INJURY</td>\n",
       "      <td>UNKNOWN</td>\n",
       "      <td>UNKNOWN</td>\n",
       "      <td>UNKNOWN</td>\n",
       "      <td>TEST NOT OFFERED</td>\n",
       "    </tr>\n",
       "    <tr>\n",
       "      <th>1</th>\n",
       "      <td>O871921</td>\n",
       "      <td>DRIVER</td>\n",
       "      <td>af84fb5c8d996fcd3aefd36593c3a02e6e7509eeb27568...</td>\n",
       "      <td>JD208731</td>\n",
       "      <td>827212.0</td>\n",
       "      <td>04/13/2020 10:50:00 PM</td>\n",
       "      <td>CHICAGO</td>\n",
       "      <td>IL</td>\n",
       "      <td>60620</td>\n",
       "      <td>M</td>\n",
       "      <td>...</td>\n",
       "      <td>IL</td>\n",
       "      <td>NaN</td>\n",
       "      <td>SAFETY BELT USED</td>\n",
       "      <td>DID NOT DEPLOY</td>\n",
       "      <td>NONE</td>\n",
       "      <td>NO INDICATION OF INJURY</td>\n",
       "      <td>NONE</td>\n",
       "      <td>NOT OBSCURED</td>\n",
       "      <td>NORMAL</td>\n",
       "      <td>TEST NOT OFFERED</td>\n",
       "    </tr>\n",
       "    <tr>\n",
       "      <th>2</th>\n",
       "      <td>O10018</td>\n",
       "      <td>DRIVER</td>\n",
       "      <td>71162af7bf22799b776547132ebf134b5b438dcf3dac6b...</td>\n",
       "      <td>HY484534</td>\n",
       "      <td>9579.0</td>\n",
       "      <td>11/01/2015 05:00:00 AM</td>\n",
       "      <td>NaN</td>\n",
       "      <td>NaN</td>\n",
       "      <td>NaN</td>\n",
       "      <td>X</td>\n",
       "      <td>...</td>\n",
       "      <td>NaN</td>\n",
       "      <td>NaN</td>\n",
       "      <td>USAGE UNKNOWN</td>\n",
       "      <td>DEPLOYMENT UNKNOWN</td>\n",
       "      <td>NONE</td>\n",
       "      <td>NO INDICATION OF INJURY</td>\n",
       "      <td>IMPROPER BACKING</td>\n",
       "      <td>UNKNOWN</td>\n",
       "      <td>UNKNOWN</td>\n",
       "      <td>TEST NOT OFFERED</td>\n",
       "    </tr>\n",
       "    <tr>\n",
       "      <th>3</th>\n",
       "      <td>O10038</td>\n",
       "      <td>DRIVER</td>\n",
       "      <td>c21c476e2ccc41af550b5d858d22aaac4ffc88745a1700...</td>\n",
       "      <td>HY484750</td>\n",
       "      <td>9598.0</td>\n",
       "      <td>11/01/2015 08:00:00 AM</td>\n",
       "      <td>NaN</td>\n",
       "      <td>NaN</td>\n",
       "      <td>NaN</td>\n",
       "      <td>X</td>\n",
       "      <td>...</td>\n",
       "      <td>NaN</td>\n",
       "      <td>NaN</td>\n",
       "      <td>USAGE UNKNOWN</td>\n",
       "      <td>DEPLOYMENT UNKNOWN</td>\n",
       "      <td>UNKNOWN</td>\n",
       "      <td>NO INDICATION OF INJURY</td>\n",
       "      <td>UNKNOWN</td>\n",
       "      <td>UNKNOWN</td>\n",
       "      <td>UNKNOWN</td>\n",
       "      <td>TEST NOT OFFERED</td>\n",
       "    </tr>\n",
       "    <tr>\n",
       "      <th>4</th>\n",
       "      <td>O10039</td>\n",
       "      <td>DRIVER</td>\n",
       "      <td>eb390a4c8e114c69488f5fb8a097fe629f5a92fd528cf4...</td>\n",
       "      <td>HY484778</td>\n",
       "      <td>9600.0</td>\n",
       "      <td>11/01/2015 10:15:00 AM</td>\n",
       "      <td>NaN</td>\n",
       "      <td>NaN</td>\n",
       "      <td>NaN</td>\n",
       "      <td>X</td>\n",
       "      <td>...</td>\n",
       "      <td>NaN</td>\n",
       "      <td>NaN</td>\n",
       "      <td>USAGE UNKNOWN</td>\n",
       "      <td>DEPLOYMENT UNKNOWN</td>\n",
       "      <td>UNKNOWN</td>\n",
       "      <td>NO INDICATION OF INJURY</td>\n",
       "      <td>UNKNOWN</td>\n",
       "      <td>UNKNOWN</td>\n",
       "      <td>UNKNOWN</td>\n",
       "      <td>TEST NOT OFFERED</td>\n",
       "    </tr>\n",
       "  </tbody>\n",
       "</table>\n",
       "<p>5 rows × 21 columns</p>\n",
       "</div>"
      ],
      "text/plain": [
       "  PERSON_ID PERSON_TYPE                                    CRASH_RECORD_ID  \\\n",
       "0   O749947      DRIVER  81dc0de2ed92aa62baccab641fa377be7feb1cc47e6554...   \n",
       "1   O871921      DRIVER  af84fb5c8d996fcd3aefd36593c3a02e6e7509eeb27568...   \n",
       "2    O10018      DRIVER  71162af7bf22799b776547132ebf134b5b438dcf3dac6b...   \n",
       "3    O10038      DRIVER  c21c476e2ccc41af550b5d858d22aaac4ffc88745a1700...   \n",
       "4    O10039      DRIVER  eb390a4c8e114c69488f5fb8a097fe629f5a92fd528cf4...   \n",
       "\n",
       "      RD_NO  VEHICLE_ID              CRASH_DATE     CITY STATE ZIPCODE SEX  \\\n",
       "0  JC451435    834816.0  09/28/2019 03:30:00 AM  CHICAGO    IL   60651   M   \n",
       "1  JD208731    827212.0  04/13/2020 10:50:00 PM  CHICAGO    IL   60620   M   \n",
       "2  HY484534      9579.0  11/01/2015 05:00:00 AM      NaN   NaN     NaN   X   \n",
       "3  HY484750      9598.0  11/01/2015 08:00:00 AM      NaN   NaN     NaN   X   \n",
       "4  HY484778      9600.0  11/01/2015 10:15:00 AM      NaN   NaN     NaN   X   \n",
       "\n",
       "   ...  DRIVERS_LICENSE_STATE DRIVERS_LICENSE_CLASS  SAFETY_EQUIPMENT  \\\n",
       "0  ...                     IL                     D      NONE PRESENT   \n",
       "1  ...                     IL                   NaN  SAFETY BELT USED   \n",
       "2  ...                    NaN                   NaN     USAGE UNKNOWN   \n",
       "3  ...                    NaN                   NaN     USAGE UNKNOWN   \n",
       "4  ...                    NaN                   NaN     USAGE UNKNOWN   \n",
       "\n",
       "      AIRBAG_DEPLOYED EJECTION    INJURY_CLASSIFICATION     DRIVER_ACTION  \\\n",
       "0  DEPLOYMENT UNKNOWN     NONE  NO INDICATION OF INJURY           UNKNOWN   \n",
       "1      DID NOT DEPLOY     NONE  NO INDICATION OF INJURY              NONE   \n",
       "2  DEPLOYMENT UNKNOWN     NONE  NO INDICATION OF INJURY  IMPROPER BACKING   \n",
       "3  DEPLOYMENT UNKNOWN  UNKNOWN  NO INDICATION OF INJURY           UNKNOWN   \n",
       "4  DEPLOYMENT UNKNOWN  UNKNOWN  NO INDICATION OF INJURY           UNKNOWN   \n",
       "\n",
       "  DRIVER_VISION PHYSICAL_CONDITION        BAC_RESULT  \n",
       "0       UNKNOWN            UNKNOWN  TEST NOT OFFERED  \n",
       "1  NOT OBSCURED             NORMAL  TEST NOT OFFERED  \n",
       "2       UNKNOWN            UNKNOWN  TEST NOT OFFERED  \n",
       "3       UNKNOWN            UNKNOWN  TEST NOT OFFERED  \n",
       "4       UNKNOWN            UNKNOWN  TEST NOT OFFERED  \n",
       "\n",
       "[5 rows x 21 columns]"
      ]
     },
     "execution_count": 34,
     "metadata": {},
     "output_type": "execute_result"
    }
   ],
   "source": [
    "people.head()"
   ]
  },
  {
   "cell_type": "code",
   "execution_count": 35,
   "metadata": {},
   "outputs": [],
   "source": [
    "# all dropped columns were missing more than 70% of data"
   ]
  },
  {
   "cell_type": "markdown",
   "metadata": {},
   "source": [
    "### Dropping Irrelevant Columns"
   ]
  },
  {
   "cell_type": "code",
   "execution_count": 36,
   "metadata": {},
   "outputs": [
    {
     "name": "stdout",
     "output_type": "stream",
     "text": [
      "<class 'pandas.core.frame.DataFrame'>\n",
      "RangeIndex: 1411302 entries, 0 to 1411301\n",
      "Data columns (total 21 columns):\n",
      " #   Column                 Non-Null Count    Dtype  \n",
      "---  ------                 --------------    -----  \n",
      " 0   PERSON_ID              1411302 non-null  object \n",
      " 1   PERSON_TYPE            1411302 non-null  object \n",
      " 2   CRASH_RECORD_ID        1411302 non-null  object \n",
      " 3   RD_NO                  1402786 non-null  object \n",
      " 4   VEHICLE_ID             1383689 non-null  float64\n",
      " 5   CRASH_DATE             1411302 non-null  object \n",
      " 6   CITY                   1032365 non-null  object \n",
      " 7   STATE                  1045620 non-null  object \n",
      " 8   ZIPCODE                943216 non-null   object \n",
      " 9   SEX                    1389569 non-null  object \n",
      " 10  AGE                    1002324 non-null  float64\n",
      " 11  DRIVERS_LICENSE_STATE  830404 non-null   object \n",
      " 12  DRIVERS_LICENSE_CLASS  706269 non-null   object \n",
      " 13  SAFETY_EQUIPMENT       1407276 non-null  object \n",
      " 14  AIRBAG_DEPLOYED        1384813 non-null  object \n",
      " 15  EJECTION               1394291 non-null  object \n",
      " 16  INJURY_CLASSIFICATION  1410679 non-null  object \n",
      " 17  DRIVER_ACTION          1122032 non-null  object \n",
      " 18  DRIVER_VISION          1121621 non-null  object \n",
      " 19  PHYSICAL_CONDITION     1122820 non-null  object \n",
      " 20  BAC_RESULT             1123055 non-null  object \n",
      "dtypes: float64(2), object(19)\n",
      "memory usage: 226.1+ MB\n"
     ]
    }
   ],
   "source": [
    "people.info()"
   ]
  },
  {
   "cell_type": "code",
   "execution_count": 37,
   "metadata": {},
   "outputs": [],
   "source": [
    "people_rc = [\n",
    "    'PERSON_ID',\n",
    "    'PERSON_TYPE',\n",
    "    'CRASH_RECORD_ID',\n",
    "    'VEHICLE_ID',\n",
    "    'CRASH_DATE',\n",
    "    'CITY',\n",
    "    'STATE',\n",
    "    'ZIPCODE',\n",
    "    'SEX',\n",
    "    'AGE',\n",
    "    'DRIVERS_LICENSE_STATE',\n",
    "    'DRIVERS_LICENSE_CLASS',\n",
    "    'SAFETY_EQUIPMENT',\n",
    "    'AIRBAG_DEPLOYED',\n",
    "    'INJURY_CLASSIFICATION',\n",
    "    'DRIVER_ACTION',\n",
    "    'DRIVER_VISION',\n",
    "    'PHYSICAL_CONDITION',\n",
    "]\n",
    "\n",
    "people = people[people_rc]"
   ]
  },
  {
   "cell_type": "markdown",
   "metadata": {},
   "source": [
    "***"
   ]
  },
  {
   "cell_type": "markdown",
   "metadata": {},
   "source": [
    "##  Combining the Data"
   ]
  },
  {
   "cell_type": "markdown",
   "metadata": {},
   "source": [
    "As stated by the City of Chicago's website, the three datasets should be used in conjunction with one another. Therefore I will need to merge them into one data frame. **Crash Record ID** is a consistent identifier for each table and will be merged on this column.\n",
    "- **Crash Record ID:** This number can be used to link to the same crash in the Crashes and Vehicles datasets. This number also serves as a unique ID in the Crashes dataset.\n",
    " "
   ]
  },
  {
   "cell_type": "code",
   "execution_count": 38,
   "metadata": {},
   "outputs": [],
   "source": [
    "merged1 = pd.merge(left=crashes, right=vehicles, on='CRASH_RECORD_ID')"
   ]
  },
  {
   "cell_type": "code",
   "execution_count": 39,
   "metadata": {
    "scrolled": true
   },
   "outputs": [
    {
     "data": {
      "text/html": [
       "<div>\n",
       "<style scoped>\n",
       "    .dataframe tbody tr th:only-of-type {\n",
       "        vertical-align: middle;\n",
       "    }\n",
       "\n",
       "    .dataframe tbody tr th {\n",
       "        vertical-align: top;\n",
       "    }\n",
       "\n",
       "    .dataframe thead th {\n",
       "        text-align: right;\n",
       "    }\n",
       "</style>\n",
       "<table border=\"1\" class=\"dataframe\">\n",
       "  <thead>\n",
       "    <tr style=\"text-align: right;\">\n",
       "      <th></th>\n",
       "      <th>CRASH_RECORD_ID</th>\n",
       "      <th>CRASH_DATE_x</th>\n",
       "      <th>POSTED_SPEED_LIMIT</th>\n",
       "      <th>DEVICE_CONDITION</th>\n",
       "      <th>WEATHER_CONDITION</th>\n",
       "      <th>LIGHTING_CONDITION</th>\n",
       "      <th>FIRST_CRASH_TYPE</th>\n",
       "      <th>TRAFFICWAY_TYPE</th>\n",
       "      <th>ALIGNMENT</th>\n",
       "      <th>ROADWAY_SURFACE_COND</th>\n",
       "      <th>...</th>\n",
       "      <th>MAKE</th>\n",
       "      <th>MODEL</th>\n",
       "      <th>LIC_PLATE_STATE</th>\n",
       "      <th>VEHICLE_YEAR</th>\n",
       "      <th>VEHICLE_DEFECT</th>\n",
       "      <th>VEHICLE_TYPE</th>\n",
       "      <th>VEHICLE_USE</th>\n",
       "      <th>TRAVEL_DIRECTION</th>\n",
       "      <th>MANEUVER</th>\n",
       "      <th>OCCUPANT_CNT</th>\n",
       "    </tr>\n",
       "  </thead>\n",
       "  <tbody>\n",
       "    <tr>\n",
       "      <th>0</th>\n",
       "      <td>0115ade9a755e835255508463f7e9c4a9a0b47e9304238...</td>\n",
       "      <td>07/15/2022 12:45:00 AM</td>\n",
       "      <td>30</td>\n",
       "      <td>UNKNOWN</td>\n",
       "      <td>CLEAR</td>\n",
       "      <td>DARKNESS, LIGHTED ROAD</td>\n",
       "      <td>ANGLE</td>\n",
       "      <td>NOT DIVIDED</td>\n",
       "      <td>STRAIGHT AND LEVEL</td>\n",
       "      <td>DRY</td>\n",
       "      <td>...</td>\n",
       "      <td>HYUNDAI</td>\n",
       "      <td>OTHER (EXPLAIN IN NARRATIVE)</td>\n",
       "      <td>NaN</td>\n",
       "      <td>NaN</td>\n",
       "      <td>UNKNOWN</td>\n",
       "      <td>UNKNOWN/NA</td>\n",
       "      <td>UNKNOWN/NA</td>\n",
       "      <td>W</td>\n",
       "      <td>UNKNOWN/NA</td>\n",
       "      <td>1.0</td>\n",
       "    </tr>\n",
       "    <tr>\n",
       "      <th>1</th>\n",
       "      <td>0115ade9a755e835255508463f7e9c4a9a0b47e9304238...</td>\n",
       "      <td>07/15/2022 12:45:00 AM</td>\n",
       "      <td>30</td>\n",
       "      <td>UNKNOWN</td>\n",
       "      <td>CLEAR</td>\n",
       "      <td>DARKNESS, LIGHTED ROAD</td>\n",
       "      <td>ANGLE</td>\n",
       "      <td>NOT DIVIDED</td>\n",
       "      <td>STRAIGHT AND LEVEL</td>\n",
       "      <td>DRY</td>\n",
       "      <td>...</td>\n",
       "      <td>GENERAL MOTORS CORPORATION (GMC)</td>\n",
       "      <td>OTHER (EXPLAIN IN NARRATIVE)</td>\n",
       "      <td>IL</td>\n",
       "      <td>2015.0</td>\n",
       "      <td>UNKNOWN</td>\n",
       "      <td>UNKNOWN/NA</td>\n",
       "      <td>UNKNOWN/NA</td>\n",
       "      <td>N</td>\n",
       "      <td>STRAIGHT AHEAD</td>\n",
       "      <td>1.0</td>\n",
       "    </tr>\n",
       "    <tr>\n",
       "      <th>2</th>\n",
       "      <td>017040c61958d2fa977c956b2bd2d6759ef7754496dc96...</td>\n",
       "      <td>07/15/2022 06:50:00 PM</td>\n",
       "      <td>30</td>\n",
       "      <td>FUNCTIONING PROPERLY</td>\n",
       "      <td>CLEAR</td>\n",
       "      <td>DAYLIGHT</td>\n",
       "      <td>REAR END</td>\n",
       "      <td>NOT DIVIDED</td>\n",
       "      <td>STRAIGHT AND LEVEL</td>\n",
       "      <td>DRY</td>\n",
       "      <td>...</td>\n",
       "      <td>DODGE</td>\n",
       "      <td>JOURNEY</td>\n",
       "      <td>IL</td>\n",
       "      <td>2017.0</td>\n",
       "      <td>NONE</td>\n",
       "      <td>PASSENGER</td>\n",
       "      <td>PERSONAL</td>\n",
       "      <td>S</td>\n",
       "      <td>SLOW/STOP IN TRAFFIC</td>\n",
       "      <td>1.0</td>\n",
       "    </tr>\n",
       "    <tr>\n",
       "      <th>3</th>\n",
       "      <td>017040c61958d2fa977c956b2bd2d6759ef7754496dc96...</td>\n",
       "      <td>07/15/2022 06:50:00 PM</td>\n",
       "      <td>30</td>\n",
       "      <td>FUNCTIONING PROPERLY</td>\n",
       "      <td>CLEAR</td>\n",
       "      <td>DAYLIGHT</td>\n",
       "      <td>REAR END</td>\n",
       "      <td>NOT DIVIDED</td>\n",
       "      <td>STRAIGHT AND LEVEL</td>\n",
       "      <td>DRY</td>\n",
       "      <td>...</td>\n",
       "      <td>HONDA</td>\n",
       "      <td>HR-V</td>\n",
       "      <td>IL</td>\n",
       "      <td>2019.0</td>\n",
       "      <td>UNKNOWN</td>\n",
       "      <td>PASSENGER</td>\n",
       "      <td>PERSONAL</td>\n",
       "      <td>S</td>\n",
       "      <td>SLOW/STOP IN TRAFFIC</td>\n",
       "      <td>1.0</td>\n",
       "    </tr>\n",
       "    <tr>\n",
       "      <th>4</th>\n",
       "      <td>01aaa759c6bbefd0f584226fbd88bdc549de3ed1e46255...</td>\n",
       "      <td>07/15/2022 05:10:00 PM</td>\n",
       "      <td>40</td>\n",
       "      <td>NO CONTROLS</td>\n",
       "      <td>CLOUDY/OVERCAST</td>\n",
       "      <td>DAYLIGHT</td>\n",
       "      <td>ANGLE</td>\n",
       "      <td>DIVIDED - W/MEDIAN BARRIER</td>\n",
       "      <td>STRAIGHT AND LEVEL</td>\n",
       "      <td>DRY</td>\n",
       "      <td>...</td>\n",
       "      <td>HONDA</td>\n",
       "      <td>CIVIC</td>\n",
       "      <td>PA</td>\n",
       "      <td>2008.0</td>\n",
       "      <td>NONE</td>\n",
       "      <td>PASSENGER</td>\n",
       "      <td>PERSONAL</td>\n",
       "      <td>NE</td>\n",
       "      <td>CHANGING LANES</td>\n",
       "      <td>1.0</td>\n",
       "    </tr>\n",
       "  </tbody>\n",
       "</table>\n",
       "<p>5 rows × 35 columns</p>\n",
       "</div>"
      ],
      "text/plain": [
       "                                     CRASH_RECORD_ID            CRASH_DATE_x  \\\n",
       "0  0115ade9a755e835255508463f7e9c4a9a0b47e9304238...  07/15/2022 12:45:00 AM   \n",
       "1  0115ade9a755e835255508463f7e9c4a9a0b47e9304238...  07/15/2022 12:45:00 AM   \n",
       "2  017040c61958d2fa977c956b2bd2d6759ef7754496dc96...  07/15/2022 06:50:00 PM   \n",
       "3  017040c61958d2fa977c956b2bd2d6759ef7754496dc96...  07/15/2022 06:50:00 PM   \n",
       "4  01aaa759c6bbefd0f584226fbd88bdc549de3ed1e46255...  07/15/2022 05:10:00 PM   \n",
       "\n",
       "   POSTED_SPEED_LIMIT      DEVICE_CONDITION WEATHER_CONDITION  \\\n",
       "0                  30               UNKNOWN             CLEAR   \n",
       "1                  30               UNKNOWN             CLEAR   \n",
       "2                  30  FUNCTIONING PROPERLY             CLEAR   \n",
       "3                  30  FUNCTIONING PROPERLY             CLEAR   \n",
       "4                  40           NO CONTROLS   CLOUDY/OVERCAST   \n",
       "\n",
       "       LIGHTING_CONDITION FIRST_CRASH_TYPE             TRAFFICWAY_TYPE  \\\n",
       "0  DARKNESS, LIGHTED ROAD            ANGLE                 NOT DIVIDED   \n",
       "1  DARKNESS, LIGHTED ROAD            ANGLE                 NOT DIVIDED   \n",
       "2                DAYLIGHT         REAR END                 NOT DIVIDED   \n",
       "3                DAYLIGHT         REAR END                 NOT DIVIDED   \n",
       "4                DAYLIGHT            ANGLE  DIVIDED - W/MEDIAN BARRIER   \n",
       "\n",
       "            ALIGNMENT ROADWAY_SURFACE_COND  ...  \\\n",
       "0  STRAIGHT AND LEVEL                  DRY  ...   \n",
       "1  STRAIGHT AND LEVEL                  DRY  ...   \n",
       "2  STRAIGHT AND LEVEL                  DRY  ...   \n",
       "3  STRAIGHT AND LEVEL                  DRY  ...   \n",
       "4  STRAIGHT AND LEVEL                  DRY  ...   \n",
       "\n",
       "                               MAKE                         MODEL  \\\n",
       "0                           HYUNDAI  OTHER (EXPLAIN IN NARRATIVE)   \n",
       "1  GENERAL MOTORS CORPORATION (GMC)  OTHER (EXPLAIN IN NARRATIVE)   \n",
       "2                             DODGE                       JOURNEY   \n",
       "3                             HONDA                          HR-V   \n",
       "4                             HONDA                         CIVIC   \n",
       "\n",
       "  LIC_PLATE_STATE  VEHICLE_YEAR  VEHICLE_DEFECT  VEHICLE_TYPE  VEHICLE_USE  \\\n",
       "0             NaN           NaN         UNKNOWN    UNKNOWN/NA   UNKNOWN/NA   \n",
       "1              IL        2015.0         UNKNOWN    UNKNOWN/NA   UNKNOWN/NA   \n",
       "2              IL        2017.0            NONE     PASSENGER     PERSONAL   \n",
       "3              IL        2019.0         UNKNOWN     PASSENGER     PERSONAL   \n",
       "4              PA        2008.0            NONE     PASSENGER     PERSONAL   \n",
       "\n",
       "   TRAVEL_DIRECTION              MANEUVER  OCCUPANT_CNT  \n",
       "0                 W            UNKNOWN/NA           1.0  \n",
       "1                 N        STRAIGHT AHEAD           1.0  \n",
       "2                 S  SLOW/STOP IN TRAFFIC           1.0  \n",
       "3                 S  SLOW/STOP IN TRAFFIC           1.0  \n",
       "4                NE        CHANGING LANES           1.0  \n",
       "\n",
       "[5 rows x 35 columns]"
      ]
     },
     "execution_count": 39,
     "metadata": {},
     "output_type": "execute_result"
    }
   ],
   "source": [
    "merged1.head()"
   ]
  },
  {
   "cell_type": "code",
   "execution_count": 40,
   "metadata": {},
   "outputs": [
    {
     "data": {
      "text/plain": [
       "(1310508, 35)"
      ]
     },
     "execution_count": 40,
     "metadata": {},
     "output_type": "execute_result"
    }
   ],
   "source": [
    "merged1.shape"
   ]
  },
  {
   "cell_type": "markdown",
   "metadata": {},
   "source": [
    "### merging with people"
   ]
  },
  {
   "cell_type": "code",
   "execution_count": 41,
   "metadata": {},
   "outputs": [],
   "source": [
    "merged2 = pd.merge(left=merged1, right=people, on='CRASH_RECORD_ID')"
   ]
  },
  {
   "cell_type": "code",
   "execution_count": 42,
   "metadata": {},
   "outputs": [
    {
     "data": {
      "text/plain": [
       "(2958845, 52)"
      ]
     },
     "execution_count": 42,
     "metadata": {},
     "output_type": "execute_result"
    }
   ],
   "source": [
    "merged2.shape"
   ]
  },
  {
   "cell_type": "code",
   "execution_count": 43,
   "metadata": {
    "scrolled": true
   },
   "outputs": [
    {
     "name": "stdout",
     "output_type": "stream",
     "text": [
      "<class 'pandas.core.frame.DataFrame'>\n",
      "Int64Index: 2958845 entries, 0 to 2958844\n",
      "Data columns (total 52 columns):\n",
      " #   Column                   Dtype  \n",
      "---  ------                   -----  \n",
      " 0   CRASH_RECORD_ID          object \n",
      " 1   CRASH_DATE_x             object \n",
      " 2   POSTED_SPEED_LIMIT       int64  \n",
      " 3   DEVICE_CONDITION         object \n",
      " 4   WEATHER_CONDITION        object \n",
      " 5   LIGHTING_CONDITION       object \n",
      " 6   FIRST_CRASH_TYPE         object \n",
      " 7   TRAFFICWAY_TYPE          object \n",
      " 8   ALIGNMENT                object \n",
      " 9   ROADWAY_SURFACE_COND     object \n",
      " 10  ROAD_DEFECT              object \n",
      " 11  PRIM_CONTRIBUTORY_CAUSE  object \n",
      " 12  SEC_CONTRIBUTORY_CAUSE   object \n",
      " 13  INJURIES_TOTAL           float64\n",
      " 14  INJURIES_FATAL           float64\n",
      " 15  CRASH_HOUR               int64  \n",
      " 16  CRASH_DAY_OF_WEEK        int64  \n",
      " 17  CRASH_MONTH              int64  \n",
      " 18  LATITUDE                 float64\n",
      " 19  LONGITUDE                float64\n",
      " 20  CRASH_UNIT_ID            int64  \n",
      " 21  CRASH_DATE_y             object \n",
      " 22  UNIT_NO                  int64  \n",
      " 23  UNIT_TYPE                object \n",
      " 24  VEHICLE_ID_x             float64\n",
      " 25  MAKE                     object \n",
      " 26  MODEL                    object \n",
      " 27  LIC_PLATE_STATE          object \n",
      " 28  VEHICLE_YEAR             float64\n",
      " 29  VEHICLE_DEFECT           object \n",
      " 30  VEHICLE_TYPE             object \n",
      " 31  VEHICLE_USE              object \n",
      " 32  TRAVEL_DIRECTION         object \n",
      " 33  MANEUVER                 object \n",
      " 34  OCCUPANT_CNT             float64\n",
      " 35  PERSON_ID                object \n",
      " 36  PERSON_TYPE              object \n",
      " 37  VEHICLE_ID_y             float64\n",
      " 38  CRASH_DATE               object \n",
      " 39  CITY                     object \n",
      " 40  STATE                    object \n",
      " 41  ZIPCODE                  object \n",
      " 42  SEX                      object \n",
      " 43  AGE                      float64\n",
      " 44  DRIVERS_LICENSE_STATE    object \n",
      " 45  DRIVERS_LICENSE_CLASS    object \n",
      " 46  SAFETY_EQUIPMENT         object \n",
      " 47  AIRBAG_DEPLOYED          object \n",
      " 48  INJURY_CLASSIFICATION    object \n",
      " 49  DRIVER_ACTION            object \n",
      " 50  DRIVER_VISION            object \n",
      " 51  PHYSICAL_CONDITION       object \n",
      "dtypes: float64(9), int64(6), object(37)\n",
      "memory usage: 1.2+ GB\n"
     ]
    }
   ],
   "source": [
    "merged2.info()"
   ]
  },
  {
   "cell_type": "code",
   "execution_count": 44,
   "metadata": {},
   "outputs": [],
   "source": [
    "# dropping duplicate columns"
   ]
  },
  {
   "cell_type": "code",
   "execution_count": 45,
   "metadata": {},
   "outputs": [],
   "source": [
    "merged2.drop(columns=['CRASH_DATE_y','VEHICLE_ID_y'], inplace=True)"
   ]
  },
  {
   "cell_type": "code",
   "execution_count": 46,
   "metadata": {},
   "outputs": [],
   "source": [
    "merged2.drop(columns=['CRASH_DATE'], inplace=True)"
   ]
  },
  {
   "cell_type": "code",
   "execution_count": 47,
   "metadata": {
    "scrolled": true
   },
   "outputs": [
    {
     "data": {
      "text/plain": [
       "(2958845, 49)"
      ]
     },
     "execution_count": 47,
     "metadata": {},
     "output_type": "execute_result"
    }
   ],
   "source": [
    "merged2.shape"
   ]
  },
  {
   "cell_type": "markdown",
   "metadata": {},
   "source": [
    "There are still too many features and several will need to be binned (age, time of day, weather...).\n",
    "The problem I am addressing is \"how to decrease injuries\" so certain features may still be irrelevant. Based on further research I will also drop the following columns: \n",
    "- **ALIGNMENT**: 97% were straight and level\n",
    "- **ROAD_DEFECT**: 83% were none and 15% unknown\n",
    "- **SEC_CONTRIBUTORY_CAUSE**: 73% were n/a or unable to determine\n",
    "- **MAKE**: maker of car not relevant\n",
    "- **MODEL**: model of car not relevant \n",
    "- **LIC_PLATE_STATE**: 91% from IL, not relevant\n",
    "- **VEHICLE_DEFECT**: 98% either none or unknown\n",
    "- **TRAVEL_DIRECTION**: entered by officer, not relevant\n",
    "- **PERSON_ID**: not relevant, record is captured by CRASH_ID\n",
    "- **CITY**: not relevant as it refers to where the people lived, all crashes occured in Chicago\n",
    "- **STATE**: not relevant as it refers to where the people lived, all crashes occured in Chicago\n",
    "- **ZIPCODE**: not relevant as it refers to where the people lived, all crashes occured in Chicago\n",
    "- **DRIVERS_LICENSE_STATE**: not relevant as it refers to where the people lived, all crashes occured in Chicago\n",
    "- **DRIVERS_LICENSE_CLASS**: not relevant as it refers to where the people lived, all crashes occured in Chicago\n",
    "- **INJURY_CLASSIFICATION**: redundant\n",
    "- **DRIVER_ACTION**: subjective, reported by officer\n",
    "- **VEHICLE_ID**: not relevant, record is captured by CRASH_ID\n",
    "- **PHYSICAL_CONDITION**: 91% none or unknown\n",
    "- **PRIM_CONTRIBUTORY_CAUSE**: subjective, given by officer"
   ]
  },
  {
   "cell_type": "code",
   "execution_count": 48,
   "metadata": {},
   "outputs": [],
   "source": [
    "merged2.drop(columns=[\n",
    "    'ALIGNMENT', 'ROAD_DEFECT', 'SEC_CONTRIBUTORY_CAUSE', 'MAKE', 'MODEL',\n",
    "    'LIC_PLATE_STATE', 'VEHICLE_DEFECT', 'TRAVEL_DIRECTION', 'PERSON_ID', 'CITY', 'STATE',\n",
    "    'ZIPCODE', 'DRIVERS_LICENSE_STATE', 'DRIVERS_LICENSE_CLASS', 'INJURY_CLASSIFICATION', \n",
    "    'DRIVER_ACTION', 'VEHICLE_ID_x', 'PHYSICAL_CONDITION'\n",
    "], inplace=True)"
   ]
  },
  {
   "cell_type": "code",
   "execution_count": 49,
   "metadata": {},
   "outputs": [
    {
     "data": {
      "text/plain": [
       "(2958845, 31)"
      ]
     },
     "execution_count": 49,
     "metadata": {},
     "output_type": "execute_result"
    }
   ],
   "source": [
    "merged2.shape"
   ]
  },
  {
   "cell_type": "code",
   "execution_count": 50,
   "metadata": {},
   "outputs": [],
   "source": [
    "#checking nulls after combining"
   ]
  },
  {
   "cell_type": "code",
   "execution_count": 51,
   "metadata": {},
   "outputs": [
    {
     "data": {
      "text/plain": [
       "CRASH_RECORD_ID                 0\n",
       "CRASH_DATE_x                    0\n",
       "POSTED_SPEED_LIMIT              0\n",
       "DEVICE_CONDITION                0\n",
       "WEATHER_CONDITION               0\n",
       "LIGHTING_CONDITION              0\n",
       "FIRST_CRASH_TYPE                0\n",
       "TRAFFICWAY_TYPE                 0\n",
       "ROADWAY_SURFACE_COND            0\n",
       "PRIM_CONTRIBUTORY_CAUSE         0\n",
       "INJURIES_TOTAL                  0\n",
       "INJURIES_FATAL                  0\n",
       "CRASH_HOUR                      0\n",
       "CRASH_DAY_OF_WEEK               0\n",
       "CRASH_MONTH                     0\n",
       "LATITUDE                    17971\n",
       "LONGITUDE                   17971\n",
       "CRASH_UNIT_ID                   0\n",
       "UNIT_NO                         0\n",
       "UNIT_TYPE                    3586\n",
       "VEHICLE_YEAR               465623\n",
       "VEHICLE_TYPE                68239\n",
       "VEHICLE_USE                 68239\n",
       "MANEUVER                    68239\n",
       "OCCUPANT_CNT                68239\n",
       "PERSON_TYPE                     0\n",
       "SEX                         46247\n",
       "AGE                        851457\n",
       "SAFETY_EQUIPMENT             9246\n",
       "AIRBAG_DEPLOYED             57105\n",
       "DRIVER_VISION              613359\n",
       "dtype: int64"
      ]
     },
     "execution_count": 51,
     "metadata": {},
     "output_type": "execute_result"
    }
   ],
   "source": [
    "merged2.isna().sum()"
   ]
  },
  {
   "cell_type": "code",
   "execution_count": 52,
   "metadata": {},
   "outputs": [],
   "source": [
    "#due to size of data set all null values will be dropped"
   ]
  },
  {
   "cell_type": "code",
   "execution_count": 53,
   "metadata": {},
   "outputs": [],
   "source": [
    "merged2.dropna(inplace=True)"
   ]
  },
  {
   "cell_type": "code",
   "execution_count": 54,
   "metadata": {},
   "outputs": [
    {
     "data": {
      "text/plain": [
       "CRASH_RECORD_ID            0\n",
       "CRASH_DATE_x               0\n",
       "POSTED_SPEED_LIMIT         0\n",
       "DEVICE_CONDITION           0\n",
       "WEATHER_CONDITION          0\n",
       "LIGHTING_CONDITION         0\n",
       "FIRST_CRASH_TYPE           0\n",
       "TRAFFICWAY_TYPE            0\n",
       "ROADWAY_SURFACE_COND       0\n",
       "PRIM_CONTRIBUTORY_CAUSE    0\n",
       "INJURIES_TOTAL             0\n",
       "INJURIES_FATAL             0\n",
       "CRASH_HOUR                 0\n",
       "CRASH_DAY_OF_WEEK          0\n",
       "CRASH_MONTH                0\n",
       "LATITUDE                   0\n",
       "LONGITUDE                  0\n",
       "CRASH_UNIT_ID              0\n",
       "UNIT_NO                    0\n",
       "UNIT_TYPE                  0\n",
       "VEHICLE_YEAR               0\n",
       "VEHICLE_TYPE               0\n",
       "VEHICLE_USE                0\n",
       "MANEUVER                   0\n",
       "OCCUPANT_CNT               0\n",
       "PERSON_TYPE                0\n",
       "SEX                        0\n",
       "AGE                        0\n",
       "SAFETY_EQUIPMENT           0\n",
       "AIRBAG_DEPLOYED            0\n",
       "DRIVER_VISION              0\n",
       "dtype: int64"
      ]
     },
     "execution_count": 54,
     "metadata": {},
     "output_type": "execute_result"
    }
   ],
   "source": [
    "merged2.isna().sum()"
   ]
  },
  {
   "cell_type": "code",
   "execution_count": 55,
   "metadata": {
    "scrolled": false
   },
   "outputs": [
    {
     "data": {
      "text/html": [
       "<div>\n",
       "<style scoped>\n",
       "    .dataframe tbody tr th:only-of-type {\n",
       "        vertical-align: middle;\n",
       "    }\n",
       "\n",
       "    .dataframe tbody tr th {\n",
       "        vertical-align: top;\n",
       "    }\n",
       "\n",
       "    .dataframe thead th {\n",
       "        text-align: right;\n",
       "    }\n",
       "</style>\n",
       "<table border=\"1\" class=\"dataframe\">\n",
       "  <thead>\n",
       "    <tr style=\"text-align: right;\">\n",
       "      <th></th>\n",
       "      <th>CRASH_RECORD_ID</th>\n",
       "      <th>CRASH_DATE_x</th>\n",
       "      <th>POSTED_SPEED_LIMIT</th>\n",
       "      <th>DEVICE_CONDITION</th>\n",
       "      <th>WEATHER_CONDITION</th>\n",
       "      <th>LIGHTING_CONDITION</th>\n",
       "      <th>FIRST_CRASH_TYPE</th>\n",
       "      <th>TRAFFICWAY_TYPE</th>\n",
       "      <th>ROADWAY_SURFACE_COND</th>\n",
       "      <th>PRIM_CONTRIBUTORY_CAUSE</th>\n",
       "      <th>...</th>\n",
       "      <th>VEHICLE_TYPE</th>\n",
       "      <th>VEHICLE_USE</th>\n",
       "      <th>MANEUVER</th>\n",
       "      <th>OCCUPANT_CNT</th>\n",
       "      <th>PERSON_TYPE</th>\n",
       "      <th>SEX</th>\n",
       "      <th>AGE</th>\n",
       "      <th>SAFETY_EQUIPMENT</th>\n",
       "      <th>AIRBAG_DEPLOYED</th>\n",
       "      <th>DRIVER_VISION</th>\n",
       "    </tr>\n",
       "  </thead>\n",
       "  <tbody>\n",
       "    <tr>\n",
       "      <th>0</th>\n",
       "      <td>0115ade9a755e835255508463f7e9c4a9a0b47e9304238...</td>\n",
       "      <td>07/15/2022 12:45:00 AM</td>\n",
       "      <td>30</td>\n",
       "      <td>UNKNOWN</td>\n",
       "      <td>CLEAR</td>\n",
       "      <td>DARKNESS, LIGHTED ROAD</td>\n",
       "      <td>ANGLE</td>\n",
       "      <td>NOT DIVIDED</td>\n",
       "      <td>DRY</td>\n",
       "      <td>UNABLE TO DETERMINE</td>\n",
       "      <td>...</td>\n",
       "      <td>UNKNOWN/NA</td>\n",
       "      <td>UNKNOWN/NA</td>\n",
       "      <td>STRAIGHT AHEAD</td>\n",
       "      <td>1.0</td>\n",
       "      <td>DRIVER</td>\n",
       "      <td>M</td>\n",
       "      <td>62.0</td>\n",
       "      <td>USAGE UNKNOWN</td>\n",
       "      <td>NOT APPLICABLE</td>\n",
       "      <td>UNKNOWN</td>\n",
       "    </tr>\n",
       "    <tr>\n",
       "      <th>1</th>\n",
       "      <td>017040c61958d2fa977c956b2bd2d6759ef7754496dc96...</td>\n",
       "      <td>07/15/2022 06:50:00 PM</td>\n",
       "      <td>30</td>\n",
       "      <td>FUNCTIONING PROPERLY</td>\n",
       "      <td>CLEAR</td>\n",
       "      <td>DAYLIGHT</td>\n",
       "      <td>REAR END</td>\n",
       "      <td>NOT DIVIDED</td>\n",
       "      <td>DRY</td>\n",
       "      <td>UNABLE TO DETERMINE</td>\n",
       "      <td>...</td>\n",
       "      <td>PASSENGER</td>\n",
       "      <td>PERSONAL</td>\n",
       "      <td>SLOW/STOP IN TRAFFIC</td>\n",
       "      <td>1.0</td>\n",
       "      <td>DRIVER</td>\n",
       "      <td>F</td>\n",
       "      <td>58.0</td>\n",
       "      <td>USAGE UNKNOWN</td>\n",
       "      <td>DID NOT DEPLOY</td>\n",
       "      <td>UNKNOWN</td>\n",
       "    </tr>\n",
       "    <tr>\n",
       "      <th>2</th>\n",
       "      <td>017040c61958d2fa977c956b2bd2d6759ef7754496dc96...</td>\n",
       "      <td>07/15/2022 06:50:00 PM</td>\n",
       "      <td>30</td>\n",
       "      <td>FUNCTIONING PROPERLY</td>\n",
       "      <td>CLEAR</td>\n",
       "      <td>DAYLIGHT</td>\n",
       "      <td>REAR END</td>\n",
       "      <td>NOT DIVIDED</td>\n",
       "      <td>DRY</td>\n",
       "      <td>UNABLE TO DETERMINE</td>\n",
       "      <td>...</td>\n",
       "      <td>PASSENGER</td>\n",
       "      <td>PERSONAL</td>\n",
       "      <td>SLOW/STOP IN TRAFFIC</td>\n",
       "      <td>1.0</td>\n",
       "      <td>DRIVER</td>\n",
       "      <td>M</td>\n",
       "      <td>49.0</td>\n",
       "      <td>USAGE UNKNOWN</td>\n",
       "      <td>DID NOT DEPLOY</td>\n",
       "      <td>UNKNOWN</td>\n",
       "    </tr>\n",
       "    <tr>\n",
       "      <th>3</th>\n",
       "      <td>017040c61958d2fa977c956b2bd2d6759ef7754496dc96...</td>\n",
       "      <td>07/15/2022 06:50:00 PM</td>\n",
       "      <td>30</td>\n",
       "      <td>FUNCTIONING PROPERLY</td>\n",
       "      <td>CLEAR</td>\n",
       "      <td>DAYLIGHT</td>\n",
       "      <td>REAR END</td>\n",
       "      <td>NOT DIVIDED</td>\n",
       "      <td>DRY</td>\n",
       "      <td>UNABLE TO DETERMINE</td>\n",
       "      <td>...</td>\n",
       "      <td>PASSENGER</td>\n",
       "      <td>PERSONAL</td>\n",
       "      <td>SLOW/STOP IN TRAFFIC</td>\n",
       "      <td>1.0</td>\n",
       "      <td>DRIVER</td>\n",
       "      <td>F</td>\n",
       "      <td>58.0</td>\n",
       "      <td>USAGE UNKNOWN</td>\n",
       "      <td>DID NOT DEPLOY</td>\n",
       "      <td>UNKNOWN</td>\n",
       "    </tr>\n",
       "    <tr>\n",
       "      <th>4</th>\n",
       "      <td>017040c61958d2fa977c956b2bd2d6759ef7754496dc96...</td>\n",
       "      <td>07/15/2022 06:50:00 PM</td>\n",
       "      <td>30</td>\n",
       "      <td>FUNCTIONING PROPERLY</td>\n",
       "      <td>CLEAR</td>\n",
       "      <td>DAYLIGHT</td>\n",
       "      <td>REAR END</td>\n",
       "      <td>NOT DIVIDED</td>\n",
       "      <td>DRY</td>\n",
       "      <td>UNABLE TO DETERMINE</td>\n",
       "      <td>...</td>\n",
       "      <td>PASSENGER</td>\n",
       "      <td>PERSONAL</td>\n",
       "      <td>SLOW/STOP IN TRAFFIC</td>\n",
       "      <td>1.0</td>\n",
       "      <td>DRIVER</td>\n",
       "      <td>M</td>\n",
       "      <td>49.0</td>\n",
       "      <td>USAGE UNKNOWN</td>\n",
       "      <td>DID NOT DEPLOY</td>\n",
       "      <td>UNKNOWN</td>\n",
       "    </tr>\n",
       "    <tr>\n",
       "      <th>...</th>\n",
       "      <td>...</td>\n",
       "      <td>...</td>\n",
       "      <td>...</td>\n",
       "      <td>...</td>\n",
       "      <td>...</td>\n",
       "      <td>...</td>\n",
       "      <td>...</td>\n",
       "      <td>...</td>\n",
       "      <td>...</td>\n",
       "      <td>...</td>\n",
       "      <td>...</td>\n",
       "      <td>...</td>\n",
       "      <td>...</td>\n",
       "      <td>...</td>\n",
       "      <td>...</td>\n",
       "      <td>...</td>\n",
       "      <td>...</td>\n",
       "      <td>...</td>\n",
       "      <td>...</td>\n",
       "      <td>...</td>\n",
       "      <td>...</td>\n",
       "    </tr>\n",
       "    <tr>\n",
       "      <th>1506612</th>\n",
       "      <td>eeb35261fea364c1a40c758acf1d340f3a5b723f6b74cd...</td>\n",
       "      <td>07/29/2022 05:58:00 PM</td>\n",
       "      <td>30</td>\n",
       "      <td>FUNCTIONING PROPERLY</td>\n",
       "      <td>CLEAR</td>\n",
       "      <td>DAYLIGHT</td>\n",
       "      <td>PEDESTRIAN</td>\n",
       "      <td>FOUR WAY</td>\n",
       "      <td>DRY</td>\n",
       "      <td>UNABLE TO DETERMINE</td>\n",
       "      <td>...</td>\n",
       "      <td>PASSENGER</td>\n",
       "      <td>PERSONAL</td>\n",
       "      <td>TURNING LEFT</td>\n",
       "      <td>1.0</td>\n",
       "      <td>DRIVER</td>\n",
       "      <td>F</td>\n",
       "      <td>66.0</td>\n",
       "      <td>USAGE UNKNOWN</td>\n",
       "      <td>NOT APPLICABLE</td>\n",
       "      <td>NOT OBSCURED</td>\n",
       "    </tr>\n",
       "    <tr>\n",
       "      <th>1506613</th>\n",
       "      <td>f9d60f924bf548ed0f776e54a711cfa13727d9842ff7b3...</td>\n",
       "      <td>07/17/2022 05:30:00 AM</td>\n",
       "      <td>30</td>\n",
       "      <td>NO CONTROLS</td>\n",
       "      <td>CLEAR</td>\n",
       "      <td>DAYLIGHT</td>\n",
       "      <td>SIDESWIPE SAME DIRECTION</td>\n",
       "      <td>NOT DIVIDED</td>\n",
       "      <td>DRY</td>\n",
       "      <td>UNABLE TO DETERMINE</td>\n",
       "      <td>...</td>\n",
       "      <td>UNKNOWN/NA</td>\n",
       "      <td>UNKNOWN/NA</td>\n",
       "      <td>STRAIGHT AHEAD</td>\n",
       "      <td>1.0</td>\n",
       "      <td>DRIVER</td>\n",
       "      <td>M</td>\n",
       "      <td>21.0</td>\n",
       "      <td>USAGE UNKNOWN</td>\n",
       "      <td>NOT APPLICABLE</td>\n",
       "      <td>UNKNOWN</td>\n",
       "    </tr>\n",
       "    <tr>\n",
       "      <th>1506614</th>\n",
       "      <td>f9d60f924bf548ed0f776e54a711cfa13727d9842ff7b3...</td>\n",
       "      <td>07/17/2022 05:30:00 AM</td>\n",
       "      <td>30</td>\n",
       "      <td>NO CONTROLS</td>\n",
       "      <td>CLEAR</td>\n",
       "      <td>DAYLIGHT</td>\n",
       "      <td>SIDESWIPE SAME DIRECTION</td>\n",
       "      <td>NOT DIVIDED</td>\n",
       "      <td>DRY</td>\n",
       "      <td>UNABLE TO DETERMINE</td>\n",
       "      <td>...</td>\n",
       "      <td>PASSENGER</td>\n",
       "      <td>PERSONAL</td>\n",
       "      <td>STRAIGHT AHEAD</td>\n",
       "      <td>1.0</td>\n",
       "      <td>DRIVER</td>\n",
       "      <td>M</td>\n",
       "      <td>21.0</td>\n",
       "      <td>USAGE UNKNOWN</td>\n",
       "      <td>NOT APPLICABLE</td>\n",
       "      <td>UNKNOWN</td>\n",
       "    </tr>\n",
       "    <tr>\n",
       "      <th>1506615</th>\n",
       "      <td>ee06efe61c057656458f17b6eecb3355bcfe17be104a82...</td>\n",
       "      <td>07/29/2022 06:40:00 PM</td>\n",
       "      <td>30</td>\n",
       "      <td>FUNCTIONING PROPERLY</td>\n",
       "      <td>CLEAR</td>\n",
       "      <td>DAYLIGHT</td>\n",
       "      <td>TURNING</td>\n",
       "      <td>FOUR WAY</td>\n",
       "      <td>DRY</td>\n",
       "      <td>FAILING TO YIELD RIGHT-OF-WAY</td>\n",
       "      <td>...</td>\n",
       "      <td>PASSENGER</td>\n",
       "      <td>PERSONAL</td>\n",
       "      <td>STRAIGHT AHEAD</td>\n",
       "      <td>2.0</td>\n",
       "      <td>DRIVER</td>\n",
       "      <td>M</td>\n",
       "      <td>29.0</td>\n",
       "      <td>USAGE UNKNOWN</td>\n",
       "      <td>DEPLOYED, COMBINATION</td>\n",
       "      <td>NOT OBSCURED</td>\n",
       "    </tr>\n",
       "    <tr>\n",
       "      <th>1506616</th>\n",
       "      <td>ee06efe61c057656458f17b6eecb3355bcfe17be104a82...</td>\n",
       "      <td>07/29/2022 06:40:00 PM</td>\n",
       "      <td>30</td>\n",
       "      <td>FUNCTIONING PROPERLY</td>\n",
       "      <td>CLEAR</td>\n",
       "      <td>DAYLIGHT</td>\n",
       "      <td>TURNING</td>\n",
       "      <td>FOUR WAY</td>\n",
       "      <td>DRY</td>\n",
       "      <td>FAILING TO YIELD RIGHT-OF-WAY</td>\n",
       "      <td>...</td>\n",
       "      <td>PASSENGER</td>\n",
       "      <td>PERSONAL</td>\n",
       "      <td>TURNING LEFT</td>\n",
       "      <td>1.0</td>\n",
       "      <td>DRIVER</td>\n",
       "      <td>M</td>\n",
       "      <td>29.0</td>\n",
       "      <td>USAGE UNKNOWN</td>\n",
       "      <td>DEPLOYED, COMBINATION</td>\n",
       "      <td>NOT OBSCURED</td>\n",
       "    </tr>\n",
       "  </tbody>\n",
       "</table>\n",
       "<p>1506617 rows × 31 columns</p>\n",
       "</div>"
      ],
      "text/plain": [
       "                                           CRASH_RECORD_ID  \\\n",
       "0        0115ade9a755e835255508463f7e9c4a9a0b47e9304238...   \n",
       "1        017040c61958d2fa977c956b2bd2d6759ef7754496dc96...   \n",
       "2        017040c61958d2fa977c956b2bd2d6759ef7754496dc96...   \n",
       "3        017040c61958d2fa977c956b2bd2d6759ef7754496dc96...   \n",
       "4        017040c61958d2fa977c956b2bd2d6759ef7754496dc96...   \n",
       "...                                                    ...   \n",
       "1506612  eeb35261fea364c1a40c758acf1d340f3a5b723f6b74cd...   \n",
       "1506613  f9d60f924bf548ed0f776e54a711cfa13727d9842ff7b3...   \n",
       "1506614  f9d60f924bf548ed0f776e54a711cfa13727d9842ff7b3...   \n",
       "1506615  ee06efe61c057656458f17b6eecb3355bcfe17be104a82...   \n",
       "1506616  ee06efe61c057656458f17b6eecb3355bcfe17be104a82...   \n",
       "\n",
       "                   CRASH_DATE_x  POSTED_SPEED_LIMIT      DEVICE_CONDITION  \\\n",
       "0        07/15/2022 12:45:00 AM                  30               UNKNOWN   \n",
       "1        07/15/2022 06:50:00 PM                  30  FUNCTIONING PROPERLY   \n",
       "2        07/15/2022 06:50:00 PM                  30  FUNCTIONING PROPERLY   \n",
       "3        07/15/2022 06:50:00 PM                  30  FUNCTIONING PROPERLY   \n",
       "4        07/15/2022 06:50:00 PM                  30  FUNCTIONING PROPERLY   \n",
       "...                         ...                 ...                   ...   \n",
       "1506612  07/29/2022 05:58:00 PM                  30  FUNCTIONING PROPERLY   \n",
       "1506613  07/17/2022 05:30:00 AM                  30           NO CONTROLS   \n",
       "1506614  07/17/2022 05:30:00 AM                  30           NO CONTROLS   \n",
       "1506615  07/29/2022 06:40:00 PM                  30  FUNCTIONING PROPERLY   \n",
       "1506616  07/29/2022 06:40:00 PM                  30  FUNCTIONING PROPERLY   \n",
       "\n",
       "        WEATHER_CONDITION      LIGHTING_CONDITION          FIRST_CRASH_TYPE  \\\n",
       "0                   CLEAR  DARKNESS, LIGHTED ROAD                     ANGLE   \n",
       "1                   CLEAR                DAYLIGHT                  REAR END   \n",
       "2                   CLEAR                DAYLIGHT                  REAR END   \n",
       "3                   CLEAR                DAYLIGHT                  REAR END   \n",
       "4                   CLEAR                DAYLIGHT                  REAR END   \n",
       "...                   ...                     ...                       ...   \n",
       "1506612             CLEAR                DAYLIGHT                PEDESTRIAN   \n",
       "1506613             CLEAR                DAYLIGHT  SIDESWIPE SAME DIRECTION   \n",
       "1506614             CLEAR                DAYLIGHT  SIDESWIPE SAME DIRECTION   \n",
       "1506615             CLEAR                DAYLIGHT                   TURNING   \n",
       "1506616             CLEAR                DAYLIGHT                   TURNING   \n",
       "\n",
       "        TRAFFICWAY_TYPE ROADWAY_SURFACE_COND        PRIM_CONTRIBUTORY_CAUSE  \\\n",
       "0           NOT DIVIDED                  DRY            UNABLE TO DETERMINE   \n",
       "1           NOT DIVIDED                  DRY            UNABLE TO DETERMINE   \n",
       "2           NOT DIVIDED                  DRY            UNABLE TO DETERMINE   \n",
       "3           NOT DIVIDED                  DRY            UNABLE TO DETERMINE   \n",
       "4           NOT DIVIDED                  DRY            UNABLE TO DETERMINE   \n",
       "...                 ...                  ...                            ...   \n",
       "1506612        FOUR WAY                  DRY            UNABLE TO DETERMINE   \n",
       "1506613     NOT DIVIDED                  DRY            UNABLE TO DETERMINE   \n",
       "1506614     NOT DIVIDED                  DRY            UNABLE TO DETERMINE   \n",
       "1506615        FOUR WAY                  DRY  FAILING TO YIELD RIGHT-OF-WAY   \n",
       "1506616        FOUR WAY                  DRY  FAILING TO YIELD RIGHT-OF-WAY   \n",
       "\n",
       "         ...  VEHICLE_TYPE  VEHICLE_USE              MANEUVER  OCCUPANT_CNT  \\\n",
       "0        ...    UNKNOWN/NA   UNKNOWN/NA        STRAIGHT AHEAD           1.0   \n",
       "1        ...     PASSENGER     PERSONAL  SLOW/STOP IN TRAFFIC           1.0   \n",
       "2        ...     PASSENGER     PERSONAL  SLOW/STOP IN TRAFFIC           1.0   \n",
       "3        ...     PASSENGER     PERSONAL  SLOW/STOP IN TRAFFIC           1.0   \n",
       "4        ...     PASSENGER     PERSONAL  SLOW/STOP IN TRAFFIC           1.0   \n",
       "...      ...           ...          ...                   ...           ...   \n",
       "1506612  ...     PASSENGER     PERSONAL          TURNING LEFT           1.0   \n",
       "1506613  ...    UNKNOWN/NA   UNKNOWN/NA        STRAIGHT AHEAD           1.0   \n",
       "1506614  ...     PASSENGER     PERSONAL        STRAIGHT AHEAD           1.0   \n",
       "1506615  ...     PASSENGER     PERSONAL        STRAIGHT AHEAD           2.0   \n",
       "1506616  ...     PASSENGER     PERSONAL          TURNING LEFT           1.0   \n",
       "\n",
       "         PERSON_TYPE  SEX   AGE  SAFETY_EQUIPMENT        AIRBAG_DEPLOYED  \\\n",
       "0             DRIVER    M  62.0     USAGE UNKNOWN         NOT APPLICABLE   \n",
       "1             DRIVER    F  58.0     USAGE UNKNOWN         DID NOT DEPLOY   \n",
       "2             DRIVER    M  49.0     USAGE UNKNOWN         DID NOT DEPLOY   \n",
       "3             DRIVER    F  58.0     USAGE UNKNOWN         DID NOT DEPLOY   \n",
       "4             DRIVER    M  49.0     USAGE UNKNOWN         DID NOT DEPLOY   \n",
       "...              ...  ...   ...               ...                    ...   \n",
       "1506612       DRIVER    F  66.0     USAGE UNKNOWN         NOT APPLICABLE   \n",
       "1506613       DRIVER    M  21.0     USAGE UNKNOWN         NOT APPLICABLE   \n",
       "1506614       DRIVER    M  21.0     USAGE UNKNOWN         NOT APPLICABLE   \n",
       "1506615       DRIVER    M  29.0     USAGE UNKNOWN  DEPLOYED, COMBINATION   \n",
       "1506616       DRIVER    M  29.0     USAGE UNKNOWN  DEPLOYED, COMBINATION   \n",
       "\n",
       "        DRIVER_VISION  \n",
       "0             UNKNOWN  \n",
       "1             UNKNOWN  \n",
       "2             UNKNOWN  \n",
       "3             UNKNOWN  \n",
       "4             UNKNOWN  \n",
       "...               ...  \n",
       "1506612  NOT OBSCURED  \n",
       "1506613       UNKNOWN  \n",
       "1506614       UNKNOWN  \n",
       "1506615  NOT OBSCURED  \n",
       "1506616  NOT OBSCURED  \n",
       "\n",
       "[1506617 rows x 31 columns]"
      ]
     },
     "execution_count": 55,
     "metadata": {},
     "output_type": "execute_result"
    }
   ],
   "source": [
    "merged2.reset_index(drop=True)"
   ]
  },
  {
   "cell_type": "code",
   "execution_count": 56,
   "metadata": {},
   "outputs": [],
   "source": [
    "merged2.drop(columns=['CRASH_DATE_x', 'PRIM_CONTRIBUTORY_CAUSE'] ,inplace=True)"
   ]
  },
  {
   "cell_type": "code",
   "execution_count": 57,
   "metadata": {},
   "outputs": [],
   "source": [
    "merged2.drop(columns=['CRASH_UNIT_ID'] ,inplace=True)"
   ]
  },
  {
   "cell_type": "markdown",
   "metadata": {},
   "source": [
    "### Dropping Duplicate Records"
   ]
  },
  {
   "cell_type": "code",
   "execution_count": 58,
   "metadata": {},
   "outputs": [
    {
     "data": {
      "text/plain": [
       "12382"
      ]
     },
     "execution_count": 58,
     "metadata": {},
     "output_type": "execute_result"
    }
   ],
   "source": [
    "merged2.duplicated().sum()"
   ]
  },
  {
   "cell_type": "code",
   "execution_count": 59,
   "metadata": {},
   "outputs": [],
   "source": [
    "merged2.drop_duplicates(keep='first', inplace=True)"
   ]
  },
  {
   "cell_type": "code",
   "execution_count": 60,
   "metadata": {},
   "outputs": [
    {
     "data": {
      "text/plain": [
       "0"
      ]
     },
     "execution_count": 60,
     "metadata": {},
     "output_type": "execute_result"
    }
   ],
   "source": [
    "merged2.duplicated().sum()"
   ]
  },
  {
   "cell_type": "markdown",
   "metadata": {},
   "source": [
    "***"
   ]
  },
  {
   "cell_type": "markdown",
   "metadata": {},
   "source": [
    "## Binning Data\n",
    "\n",
    "Several of the columns have a high number of unique entries. For categorical columns especially these values/descriptions will be binned inorder to increase future model efficiancy. "
   ]
  },
  {
   "cell_type": "markdown",
   "metadata": {},
   "source": [
    "**Device Condition**"
   ]
  },
  {
   "cell_type": "code",
   "execution_count": 61,
   "metadata": {},
   "outputs": [
    {
     "data": {
      "text/plain": [
       "NO CONTROLS                 743840\n",
       "FUNCTIONING PROPERLY        647043\n",
       "UNKNOWN                      75962\n",
       "OTHER                        12100\n",
       "FUNCTIONING IMPROPERLY        9211\n",
       "NOT FUNCTIONING               5174\n",
       "WORN REFLECTIVE MATERIAL       686\n",
       "MISSING                        219\n",
       "Name: DEVICE_CONDITION, dtype: int64"
      ]
     },
     "execution_count": 61,
     "metadata": {},
     "output_type": "execute_result"
    }
   ],
   "source": [
    "merged2.DEVICE_CONDITION.value_counts()\n",
    "#Condition of traffic control device, as determined by reporting officer"
   ]
  },
  {
   "cell_type": "code",
   "execution_count": 62,
   "metadata": {},
   "outputs": [],
   "source": [
    "merged2['DEVICE_CONDITION'] = merged2.DEVICE_CONDITION.map({\n",
    "    'NO CONTROLS':'Not Working',\n",
    "    'FUNCTIONING PROPERLY':'Working', \n",
    "    'UNKNOWN': 'Unknown',\n",
    "    'OTHER': 'Unknown',\n",
    "    'FUNCTIONING IMPROPERLY': 'Not Working',\n",
    "    'NOT FUNCTIONING': 'Not Working',\n",
    "    'WORN REFLECTIVE MATERIAL': 'Working',\n",
    "    'MISSING': 'Unknown' \n",
    "})"
   ]
  },
  {
   "cell_type": "code",
   "execution_count": 63,
   "metadata": {},
   "outputs": [
    {
     "data": {
      "text/plain": [
       "Not Working    758225\n",
       "Working        647729\n",
       "Unknown         88281\n",
       "Name: DEVICE_CONDITION, dtype: int64"
      ]
     },
     "execution_count": 63,
     "metadata": {},
     "output_type": "execute_result"
    }
   ],
   "source": [
    "merged2.DEVICE_CONDITION.value_counts()"
   ]
  },
  {
   "cell_type": "code",
   "execution_count": 64,
   "metadata": {},
   "outputs": [
    {
     "data": {
      "text/plain": [
       "0"
      ]
     },
     "execution_count": 64,
     "metadata": {},
     "output_type": "execute_result"
    }
   ],
   "source": [
    "merged2.DEVICE_CONDITION.isna().sum()"
   ]
  },
  {
   "cell_type": "markdown",
   "metadata": {},
   "source": [
    "**Posted Speed Limit**"
   ]
  },
  {
   "cell_type": "code",
   "execution_count": 65,
   "metadata": {},
   "outputs": [
    {
     "data": {
      "text/plain": [
       "30    1148720\n",
       "35     114914\n",
       "25      79685\n",
       "20      42373\n",
       "15      34014\n",
       "10      20993\n",
       "40      19212\n",
       "0       13793\n",
       "45      11178\n",
       "5        6262\n",
       "55       1342\n",
       "50        376\n",
       "3         372\n",
       "9         196\n",
       "39        167\n",
       "99        165\n",
       "1          72\n",
       "60         70\n",
       "24         61\n",
       "32         42\n",
       "2          38\n",
       "34         32\n",
       "33         24\n",
       "65         18\n",
       "11         18\n",
       "7          15\n",
       "6          14\n",
       "36         11\n",
       "14          8\n",
       "31          8\n",
       "12          6\n",
       "29          6\n",
       "18          4\n",
       "22          4\n",
       "63          4\n",
       "4           4\n",
       "70          4\n",
       "38          3\n",
       "62          2\n",
       "23          2\n",
       "26          2\n",
       "49          1\n",
       "Name: POSTED_SPEED_LIMIT, dtype: int64"
      ]
     },
     "execution_count": 65,
     "metadata": {},
     "output_type": "execute_result"
    }
   ],
   "source": [
    "merged2.POSTED_SPEED_LIMIT.value_counts()"
   ]
  },
  {
   "cell_type": "code",
   "execution_count": 66,
   "metadata": {},
   "outputs": [],
   "source": [
    "speed_bins = [-1, 30, 60, 100]\n",
    "speed_labels = ['0-30', '30-60', '60-100']"
   ]
  },
  {
   "cell_type": "code",
   "execution_count": 67,
   "metadata": {},
   "outputs": [],
   "source": [
    "merged2.POSTED_SPEED_LIMIT = pd.cut(x=merged2.POSTED_SPEED_LIMIT, \n",
    "                                    bins= speed_bins,\n",
    "                                    labels = speed_labels\n",
    "                                   ,)\n",
    "                                   "
   ]
  },
  {
   "cell_type": "code",
   "execution_count": 68,
   "metadata": {},
   "outputs": [
    {
     "data": {
      "text/plain": [
       "0-30      1346662\n",
       "30-60      147380\n",
       "60-100        193\n",
       "Name: POSTED_SPEED_LIMIT, dtype: int64"
      ]
     },
     "execution_count": 68,
     "metadata": {},
     "output_type": "execute_result"
    }
   ],
   "source": [
    "merged2.POSTED_SPEED_LIMIT.value_counts()"
   ]
  },
  {
   "cell_type": "code",
   "execution_count": 69,
   "metadata": {},
   "outputs": [
    {
     "data": {
      "text/plain": [
       "0"
      ]
     },
     "execution_count": 69,
     "metadata": {},
     "output_type": "execute_result"
    }
   ],
   "source": [
    "merged2.POSTED_SPEED_LIMIT.isna().sum()"
   ]
  },
  {
   "cell_type": "markdown",
   "metadata": {},
   "source": [
    "**Weather Condition**"
   ]
  },
  {
   "cell_type": "code",
   "execution_count": 70,
   "metadata": {},
   "outputs": [
    {
     "data": {
      "text/plain": [
       "CLEAR                       1199409\n",
       "RAIN                         142735\n",
       "SNOW                          53393\n",
       "CLOUDY/OVERCAST               49859\n",
       "UNKNOWN                       36373\n",
       "OTHER                          4754\n",
       "FREEZING RAIN/DRIZZLE          2465\n",
       "SLEET/HAIL                     2180\n",
       "FOG/SMOKE/HAZE                 2123\n",
       "BLOWING SNOW                    667\n",
       "SEVERE CROSS WIND GATE          261\n",
       "BLOWING SAND, SOIL, DIRT         16\n",
       "Name: WEATHER_CONDITION, dtype: int64"
      ]
     },
     "execution_count": 70,
     "metadata": {},
     "output_type": "execute_result"
    }
   ],
   "source": [
    "merged2.WEATHER_CONDITION.value_counts()"
   ]
  },
  {
   "cell_type": "code",
   "execution_count": 71,
   "metadata": {},
   "outputs": [],
   "source": [
    "merged2['WEATHER_CONDITION'] = merged2.WEATHER_CONDITION.map({\n",
    "    'CLEAR':'Clear',\n",
    "    'RAIN':'Rain/Sleet/Snow', \n",
    "    'SNOW': 'Rain/Sleet/Snow',\n",
    "    'CLOUDY/OVERCAST': 'Cloudy',\n",
    "    'UNKNOWN': 'Other/Unknown',\n",
    "    'OTHER': 'Other/Unknown',\n",
    "    'FREEZING RAIN/DRIZZLE':'Rain/Sleet/Snow',\n",
    "    'SLEET/HAIL': 'Rain/Sleet/Snow',\n",
    "    'FOG/SMOKE/HAZE': 'Fog/Smoke/Haze',\n",
    "    'BLOWING SNOW':'Rain/Sleet/Snow', \n",
    "    'SEVERE CROSS WIND GATE': 'Windy',\n",
    "    'BLOWING SAND, SOIL, DIRT': 'Windy'\n",
    "})"
   ]
  },
  {
   "cell_type": "code",
   "execution_count": 72,
   "metadata": {},
   "outputs": [
    {
     "data": {
      "text/plain": [
       "Clear              1199409\n",
       "Rain/Sleet/Snow     201440\n",
       "Cloudy               49859\n",
       "Other/Unknown        41127\n",
       "Fog/Smoke/Haze        2123\n",
       "Windy                  277\n",
       "Name: WEATHER_CONDITION, dtype: int64"
      ]
     },
     "execution_count": 72,
     "metadata": {},
     "output_type": "execute_result"
    }
   ],
   "source": [
    "merged2.WEATHER_CONDITION.value_counts()"
   ]
  },
  {
   "cell_type": "code",
   "execution_count": 73,
   "metadata": {},
   "outputs": [
    {
     "data": {
      "text/plain": [
       "0"
      ]
     },
     "execution_count": 73,
     "metadata": {},
     "output_type": "execute_result"
    }
   ],
   "source": [
    "merged2.WEATHER_CONDITION.isna().sum()"
   ]
  },
  {
   "cell_type": "markdown",
   "metadata": {},
   "source": [
    "**Lighting Condition**"
   ]
  },
  {
   "cell_type": "code",
   "execution_count": 74,
   "metadata": {},
   "outputs": [
    {
     "data": {
      "text/plain": [
       "DAYLIGHT                  1034848\n",
       "DARKNESS, LIGHTED ROAD     307958\n",
       "DARKNESS                    58619\n",
       "DUSK                        45534\n",
       "DAWN                        23922\n",
       "UNKNOWN                     23354\n",
       "Name: LIGHTING_CONDITION, dtype: int64"
      ]
     },
     "execution_count": 74,
     "metadata": {},
     "output_type": "execute_result"
    }
   ],
   "source": [
    "merged2.LIGHTING_CONDITION.value_counts()"
   ]
  },
  {
   "cell_type": "code",
   "execution_count": 75,
   "metadata": {},
   "outputs": [],
   "source": [
    "merged2['LIGHTING_CONDITION'] = merged2.LIGHTING_CONDITION.map({\n",
    "    'DAYLIGHT':'Day',\n",
    "    'DARKNESS, LIGHTED ROAD':'Night', \n",
    "    'DARKNESS': 'Night',\n",
    "    'DUSK': 'Night',\n",
    "    'DAWN': 'Day',\n",
    "    'UNKNOWN': 'Unknown',\n",
    "\n",
    "})"
   ]
  },
  {
   "cell_type": "code",
   "execution_count": 76,
   "metadata": {},
   "outputs": [
    {
     "data": {
      "text/plain": [
       "Day        1058770\n",
       "Night       412111\n",
       "Unknown      23354\n",
       "Name: LIGHTING_CONDITION, dtype: int64"
      ]
     },
     "execution_count": 76,
     "metadata": {},
     "output_type": "execute_result"
    }
   ],
   "source": [
    "merged2.LIGHTING_CONDITION.value_counts()"
   ]
  },
  {
   "cell_type": "code",
   "execution_count": 77,
   "metadata": {},
   "outputs": [
    {
     "data": {
      "text/plain": [
       "0"
      ]
     },
     "execution_count": 77,
     "metadata": {},
     "output_type": "execute_result"
    }
   ],
   "source": [
    "merged2.LIGHTING_CONDITION.isna().sum()"
   ]
  },
  {
   "cell_type": "markdown",
   "metadata": {},
   "source": [
    "**Crash Type**"
   ]
  },
  {
   "cell_type": "code",
   "execution_count": 78,
   "metadata": {},
   "outputs": [
    {
     "data": {
      "text/plain": [
       "REAR END                        479779\n",
       "TURNING                         288785\n",
       "SIDESWIPE SAME DIRECTION        275420\n",
       "ANGLE                           220738\n",
       "PARKED MOTOR VEHICLE            113986\n",
       "SIDESWIPE OPPOSITE DIRECTION     26012\n",
       "FIXED OBJECT                     23179\n",
       "HEAD ON                          17685\n",
       "REAR TO FRONT                    14018\n",
       "REAR TO SIDE                      9353\n",
       "PEDESTRIAN                        8430\n",
       "PEDALCYCLIST                      5816\n",
       "OTHER OBJECT                      5264\n",
       "REAR TO REAR                      3152\n",
       "OTHER NONCOLLISION                1876\n",
       "OVERTURNED                         384\n",
       "ANIMAL                             315\n",
       "TRAIN                               43\n",
       "Name: FIRST_CRASH_TYPE, dtype: int64"
      ]
     },
     "execution_count": 78,
     "metadata": {},
     "output_type": "execute_result"
    }
   ],
   "source": [
    "merged2.FIRST_CRASH_TYPE.value_counts()"
   ]
  },
  {
   "cell_type": "code",
   "execution_count": 79,
   "metadata": {},
   "outputs": [],
   "source": [
    "merged2['FIRST_CRASH_TYPE'] = merged2.FIRST_CRASH_TYPE.map({\n",
    "    'REAR END':'Moving',\n",
    "    'TURNING':'Moving', \n",
    "    'SIDESWIPE SAME DIRECTION': 'Moving',\n",
    "    'ANGLE': 'Moving',\n",
    "    'PARKED MOTOR VEHICLE': 'Stationary',\n",
    "    'SIDESWIPE OPPOSITE DIRECTION': 'Moving',\n",
    "    'FIXED OBJECT':'Stationary', \n",
    "    'HEAD ON': 'Moving',\n",
    "    'REAR TO FRONT': 'Moving',\n",
    "    'REAR TO SIDE': 'Moving',\n",
    "    'PEDESTRIAN': 'Object/Person',\n",
    "    'PEDALCYCLIST': 'Object/Person',\n",
    "    'OTHER OBJECT':'Object/Person', \n",
    "    'REAR TO REAR': 'Moving',\n",
    "    'OTHER NONCOLLISION': 'Other',\n",
    "    'OVERTURNED': 'Moving',\n",
    "    'ANIMAL': 'Object/Person',\n",
    "    'TRAIN': 'Train'\n",
    "})"
   ]
  },
  {
   "cell_type": "code",
   "execution_count": 80,
   "metadata": {},
   "outputs": [
    {
     "data": {
      "text/plain": [
       "Moving           1335326\n",
       "Stationary        137165\n",
       "Object/Person      19825\n",
       "Other               1876\n",
       "Train                 43\n",
       "Name: FIRST_CRASH_TYPE, dtype: int64"
      ]
     },
     "execution_count": 80,
     "metadata": {},
     "output_type": "execute_result"
    }
   ],
   "source": [
    "merged2.FIRST_CRASH_TYPE.value_counts()"
   ]
  },
  {
   "cell_type": "code",
   "execution_count": 81,
   "metadata": {},
   "outputs": [
    {
     "data": {
      "text/plain": [
       "0"
      ]
     },
     "execution_count": 81,
     "metadata": {},
     "output_type": "execute_result"
    }
   ],
   "source": [
    "merged2.FIRST_CRASH_TYPE.isna().sum()"
   ]
  },
  {
   "cell_type": "markdown",
   "metadata": {},
   "source": [
    "**Trafficway Type**"
   ]
  },
  {
   "cell_type": "code",
   "execution_count": 82,
   "metadata": {},
   "outputs": [
    {
     "data": {
      "text/plain": [
       "NOT DIVIDED                        681256\n",
       "DIVIDED - W/MEDIAN (NOT RAISED)    298098\n",
       "ONE-WAY                            133395\n",
       "DIVIDED - W/MEDIAN BARRIER         104396\n",
       "FOUR WAY                            93176\n",
       "PARKING LOT                         66097\n",
       "OTHER                               36786\n",
       "T-INTERSECTION                      18319\n",
       "CENTER TURN LANE                    15240\n",
       "ALLEY                               15054\n",
       "UNKNOWN                             12364\n",
       "RAMP                                 4586\n",
       "UNKNOWN INTERSECTION TYPE            4420\n",
       "DRIVEWAY                             3494\n",
       "FIVE POINT, OR MORE                  2218\n",
       "Y-INTERSECTION                       2114\n",
       "TRAFFIC ROUTE                        1746\n",
       "NOT REPORTED                          885\n",
       "ROUNDABOUT                            310\n",
       "L-INTERSECTION                        281\n",
       "Name: TRAFFICWAY_TYPE, dtype: int64"
      ]
     },
     "execution_count": 82,
     "metadata": {},
     "output_type": "execute_result"
    }
   ],
   "source": [
    "merged2.TRAFFICWAY_TYPE.value_counts()"
   ]
  },
  {
   "cell_type": "code",
   "execution_count": 83,
   "metadata": {},
   "outputs": [],
   "source": [
    "merged2['TRAFFICWAY_TYPE'] = merged2.TRAFFICWAY_TYPE.map({\n",
    "    'NOT DIVIDED': 'Road/Street',\n",
    "    'DIVIDED - W/MEDIAN (NOT RAISED)': 'Road/Street',\n",
    "    'ONE-WAY': 'Road/Street',\n",
    "    'DIVIDED - W/MEDIAN BARRIER': 'Road/Street',\n",
    "    'FOUR WAY': 'Intersection',\n",
    "    'PARKING LOT': 'Parking lot',\n",
    "    'OTHER': \"Other/Unknown\",\n",
    "    'T-INTERSECTION': 'Intersection',\n",
    "    'CENTER TURN LANE': 'Road/Street',\n",
    "    'ALLEY': 'Road/Streen',\n",
    "    'UNKNOWN': 'Other/Unknown',\n",
    "    'RAMP': 'Highway',\n",
    "    'UNKNOWN INTERSECTION TYPE': \"Other/Unknown\",\n",
    "    'DRIVEWAY': 'Parking lot',\n",
    "    'FIVE POINT, OR MORE': 'Intersection',\n",
    "    'Y-INTERSECTION': 'Intersection',\n",
    "    'TRAFFIC ROUTE': 'Other/Unknown',\n",
    "    'NOT REPORTED': 'Other/Unknown',\n",
    "    'ROUNDABOUT': 'Intersection',\n",
    "    'L-INTERSECTION': 'Intersection'\n",
    "})"
   ]
  },
  {
   "cell_type": "code",
   "execution_count": 84,
   "metadata": {},
   "outputs": [
    {
     "data": {
      "text/plain": [
       "Road/Street      1232385\n",
       "Intersection      116418\n",
       "Parking lot        69591\n",
       "Other/Unknown      56201\n",
       "Road/Streen        15054\n",
       "Highway             4586\n",
       "Name: TRAFFICWAY_TYPE, dtype: int64"
      ]
     },
     "execution_count": 84,
     "metadata": {},
     "output_type": "execute_result"
    }
   ],
   "source": [
    "merged2.TRAFFICWAY_TYPE.value_counts()"
   ]
  },
  {
   "cell_type": "code",
   "execution_count": 85,
   "metadata": {},
   "outputs": [
    {
     "data": {
      "text/plain": [
       "0"
      ]
     },
     "execution_count": 85,
     "metadata": {},
     "output_type": "execute_result"
    }
   ],
   "source": [
    "merged2.TRAFFICWAY_TYPE.isna().sum()"
   ]
  },
  {
   "cell_type": "markdown",
   "metadata": {},
   "source": [
    "**Roadway Surface Condition**"
   ]
  },
  {
   "cell_type": "code",
   "execution_count": 86,
   "metadata": {},
   "outputs": [
    {
     "data": {
      "text/plain": [
       "DRY                1131700\n",
       "WET                 219163\n",
       "UNKNOWN              75137\n",
       "SNOW OR SLUSH        52510\n",
       "ICE                  11965\n",
       "OTHER                 3380\n",
       "SAND, MUD, DIRT        380\n",
       "Name: ROADWAY_SURFACE_COND, dtype: int64"
      ]
     },
     "execution_count": 86,
     "metadata": {},
     "output_type": "execute_result"
    }
   ],
   "source": [
    "merged2.ROADWAY_SURFACE_COND.value_counts()"
   ]
  },
  {
   "cell_type": "code",
   "execution_count": 87,
   "metadata": {},
   "outputs": [],
   "source": [
    "merged2['ROADWAY_SURFACE_COND'] = merged2.ROADWAY_SURFACE_COND.map({\n",
    "    'DRY': 'Dry',\n",
    "    'WET': 'Wet',\n",
    "    'UNKNOWN': 'Other/Unknown',\n",
    "    'SNOW OR SLUSH': 'Ice',\n",
    "    'ICE': 'Ice',\n",
    "    'OTHER': \"Other/Unknown\",\n",
    "    'SAND, MUD, DIRT': \"Other/Unknown\"\n",
    "})"
   ]
  },
  {
   "cell_type": "code",
   "execution_count": 88,
   "metadata": {},
   "outputs": [
    {
     "data": {
      "text/plain": [
       "Dry              1131700\n",
       "Wet               219163\n",
       "Other/Unknown      78897\n",
       "Ice                64475\n",
       "Name: ROADWAY_SURFACE_COND, dtype: int64"
      ]
     },
     "execution_count": 88,
     "metadata": {},
     "output_type": "execute_result"
    }
   ],
   "source": [
    "merged2.ROADWAY_SURFACE_COND.value_counts()"
   ]
  },
  {
   "cell_type": "code",
   "execution_count": 89,
   "metadata": {},
   "outputs": [
    {
     "data": {
      "text/plain": [
       "0"
      ]
     },
     "execution_count": 89,
     "metadata": {},
     "output_type": "execute_result"
    }
   ],
   "source": [
    "merged2.CRASH_HOUR.isna().sum()"
   ]
  },
  {
   "cell_type": "markdown",
   "metadata": {},
   "source": [
    "**Crash Hour**"
   ]
  },
  {
   "cell_type": "code",
   "execution_count": 90,
   "metadata": {},
   "outputs": [
    {
     "data": {
      "text/plain": [
       "16    124120\n",
       "15    122668\n",
       "17    121806\n",
       "14    106454\n",
       "18     97148\n",
       "13     95384\n",
       "12     90387\n",
       "8      83104\n",
       "11     78378\n",
       "9      69622\n",
       "10     68646\n",
       "19     67655\n",
       "7      65913\n",
       "20     51457\n",
       "21     45511\n",
       "22     41240\n",
       "23     33240\n",
       "6      30476\n",
       "0      24581\n",
       "1      19829\n",
       "2      16665\n",
       "5      15785\n",
       "3      12672\n",
       "4      11494\n",
       "Name: CRASH_HOUR, dtype: int64"
      ]
     },
     "execution_count": 90,
     "metadata": {},
     "output_type": "execute_result"
    }
   ],
   "source": [
    "merged2.CRASH_HOUR.value_counts()"
   ]
  },
  {
   "cell_type": "code",
   "execution_count": 91,
   "metadata": {},
   "outputs": [],
   "source": [
    "merged2.CRASH_HOUR = pd.cut(x = merged2.CRASH_HOUR,\n",
    "                                   bins =[-1, 6, 12, 18, 23],\n",
    "                                   labels = ['Early Morning', 'Morning', 'Afternoon', 'Evening/Night'])"
   ]
  },
  {
   "cell_type": "code",
   "execution_count": 92,
   "metadata": {},
   "outputs": [
    {
     "data": {
      "text/plain": [
       "Afternoon        667580\n",
       "Morning          456050\n",
       "Evening/Night    239103\n",
       "Early Morning    131502\n",
       "Name: CRASH_HOUR, dtype: int64"
      ]
     },
     "execution_count": 92,
     "metadata": {},
     "output_type": "execute_result"
    }
   ],
   "source": [
    "merged2.CRASH_HOUR.value_counts()"
   ]
  },
  {
   "cell_type": "code",
   "execution_count": 93,
   "metadata": {},
   "outputs": [
    {
     "data": {
      "text/plain": [
       "0"
      ]
     },
     "execution_count": 93,
     "metadata": {},
     "output_type": "execute_result"
    }
   ],
   "source": [
    "merged2.CRASH_HOUR.isna().sum()"
   ]
  },
  {
   "cell_type": "markdown",
   "metadata": {},
   "source": [
    "**Unit Number**\n",
    "\n",
    "A unique ID for each unit within a specific crash report."
   ]
  },
  {
   "cell_type": "code",
   "execution_count": 94,
   "metadata": {},
   "outputs": [
    {
     "data": {
      "text/plain": [
       "2     719598\n",
       "1     691899\n",
       "3      64788\n",
       "4      12883\n",
       "5       3203\n",
       "6       1054\n",
       "7        436\n",
       "8        207\n",
       "9         87\n",
       "10        22\n",
       "11        14\n",
       "12         8\n",
       "15         6\n",
       "14         6\n",
       "13         6\n",
       "0          5\n",
       "16         5\n",
       "17         4\n",
       "18         4\n",
       "Name: UNIT_NO, dtype: int64"
      ]
     },
     "execution_count": 94,
     "metadata": {},
     "output_type": "execute_result"
    }
   ],
   "source": [
    "merged2.UNIT_NO.value_counts()"
   ]
  },
  {
   "cell_type": "code",
   "execution_count": 95,
   "metadata": {},
   "outputs": [],
   "source": [
    "#after looking at value counts, \n",
    "#this column is not helpful and will be dropped"
   ]
  },
  {
   "cell_type": "code",
   "execution_count": 96,
   "metadata": {},
   "outputs": [],
   "source": [
    "merged2.drop('UNIT_NO', axis =1, inplace=True)"
   ]
  },
  {
   "cell_type": "markdown",
   "metadata": {},
   "source": [
    "**Unit Type**"
   ]
  },
  {
   "cell_type": "code",
   "execution_count": 97,
   "metadata": {},
   "outputs": [
    {
     "data": {
      "text/plain": [
       "DRIVER                 1418772\n",
       "PARKED                   70216\n",
       "DRIVERLESS                5047\n",
       "NON-CONTACT VEHICLE        134\n",
       "DISABLED VEHICLE            66\n",
       "Name: UNIT_TYPE, dtype: int64"
      ]
     },
     "execution_count": 97,
     "metadata": {},
     "output_type": "execute_result"
    }
   ],
   "source": [
    "merged2.UNIT_TYPE.value_counts()"
   ]
  },
  {
   "cell_type": "markdown",
   "metadata": {},
   "source": [
    "**Vehicle Year**"
   ]
  },
  {
   "cell_type": "code",
   "execution_count": 98,
   "metadata": {},
   "outputs": [
    {
     "data": {
      "text/plain": [
       "2015.0    115288\n",
       "2016.0    107971\n",
       "2017.0    103143\n",
       "2014.0    102241\n",
       "2013.0     93867\n",
       "           ...  \n",
       "2515.0         1\n",
       "2222.0         1\n",
       "2116.0         1\n",
       "2079.0         1\n",
       "8324.0         1\n",
       "Name: VEHICLE_YEAR, Length: 192, dtype: int64"
      ]
     },
     "execution_count": 98,
     "metadata": {},
     "output_type": "execute_result"
    }
   ],
   "source": [
    "merged2.VEHICLE_YEAR.value_counts()"
   ]
  },
  {
   "cell_type": "code",
   "execution_count": 99,
   "metadata": {},
   "outputs": [
    {
     "data": {
      "text/plain": [
       "192"
      ]
     },
     "execution_count": 99,
     "metadata": {},
     "output_type": "execute_result"
    }
   ],
   "source": [
    "merged2.VEHICLE_YEAR.nunique()"
   ]
  },
  {
   "cell_type": "code",
   "execution_count": 100,
   "metadata": {},
   "outputs": [],
   "source": [
    "#several issues with year entries, will drop column\n",
    "merged2.drop('VEHICLE_YEAR', axis =1, inplace=True)"
   ]
  },
  {
   "cell_type": "code",
   "execution_count": 101,
   "metadata": {},
   "outputs": [
    {
     "name": "stdout",
     "output_type": "stream",
     "text": [
      "<class 'pandas.core.frame.DataFrame'>\n",
      "Int64Index: 1494235 entries, 3 to 2958840\n",
      "Data columns (total 26 columns):\n",
      " #   Column                Non-Null Count    Dtype   \n",
      "---  ------                --------------    -----   \n",
      " 0   CRASH_RECORD_ID       1494235 non-null  object  \n",
      " 1   POSTED_SPEED_LIMIT    1494235 non-null  category\n",
      " 2   DEVICE_CONDITION      1494235 non-null  object  \n",
      " 3   WEATHER_CONDITION     1494235 non-null  object  \n",
      " 4   LIGHTING_CONDITION    1494235 non-null  object  \n",
      " 5   FIRST_CRASH_TYPE      1494235 non-null  object  \n",
      " 6   TRAFFICWAY_TYPE       1494235 non-null  object  \n",
      " 7   ROADWAY_SURFACE_COND  1494235 non-null  object  \n",
      " 8   INJURIES_TOTAL        1494235 non-null  float64 \n",
      " 9   INJURIES_FATAL        1494235 non-null  float64 \n",
      " 10  CRASH_HOUR            1494235 non-null  category\n",
      " 11  CRASH_DAY_OF_WEEK     1494235 non-null  int64   \n",
      " 12  CRASH_MONTH           1494235 non-null  int64   \n",
      " 13  LATITUDE              1494235 non-null  float64 \n",
      " 14  LONGITUDE             1494235 non-null  float64 \n",
      " 15  UNIT_TYPE             1494235 non-null  object  \n",
      " 16  VEHICLE_TYPE          1494235 non-null  object  \n",
      " 17  VEHICLE_USE           1494235 non-null  object  \n",
      " 18  MANEUVER              1494235 non-null  object  \n",
      " 19  OCCUPANT_CNT          1494235 non-null  float64 \n",
      " 20  PERSON_TYPE           1494235 non-null  object  \n",
      " 21  SEX                   1494235 non-null  object  \n",
      " 22  AGE                   1494235 non-null  float64 \n",
      " 23  SAFETY_EQUIPMENT      1494235 non-null  object  \n",
      " 24  AIRBAG_DEPLOYED       1494235 non-null  object  \n",
      " 25  DRIVER_VISION         1494235 non-null  object  \n",
      "dtypes: category(2), float64(6), int64(2), object(16)\n",
      "memory usage: 287.9+ MB\n"
     ]
    }
   ],
   "source": [
    "merged2.info()"
   ]
  },
  {
   "cell_type": "markdown",
   "metadata": {},
   "source": [
    "**Vehicle Type**"
   ]
  },
  {
   "cell_type": "code",
   "execution_count": 102,
   "metadata": {},
   "outputs": [
    {
     "data": {
      "text/plain": [
       "PASSENGER                                 1033602\n",
       "SPORT UTILITY VEHICLE (SUV)                215552\n",
       "VAN/MINI-VAN                                76333\n",
       "PICKUP                                      47553\n",
       "UNKNOWN/NA                                  35053\n",
       "TRUCK - SINGLE UNIT                         26679\n",
       "BUS OVER 15 PASS.                           16660\n",
       "OTHER                                       14947\n",
       "TRACTOR W/ SEMI-TRAILER                     14345\n",
       "MOTORCYCLE (OVER 150CC)                      3586\n",
       "BUS UP TO 15 PASS.                           3341\n",
       "TRACTOR W/O SEMI-TRAILER                     2057\n",
       "OTHER VEHICLE WITH TRAILER                   1894\n",
       "SINGLE UNIT TRUCK WITH TRAILER               1679\n",
       "MOTOR DRIVEN CYCLE                            323\n",
       "MOPED OR MOTORIZED BICYCLE                    259\n",
       "AUTOCYCLE                                     219\n",
       "ALL-TERRAIN VEHICLE (ATV)                      78\n",
       "3-WHEELED MOTORCYCLE (2 REAR WHEELS)           36\n",
       "FARM EQUIPMENT                                 33\n",
       "RECREATIONAL OFF-HIGHWAY VEHICLE (ROV)          6\n",
       "Name: VEHICLE_TYPE, dtype: int64"
      ]
     },
     "execution_count": 102,
     "metadata": {},
     "output_type": "execute_result"
    }
   ],
   "source": [
    "merged2.VEHICLE_TYPE.value_counts()"
   ]
  },
  {
   "cell_type": "code",
   "execution_count": 103,
   "metadata": {},
   "outputs": [],
   "source": [
    "merged2['VEHICLE_TYPE'] = merged2.VEHICLE_TYPE.map({\n",
    "    'PASSENGER': 'Car',\n",
    "    'SPORT UTILITY VEHICLE (SUV)': 'SUV/Van',\n",
    "    'VAN/MINI-VAN': 'SUV/Van',\n",
    "    'PICKUP': 'Truck',\n",
    "    'UNKNOWN/NA': 'Unknown',\n",
    "    'TRUCK - SINGLE UNIT': \"Truck\",\n",
    "    'BUS OVER 15 PASS.': \"Bus\",\n",
    "    'OTHER': \"Other\",\n",
    "    'TRACTOR W/ SEMI-TRAILER': 'Semi',\n",
    "    'TRACTOR W/O SEMI-TRAILER': \"Semi\",\n",
    "    'MOTORCYCLE (OVER 150CC)': 'Motorbike/cycle',\n",
    "    'BUS UP TO 15 PASS.': 'Bus',\n",
    "    'OTHER VEHICLE WITH TRAILER': \"Trailer\",\n",
    "    'SINGLE UNIT TRUCK WITH TRAILER': \"Trailer\",\n",
    "    'MOTOR DRIVEN CYCLE': \"Motorbike/cycle\",\n",
    "    'MOPED OR MOTORIZED BICYCLE': \"Motorbike/cycle\",\n",
    "    'AUTOCYCLE': \"Motorbike/cycle\",\n",
    "    'ALL-TERRAIN VEHICLE (ATV)': \"Other\",\n",
    "    '3-WHEELED MOTORCYCLE (2 REAR WHEELS)': \"Motorbike/cycle\",\n",
    "    'FARM EQUIPMENT': \"Other\",\n",
    "    'RECREATIONAL OFF-HIGHWAY VEHICLE (ROV)': \"Other\"\n",
    "})"
   ]
  },
  {
   "cell_type": "code",
   "execution_count": 104,
   "metadata": {},
   "outputs": [
    {
     "data": {
      "text/plain": [
       "Car                1033602\n",
       "SUV/Van             291885\n",
       "Truck                74232\n",
       "Unknown              35053\n",
       "Bus                  20001\n",
       "Semi                 16402\n",
       "Other                15064\n",
       "Motorbike/cycle       4423\n",
       "Trailer               3573\n",
       "Name: VEHICLE_TYPE, dtype: int64"
      ]
     },
     "execution_count": 104,
     "metadata": {},
     "output_type": "execute_result"
    }
   ],
   "source": [
    "merged2.VEHICLE_TYPE.value_counts()"
   ]
  },
  {
   "cell_type": "code",
   "execution_count": 105,
   "metadata": {},
   "outputs": [
    {
     "data": {
      "text/plain": [
       "0"
      ]
     },
     "execution_count": 105,
     "metadata": {},
     "output_type": "execute_result"
    }
   ],
   "source": [
    "merged2.VEHICLE_TYPE.isna().sum()"
   ]
  },
  {
   "cell_type": "markdown",
   "metadata": {},
   "source": [
    "**Vehicle Use**"
   ]
  },
  {
   "cell_type": "code",
   "execution_count": 106,
   "metadata": {},
   "outputs": [
    {
     "data": {
      "text/plain": [
       "PERSONAL                        1159692\n",
       "UNKNOWN/NA                       140339\n",
       "OTHER                             45761\n",
       "NOT IN USE                        32573\n",
       "TAXI/FOR HIRE                     25835\n",
       "COMMERCIAL - SINGLE UNIT          20214\n",
       "RIDESHARE SERVICE                 15882\n",
       "CTA                               11033\n",
       "POLICE                             9629\n",
       "CONSTRUCTION/MAINTENANCE           7433\n",
       "COMMERCIAL - MULTI-UNIT            6567\n",
       "OTHER TRANSIT                      4923\n",
       "SCHOOL BUS                         4304\n",
       "TOW TRUCK                          3026\n",
       "AMBULANCE                          1752\n",
       "DRIVER EDUCATION                   1289\n",
       "STATE OWNED                        1200\n",
       "MASS TRANSIT                        988\n",
       "FIRE                                831\n",
       "LAWN CARE/LANDSCAPING               646\n",
       "AGRICULTURE                         157\n",
       "CAMPER/RV - SINGLE UNIT              79\n",
       "MILITARY                             54\n",
       "HOUSE TRAILER                        20\n",
       "CAMPER/RV - TOWED/MULTI-UNIT          8\n",
       "Name: VEHICLE_USE, dtype: int64"
      ]
     },
     "execution_count": 106,
     "metadata": {},
     "output_type": "execute_result"
    }
   ],
   "source": [
    "merged2.VEHICLE_USE.value_counts()\n",
    "#after further inspection, does not seem descriptive enough, \n",
    "#will be dropped"
   ]
  },
  {
   "cell_type": "code",
   "execution_count": 107,
   "metadata": {},
   "outputs": [],
   "source": [
    "merged2.drop('VEHICLE_USE', axis =1, inplace=True)"
   ]
  },
  {
   "cell_type": "markdown",
   "metadata": {},
   "source": [
    "**Maneuver**"
   ]
  },
  {
   "cell_type": "code",
   "execution_count": 108,
   "metadata": {},
   "outputs": [
    {
     "data": {
      "text/plain": [
       "STRAIGHT AHEAD                        818543\n",
       "SLOW/STOP IN TRAFFIC                  159197\n",
       "TURNING LEFT                          109157\n",
       "PARKED                                 71684\n",
       "TURNING RIGHT                          55076\n",
       "BACKING                                53851\n",
       "UNKNOWN/NA                             34963\n",
       "PASSING/OVERTAKING                     34062\n",
       "CHANGING LANES                         33805\n",
       "OTHER                                  26005\n",
       "ENTERING TRAFFIC LANE FROM PARKING     20883\n",
       "MERGING                                12483\n",
       "STARTING IN TRAFFIC                    11625\n",
       "U-TURN                                  9706\n",
       "AVOIDING VEHICLES/OBJECTS               7240\n",
       "ENTER FROM DRIVE/ALLEY                  6893\n",
       "SKIDDING/CONTROL LOSS                   6379\n",
       "LEAVING TRAFFIC LANE TO PARK            5914\n",
       "SLOW/STOP - LEFT TURN                   4729\n",
       "SLOW/STOP - RIGHT TURN                  2773\n",
       "SLOW/STOP - LOAD/UNLOAD                 2321\n",
       "PARKED IN TRAFFIC LANE                  1970\n",
       "NEGOTIATING A CURVE                     1918\n",
       "DRIVING WRONG WAY                       1859\n",
       "TURNING ON RED                           621\n",
       "DRIVERLESS                               298\n",
       "DIVERGING                                221\n",
       "DISABLED                                  59\n",
       "Name: MANEUVER, dtype: int64"
      ]
     },
     "execution_count": 108,
     "metadata": {},
     "output_type": "execute_result"
    }
   ],
   "source": [
    "merged2.MANEUVER.value_counts()"
   ]
  },
  {
   "cell_type": "code",
   "execution_count": 109,
   "metadata": {},
   "outputs": [],
   "source": [
    "#seems redundant of crash type, will drop "
   ]
  },
  {
   "cell_type": "code",
   "execution_count": 110,
   "metadata": {},
   "outputs": [],
   "source": [
    "merged2.drop('MANEUVER', axis =1, inplace=True)"
   ]
  },
  {
   "cell_type": "markdown",
   "metadata": {},
   "source": [
    "**Occupant Count**"
   ]
  },
  {
   "cell_type": "code",
   "execution_count": 111,
   "metadata": {},
   "outputs": [
    {
     "data": {
      "text/plain": [
       "1.0     1146667\n",
       "2.0      195826\n",
       "0.0       67704\n",
       "3.0       53024\n",
       "4.0       20551\n",
       "5.0        7033\n",
       "6.0        1867\n",
       "7.0         731\n",
       "8.0         261\n",
       "9.0         131\n",
       "11.0         88\n",
       "10.0         72\n",
       "12.0         47\n",
       "13.0         45\n",
       "15.0         27\n",
       "20.0         19\n",
       "16.0         19\n",
       "14.0         16\n",
       "19.0         13\n",
       "36.0         10\n",
       "18.0          9\n",
       "26.0          9\n",
       "17.0          6\n",
       "28.0          6\n",
       "25.0          5\n",
       "30.0          5\n",
       "35.0          4\n",
       "33.0          4\n",
       "39.0          4\n",
       "29.0          4\n",
       "41.0          4\n",
       "44.0          3\n",
       "27.0          3\n",
       "21.0          3\n",
       "43.0          2\n",
       "60.0          2\n",
       "24.0          2\n",
       "23.0          2\n",
       "34.0          2\n",
       "47.0          1\n",
       "38.0          1\n",
       "37.0          1\n",
       "22.0          1\n",
       "31.0          1\n",
       "Name: OCCUPANT_CNT, dtype: int64"
      ]
     },
     "execution_count": 111,
     "metadata": {},
     "output_type": "execute_result"
    }
   ],
   "source": [
    "merged2.OCCUPANT_CNT.value_counts()"
   ]
  },
  {
   "cell_type": "code",
   "execution_count": 112,
   "metadata": {},
   "outputs": [],
   "source": [
    "#since most vehicles are not buses or trains \n",
    "#and can hold 7 or less people this feature does not seem helpful\n",
    "# and will be dropped\n",
    "# number injured in each crash will be more valueable "
   ]
  },
  {
   "cell_type": "code",
   "execution_count": 113,
   "metadata": {},
   "outputs": [],
   "source": [
    "merged2.drop('OCCUPANT_CNT', axis =1, inplace=True)"
   ]
  },
  {
   "cell_type": "markdown",
   "metadata": {},
   "source": [
    "**Person Type**"
   ]
  },
  {
   "cell_type": "code",
   "execution_count": 114,
   "metadata": {},
   "outputs": [
    {
     "data": {
      "text/plain": [
       "DRIVER                 1493849\n",
       "NON-MOTOR VEHICLE          214\n",
       "NON-CONTACT VEHICLE        172\n",
       "Name: PERSON_TYPE, dtype: int64"
      ]
     },
     "execution_count": 114,
     "metadata": {},
     "output_type": "execute_result"
    }
   ],
   "source": [
    "merged2.PERSON_TYPE.value_counts()"
   ]
  },
  {
   "cell_type": "markdown",
   "metadata": {},
   "source": [
    "**Sex**"
   ]
  },
  {
   "cell_type": "code",
   "execution_count": 115,
   "metadata": {},
   "outputs": [
    {
     "data": {
      "text/plain": [
       "M    892580\n",
       "F    599993\n",
       "X      1662\n",
       "Name: SEX, dtype: int64"
      ]
     },
     "execution_count": 115,
     "metadata": {},
     "output_type": "execute_result"
    }
   ],
   "source": [
    "merged2.SEX.value_counts()"
   ]
  },
  {
   "cell_type": "markdown",
   "metadata": {},
   "source": [
    "**Age**"
   ]
  },
  {
   "cell_type": "code",
   "execution_count": 116,
   "metadata": {},
   "outputs": [
    {
     "data": {
      "text/plain": [
       " 27.0     44368\n",
       " 25.0     44331\n",
       " 26.0     44063\n",
       " 28.0     43367\n",
       " 29.0     42186\n",
       "          ...  \n",
       "-1.0          3\n",
       " 102.0        3\n",
       "-177.0        2\n",
       "-47.0         2\n",
       "-49.0         1\n",
       "Name: AGE, Length: 113, dtype: int64"
      ]
     },
     "execution_count": 116,
     "metadata": {},
     "output_type": "execute_result"
    }
   ],
   "source": [
    "merged2.AGE.value_counts()"
   ]
  },
  {
   "cell_type": "code",
   "execution_count": 117,
   "metadata": {},
   "outputs": [],
   "source": [
    "#seems to be data entry errors, \n",
    "#will only keep rows with people between 0 and 100 years of age"
   ]
  },
  {
   "cell_type": "code",
   "execution_count": 118,
   "metadata": {},
   "outputs": [],
   "source": [
    "merged2 = merged2[merged2.AGE > 0]"
   ]
  },
  {
   "cell_type": "code",
   "execution_count": 119,
   "metadata": {},
   "outputs": [
    {
     "data": {
      "text/html": [
       "<div>\n",
       "<style scoped>\n",
       "    .dataframe tbody tr th:only-of-type {\n",
       "        vertical-align: middle;\n",
       "    }\n",
       "\n",
       "    .dataframe tbody tr th {\n",
       "        vertical-align: top;\n",
       "    }\n",
       "\n",
       "    .dataframe thead th {\n",
       "        text-align: right;\n",
       "    }\n",
       "</style>\n",
       "<table border=\"1\" class=\"dataframe\">\n",
       "  <thead>\n",
       "    <tr style=\"text-align: right;\">\n",
       "      <th></th>\n",
       "      <th>CRASH_RECORD_ID</th>\n",
       "      <th>POSTED_SPEED_LIMIT</th>\n",
       "      <th>DEVICE_CONDITION</th>\n",
       "      <th>WEATHER_CONDITION</th>\n",
       "      <th>LIGHTING_CONDITION</th>\n",
       "      <th>FIRST_CRASH_TYPE</th>\n",
       "      <th>TRAFFICWAY_TYPE</th>\n",
       "      <th>ROADWAY_SURFACE_COND</th>\n",
       "      <th>INJURIES_TOTAL</th>\n",
       "      <th>INJURIES_FATAL</th>\n",
       "      <th>...</th>\n",
       "      <th>LATITUDE</th>\n",
       "      <th>LONGITUDE</th>\n",
       "      <th>UNIT_TYPE</th>\n",
       "      <th>VEHICLE_TYPE</th>\n",
       "      <th>PERSON_TYPE</th>\n",
       "      <th>SEX</th>\n",
       "      <th>AGE</th>\n",
       "      <th>SAFETY_EQUIPMENT</th>\n",
       "      <th>AIRBAG_DEPLOYED</th>\n",
       "      <th>DRIVER_VISION</th>\n",
       "    </tr>\n",
       "  </thead>\n",
       "  <tbody>\n",
       "    <tr>\n",
       "      <th>3</th>\n",
       "      <td>0115ade9a755e835255508463f7e9c4a9a0b47e9304238...</td>\n",
       "      <td>0-30</td>\n",
       "      <td>Unknown</td>\n",
       "      <td>Clear</td>\n",
       "      <td>Night</td>\n",
       "      <td>Moving</td>\n",
       "      <td>Road/Street</td>\n",
       "      <td>Dry</td>\n",
       "      <td>0.0</td>\n",
       "      <td>0.0</td>\n",
       "      <td>...</td>\n",
       "      <td>41.886336</td>\n",
       "      <td>-87.716203</td>\n",
       "      <td>DRIVER</td>\n",
       "      <td>Unknown</td>\n",
       "      <td>DRIVER</td>\n",
       "      <td>M</td>\n",
       "      <td>62.0</td>\n",
       "      <td>USAGE UNKNOWN</td>\n",
       "      <td>NOT APPLICABLE</td>\n",
       "      <td>UNKNOWN</td>\n",
       "    </tr>\n",
       "    <tr>\n",
       "      <th>4</th>\n",
       "      <td>017040c61958d2fa977c956b2bd2d6759ef7754496dc96...</td>\n",
       "      <td>0-30</td>\n",
       "      <td>Working</td>\n",
       "      <td>Clear</td>\n",
       "      <td>Day</td>\n",
       "      <td>Moving</td>\n",
       "      <td>Road/Street</td>\n",
       "      <td>Dry</td>\n",
       "      <td>0.0</td>\n",
       "      <td>0.0</td>\n",
       "      <td>...</td>\n",
       "      <td>41.925111</td>\n",
       "      <td>-87.667997</td>\n",
       "      <td>DRIVER</td>\n",
       "      <td>Car</td>\n",
       "      <td>DRIVER</td>\n",
       "      <td>F</td>\n",
       "      <td>58.0</td>\n",
       "      <td>USAGE UNKNOWN</td>\n",
       "      <td>DID NOT DEPLOY</td>\n",
       "      <td>UNKNOWN</td>\n",
       "    </tr>\n",
       "    <tr>\n",
       "      <th>5</th>\n",
       "      <td>017040c61958d2fa977c956b2bd2d6759ef7754496dc96...</td>\n",
       "      <td>0-30</td>\n",
       "      <td>Working</td>\n",
       "      <td>Clear</td>\n",
       "      <td>Day</td>\n",
       "      <td>Moving</td>\n",
       "      <td>Road/Street</td>\n",
       "      <td>Dry</td>\n",
       "      <td>0.0</td>\n",
       "      <td>0.0</td>\n",
       "      <td>...</td>\n",
       "      <td>41.925111</td>\n",
       "      <td>-87.667997</td>\n",
       "      <td>DRIVER</td>\n",
       "      <td>Car</td>\n",
       "      <td>DRIVER</td>\n",
       "      <td>M</td>\n",
       "      <td>49.0</td>\n",
       "      <td>USAGE UNKNOWN</td>\n",
       "      <td>DID NOT DEPLOY</td>\n",
       "      <td>UNKNOWN</td>\n",
       "    </tr>\n",
       "    <tr>\n",
       "      <th>6</th>\n",
       "      <td>017040c61958d2fa977c956b2bd2d6759ef7754496dc96...</td>\n",
       "      <td>0-30</td>\n",
       "      <td>Working</td>\n",
       "      <td>Clear</td>\n",
       "      <td>Day</td>\n",
       "      <td>Moving</td>\n",
       "      <td>Road/Street</td>\n",
       "      <td>Dry</td>\n",
       "      <td>0.0</td>\n",
       "      <td>0.0</td>\n",
       "      <td>...</td>\n",
       "      <td>41.925111</td>\n",
       "      <td>-87.667997</td>\n",
       "      <td>DRIVER</td>\n",
       "      <td>Car</td>\n",
       "      <td>DRIVER</td>\n",
       "      <td>F</td>\n",
       "      <td>58.0</td>\n",
       "      <td>USAGE UNKNOWN</td>\n",
       "      <td>DID NOT DEPLOY</td>\n",
       "      <td>UNKNOWN</td>\n",
       "    </tr>\n",
       "    <tr>\n",
       "      <th>7</th>\n",
       "      <td>017040c61958d2fa977c956b2bd2d6759ef7754496dc96...</td>\n",
       "      <td>0-30</td>\n",
       "      <td>Working</td>\n",
       "      <td>Clear</td>\n",
       "      <td>Day</td>\n",
       "      <td>Moving</td>\n",
       "      <td>Road/Street</td>\n",
       "      <td>Dry</td>\n",
       "      <td>0.0</td>\n",
       "      <td>0.0</td>\n",
       "      <td>...</td>\n",
       "      <td>41.925111</td>\n",
       "      <td>-87.667997</td>\n",
       "      <td>DRIVER</td>\n",
       "      <td>Car</td>\n",
       "      <td>DRIVER</td>\n",
       "      <td>M</td>\n",
       "      <td>49.0</td>\n",
       "      <td>USAGE UNKNOWN</td>\n",
       "      <td>DID NOT DEPLOY</td>\n",
       "      <td>UNKNOWN</td>\n",
       "    </tr>\n",
       "  </tbody>\n",
       "</table>\n",
       "<p>5 rows × 23 columns</p>\n",
       "</div>"
      ],
      "text/plain": [
       "                                     CRASH_RECORD_ID POSTED_SPEED_LIMIT  \\\n",
       "3  0115ade9a755e835255508463f7e9c4a9a0b47e9304238...               0-30   \n",
       "4  017040c61958d2fa977c956b2bd2d6759ef7754496dc96...               0-30   \n",
       "5  017040c61958d2fa977c956b2bd2d6759ef7754496dc96...               0-30   \n",
       "6  017040c61958d2fa977c956b2bd2d6759ef7754496dc96...               0-30   \n",
       "7  017040c61958d2fa977c956b2bd2d6759ef7754496dc96...               0-30   \n",
       "\n",
       "  DEVICE_CONDITION WEATHER_CONDITION LIGHTING_CONDITION FIRST_CRASH_TYPE  \\\n",
       "3          Unknown             Clear              Night           Moving   \n",
       "4          Working             Clear                Day           Moving   \n",
       "5          Working             Clear                Day           Moving   \n",
       "6          Working             Clear                Day           Moving   \n",
       "7          Working             Clear                Day           Moving   \n",
       "\n",
       "  TRAFFICWAY_TYPE ROADWAY_SURFACE_COND  INJURIES_TOTAL  INJURIES_FATAL  ...  \\\n",
       "3     Road/Street                  Dry             0.0             0.0  ...   \n",
       "4     Road/Street                  Dry             0.0             0.0  ...   \n",
       "5     Road/Street                  Dry             0.0             0.0  ...   \n",
       "6     Road/Street                  Dry             0.0             0.0  ...   \n",
       "7     Road/Street                  Dry             0.0             0.0  ...   \n",
       "\n",
       "    LATITUDE  LONGITUDE  UNIT_TYPE  VEHICLE_TYPE  PERSON_TYPE SEX   AGE  \\\n",
       "3  41.886336 -87.716203     DRIVER       Unknown       DRIVER   M  62.0   \n",
       "4  41.925111 -87.667997     DRIVER           Car       DRIVER   F  58.0   \n",
       "5  41.925111 -87.667997     DRIVER           Car       DRIVER   M  49.0   \n",
       "6  41.925111 -87.667997     DRIVER           Car       DRIVER   F  58.0   \n",
       "7  41.925111 -87.667997     DRIVER           Car       DRIVER   M  49.0   \n",
       "\n",
       "  SAFETY_EQUIPMENT AIRBAG_DEPLOYED  DRIVER_VISION  \n",
       "3    USAGE UNKNOWN  NOT APPLICABLE        UNKNOWN  \n",
       "4    USAGE UNKNOWN  DID NOT DEPLOY        UNKNOWN  \n",
       "5    USAGE UNKNOWN  DID NOT DEPLOY        UNKNOWN  \n",
       "6    USAGE UNKNOWN  DID NOT DEPLOY        UNKNOWN  \n",
       "7    USAGE UNKNOWN  DID NOT DEPLOY        UNKNOWN  \n",
       "\n",
       "[5 rows x 23 columns]"
      ]
     },
     "execution_count": 119,
     "metadata": {},
     "output_type": "execute_result"
    }
   ],
   "source": [
    "merged2.head()"
   ]
  },
  {
   "cell_type": "code",
   "execution_count": 120,
   "metadata": {},
   "outputs": [
    {
     "data": {
      "text/plain": [
       "27.0     44368\n",
       "25.0     44331\n",
       "26.0     44063\n",
       "28.0     43367\n",
       "29.0     42186\n",
       "         ...  \n",
       "108.0        5\n",
       "109.0        4\n",
       "107.0        4\n",
       "104.0        4\n",
       "102.0        3\n",
       "Name: AGE, Length: 108, dtype: int64"
      ]
     },
     "execution_count": 120,
     "metadata": {},
     "output_type": "execute_result"
    }
   ],
   "source": [
    "merged2.AGE.value_counts()"
   ]
  },
  {
   "cell_type": "code",
   "execution_count": 121,
   "metadata": {},
   "outputs": [],
   "source": [
    "merged2 = merged2[merged2.AGE < 100]"
   ]
  },
  {
   "cell_type": "code",
   "execution_count": 122,
   "metadata": {},
   "outputs": [
    {
     "data": {
      "text/plain": [
       "27.0    44368\n",
       "25.0    44331\n",
       "26.0    44063\n",
       "28.0    43367\n",
       "29.0    42186\n",
       "        ...  \n",
       "97.0       39\n",
       "9.0        36\n",
       "6.0        27\n",
       "7.0        24\n",
       "5.0        20\n",
       "Name: AGE, Length: 99, dtype: int64"
      ]
     },
     "execution_count": 122,
     "metadata": {},
     "output_type": "execute_result"
    }
   ],
   "source": [
    "merged2.AGE.value_counts()"
   ]
  },
  {
   "cell_type": "code",
   "execution_count": 123,
   "metadata": {},
   "outputs": [],
   "source": [
    "merged2.AGE = pd.cut(x = merged2.AGE,\n",
    "                         bins =[-1, 25, 50, 75, 100],\n",
    "                         labels = ['Young', 'Adult', 'Senior', 'Elderly'])"
   ]
  },
  {
   "cell_type": "code",
   "execution_count": 124,
   "metadata": {},
   "outputs": [
    {
     "data": {
      "text/plain": [
       "Adult      809521\n",
       "Senior     361302\n",
       "Young      281923\n",
       "Elderly     27489\n",
       "Name: AGE, dtype: int64"
      ]
     },
     "execution_count": 124,
     "metadata": {},
     "output_type": "execute_result"
    }
   ],
   "source": [
    "merged2.AGE.value_counts()"
   ]
  },
  {
   "cell_type": "markdown",
   "metadata": {},
   "source": [
    "**Safety Equipment**"
   ]
  },
  {
   "cell_type": "code",
   "execution_count": 125,
   "metadata": {},
   "outputs": [
    {
     "data": {
      "text/plain": [
       "SAFETY BELT USED                       934383\n",
       "USAGE UNKNOWN                          500761\n",
       "NONE PRESENT                            33673\n",
       "SAFETY BELT NOT USED                     7272\n",
       "HELMET NOT USED                          1816\n",
       "DOT COMPLIANT MOTORCYCLE HELMET          1237\n",
       "HELMET USED                               718\n",
       "NOT DOT COMPLIANT MOTORCYCLE HELMET       195\n",
       "SHOULD/LAP BELT USED IMPROPERLY           170\n",
       "STRETCHER                                   4\n",
       "CHILD RESTRAINT USED                        3\n",
       "WHEELCHAIR                                  3\n",
       "Name: SAFETY_EQUIPMENT, dtype: int64"
      ]
     },
     "execution_count": 125,
     "metadata": {},
     "output_type": "execute_result"
    }
   ],
   "source": [
    "merged2.SAFETY_EQUIPMENT.value_counts()"
   ]
  },
  {
   "cell_type": "code",
   "execution_count": 126,
   "metadata": {},
   "outputs": [],
   "source": [
    "merged2['SAFETY_EQUIPMENT'] = merged2.SAFETY_EQUIPMENT.map({\n",
    "    'SAFETY BELT USED': 'Used',\n",
    "    'USAGE UNKNOWN': 'Unknown',\n",
    "    'NONE PRESENT': 'Not Used',\n",
    "    'SAFETY BELT NOT USED': 'Not Used',\n",
    "    'HELMET NOT USED': 'Not Used',\n",
    "    'DOT COMPLIANT MOTORCYCLE HELMET': \"Used\",\n",
    "    'HELMET USED': \"Used\",\n",
    "    'NOT DOT COMPLIANT MOTORCYCLE HELMET': \"Used\",\n",
    "    'SHOULD/LAP BELT USED IMPROPERLY': 'Not Used',\n",
    "    'STRETCHER': \"Used\",\n",
    "    'WHEELCHAIR': 'Used',\n",
    "    'CHILD RESTRAINT USED': 'Used'\n",
    "})"
   ]
  },
  {
   "cell_type": "code",
   "execution_count": 127,
   "metadata": {},
   "outputs": [
    {
     "data": {
      "text/plain": [
       "Used        936543\n",
       "Unknown     500761\n",
       "Not Used     42931\n",
       "Name: SAFETY_EQUIPMENT, dtype: int64"
      ]
     },
     "execution_count": 127,
     "metadata": {},
     "output_type": "execute_result"
    }
   ],
   "source": [
    "merged2.SAFETY_EQUIPMENT.value_counts()"
   ]
  },
  {
   "cell_type": "code",
   "execution_count": 128,
   "metadata": {},
   "outputs": [
    {
     "data": {
      "text/plain": [
       "0"
      ]
     },
     "execution_count": 128,
     "metadata": {},
     "output_type": "execute_result"
    }
   ],
   "source": [
    "merged2.SAFETY_EQUIPMENT.isna().sum()"
   ]
  },
  {
   "cell_type": "markdown",
   "metadata": {},
   "source": [
    "**Driver Vision**"
   ]
  },
  {
   "cell_type": "code",
   "execution_count": 129,
   "metadata": {},
   "outputs": [
    {
     "data": {
      "text/plain": [
       "NOT OBSCURED              993110\n",
       "UNKNOWN                   443484\n",
       "OTHER                      16025\n",
       "MOVING VEHICLES            11206\n",
       "PARKED VEHICLES             7082\n",
       "WINDSHIELD (WATER/ICE)      5266\n",
       "BLINDED - SUNLIGHT          2095\n",
       "TREES, PLANTS                793\n",
       "BUILDINGS                    578\n",
       "HILLCREST                    160\n",
       "BLINDED - HEADLIGHTS         150\n",
       "EMBANKMENT                   122\n",
       "BLOWING MATERIALS            116\n",
       "SIGNBOARD                     48\n",
       "Name: DRIVER_VISION, dtype: int64"
      ]
     },
     "execution_count": 129,
     "metadata": {},
     "output_type": "execute_result"
    }
   ],
   "source": [
    "merged2.DRIVER_VISION.value_counts()"
   ]
  },
  {
   "cell_type": "code",
   "execution_count": 130,
   "metadata": {},
   "outputs": [],
   "source": [
    "merged2['DRIVER_VISION'] = merged2.DRIVER_VISION.map({\n",
    "    'NOT OBSCURED': 'Not Obstructed',\n",
    "    'UNKNOWN': 'Unknown/Other',\n",
    "    'OTHER': 'Uknown/Other',\n",
    "    'MOVING VEHICLES': 'Obstructed',\n",
    "    'PARKED VEHICLES': 'Obstructed',\n",
    "    'WINDSHIELD (WATER/ICE)': \"Obstructed\",\n",
    "    'BLINDED - SUNLIGHT': \"Obstructed\",\n",
    "    'TREES, PLANTS': \"Obstructed\",\n",
    "    'BUILDINGS': 'Obstructed',\n",
    "    'HILLCREST': \"Obstructed\",\n",
    "    'BLINDED - HEADLIGHTS': 'Obstructed',\n",
    "    'EMBANKMENT': 'Obstructed',\n",
    "    'BLOWING MATERIALS': 'Obstructed',\n",
    "    'SIGNBOARD': 'Obstructed'\n",
    "})"
   ]
  },
  {
   "cell_type": "code",
   "execution_count": 131,
   "metadata": {},
   "outputs": [
    {
     "data": {
      "text/plain": [
       "Used        936543\n",
       "Unknown     500761\n",
       "Not Used     42931\n",
       "Name: SAFETY_EQUIPMENT, dtype: int64"
      ]
     },
     "execution_count": 131,
     "metadata": {},
     "output_type": "execute_result"
    }
   ],
   "source": [
    "merged2.SAFETY_EQUIPMENT.value_counts()"
   ]
  },
  {
   "cell_type": "code",
   "execution_count": 132,
   "metadata": {},
   "outputs": [
    {
     "data": {
      "text/plain": [
       "0"
      ]
     },
     "execution_count": 132,
     "metadata": {},
     "output_type": "execute_result"
    }
   ],
   "source": [
    "merged2.SAFETY_EQUIPMENT.isna().sum()"
   ]
  },
  {
   "cell_type": "markdown",
   "metadata": {},
   "source": [
    "**Airbag Deployed**"
   ]
  },
  {
   "cell_type": "code",
   "execution_count": 133,
   "metadata": {},
   "outputs": [
    {
     "data": {
      "text/plain": [
       "DID NOT DEPLOY                            999013\n",
       "NOT APPLICABLE                            287010\n",
       "DEPLOYMENT UNKNOWN                         73775\n",
       "DEPLOYED, FRONT                            64015\n",
       "DEPLOYED, COMBINATION                      40455\n",
       "DEPLOYED, SIDE                             15171\n",
       "DEPLOYED OTHER (KNEE, AIR, BELT, ETC.)       796\n",
       "Name: AIRBAG_DEPLOYED, dtype: int64"
      ]
     },
     "execution_count": 133,
     "metadata": {},
     "output_type": "execute_result"
    }
   ],
   "source": [
    "merged2.AIRBAG_DEPLOYED.value_counts()"
   ]
  },
  {
   "cell_type": "code",
   "execution_count": 134,
   "metadata": {},
   "outputs": [],
   "source": [
    "merged2['AIRBAG_DEPLOYED'] = merged2.AIRBAG_DEPLOYED.map({\n",
    "    'DID NOT DEPLOY': 'Not Deployed',\n",
    "    'NOT APPLICABLE': 'Not Deployed',\n",
    "    'DEPLOYMENT UNKNOWN': 'Uknown',\n",
    "    'DEPLOYED, FRONT': 'Deployed',\n",
    "    'DEPLOYED, COMBINATION': 'Deployed',\n",
    "    'DEPLOYED, SIDE': 'Deployed',\n",
    "    'DEPLOYED, OTHER (KNEE, AIR, BELT, ETC.)': 'Deployed'\n",
    "})"
   ]
  },
  {
   "cell_type": "code",
   "execution_count": 135,
   "metadata": {},
   "outputs": [
    {
     "data": {
      "text/plain": [
       "Not Deployed    1286023\n",
       "Deployed         119641\n",
       "Uknown            73775\n",
       "Name: AIRBAG_DEPLOYED, dtype: int64"
      ]
     },
     "execution_count": 135,
     "metadata": {},
     "output_type": "execute_result"
    }
   ],
   "source": [
    "merged2.AIRBAG_DEPLOYED.value_counts()"
   ]
  },
  {
   "cell_type": "code",
   "execution_count": 136,
   "metadata": {},
   "outputs": [
    {
     "data": {
      "text/plain": [
       "0"
      ]
     },
     "execution_count": 136,
     "metadata": {},
     "output_type": "execute_result"
    }
   ],
   "source": [
    "merged2.SAFETY_EQUIPMENT.isna().sum()"
   ]
  },
  {
   "cell_type": "markdown",
   "metadata": {},
   "source": [
    "### Target Preparation\n",
    "Because we are trying to predict if an injury occurred and not how many or severity, our target will be **INJURIES_TOTAL** (INJURIES_FATAL will be dropped). Entries with an injury will be set to 1 and no injuries will be set to 0. "
   ]
  },
  {
   "cell_type": "markdown",
   "metadata": {},
   "source": [
    "**Injuries**"
   ]
  },
  {
   "cell_type": "code",
   "execution_count": 137,
   "metadata": {},
   "outputs": [],
   "source": [
    "merged2.drop('INJURIES_FATAL', axis =1, inplace=True)"
   ]
  },
  {
   "cell_type": "code",
   "execution_count": 139,
   "metadata": {},
   "outputs": [
    {
     "data": {
      "text/plain": [
       "0.0     0.834652\n",
       "1.0     0.109235\n",
       "2.0     0.035326\n",
       "3.0     0.012370\n",
       "4.0     0.004889\n",
       "5.0     0.001900\n",
       "6.0     0.000855\n",
       "7.0     0.000371\n",
       "8.0     0.000185\n",
       "9.0     0.000105\n",
       "10.0    0.000040\n",
       "11.0    0.000015\n",
       "12.0    0.000015\n",
       "16.0    0.000014\n",
       "15.0    0.000011\n",
       "13.0    0.000008\n",
       "21.0    0.000006\n",
       "19.0    0.000003\n",
       "Name: INJURIES_TOTAL, dtype: float64"
      ]
     },
     "execution_count": 139,
     "metadata": {},
     "output_type": "execute_result"
    }
   ],
   "source": [
    "merged2.INJURIES_TOTAL.value_counts(normalize=True)"
   ]
  },
  {
   "cell_type": "code",
   "execution_count": 141,
   "metadata": {},
   "outputs": [],
   "source": [
    "merged2.INJURIES_TOTAL = merged2.INJURIES_TOTAL.apply(lambda x: 0 if x == 0.0 else 1)"
   ]
  },
  {
   "cell_type": "code",
   "execution_count": 143,
   "metadata": {},
   "outputs": [
    {
     "data": {
      "text/plain": [
       "0    0.834652\n",
       "1    0.165348\n",
       "Name: INJURIES_TOTAL, dtype: float64"
      ]
     },
     "execution_count": 143,
     "metadata": {},
     "output_type": "execute_result"
    }
   ],
   "source": [
    "merged2.INJURIES_TOTAL.value_counts(normalize=True)"
   ]
  },
  {
   "cell_type": "code",
   "execution_count": null,
   "metadata": {},
   "outputs": [],
   "source": []
  }
 ],
 "metadata": {
  "kernelspec": {
   "display_name": "Python (learn-env)",
   "language": "python",
   "name": "learn-env"
  },
  "language_info": {
   "codemirror_mode": {
    "name": "ipython",
    "version": 3
   },
   "file_extension": ".py",
   "mimetype": "text/x-python",
   "name": "python",
   "nbconvert_exporter": "python",
   "pygments_lexer": "ipython3",
   "version": "3.8.5"
  }
 },
 "nbformat": 4,
 "nbformat_minor": 4
}
