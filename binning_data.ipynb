{
 "cells": [
  {
   "cell_type": "code",
   "execution_count": 22,
   "metadata": {},
   "outputs": [],
   "source": [
    "import pandas as pd\n",
    "import numpy as np\n",
    "import matplotlib.pyplot as plt\n",
    "%matplotlib inline\n",
    "import seaborn as sns"
   ]
  },
  {
   "cell_type": "markdown",
   "metadata": {},
   "source": [
    "## Binning Data\n",
    "\n",
    "Several of the columns have a high number of unique entries. For categorical columns especially these values/descriptions will be binned inorder to increase future model efficiancy. "
   ]
  },
  {
   "cell_type": "code",
   "execution_count": 23,
   "metadata": {},
   "outputs": [],
   "source": [
    "bins = pd.read_csv('./zippedData/merged_data.csv')"
   ]
  },
  {
   "cell_type": "code",
   "execution_count": 24,
   "metadata": {},
   "outputs": [
    {
     "data": {
      "text/html": [
       "<div>\n",
       "<style scoped>\n",
       "    .dataframe tbody tr th:only-of-type {\n",
       "        vertical-align: middle;\n",
       "    }\n",
       "\n",
       "    .dataframe tbody tr th {\n",
       "        vertical-align: top;\n",
       "    }\n",
       "\n",
       "    .dataframe thead th {\n",
       "        text-align: right;\n",
       "    }\n",
       "</style>\n",
       "<table border=\"1\" class=\"dataframe\">\n",
       "  <thead>\n",
       "    <tr style=\"text-align: right;\">\n",
       "      <th></th>\n",
       "      <th>Unnamed: 0</th>\n",
       "      <th>CRASH_RECORD_ID</th>\n",
       "      <th>POSTED_SPEED_LIMIT</th>\n",
       "      <th>DEVICE_CONDITION</th>\n",
       "      <th>WEATHER_CONDITION</th>\n",
       "      <th>LIGHTING_CONDITION</th>\n",
       "      <th>FIRST_CRASH_TYPE</th>\n",
       "      <th>TRAFFICWAY_TYPE</th>\n",
       "      <th>ROADWAY_SURFACE_COND</th>\n",
       "      <th>INJURIES_TOTAL</th>\n",
       "      <th>...</th>\n",
       "      <th>VEHICLE_TYPE</th>\n",
       "      <th>VEHICLE_USE</th>\n",
       "      <th>MANEUVER</th>\n",
       "      <th>OCCUPANT_CNT</th>\n",
       "      <th>PERSON_TYPE</th>\n",
       "      <th>SEX</th>\n",
       "      <th>AGE</th>\n",
       "      <th>SAFETY_EQUIPMENT</th>\n",
       "      <th>AIRBAG_DEPLOYED</th>\n",
       "      <th>DRIVER_VISION</th>\n",
       "    </tr>\n",
       "  </thead>\n",
       "  <tbody>\n",
       "    <tr>\n",
       "      <th>0</th>\n",
       "      <td>3</td>\n",
       "      <td>0115ade9a755e835255508463f7e9c4a9a0b47e9304238...</td>\n",
       "      <td>30</td>\n",
       "      <td>UNKNOWN</td>\n",
       "      <td>CLEAR</td>\n",
       "      <td>DARKNESS, LIGHTED ROAD</td>\n",
       "      <td>ANGLE</td>\n",
       "      <td>NOT DIVIDED</td>\n",
       "      <td>DRY</td>\n",
       "      <td>0.0</td>\n",
       "      <td>...</td>\n",
       "      <td>UNKNOWN/NA</td>\n",
       "      <td>UNKNOWN/NA</td>\n",
       "      <td>STRAIGHT AHEAD</td>\n",
       "      <td>1.0</td>\n",
       "      <td>DRIVER</td>\n",
       "      <td>M</td>\n",
       "      <td>62.0</td>\n",
       "      <td>USAGE UNKNOWN</td>\n",
       "      <td>NOT APPLICABLE</td>\n",
       "      <td>UNKNOWN</td>\n",
       "    </tr>\n",
       "    <tr>\n",
       "      <th>1</th>\n",
       "      <td>4</td>\n",
       "      <td>017040c61958d2fa977c956b2bd2d6759ef7754496dc96...</td>\n",
       "      <td>30</td>\n",
       "      <td>FUNCTIONING PROPERLY</td>\n",
       "      <td>CLEAR</td>\n",
       "      <td>DAYLIGHT</td>\n",
       "      <td>REAR END</td>\n",
       "      <td>NOT DIVIDED</td>\n",
       "      <td>DRY</td>\n",
       "      <td>0.0</td>\n",
       "      <td>...</td>\n",
       "      <td>PASSENGER</td>\n",
       "      <td>PERSONAL</td>\n",
       "      <td>SLOW/STOP IN TRAFFIC</td>\n",
       "      <td>1.0</td>\n",
       "      <td>DRIVER</td>\n",
       "      <td>F</td>\n",
       "      <td>58.0</td>\n",
       "      <td>USAGE UNKNOWN</td>\n",
       "      <td>DID NOT DEPLOY</td>\n",
       "      <td>UNKNOWN</td>\n",
       "    </tr>\n",
       "    <tr>\n",
       "      <th>2</th>\n",
       "      <td>5</td>\n",
       "      <td>017040c61958d2fa977c956b2bd2d6759ef7754496dc96...</td>\n",
       "      <td>30</td>\n",
       "      <td>FUNCTIONING PROPERLY</td>\n",
       "      <td>CLEAR</td>\n",
       "      <td>DAYLIGHT</td>\n",
       "      <td>REAR END</td>\n",
       "      <td>NOT DIVIDED</td>\n",
       "      <td>DRY</td>\n",
       "      <td>0.0</td>\n",
       "      <td>...</td>\n",
       "      <td>PASSENGER</td>\n",
       "      <td>PERSONAL</td>\n",
       "      <td>SLOW/STOP IN TRAFFIC</td>\n",
       "      <td>1.0</td>\n",
       "      <td>DRIVER</td>\n",
       "      <td>M</td>\n",
       "      <td>49.0</td>\n",
       "      <td>USAGE UNKNOWN</td>\n",
       "      <td>DID NOT DEPLOY</td>\n",
       "      <td>UNKNOWN</td>\n",
       "    </tr>\n",
       "    <tr>\n",
       "      <th>3</th>\n",
       "      <td>6</td>\n",
       "      <td>017040c61958d2fa977c956b2bd2d6759ef7754496dc96...</td>\n",
       "      <td>30</td>\n",
       "      <td>FUNCTIONING PROPERLY</td>\n",
       "      <td>CLEAR</td>\n",
       "      <td>DAYLIGHT</td>\n",
       "      <td>REAR END</td>\n",
       "      <td>NOT DIVIDED</td>\n",
       "      <td>DRY</td>\n",
       "      <td>0.0</td>\n",
       "      <td>...</td>\n",
       "      <td>PASSENGER</td>\n",
       "      <td>PERSONAL</td>\n",
       "      <td>SLOW/STOP IN TRAFFIC</td>\n",
       "      <td>1.0</td>\n",
       "      <td>DRIVER</td>\n",
       "      <td>F</td>\n",
       "      <td>58.0</td>\n",
       "      <td>USAGE UNKNOWN</td>\n",
       "      <td>DID NOT DEPLOY</td>\n",
       "      <td>UNKNOWN</td>\n",
       "    </tr>\n",
       "    <tr>\n",
       "      <th>4</th>\n",
       "      <td>7</td>\n",
       "      <td>017040c61958d2fa977c956b2bd2d6759ef7754496dc96...</td>\n",
       "      <td>30</td>\n",
       "      <td>FUNCTIONING PROPERLY</td>\n",
       "      <td>CLEAR</td>\n",
       "      <td>DAYLIGHT</td>\n",
       "      <td>REAR END</td>\n",
       "      <td>NOT DIVIDED</td>\n",
       "      <td>DRY</td>\n",
       "      <td>0.0</td>\n",
       "      <td>...</td>\n",
       "      <td>PASSENGER</td>\n",
       "      <td>PERSONAL</td>\n",
       "      <td>SLOW/STOP IN TRAFFIC</td>\n",
       "      <td>1.0</td>\n",
       "      <td>DRIVER</td>\n",
       "      <td>M</td>\n",
       "      <td>49.0</td>\n",
       "      <td>USAGE UNKNOWN</td>\n",
       "      <td>DID NOT DEPLOY</td>\n",
       "      <td>UNKNOWN</td>\n",
       "    </tr>\n",
       "  </tbody>\n",
       "</table>\n",
       "<p>5 rows × 29 columns</p>\n",
       "</div>"
      ],
      "text/plain": [
       "   Unnamed: 0                                    CRASH_RECORD_ID  \\\n",
       "0           3  0115ade9a755e835255508463f7e9c4a9a0b47e9304238...   \n",
       "1           4  017040c61958d2fa977c956b2bd2d6759ef7754496dc96...   \n",
       "2           5  017040c61958d2fa977c956b2bd2d6759ef7754496dc96...   \n",
       "3           6  017040c61958d2fa977c956b2bd2d6759ef7754496dc96...   \n",
       "4           7  017040c61958d2fa977c956b2bd2d6759ef7754496dc96...   \n",
       "\n",
       "   POSTED_SPEED_LIMIT      DEVICE_CONDITION WEATHER_CONDITION  \\\n",
       "0                  30               UNKNOWN             CLEAR   \n",
       "1                  30  FUNCTIONING PROPERLY             CLEAR   \n",
       "2                  30  FUNCTIONING PROPERLY             CLEAR   \n",
       "3                  30  FUNCTIONING PROPERLY             CLEAR   \n",
       "4                  30  FUNCTIONING PROPERLY             CLEAR   \n",
       "\n",
       "       LIGHTING_CONDITION FIRST_CRASH_TYPE TRAFFICWAY_TYPE  \\\n",
       "0  DARKNESS, LIGHTED ROAD            ANGLE     NOT DIVIDED   \n",
       "1                DAYLIGHT         REAR END     NOT DIVIDED   \n",
       "2                DAYLIGHT         REAR END     NOT DIVIDED   \n",
       "3                DAYLIGHT         REAR END     NOT DIVIDED   \n",
       "4                DAYLIGHT         REAR END     NOT DIVIDED   \n",
       "\n",
       "  ROADWAY_SURFACE_COND  INJURIES_TOTAL  ...  VEHICLE_TYPE  VEHICLE_USE  \\\n",
       "0                  DRY             0.0  ...    UNKNOWN/NA   UNKNOWN/NA   \n",
       "1                  DRY             0.0  ...     PASSENGER     PERSONAL   \n",
       "2                  DRY             0.0  ...     PASSENGER     PERSONAL   \n",
       "3                  DRY             0.0  ...     PASSENGER     PERSONAL   \n",
       "4                  DRY             0.0  ...     PASSENGER     PERSONAL   \n",
       "\n",
       "               MANEUVER  OCCUPANT_CNT  PERSON_TYPE  SEX   AGE  \\\n",
       "0        STRAIGHT AHEAD           1.0       DRIVER    M  62.0   \n",
       "1  SLOW/STOP IN TRAFFIC           1.0       DRIVER    F  58.0   \n",
       "2  SLOW/STOP IN TRAFFIC           1.0       DRIVER    M  49.0   \n",
       "3  SLOW/STOP IN TRAFFIC           1.0       DRIVER    F  58.0   \n",
       "4  SLOW/STOP IN TRAFFIC           1.0       DRIVER    M  49.0   \n",
       "\n",
       "  SAFETY_EQUIPMENT  AIRBAG_DEPLOYED DRIVER_VISION  \n",
       "0    USAGE UNKNOWN   NOT APPLICABLE       UNKNOWN  \n",
       "1    USAGE UNKNOWN   DID NOT DEPLOY       UNKNOWN  \n",
       "2    USAGE UNKNOWN   DID NOT DEPLOY       UNKNOWN  \n",
       "3    USAGE UNKNOWN   DID NOT DEPLOY       UNKNOWN  \n",
       "4    USAGE UNKNOWN   DID NOT DEPLOY       UNKNOWN  \n",
       "\n",
       "[5 rows x 29 columns]"
      ]
     },
     "execution_count": 24,
     "metadata": {},
     "output_type": "execute_result"
    }
   ],
   "source": [
    "bins.head()"
   ]
  },
  {
   "cell_type": "code",
   "execution_count": 25,
   "metadata": {},
   "outputs": [],
   "source": [
    "bins.drop('Unnamed: 0', axis =1, inplace=True)"
   ]
  },
  {
   "cell_type": "code",
   "execution_count": 26,
   "metadata": {},
   "outputs": [
    {
     "data": {
      "text/html": [
       "<div>\n",
       "<style scoped>\n",
       "    .dataframe tbody tr th:only-of-type {\n",
       "        vertical-align: middle;\n",
       "    }\n",
       "\n",
       "    .dataframe tbody tr th {\n",
       "        vertical-align: top;\n",
       "    }\n",
       "\n",
       "    .dataframe thead th {\n",
       "        text-align: right;\n",
       "    }\n",
       "</style>\n",
       "<table border=\"1\" class=\"dataframe\">\n",
       "  <thead>\n",
       "    <tr style=\"text-align: right;\">\n",
       "      <th></th>\n",
       "      <th>CRASH_RECORD_ID</th>\n",
       "      <th>POSTED_SPEED_LIMIT</th>\n",
       "      <th>DEVICE_CONDITION</th>\n",
       "      <th>WEATHER_CONDITION</th>\n",
       "      <th>LIGHTING_CONDITION</th>\n",
       "      <th>FIRST_CRASH_TYPE</th>\n",
       "      <th>TRAFFICWAY_TYPE</th>\n",
       "      <th>ROADWAY_SURFACE_COND</th>\n",
       "      <th>INJURIES_TOTAL</th>\n",
       "      <th>INJURIES_FATAL</th>\n",
       "      <th>...</th>\n",
       "      <th>VEHICLE_TYPE</th>\n",
       "      <th>VEHICLE_USE</th>\n",
       "      <th>MANEUVER</th>\n",
       "      <th>OCCUPANT_CNT</th>\n",
       "      <th>PERSON_TYPE</th>\n",
       "      <th>SEX</th>\n",
       "      <th>AGE</th>\n",
       "      <th>SAFETY_EQUIPMENT</th>\n",
       "      <th>AIRBAG_DEPLOYED</th>\n",
       "      <th>DRIVER_VISION</th>\n",
       "    </tr>\n",
       "  </thead>\n",
       "  <tbody>\n",
       "    <tr>\n",
       "      <th>0</th>\n",
       "      <td>0115ade9a755e835255508463f7e9c4a9a0b47e9304238...</td>\n",
       "      <td>30</td>\n",
       "      <td>UNKNOWN</td>\n",
       "      <td>CLEAR</td>\n",
       "      <td>DARKNESS, LIGHTED ROAD</td>\n",
       "      <td>ANGLE</td>\n",
       "      <td>NOT DIVIDED</td>\n",
       "      <td>DRY</td>\n",
       "      <td>0.0</td>\n",
       "      <td>0.0</td>\n",
       "      <td>...</td>\n",
       "      <td>UNKNOWN/NA</td>\n",
       "      <td>UNKNOWN/NA</td>\n",
       "      <td>STRAIGHT AHEAD</td>\n",
       "      <td>1.0</td>\n",
       "      <td>DRIVER</td>\n",
       "      <td>M</td>\n",
       "      <td>62.0</td>\n",
       "      <td>USAGE UNKNOWN</td>\n",
       "      <td>NOT APPLICABLE</td>\n",
       "      <td>UNKNOWN</td>\n",
       "    </tr>\n",
       "    <tr>\n",
       "      <th>1</th>\n",
       "      <td>017040c61958d2fa977c956b2bd2d6759ef7754496dc96...</td>\n",
       "      <td>30</td>\n",
       "      <td>FUNCTIONING PROPERLY</td>\n",
       "      <td>CLEAR</td>\n",
       "      <td>DAYLIGHT</td>\n",
       "      <td>REAR END</td>\n",
       "      <td>NOT DIVIDED</td>\n",
       "      <td>DRY</td>\n",
       "      <td>0.0</td>\n",
       "      <td>0.0</td>\n",
       "      <td>...</td>\n",
       "      <td>PASSENGER</td>\n",
       "      <td>PERSONAL</td>\n",
       "      <td>SLOW/STOP IN TRAFFIC</td>\n",
       "      <td>1.0</td>\n",
       "      <td>DRIVER</td>\n",
       "      <td>F</td>\n",
       "      <td>58.0</td>\n",
       "      <td>USAGE UNKNOWN</td>\n",
       "      <td>DID NOT DEPLOY</td>\n",
       "      <td>UNKNOWN</td>\n",
       "    </tr>\n",
       "    <tr>\n",
       "      <th>2</th>\n",
       "      <td>017040c61958d2fa977c956b2bd2d6759ef7754496dc96...</td>\n",
       "      <td>30</td>\n",
       "      <td>FUNCTIONING PROPERLY</td>\n",
       "      <td>CLEAR</td>\n",
       "      <td>DAYLIGHT</td>\n",
       "      <td>REAR END</td>\n",
       "      <td>NOT DIVIDED</td>\n",
       "      <td>DRY</td>\n",
       "      <td>0.0</td>\n",
       "      <td>0.0</td>\n",
       "      <td>...</td>\n",
       "      <td>PASSENGER</td>\n",
       "      <td>PERSONAL</td>\n",
       "      <td>SLOW/STOP IN TRAFFIC</td>\n",
       "      <td>1.0</td>\n",
       "      <td>DRIVER</td>\n",
       "      <td>M</td>\n",
       "      <td>49.0</td>\n",
       "      <td>USAGE UNKNOWN</td>\n",
       "      <td>DID NOT DEPLOY</td>\n",
       "      <td>UNKNOWN</td>\n",
       "    </tr>\n",
       "    <tr>\n",
       "      <th>3</th>\n",
       "      <td>017040c61958d2fa977c956b2bd2d6759ef7754496dc96...</td>\n",
       "      <td>30</td>\n",
       "      <td>FUNCTIONING PROPERLY</td>\n",
       "      <td>CLEAR</td>\n",
       "      <td>DAYLIGHT</td>\n",
       "      <td>REAR END</td>\n",
       "      <td>NOT DIVIDED</td>\n",
       "      <td>DRY</td>\n",
       "      <td>0.0</td>\n",
       "      <td>0.0</td>\n",
       "      <td>...</td>\n",
       "      <td>PASSENGER</td>\n",
       "      <td>PERSONAL</td>\n",
       "      <td>SLOW/STOP IN TRAFFIC</td>\n",
       "      <td>1.0</td>\n",
       "      <td>DRIVER</td>\n",
       "      <td>F</td>\n",
       "      <td>58.0</td>\n",
       "      <td>USAGE UNKNOWN</td>\n",
       "      <td>DID NOT DEPLOY</td>\n",
       "      <td>UNKNOWN</td>\n",
       "    </tr>\n",
       "    <tr>\n",
       "      <th>4</th>\n",
       "      <td>017040c61958d2fa977c956b2bd2d6759ef7754496dc96...</td>\n",
       "      <td>30</td>\n",
       "      <td>FUNCTIONING PROPERLY</td>\n",
       "      <td>CLEAR</td>\n",
       "      <td>DAYLIGHT</td>\n",
       "      <td>REAR END</td>\n",
       "      <td>NOT DIVIDED</td>\n",
       "      <td>DRY</td>\n",
       "      <td>0.0</td>\n",
       "      <td>0.0</td>\n",
       "      <td>...</td>\n",
       "      <td>PASSENGER</td>\n",
       "      <td>PERSONAL</td>\n",
       "      <td>SLOW/STOP IN TRAFFIC</td>\n",
       "      <td>1.0</td>\n",
       "      <td>DRIVER</td>\n",
       "      <td>M</td>\n",
       "      <td>49.0</td>\n",
       "      <td>USAGE UNKNOWN</td>\n",
       "      <td>DID NOT DEPLOY</td>\n",
       "      <td>UNKNOWN</td>\n",
       "    </tr>\n",
       "  </tbody>\n",
       "</table>\n",
       "<p>5 rows × 28 columns</p>\n",
       "</div>"
      ],
      "text/plain": [
       "                                     CRASH_RECORD_ID  POSTED_SPEED_LIMIT  \\\n",
       "0  0115ade9a755e835255508463f7e9c4a9a0b47e9304238...                  30   \n",
       "1  017040c61958d2fa977c956b2bd2d6759ef7754496dc96...                  30   \n",
       "2  017040c61958d2fa977c956b2bd2d6759ef7754496dc96...                  30   \n",
       "3  017040c61958d2fa977c956b2bd2d6759ef7754496dc96...                  30   \n",
       "4  017040c61958d2fa977c956b2bd2d6759ef7754496dc96...                  30   \n",
       "\n",
       "       DEVICE_CONDITION WEATHER_CONDITION      LIGHTING_CONDITION  \\\n",
       "0               UNKNOWN             CLEAR  DARKNESS, LIGHTED ROAD   \n",
       "1  FUNCTIONING PROPERLY             CLEAR                DAYLIGHT   \n",
       "2  FUNCTIONING PROPERLY             CLEAR                DAYLIGHT   \n",
       "3  FUNCTIONING PROPERLY             CLEAR                DAYLIGHT   \n",
       "4  FUNCTIONING PROPERLY             CLEAR                DAYLIGHT   \n",
       "\n",
       "  FIRST_CRASH_TYPE TRAFFICWAY_TYPE ROADWAY_SURFACE_COND  INJURIES_TOTAL  \\\n",
       "0            ANGLE     NOT DIVIDED                  DRY             0.0   \n",
       "1         REAR END     NOT DIVIDED                  DRY             0.0   \n",
       "2         REAR END     NOT DIVIDED                  DRY             0.0   \n",
       "3         REAR END     NOT DIVIDED                  DRY             0.0   \n",
       "4         REAR END     NOT DIVIDED                  DRY             0.0   \n",
       "\n",
       "   INJURIES_FATAL  ...  VEHICLE_TYPE  VEHICLE_USE              MANEUVER  \\\n",
       "0             0.0  ...    UNKNOWN/NA   UNKNOWN/NA        STRAIGHT AHEAD   \n",
       "1             0.0  ...     PASSENGER     PERSONAL  SLOW/STOP IN TRAFFIC   \n",
       "2             0.0  ...     PASSENGER     PERSONAL  SLOW/STOP IN TRAFFIC   \n",
       "3             0.0  ...     PASSENGER     PERSONAL  SLOW/STOP IN TRAFFIC   \n",
       "4             0.0  ...     PASSENGER     PERSONAL  SLOW/STOP IN TRAFFIC   \n",
       "\n",
       "   OCCUPANT_CNT  PERSON_TYPE  SEX   AGE  SAFETY_EQUIPMENT AIRBAG_DEPLOYED  \\\n",
       "0           1.0       DRIVER    M  62.0     USAGE UNKNOWN  NOT APPLICABLE   \n",
       "1           1.0       DRIVER    F  58.0     USAGE UNKNOWN  DID NOT DEPLOY   \n",
       "2           1.0       DRIVER    M  49.0     USAGE UNKNOWN  DID NOT DEPLOY   \n",
       "3           1.0       DRIVER    F  58.0     USAGE UNKNOWN  DID NOT DEPLOY   \n",
       "4           1.0       DRIVER    M  49.0     USAGE UNKNOWN  DID NOT DEPLOY   \n",
       "\n",
       "  DRIVER_VISION  \n",
       "0       UNKNOWN  \n",
       "1       UNKNOWN  \n",
       "2       UNKNOWN  \n",
       "3       UNKNOWN  \n",
       "4       UNKNOWN  \n",
       "\n",
       "[5 rows x 28 columns]"
      ]
     },
     "execution_count": 26,
     "metadata": {},
     "output_type": "execute_result"
    }
   ],
   "source": [
    "bins.head()"
   ]
  },
  {
   "cell_type": "code",
   "execution_count": 27,
   "metadata": {},
   "outputs": [
    {
     "name": "stdout",
     "output_type": "stream",
     "text": [
      "<class 'pandas.core.frame.DataFrame'>\n",
      "RangeIndex: 1494235 entries, 0 to 1494234\n",
      "Data columns (total 28 columns):\n",
      " #   Column                Non-Null Count    Dtype  \n",
      "---  ------                --------------    -----  \n",
      " 0   CRASH_RECORD_ID       1494235 non-null  object \n",
      " 1   POSTED_SPEED_LIMIT    1494235 non-null  int64  \n",
      " 2   DEVICE_CONDITION      1494235 non-null  object \n",
      " 3   WEATHER_CONDITION     1494235 non-null  object \n",
      " 4   LIGHTING_CONDITION    1494235 non-null  object \n",
      " 5   FIRST_CRASH_TYPE      1494235 non-null  object \n",
      " 6   TRAFFICWAY_TYPE       1494235 non-null  object \n",
      " 7   ROADWAY_SURFACE_COND  1494235 non-null  object \n",
      " 8   INJURIES_TOTAL        1494235 non-null  float64\n",
      " 9   INJURIES_FATAL        1494235 non-null  float64\n",
      " 10  CRASH_HOUR            1494235 non-null  int64  \n",
      " 11  CRASH_DAY_OF_WEEK     1494235 non-null  int64  \n",
      " 12  CRASH_MONTH           1494235 non-null  int64  \n",
      " 13  LATITUDE              1494235 non-null  float64\n",
      " 14  LONGITUDE             1494235 non-null  float64\n",
      " 15  UNIT_NO               1494235 non-null  int64  \n",
      " 16  UNIT_TYPE             1494235 non-null  object \n",
      " 17  VEHICLE_YEAR          1494235 non-null  float64\n",
      " 18  VEHICLE_TYPE          1494235 non-null  object \n",
      " 19  VEHICLE_USE           1494235 non-null  object \n",
      " 20  MANEUVER              1494235 non-null  object \n",
      " 21  OCCUPANT_CNT          1494235 non-null  float64\n",
      " 22  PERSON_TYPE           1494235 non-null  object \n",
      " 23  SEX                   1494235 non-null  object \n",
      " 24  AGE                   1494235 non-null  float64\n",
      " 25  SAFETY_EQUIPMENT      1494235 non-null  object \n",
      " 26  AIRBAG_DEPLOYED       1494235 non-null  object \n",
      " 27  DRIVER_VISION         1494235 non-null  object \n",
      "dtypes: float64(7), int64(5), object(16)\n",
      "memory usage: 319.2+ MB\n"
     ]
    }
   ],
   "source": [
    "bins.info()"
   ]
  },
  {
   "cell_type": "markdown",
   "metadata": {},
   "source": [
    "**Device Condition**"
   ]
  },
  {
   "cell_type": "code",
   "execution_count": 28,
   "metadata": {},
   "outputs": [
    {
     "data": {
      "text/plain": [
       "NO CONTROLS                 743840\n",
       "FUNCTIONING PROPERLY        647043\n",
       "UNKNOWN                      75962\n",
       "OTHER                        12100\n",
       "FUNCTIONING IMPROPERLY        9211\n",
       "NOT FUNCTIONING               5174\n",
       "WORN REFLECTIVE MATERIAL       686\n",
       "MISSING                        219\n",
       "Name: DEVICE_CONDITION, dtype: int64"
      ]
     },
     "execution_count": 28,
     "metadata": {},
     "output_type": "execute_result"
    }
   ],
   "source": [
    "bins.DEVICE_CONDITION.value_counts()\n",
    "#Condition of traffic control device, as determined by reporting officer"
   ]
  },
  {
   "cell_type": "code",
   "execution_count": 29,
   "metadata": {},
   "outputs": [],
   "source": [
    "bins['DEVICE_CONDITION'] = bins.DEVICE_CONDITION.map({\n",
    "    'NO CONTROLS':'Not Working',\n",
    "    'FUNCTIONING PROPERLY':'Working', \n",
    "    'UNKNOWN': 'Unknown',\n",
    "    'OTHER': 'Unknown',\n",
    "    'FUNCTIONING IMPROPERLY': 'Not Working',\n",
    "    'NOT FUNCTIONING': 'Not Working',\n",
    "    'WORN REFLECTIVE MATERIAL': 'Working',\n",
    "    'MISSING': 'Unknown' \n",
    "})"
   ]
  },
  {
   "cell_type": "code",
   "execution_count": 30,
   "metadata": {},
   "outputs": [
    {
     "data": {
      "text/plain": [
       "Not Working    758225\n",
       "Working        647729\n",
       "Unknown         88281\n",
       "Name: DEVICE_CONDITION, dtype: int64"
      ]
     },
     "execution_count": 30,
     "metadata": {},
     "output_type": "execute_result"
    }
   ],
   "source": [
    "bins.DEVICE_CONDITION.value_counts()"
   ]
  },
  {
   "cell_type": "code",
   "execution_count": 31,
   "metadata": {},
   "outputs": [
    {
     "data": {
      "text/plain": [
       "0"
      ]
     },
     "execution_count": 31,
     "metadata": {},
     "output_type": "execute_result"
    }
   ],
   "source": [
    "bins.DEVICE_CONDITION.isna().sum()"
   ]
  },
  {
   "cell_type": "markdown",
   "metadata": {},
   "source": [
    "**Posted Speed Limit**"
   ]
  },
  {
   "cell_type": "code",
   "execution_count": 32,
   "metadata": {},
   "outputs": [
    {
     "data": {
      "text/plain": [
       "30    1148720\n",
       "35     114914\n",
       "25      79685\n",
       "20      42373\n",
       "15      34014\n",
       "10      20993\n",
       "40      19212\n",
       "0       13793\n",
       "45      11178\n",
       "5        6262\n",
       "55       1342\n",
       "50        376\n",
       "3         372\n",
       "9         196\n",
       "39        167\n",
       "99        165\n",
       "1          72\n",
       "60         70\n",
       "24         61\n",
       "32         42\n",
       "2          38\n",
       "34         32\n",
       "33         24\n",
       "65         18\n",
       "11         18\n",
       "7          15\n",
       "6          14\n",
       "36         11\n",
       "14          8\n",
       "31          8\n",
       "12          6\n",
       "29          6\n",
       "18          4\n",
       "22          4\n",
       "63          4\n",
       "4           4\n",
       "70          4\n",
       "38          3\n",
       "62          2\n",
       "23          2\n",
       "26          2\n",
       "49          1\n",
       "Name: POSTED_SPEED_LIMIT, dtype: int64"
      ]
     },
     "execution_count": 32,
     "metadata": {},
     "output_type": "execute_result"
    }
   ],
   "source": [
    "bins.POSTED_SPEED_LIMIT.value_counts()"
   ]
  },
  {
   "cell_type": "code",
   "execution_count": 33,
   "metadata": {},
   "outputs": [],
   "source": [
    "speed_bins = [-1, 30, 60, 100]\n",
    "speed_labels = ['0-30', '30-60', '60-100']"
   ]
  },
  {
   "cell_type": "code",
   "execution_count": 34,
   "metadata": {},
   "outputs": [],
   "source": [
    "bins.POSTED_SPEED_LIMIT = pd.cut(x=bins.POSTED_SPEED_LIMIT, \n",
    "                                    bins= speed_bins,\n",
    "                                    labels = speed_labels\n",
    "                                   ,)\n",
    "                                   "
   ]
  },
  {
   "cell_type": "code",
   "execution_count": 35,
   "metadata": {},
   "outputs": [
    {
     "data": {
      "text/plain": [
       "0-30      1346662\n",
       "30-60      147380\n",
       "60-100        193\n",
       "Name: POSTED_SPEED_LIMIT, dtype: int64"
      ]
     },
     "execution_count": 35,
     "metadata": {},
     "output_type": "execute_result"
    }
   ],
   "source": [
    "bins.POSTED_SPEED_LIMIT.value_counts()"
   ]
  },
  {
   "cell_type": "code",
   "execution_count": 36,
   "metadata": {},
   "outputs": [
    {
     "data": {
      "text/plain": [
       "0"
      ]
     },
     "execution_count": 36,
     "metadata": {},
     "output_type": "execute_result"
    }
   ],
   "source": [
    "bins.POSTED_SPEED_LIMIT.isna().sum()"
   ]
  },
  {
   "cell_type": "markdown",
   "metadata": {},
   "source": [
    "**Weather Condition**"
   ]
  },
  {
   "cell_type": "code",
   "execution_count": 37,
   "metadata": {},
   "outputs": [
    {
     "data": {
      "text/plain": [
       "CLEAR                       1199409\n",
       "RAIN                         142735\n",
       "SNOW                          53393\n",
       "CLOUDY/OVERCAST               49859\n",
       "UNKNOWN                       36373\n",
       "OTHER                          4754\n",
       "FREEZING RAIN/DRIZZLE          2465\n",
       "SLEET/HAIL                     2180\n",
       "FOG/SMOKE/HAZE                 2123\n",
       "BLOWING SNOW                    667\n",
       "SEVERE CROSS WIND GATE          261\n",
       "BLOWING SAND, SOIL, DIRT         16\n",
       "Name: WEATHER_CONDITION, dtype: int64"
      ]
     },
     "execution_count": 37,
     "metadata": {},
     "output_type": "execute_result"
    }
   ],
   "source": [
    "bins.WEATHER_CONDITION.value_counts()"
   ]
  },
  {
   "cell_type": "code",
   "execution_count": 38,
   "metadata": {},
   "outputs": [],
   "source": [
    "bins['WEATHER_CONDITION'] = bins.WEATHER_CONDITION.map({\n",
    "    'CLEAR':'Clear',\n",
    "    'RAIN':'Rain/Sleet/Snow', \n",
    "    'SNOW': 'Rain/Sleet/Snow',\n",
    "    'CLOUDY/OVERCAST': 'Cloudy',\n",
    "    'UNKNOWN': 'Other/Unknown',\n",
    "    'OTHER': 'Other/Unknown',\n",
    "    'FREEZING RAIN/DRIZZLE':'Rain/Sleet/Snow',\n",
    "    'SLEET/HAIL': 'Rain/Sleet/Snow',\n",
    "    'FOG/SMOKE/HAZE': 'Fog/Smoke/Haze',\n",
    "    'BLOWING SNOW':'Rain/Sleet/Snow', \n",
    "    'SEVERE CROSS WIND GATE': 'Windy',\n",
    "    'BLOWING SAND, SOIL, DIRT': 'Windy'\n",
    "})"
   ]
  },
  {
   "cell_type": "code",
   "execution_count": 39,
   "metadata": {},
   "outputs": [
    {
     "data": {
      "text/plain": [
       "Clear              1199409\n",
       "Rain/Sleet/Snow     201440\n",
       "Cloudy               49859\n",
       "Other/Unknown        41127\n",
       "Fog/Smoke/Haze        2123\n",
       "Windy                  277\n",
       "Name: WEATHER_CONDITION, dtype: int64"
      ]
     },
     "execution_count": 39,
     "metadata": {},
     "output_type": "execute_result"
    }
   ],
   "source": [
    "bins.WEATHER_CONDITION.value_counts()"
   ]
  },
  {
   "cell_type": "code",
   "execution_count": 40,
   "metadata": {},
   "outputs": [
    {
     "data": {
      "text/plain": [
       "0"
      ]
     },
     "execution_count": 40,
     "metadata": {},
     "output_type": "execute_result"
    }
   ],
   "source": [
    "bins.WEATHER_CONDITION.isna().sum()"
   ]
  },
  {
   "cell_type": "markdown",
   "metadata": {},
   "source": [
    "**Lighting Condition**"
   ]
  },
  {
   "cell_type": "code",
   "execution_count": 41,
   "metadata": {},
   "outputs": [
    {
     "data": {
      "text/plain": [
       "DAYLIGHT                  1034848\n",
       "DARKNESS, LIGHTED ROAD     307958\n",
       "DARKNESS                    58619\n",
       "DUSK                        45534\n",
       "DAWN                        23922\n",
       "UNKNOWN                     23354\n",
       "Name: LIGHTING_CONDITION, dtype: int64"
      ]
     },
     "execution_count": 41,
     "metadata": {},
     "output_type": "execute_result"
    }
   ],
   "source": [
    "bins.LIGHTING_CONDITION.value_counts()"
   ]
  },
  {
   "cell_type": "code",
   "execution_count": 42,
   "metadata": {},
   "outputs": [],
   "source": [
    "bins['LIGHTING_CONDITION'] = bins.LIGHTING_CONDITION.map({\n",
    "    'DAYLIGHT':'Day',\n",
    "    'DARKNESS, LIGHTED ROAD':'Night', \n",
    "    'DARKNESS': 'Night',\n",
    "    'DUSK': 'Night',\n",
    "    'DAWN': 'Day',\n",
    "    'UNKNOWN': 'Unknown',\n",
    "\n",
    "})"
   ]
  },
  {
   "cell_type": "code",
   "execution_count": 43,
   "metadata": {},
   "outputs": [
    {
     "data": {
      "text/plain": [
       "Day        1058770\n",
       "Night       412111\n",
       "Unknown      23354\n",
       "Name: LIGHTING_CONDITION, dtype: int64"
      ]
     },
     "execution_count": 43,
     "metadata": {},
     "output_type": "execute_result"
    }
   ],
   "source": [
    "bins.LIGHTING_CONDITION.value_counts()"
   ]
  },
  {
   "cell_type": "code",
   "execution_count": 44,
   "metadata": {},
   "outputs": [
    {
     "data": {
      "text/plain": [
       "0"
      ]
     },
     "execution_count": 44,
     "metadata": {},
     "output_type": "execute_result"
    }
   ],
   "source": [
    "bins.LIGHTING_CONDITION.isna().sum()"
   ]
  },
  {
   "cell_type": "markdown",
   "metadata": {},
   "source": [
    "**Crash Type**"
   ]
  },
  {
   "cell_type": "code",
   "execution_count": 45,
   "metadata": {},
   "outputs": [
    {
     "data": {
      "text/plain": [
       "REAR END                        479779\n",
       "TURNING                         288785\n",
       "SIDESWIPE SAME DIRECTION        275420\n",
       "ANGLE                           220738\n",
       "PARKED MOTOR VEHICLE            113986\n",
       "SIDESWIPE OPPOSITE DIRECTION     26012\n",
       "FIXED OBJECT                     23179\n",
       "HEAD ON                          17685\n",
       "REAR TO FRONT                    14018\n",
       "REAR TO SIDE                      9353\n",
       "PEDESTRIAN                        8430\n",
       "PEDALCYCLIST                      5816\n",
       "OTHER OBJECT                      5264\n",
       "REAR TO REAR                      3152\n",
       "OTHER NONCOLLISION                1876\n",
       "OVERTURNED                         384\n",
       "ANIMAL                             315\n",
       "TRAIN                               43\n",
       "Name: FIRST_CRASH_TYPE, dtype: int64"
      ]
     },
     "execution_count": 45,
     "metadata": {},
     "output_type": "execute_result"
    }
   ],
   "source": [
    "bins.FIRST_CRASH_TYPE.value_counts()"
   ]
  },
  {
   "cell_type": "code",
   "execution_count": 46,
   "metadata": {},
   "outputs": [],
   "source": [
    "bins['FIRST_CRASH_TYPE'] = bins.FIRST_CRASH_TYPE.map({\n",
    "    'REAR END':'Moving',\n",
    "    'TURNING':'Moving', \n",
    "    'SIDESWIPE SAME DIRECTION': 'Moving',\n",
    "    'ANGLE': 'Moving',\n",
    "    'PARKED MOTOR VEHICLE': 'Stationary',\n",
    "    'SIDESWIPE OPPOSITE DIRECTION': 'Moving',\n",
    "    'FIXED OBJECT':'Stationary', \n",
    "    'HEAD ON': 'Moving',\n",
    "    'REAR TO FRONT': 'Moving',\n",
    "    'REAR TO SIDE': 'Moving',\n",
    "    'PEDESTRIAN': 'Object/Person',\n",
    "    'PEDALCYCLIST': 'Object/Person',\n",
    "    'OTHER OBJECT':'Object/Person', \n",
    "    'REAR TO REAR': 'Moving',\n",
    "    'OTHER NONCOLLISION': 'Other',\n",
    "    'OVERTURNED': 'Moving',\n",
    "    'ANIMAL': 'Object/Person',\n",
    "    'TRAIN': 'Train'\n",
    "})"
   ]
  },
  {
   "cell_type": "code",
   "execution_count": 47,
   "metadata": {},
   "outputs": [
    {
     "data": {
      "text/plain": [
       "Moving           1335326\n",
       "Stationary        137165\n",
       "Object/Person      19825\n",
       "Other               1876\n",
       "Train                 43\n",
       "Name: FIRST_CRASH_TYPE, dtype: int64"
      ]
     },
     "execution_count": 47,
     "metadata": {},
     "output_type": "execute_result"
    }
   ],
   "source": [
    "bins.FIRST_CRASH_TYPE.value_counts()"
   ]
  },
  {
   "cell_type": "code",
   "execution_count": 48,
   "metadata": {},
   "outputs": [
    {
     "data": {
      "text/plain": [
       "0"
      ]
     },
     "execution_count": 48,
     "metadata": {},
     "output_type": "execute_result"
    }
   ],
   "source": [
    "bins.FIRST_CRASH_TYPE.isna().sum()"
   ]
  },
  {
   "cell_type": "markdown",
   "metadata": {},
   "source": [
    "**Trafficway Type**"
   ]
  },
  {
   "cell_type": "code",
   "execution_count": 49,
   "metadata": {},
   "outputs": [
    {
     "data": {
      "text/plain": [
       "NOT DIVIDED                        681256\n",
       "DIVIDED - W/MEDIAN (NOT RAISED)    298098\n",
       "ONE-WAY                            133395\n",
       "DIVIDED - W/MEDIAN BARRIER         104396\n",
       "FOUR WAY                            93176\n",
       "PARKING LOT                         66097\n",
       "OTHER                               36786\n",
       "T-INTERSECTION                      18319\n",
       "CENTER TURN LANE                    15240\n",
       "ALLEY                               15054\n",
       "UNKNOWN                             12364\n",
       "RAMP                                 4586\n",
       "UNKNOWN INTERSECTION TYPE            4420\n",
       "DRIVEWAY                             3494\n",
       "FIVE POINT, OR MORE                  2218\n",
       "Y-INTERSECTION                       2114\n",
       "TRAFFIC ROUTE                        1746\n",
       "NOT REPORTED                          885\n",
       "ROUNDABOUT                            310\n",
       "L-INTERSECTION                        281\n",
       "Name: TRAFFICWAY_TYPE, dtype: int64"
      ]
     },
     "execution_count": 49,
     "metadata": {},
     "output_type": "execute_result"
    }
   ],
   "source": [
    "bins.TRAFFICWAY_TYPE.value_counts()"
   ]
  },
  {
   "cell_type": "code",
   "execution_count": 50,
   "metadata": {},
   "outputs": [],
   "source": [
    "bins['TRAFFICWAY_TYPE'] = bins.TRAFFICWAY_TYPE.map({\n",
    "    'NOT DIVIDED': 'Road/Street',\n",
    "    'DIVIDED - W/MEDIAN (NOT RAISED)': 'Road/Street',\n",
    "    'ONE-WAY': 'Road/Street',\n",
    "    'DIVIDED - W/MEDIAN BARRIER': 'Road/Street',\n",
    "    'FOUR WAY': 'Intersection',\n",
    "    'PARKING LOT': 'Parking lot',\n",
    "    'OTHER': \"Other/Unknown\",\n",
    "    'T-INTERSECTION': 'Intersection',\n",
    "    'CENTER TURN LANE': 'Road/Street',\n",
    "    'ALLEY': 'Road/Streen',\n",
    "    'UNKNOWN': 'Other/Unknown',\n",
    "    'RAMP': 'Highway',\n",
    "    'UNKNOWN INTERSECTION TYPE': \"Other/Unknown\",\n",
    "    'DRIVEWAY': 'Parking lot',\n",
    "    'FIVE POINT, OR MORE': 'Intersection',\n",
    "    'Y-INTERSECTION': 'Intersection',\n",
    "    'TRAFFIC ROUTE': 'Other/Unknown',\n",
    "    'NOT REPORTED': 'Other/Unknown',\n",
    "    'ROUNDABOUT': 'Intersection',\n",
    "    'L-INTERSECTION': 'Intersection'\n",
    "})"
   ]
  },
  {
   "cell_type": "code",
   "execution_count": 51,
   "metadata": {},
   "outputs": [
    {
     "data": {
      "text/plain": [
       "Road/Street      1232385\n",
       "Intersection      116418\n",
       "Parking lot        69591\n",
       "Other/Unknown      56201\n",
       "Road/Streen        15054\n",
       "Highway             4586\n",
       "Name: TRAFFICWAY_TYPE, dtype: int64"
      ]
     },
     "execution_count": 51,
     "metadata": {},
     "output_type": "execute_result"
    }
   ],
   "source": [
    "bins.TRAFFICWAY_TYPE.value_counts()"
   ]
  },
  {
   "cell_type": "code",
   "execution_count": 52,
   "metadata": {},
   "outputs": [
    {
     "data": {
      "text/plain": [
       "0"
      ]
     },
     "execution_count": 52,
     "metadata": {},
     "output_type": "execute_result"
    }
   ],
   "source": [
    "bins.TRAFFICWAY_TYPE.isna().sum()"
   ]
  },
  {
   "cell_type": "markdown",
   "metadata": {},
   "source": [
    "**Roadway Surface Condition**"
   ]
  },
  {
   "cell_type": "code",
   "execution_count": 53,
   "metadata": {},
   "outputs": [
    {
     "data": {
      "text/plain": [
       "DRY                1131700\n",
       "WET                 219163\n",
       "UNKNOWN              75137\n",
       "SNOW OR SLUSH        52510\n",
       "ICE                  11965\n",
       "OTHER                 3380\n",
       "SAND, MUD, DIRT        380\n",
       "Name: ROADWAY_SURFACE_COND, dtype: int64"
      ]
     },
     "execution_count": 53,
     "metadata": {},
     "output_type": "execute_result"
    }
   ],
   "source": [
    "bins.ROADWAY_SURFACE_COND.value_counts()"
   ]
  },
  {
   "cell_type": "code",
   "execution_count": 54,
   "metadata": {},
   "outputs": [],
   "source": [
    "bins['ROADWAY_SURFACE_COND'] = bins.ROADWAY_SURFACE_COND.map({\n",
    "    'DRY': 'Dry',\n",
    "    'WET': 'Wet',\n",
    "    'UNKNOWN': 'Other/Unknown',\n",
    "    'SNOW OR SLUSH': 'Ice',\n",
    "    'ICE': 'Ice',\n",
    "    'OTHER': \"Other/Unknown\",\n",
    "    'SAND, MUD, DIRT': \"Other/Unknown\"\n",
    "})"
   ]
  },
  {
   "cell_type": "code",
   "execution_count": 55,
   "metadata": {},
   "outputs": [
    {
     "data": {
      "text/plain": [
       "Dry              1131700\n",
       "Wet               219163\n",
       "Other/Unknown      78897\n",
       "Ice                64475\n",
       "Name: ROADWAY_SURFACE_COND, dtype: int64"
      ]
     },
     "execution_count": 55,
     "metadata": {},
     "output_type": "execute_result"
    }
   ],
   "source": [
    "bins.ROADWAY_SURFACE_COND.value_counts()"
   ]
  },
  {
   "cell_type": "code",
   "execution_count": 56,
   "metadata": {},
   "outputs": [
    {
     "data": {
      "text/plain": [
       "0"
      ]
     },
     "execution_count": 56,
     "metadata": {},
     "output_type": "execute_result"
    }
   ],
   "source": [
    "bins.CRASH_HOUR.isna().sum()"
   ]
  },
  {
   "cell_type": "markdown",
   "metadata": {},
   "source": [
    "**Crash Hour**"
   ]
  },
  {
   "cell_type": "code",
   "execution_count": 57,
   "metadata": {},
   "outputs": [
    {
     "data": {
      "text/plain": [
       "16    124120\n",
       "15    122668\n",
       "17    121806\n",
       "14    106454\n",
       "18     97148\n",
       "13     95384\n",
       "12     90387\n",
       "8      83104\n",
       "11     78378\n",
       "9      69622\n",
       "10     68646\n",
       "19     67655\n",
       "7      65913\n",
       "20     51457\n",
       "21     45511\n",
       "22     41240\n",
       "23     33240\n",
       "6      30476\n",
       "0      24581\n",
       "1      19829\n",
       "2      16665\n",
       "5      15785\n",
       "3      12672\n",
       "4      11494\n",
       "Name: CRASH_HOUR, dtype: int64"
      ]
     },
     "execution_count": 57,
     "metadata": {},
     "output_type": "execute_result"
    }
   ],
   "source": [
    "bins.CRASH_HOUR.value_counts()"
   ]
  },
  {
   "cell_type": "code",
   "execution_count": 58,
   "metadata": {},
   "outputs": [],
   "source": [
    "bins.CRASH_HOUR = pd.cut(x = bins.CRASH_HOUR,\n",
    "                                   bins =[-1, 6, 12, 18, 23],\n",
    "                                   labels = ['Early Morning', 'Morning', 'Afternoon', 'Evening/Night'])"
   ]
  },
  {
   "cell_type": "code",
   "execution_count": 59,
   "metadata": {},
   "outputs": [
    {
     "data": {
      "text/plain": [
       "Afternoon        667580\n",
       "Morning          456050\n",
       "Evening/Night    239103\n",
       "Early Morning    131502\n",
       "Name: CRASH_HOUR, dtype: int64"
      ]
     },
     "execution_count": 59,
     "metadata": {},
     "output_type": "execute_result"
    }
   ],
   "source": [
    "bins.CRASH_HOUR.value_counts()"
   ]
  },
  {
   "cell_type": "code",
   "execution_count": 60,
   "metadata": {},
   "outputs": [
    {
     "data": {
      "text/plain": [
       "0"
      ]
     },
     "execution_count": 60,
     "metadata": {},
     "output_type": "execute_result"
    }
   ],
   "source": [
    "bins.CRASH_HOUR.isna().sum()"
   ]
  },
  {
   "cell_type": "markdown",
   "metadata": {},
   "source": [
    "**Unit Number**\n",
    "\n",
    "A unique ID for each unit within a specific crash report."
   ]
  },
  {
   "cell_type": "code",
   "execution_count": 61,
   "metadata": {},
   "outputs": [
    {
     "data": {
      "text/plain": [
       "2     719598\n",
       "1     691899\n",
       "3      64788\n",
       "4      12883\n",
       "5       3203\n",
       "6       1054\n",
       "7        436\n",
       "8        207\n",
       "9         87\n",
       "10        22\n",
       "11        14\n",
       "12         8\n",
       "15         6\n",
       "14         6\n",
       "13         6\n",
       "0          5\n",
       "16         5\n",
       "17         4\n",
       "18         4\n",
       "Name: UNIT_NO, dtype: int64"
      ]
     },
     "execution_count": 61,
     "metadata": {},
     "output_type": "execute_result"
    }
   ],
   "source": [
    "bins.UNIT_NO.value_counts()"
   ]
  },
  {
   "cell_type": "code",
   "execution_count": 62,
   "metadata": {},
   "outputs": [],
   "source": [
    "#after looking at value counts, \n",
    "#this column is not helpful and will be dropped"
   ]
  },
  {
   "cell_type": "code",
   "execution_count": 63,
   "metadata": {},
   "outputs": [],
   "source": [
    "bins.drop('UNIT_NO', axis =1, inplace=True)"
   ]
  },
  {
   "cell_type": "markdown",
   "metadata": {},
   "source": [
    "**Unit Type**"
   ]
  },
  {
   "cell_type": "code",
   "execution_count": 64,
   "metadata": {},
   "outputs": [
    {
     "data": {
      "text/plain": [
       "DRIVER                 1418772\n",
       "PARKED                   70216\n",
       "DRIVERLESS                5047\n",
       "NON-CONTACT VEHICLE        134\n",
       "DISABLED VEHICLE            66\n",
       "Name: UNIT_TYPE, dtype: int64"
      ]
     },
     "execution_count": 64,
     "metadata": {},
     "output_type": "execute_result"
    }
   ],
   "source": [
    "bins.UNIT_TYPE.value_counts()"
   ]
  },
  {
   "cell_type": "markdown",
   "metadata": {},
   "source": [
    "**Vehicle Year**"
   ]
  },
  {
   "cell_type": "code",
   "execution_count": 65,
   "metadata": {},
   "outputs": [
    {
     "data": {
      "text/plain": [
       "2015.0    115288\n",
       "2016.0    107971\n",
       "2017.0    103143\n",
       "2014.0    102241\n",
       "2013.0     93867\n",
       "           ...  \n",
       "2515.0         1\n",
       "2222.0         1\n",
       "2116.0         1\n",
       "2079.0         1\n",
       "8324.0         1\n",
       "Name: VEHICLE_YEAR, Length: 192, dtype: int64"
      ]
     },
     "execution_count": 65,
     "metadata": {},
     "output_type": "execute_result"
    }
   ],
   "source": [
    "bins.VEHICLE_YEAR.value_counts()"
   ]
  },
  {
   "cell_type": "code",
   "execution_count": 66,
   "metadata": {},
   "outputs": [
    {
     "data": {
      "text/plain": [
       "192"
      ]
     },
     "execution_count": 66,
     "metadata": {},
     "output_type": "execute_result"
    }
   ],
   "source": [
    "bins.VEHICLE_YEAR.nunique()"
   ]
  },
  {
   "cell_type": "code",
   "execution_count": 67,
   "metadata": {},
   "outputs": [],
   "source": [
    "#several issues with year entries, will drop column\n",
    "bins.drop('VEHICLE_YEAR', axis =1, inplace=True)"
   ]
  },
  {
   "cell_type": "code",
   "execution_count": 68,
   "metadata": {},
   "outputs": [
    {
     "name": "stdout",
     "output_type": "stream",
     "text": [
      "<class 'pandas.core.frame.DataFrame'>\n",
      "RangeIndex: 1494235 entries, 0 to 1494234\n",
      "Data columns (total 26 columns):\n",
      " #   Column                Non-Null Count    Dtype   \n",
      "---  ------                --------------    -----   \n",
      " 0   CRASH_RECORD_ID       1494235 non-null  object  \n",
      " 1   POSTED_SPEED_LIMIT    1494235 non-null  category\n",
      " 2   DEVICE_CONDITION      1494235 non-null  object  \n",
      " 3   WEATHER_CONDITION     1494235 non-null  object  \n",
      " 4   LIGHTING_CONDITION    1494235 non-null  object  \n",
      " 5   FIRST_CRASH_TYPE      1494235 non-null  object  \n",
      " 6   TRAFFICWAY_TYPE       1494235 non-null  object  \n",
      " 7   ROADWAY_SURFACE_COND  1494235 non-null  object  \n",
      " 8   INJURIES_TOTAL        1494235 non-null  float64 \n",
      " 9   INJURIES_FATAL        1494235 non-null  float64 \n",
      " 10  CRASH_HOUR            1494235 non-null  category\n",
      " 11  CRASH_DAY_OF_WEEK     1494235 non-null  int64   \n",
      " 12  CRASH_MONTH           1494235 non-null  int64   \n",
      " 13  LATITUDE              1494235 non-null  float64 \n",
      " 14  LONGITUDE             1494235 non-null  float64 \n",
      " 15  UNIT_TYPE             1494235 non-null  object  \n",
      " 16  VEHICLE_TYPE          1494235 non-null  object  \n",
      " 17  VEHICLE_USE           1494235 non-null  object  \n",
      " 18  MANEUVER              1494235 non-null  object  \n",
      " 19  OCCUPANT_CNT          1494235 non-null  float64 \n",
      " 20  PERSON_TYPE           1494235 non-null  object  \n",
      " 21  SEX                   1494235 non-null  object  \n",
      " 22  AGE                   1494235 non-null  float64 \n",
      " 23  SAFETY_EQUIPMENT      1494235 non-null  object  \n",
      " 24  AIRBAG_DEPLOYED       1494235 non-null  object  \n",
      " 25  DRIVER_VISION         1494235 non-null  object  \n",
      "dtypes: category(2), float64(6), int64(2), object(16)\n",
      "memory usage: 276.5+ MB\n"
     ]
    }
   ],
   "source": [
    "bins.info()"
   ]
  },
  {
   "cell_type": "markdown",
   "metadata": {},
   "source": [
    "**Vehicle Type**"
   ]
  },
  {
   "cell_type": "code",
   "execution_count": 69,
   "metadata": {},
   "outputs": [
    {
     "data": {
      "text/plain": [
       "PASSENGER                                 1033602\n",
       "SPORT UTILITY VEHICLE (SUV)                215552\n",
       "VAN/MINI-VAN                                76333\n",
       "PICKUP                                      47553\n",
       "UNKNOWN/NA                                  35053\n",
       "TRUCK - SINGLE UNIT                         26679\n",
       "BUS OVER 15 PASS.                           16660\n",
       "OTHER                                       14947\n",
       "TRACTOR W/ SEMI-TRAILER                     14345\n",
       "MOTORCYCLE (OVER 150CC)                      3586\n",
       "BUS UP TO 15 PASS.                           3341\n",
       "TRACTOR W/O SEMI-TRAILER                     2057\n",
       "OTHER VEHICLE WITH TRAILER                   1894\n",
       "SINGLE UNIT TRUCK WITH TRAILER               1679\n",
       "MOTOR DRIVEN CYCLE                            323\n",
       "MOPED OR MOTORIZED BICYCLE                    259\n",
       "AUTOCYCLE                                     219\n",
       "ALL-TERRAIN VEHICLE (ATV)                      78\n",
       "3-WHEELED MOTORCYCLE (2 REAR WHEELS)           36\n",
       "FARM EQUIPMENT                                 33\n",
       "RECREATIONAL OFF-HIGHWAY VEHICLE (ROV)          6\n",
       "Name: VEHICLE_TYPE, dtype: int64"
      ]
     },
     "execution_count": 69,
     "metadata": {},
     "output_type": "execute_result"
    }
   ],
   "source": [
    "bins.VEHICLE_TYPE.value_counts()"
   ]
  },
  {
   "cell_type": "code",
   "execution_count": 70,
   "metadata": {},
   "outputs": [],
   "source": [
    "bins['VEHICLE_TYPE'] = bins.VEHICLE_TYPE.map({\n",
    "    'PASSENGER': 'Car',\n",
    "    'SPORT UTILITY VEHICLE (SUV)': 'SUV/Van',\n",
    "    'VAN/MINI-VAN': 'SUV/Van',\n",
    "    'PICKUP': 'Truck',\n",
    "    'UNKNOWN/NA': 'Unknown',\n",
    "    'TRUCK - SINGLE UNIT': \"Truck\",\n",
    "    'BUS OVER 15 PASS.': \"Bus\",\n",
    "    'OTHER': \"Other\",\n",
    "    'TRACTOR W/ SEMI-TRAILER': 'Semi',\n",
    "    'TRACTOR W/O SEMI-TRAILER': \"Semi\",\n",
    "    'MOTORCYCLE (OVER 150CC)': 'Motorbike/cycle',\n",
    "    'BUS UP TO 15 PASS.': 'Bus',\n",
    "    'OTHER VEHICLE WITH TRAILER': \"Trailer\",\n",
    "    'SINGLE UNIT TRUCK WITH TRAILER': \"Trailer\",\n",
    "    'MOTOR DRIVEN CYCLE': \"Motorbike/cycle\",\n",
    "    'MOPED OR MOTORIZED BICYCLE': \"Motorbike/cycle\",\n",
    "    'AUTOCYCLE': \"Motorbike/cycle\",\n",
    "    'ALL-TERRAIN VEHICLE (ATV)': \"Other\",\n",
    "    '3-WHEELED MOTORCYCLE (2 REAR WHEELS)': \"Motorbike/cycle\",\n",
    "    'FARM EQUIPMENT': \"Other\",\n",
    "    'RECREATIONAL OFF-HIGHWAY VEHICLE (ROV)': \"Other\"\n",
    "})"
   ]
  },
  {
   "cell_type": "code",
   "execution_count": 71,
   "metadata": {},
   "outputs": [
    {
     "data": {
      "text/plain": [
       "Car                1033602\n",
       "SUV/Van             291885\n",
       "Truck                74232\n",
       "Unknown              35053\n",
       "Bus                  20001\n",
       "Semi                 16402\n",
       "Other                15064\n",
       "Motorbike/cycle       4423\n",
       "Trailer               3573\n",
       "Name: VEHICLE_TYPE, dtype: int64"
      ]
     },
     "execution_count": 71,
     "metadata": {},
     "output_type": "execute_result"
    }
   ],
   "source": [
    "bins.VEHICLE_TYPE.value_counts()"
   ]
  },
  {
   "cell_type": "code",
   "execution_count": 72,
   "metadata": {},
   "outputs": [
    {
     "data": {
      "text/plain": [
       "0"
      ]
     },
     "execution_count": 72,
     "metadata": {},
     "output_type": "execute_result"
    }
   ],
   "source": [
    "bins.VEHICLE_TYPE.isna().sum()"
   ]
  },
  {
   "cell_type": "markdown",
   "metadata": {},
   "source": [
    "**Vehicle Use**"
   ]
  },
  {
   "cell_type": "code",
   "execution_count": 73,
   "metadata": {
    "scrolled": true
   },
   "outputs": [
    {
     "data": {
      "text/plain": [
       "PERSONAL                        1159692\n",
       "UNKNOWN/NA                       140339\n",
       "OTHER                             45761\n",
       "NOT IN USE                        32573\n",
       "TAXI/FOR HIRE                     25835\n",
       "COMMERCIAL - SINGLE UNIT          20214\n",
       "RIDESHARE SERVICE                 15882\n",
       "CTA                               11033\n",
       "POLICE                             9629\n",
       "CONSTRUCTION/MAINTENANCE           7433\n",
       "COMMERCIAL - MULTI-UNIT            6567\n",
       "OTHER TRANSIT                      4923\n",
       "SCHOOL BUS                         4304\n",
       "TOW TRUCK                          3026\n",
       "AMBULANCE                          1752\n",
       "DRIVER EDUCATION                   1289\n",
       "STATE OWNED                        1200\n",
       "MASS TRANSIT                        988\n",
       "FIRE                                831\n",
       "LAWN CARE/LANDSCAPING               646\n",
       "AGRICULTURE                         157\n",
       "CAMPER/RV - SINGLE UNIT              79\n",
       "MILITARY                             54\n",
       "HOUSE TRAILER                        20\n",
       "CAMPER/RV - TOWED/MULTI-UNIT          8\n",
       "Name: VEHICLE_USE, dtype: int64"
      ]
     },
     "execution_count": 73,
     "metadata": {},
     "output_type": "execute_result"
    }
   ],
   "source": [
    "bins.VEHICLE_USE.value_counts()\n",
    "#after further inspection, does not seem descriptive enough, \n",
    "#will be dropped"
   ]
  },
  {
   "cell_type": "code",
   "execution_count": 74,
   "metadata": {},
   "outputs": [],
   "source": [
    "bins.drop('VEHICLE_USE', axis =1, inplace=True)"
   ]
  },
  {
   "cell_type": "markdown",
   "metadata": {},
   "source": [
    "**Maneuver**"
   ]
  },
  {
   "cell_type": "code",
   "execution_count": 75,
   "metadata": {},
   "outputs": [
    {
     "data": {
      "text/plain": [
       "STRAIGHT AHEAD                        818543\n",
       "SLOW/STOP IN TRAFFIC                  159197\n",
       "TURNING LEFT                          109157\n",
       "PARKED                                 71684\n",
       "TURNING RIGHT                          55076\n",
       "BACKING                                53851\n",
       "UNKNOWN/NA                             34963\n",
       "PASSING/OVERTAKING                     34062\n",
       "CHANGING LANES                         33805\n",
       "OTHER                                  26005\n",
       "ENTERING TRAFFIC LANE FROM PARKING     20883\n",
       "MERGING                                12483\n",
       "STARTING IN TRAFFIC                    11625\n",
       "U-TURN                                  9706\n",
       "AVOIDING VEHICLES/OBJECTS               7240\n",
       "ENTER FROM DRIVE/ALLEY                  6893\n",
       "SKIDDING/CONTROL LOSS                   6379\n",
       "LEAVING TRAFFIC LANE TO PARK            5914\n",
       "SLOW/STOP - LEFT TURN                   4729\n",
       "SLOW/STOP - RIGHT TURN                  2773\n",
       "SLOW/STOP - LOAD/UNLOAD                 2321\n",
       "PARKED IN TRAFFIC LANE                  1970\n",
       "NEGOTIATING A CURVE                     1918\n",
       "DRIVING WRONG WAY                       1859\n",
       "TURNING ON RED                           621\n",
       "DRIVERLESS                               298\n",
       "DIVERGING                                221\n",
       "DISABLED                                  59\n",
       "Name: MANEUVER, dtype: int64"
      ]
     },
     "execution_count": 75,
     "metadata": {},
     "output_type": "execute_result"
    }
   ],
   "source": [
    "bins.MANEUVER.value_counts()"
   ]
  },
  {
   "cell_type": "code",
   "execution_count": 76,
   "metadata": {},
   "outputs": [],
   "source": [
    "#seems redundant of crash type, will drop "
   ]
  },
  {
   "cell_type": "code",
   "execution_count": 77,
   "metadata": {},
   "outputs": [],
   "source": [
    "bins.drop('MANEUVER', axis =1, inplace=True)"
   ]
  },
  {
   "cell_type": "markdown",
   "metadata": {},
   "source": [
    "**Occupant Count**"
   ]
  },
  {
   "cell_type": "code",
   "execution_count": 78,
   "metadata": {
    "scrolled": true
   },
   "outputs": [
    {
     "data": {
      "text/plain": [
       "1.0     1146667\n",
       "2.0      195826\n",
       "0.0       67704\n",
       "3.0       53024\n",
       "4.0       20551\n",
       "5.0        7033\n",
       "6.0        1867\n",
       "7.0         731\n",
       "8.0         261\n",
       "9.0         131\n",
       "11.0         88\n",
       "10.0         72\n",
       "12.0         47\n",
       "13.0         45\n",
       "15.0         27\n",
       "20.0         19\n",
       "16.0         19\n",
       "14.0         16\n",
       "19.0         13\n",
       "36.0         10\n",
       "18.0          9\n",
       "26.0          9\n",
       "17.0          6\n",
       "28.0          6\n",
       "25.0          5\n",
       "30.0          5\n",
       "35.0          4\n",
       "33.0          4\n",
       "39.0          4\n",
       "29.0          4\n",
       "41.0          4\n",
       "44.0          3\n",
       "27.0          3\n",
       "21.0          3\n",
       "43.0          2\n",
       "60.0          2\n",
       "24.0          2\n",
       "23.0          2\n",
       "34.0          2\n",
       "47.0          1\n",
       "38.0          1\n",
       "37.0          1\n",
       "22.0          1\n",
       "31.0          1\n",
       "Name: OCCUPANT_CNT, dtype: int64"
      ]
     },
     "execution_count": 78,
     "metadata": {},
     "output_type": "execute_result"
    }
   ],
   "source": [
    "bins.OCCUPANT_CNT.value_counts()"
   ]
  },
  {
   "cell_type": "code",
   "execution_count": 79,
   "metadata": {},
   "outputs": [],
   "source": [
    "#since most vehicles are not buses or trains \n",
    "#and can hold 7 or less people this feature does not seem helpful\n",
    "# and will be dropped\n",
    "# number injured in each crash will be more valueable "
   ]
  },
  {
   "cell_type": "code",
   "execution_count": 80,
   "metadata": {},
   "outputs": [],
   "source": [
    "bins.drop('OCCUPANT_CNT', axis =1, inplace=True)"
   ]
  },
  {
   "cell_type": "markdown",
   "metadata": {},
   "source": [
    "**Person Type**"
   ]
  },
  {
   "cell_type": "code",
   "execution_count": 81,
   "metadata": {},
   "outputs": [
    {
     "data": {
      "text/plain": [
       "DRIVER                 1493849\n",
       "NON-MOTOR VEHICLE          214\n",
       "NON-CONTACT VEHICLE        172\n",
       "Name: PERSON_TYPE, dtype: int64"
      ]
     },
     "execution_count": 81,
     "metadata": {},
     "output_type": "execute_result"
    }
   ],
   "source": [
    "bins.PERSON_TYPE.value_counts()"
   ]
  },
  {
   "cell_type": "markdown",
   "metadata": {},
   "source": [
    "**Sex**"
   ]
  },
  {
   "cell_type": "code",
   "execution_count": 82,
   "metadata": {},
   "outputs": [
    {
     "data": {
      "text/plain": [
       "M    892580\n",
       "F    599993\n",
       "X      1662\n",
       "Name: SEX, dtype: int64"
      ]
     },
     "execution_count": 82,
     "metadata": {},
     "output_type": "execute_result"
    }
   ],
   "source": [
    "bins.SEX.value_counts()"
   ]
  },
  {
   "cell_type": "markdown",
   "metadata": {},
   "source": [
    "**Age**"
   ]
  },
  {
   "cell_type": "code",
   "execution_count": 83,
   "metadata": {},
   "outputs": [
    {
     "data": {
      "text/plain": [
       " 27.0     44368\n",
       " 25.0     44331\n",
       " 26.0     44063\n",
       " 28.0     43367\n",
       " 29.0     42186\n",
       "          ...  \n",
       "-1.0          3\n",
       " 102.0        3\n",
       "-177.0        2\n",
       "-47.0         2\n",
       "-49.0         1\n",
       "Name: AGE, Length: 113, dtype: int64"
      ]
     },
     "execution_count": 83,
     "metadata": {},
     "output_type": "execute_result"
    }
   ],
   "source": [
    "bins.AGE.value_counts()"
   ]
  },
  {
   "cell_type": "code",
   "execution_count": 84,
   "metadata": {},
   "outputs": [],
   "source": [
    "#seems to be data entry errors, \n",
    "#will only keep rows with people between 0 and 100 years of age"
   ]
  },
  {
   "cell_type": "code",
   "execution_count": 85,
   "metadata": {},
   "outputs": [],
   "source": [
    "bins = bins[bins.AGE > 0]"
   ]
  },
  {
   "cell_type": "code",
   "execution_count": 86,
   "metadata": {},
   "outputs": [
    {
     "data": {
      "text/html": [
       "<div>\n",
       "<style scoped>\n",
       "    .dataframe tbody tr th:only-of-type {\n",
       "        vertical-align: middle;\n",
       "    }\n",
       "\n",
       "    .dataframe tbody tr th {\n",
       "        vertical-align: top;\n",
       "    }\n",
       "\n",
       "    .dataframe thead th {\n",
       "        text-align: right;\n",
       "    }\n",
       "</style>\n",
       "<table border=\"1\" class=\"dataframe\">\n",
       "  <thead>\n",
       "    <tr style=\"text-align: right;\">\n",
       "      <th></th>\n",
       "      <th>CRASH_RECORD_ID</th>\n",
       "      <th>POSTED_SPEED_LIMIT</th>\n",
       "      <th>DEVICE_CONDITION</th>\n",
       "      <th>WEATHER_CONDITION</th>\n",
       "      <th>LIGHTING_CONDITION</th>\n",
       "      <th>FIRST_CRASH_TYPE</th>\n",
       "      <th>TRAFFICWAY_TYPE</th>\n",
       "      <th>ROADWAY_SURFACE_COND</th>\n",
       "      <th>INJURIES_TOTAL</th>\n",
       "      <th>INJURIES_FATAL</th>\n",
       "      <th>...</th>\n",
       "      <th>LATITUDE</th>\n",
       "      <th>LONGITUDE</th>\n",
       "      <th>UNIT_TYPE</th>\n",
       "      <th>VEHICLE_TYPE</th>\n",
       "      <th>PERSON_TYPE</th>\n",
       "      <th>SEX</th>\n",
       "      <th>AGE</th>\n",
       "      <th>SAFETY_EQUIPMENT</th>\n",
       "      <th>AIRBAG_DEPLOYED</th>\n",
       "      <th>DRIVER_VISION</th>\n",
       "    </tr>\n",
       "  </thead>\n",
       "  <tbody>\n",
       "    <tr>\n",
       "      <th>0</th>\n",
       "      <td>0115ade9a755e835255508463f7e9c4a9a0b47e9304238...</td>\n",
       "      <td>0-30</td>\n",
       "      <td>Unknown</td>\n",
       "      <td>Clear</td>\n",
       "      <td>Night</td>\n",
       "      <td>Moving</td>\n",
       "      <td>Road/Street</td>\n",
       "      <td>Dry</td>\n",
       "      <td>0.0</td>\n",
       "      <td>0.0</td>\n",
       "      <td>...</td>\n",
       "      <td>41.886336</td>\n",
       "      <td>-87.716203</td>\n",
       "      <td>DRIVER</td>\n",
       "      <td>Unknown</td>\n",
       "      <td>DRIVER</td>\n",
       "      <td>M</td>\n",
       "      <td>62.0</td>\n",
       "      <td>USAGE UNKNOWN</td>\n",
       "      <td>NOT APPLICABLE</td>\n",
       "      <td>UNKNOWN</td>\n",
       "    </tr>\n",
       "    <tr>\n",
       "      <th>1</th>\n",
       "      <td>017040c61958d2fa977c956b2bd2d6759ef7754496dc96...</td>\n",
       "      <td>0-30</td>\n",
       "      <td>Working</td>\n",
       "      <td>Clear</td>\n",
       "      <td>Day</td>\n",
       "      <td>Moving</td>\n",
       "      <td>Road/Street</td>\n",
       "      <td>Dry</td>\n",
       "      <td>0.0</td>\n",
       "      <td>0.0</td>\n",
       "      <td>...</td>\n",
       "      <td>41.925111</td>\n",
       "      <td>-87.667997</td>\n",
       "      <td>DRIVER</td>\n",
       "      <td>Car</td>\n",
       "      <td>DRIVER</td>\n",
       "      <td>F</td>\n",
       "      <td>58.0</td>\n",
       "      <td>USAGE UNKNOWN</td>\n",
       "      <td>DID NOT DEPLOY</td>\n",
       "      <td>UNKNOWN</td>\n",
       "    </tr>\n",
       "    <tr>\n",
       "      <th>2</th>\n",
       "      <td>017040c61958d2fa977c956b2bd2d6759ef7754496dc96...</td>\n",
       "      <td>0-30</td>\n",
       "      <td>Working</td>\n",
       "      <td>Clear</td>\n",
       "      <td>Day</td>\n",
       "      <td>Moving</td>\n",
       "      <td>Road/Street</td>\n",
       "      <td>Dry</td>\n",
       "      <td>0.0</td>\n",
       "      <td>0.0</td>\n",
       "      <td>...</td>\n",
       "      <td>41.925111</td>\n",
       "      <td>-87.667997</td>\n",
       "      <td>DRIVER</td>\n",
       "      <td>Car</td>\n",
       "      <td>DRIVER</td>\n",
       "      <td>M</td>\n",
       "      <td>49.0</td>\n",
       "      <td>USAGE UNKNOWN</td>\n",
       "      <td>DID NOT DEPLOY</td>\n",
       "      <td>UNKNOWN</td>\n",
       "    </tr>\n",
       "    <tr>\n",
       "      <th>3</th>\n",
       "      <td>017040c61958d2fa977c956b2bd2d6759ef7754496dc96...</td>\n",
       "      <td>0-30</td>\n",
       "      <td>Working</td>\n",
       "      <td>Clear</td>\n",
       "      <td>Day</td>\n",
       "      <td>Moving</td>\n",
       "      <td>Road/Street</td>\n",
       "      <td>Dry</td>\n",
       "      <td>0.0</td>\n",
       "      <td>0.0</td>\n",
       "      <td>...</td>\n",
       "      <td>41.925111</td>\n",
       "      <td>-87.667997</td>\n",
       "      <td>DRIVER</td>\n",
       "      <td>Car</td>\n",
       "      <td>DRIVER</td>\n",
       "      <td>F</td>\n",
       "      <td>58.0</td>\n",
       "      <td>USAGE UNKNOWN</td>\n",
       "      <td>DID NOT DEPLOY</td>\n",
       "      <td>UNKNOWN</td>\n",
       "    </tr>\n",
       "    <tr>\n",
       "      <th>4</th>\n",
       "      <td>017040c61958d2fa977c956b2bd2d6759ef7754496dc96...</td>\n",
       "      <td>0-30</td>\n",
       "      <td>Working</td>\n",
       "      <td>Clear</td>\n",
       "      <td>Day</td>\n",
       "      <td>Moving</td>\n",
       "      <td>Road/Street</td>\n",
       "      <td>Dry</td>\n",
       "      <td>0.0</td>\n",
       "      <td>0.0</td>\n",
       "      <td>...</td>\n",
       "      <td>41.925111</td>\n",
       "      <td>-87.667997</td>\n",
       "      <td>DRIVER</td>\n",
       "      <td>Car</td>\n",
       "      <td>DRIVER</td>\n",
       "      <td>M</td>\n",
       "      <td>49.0</td>\n",
       "      <td>USAGE UNKNOWN</td>\n",
       "      <td>DID NOT DEPLOY</td>\n",
       "      <td>UNKNOWN</td>\n",
       "    </tr>\n",
       "  </tbody>\n",
       "</table>\n",
       "<p>5 rows × 23 columns</p>\n",
       "</div>"
      ],
      "text/plain": [
       "                                     CRASH_RECORD_ID POSTED_SPEED_LIMIT  \\\n",
       "0  0115ade9a755e835255508463f7e9c4a9a0b47e9304238...               0-30   \n",
       "1  017040c61958d2fa977c956b2bd2d6759ef7754496dc96...               0-30   \n",
       "2  017040c61958d2fa977c956b2bd2d6759ef7754496dc96...               0-30   \n",
       "3  017040c61958d2fa977c956b2bd2d6759ef7754496dc96...               0-30   \n",
       "4  017040c61958d2fa977c956b2bd2d6759ef7754496dc96...               0-30   \n",
       "\n",
       "  DEVICE_CONDITION WEATHER_CONDITION LIGHTING_CONDITION FIRST_CRASH_TYPE  \\\n",
       "0          Unknown             Clear              Night           Moving   \n",
       "1          Working             Clear                Day           Moving   \n",
       "2          Working             Clear                Day           Moving   \n",
       "3          Working             Clear                Day           Moving   \n",
       "4          Working             Clear                Day           Moving   \n",
       "\n",
       "  TRAFFICWAY_TYPE ROADWAY_SURFACE_COND  INJURIES_TOTAL  INJURIES_FATAL  ...  \\\n",
       "0     Road/Street                  Dry             0.0             0.0  ...   \n",
       "1     Road/Street                  Dry             0.0             0.0  ...   \n",
       "2     Road/Street                  Dry             0.0             0.0  ...   \n",
       "3     Road/Street                  Dry             0.0             0.0  ...   \n",
       "4     Road/Street                  Dry             0.0             0.0  ...   \n",
       "\n",
       "    LATITUDE  LONGITUDE  UNIT_TYPE  VEHICLE_TYPE  PERSON_TYPE SEX   AGE  \\\n",
       "0  41.886336 -87.716203     DRIVER       Unknown       DRIVER   M  62.0   \n",
       "1  41.925111 -87.667997     DRIVER           Car       DRIVER   F  58.0   \n",
       "2  41.925111 -87.667997     DRIVER           Car       DRIVER   M  49.0   \n",
       "3  41.925111 -87.667997     DRIVER           Car       DRIVER   F  58.0   \n",
       "4  41.925111 -87.667997     DRIVER           Car       DRIVER   M  49.0   \n",
       "\n",
       "  SAFETY_EQUIPMENT AIRBAG_DEPLOYED  DRIVER_VISION  \n",
       "0    USAGE UNKNOWN  NOT APPLICABLE        UNKNOWN  \n",
       "1    USAGE UNKNOWN  DID NOT DEPLOY        UNKNOWN  \n",
       "2    USAGE UNKNOWN  DID NOT DEPLOY        UNKNOWN  \n",
       "3    USAGE UNKNOWN  DID NOT DEPLOY        UNKNOWN  \n",
       "4    USAGE UNKNOWN  DID NOT DEPLOY        UNKNOWN  \n",
       "\n",
       "[5 rows x 23 columns]"
      ]
     },
     "execution_count": 86,
     "metadata": {},
     "output_type": "execute_result"
    }
   ],
   "source": [
    "bins.head()"
   ]
  },
  {
   "cell_type": "code",
   "execution_count": 87,
   "metadata": {},
   "outputs": [
    {
     "data": {
      "text/plain": [
       "27.0     44368\n",
       "25.0     44331\n",
       "26.0     44063\n",
       "28.0     43367\n",
       "29.0     42186\n",
       "         ...  \n",
       "108.0        5\n",
       "109.0        4\n",
       "107.0        4\n",
       "104.0        4\n",
       "102.0        3\n",
       "Name: AGE, Length: 108, dtype: int64"
      ]
     },
     "execution_count": 87,
     "metadata": {},
     "output_type": "execute_result"
    }
   ],
   "source": [
    "bins.AGE.value_counts()"
   ]
  },
  {
   "cell_type": "code",
   "execution_count": 88,
   "metadata": {},
   "outputs": [],
   "source": [
    "bins = bins[bins.AGE < 100]"
   ]
  },
  {
   "cell_type": "code",
   "execution_count": 89,
   "metadata": {},
   "outputs": [
    {
     "data": {
      "text/plain": [
       "27.0    44368\n",
       "25.0    44331\n",
       "26.0    44063\n",
       "28.0    43367\n",
       "29.0    42186\n",
       "        ...  \n",
       "97.0       39\n",
       "9.0        36\n",
       "6.0        27\n",
       "7.0        24\n",
       "5.0        20\n",
       "Name: AGE, Length: 99, dtype: int64"
      ]
     },
     "execution_count": 89,
     "metadata": {},
     "output_type": "execute_result"
    }
   ],
   "source": [
    "bins.AGE.value_counts()"
   ]
  },
  {
   "cell_type": "code",
   "execution_count": 90,
   "metadata": {},
   "outputs": [],
   "source": [
    "bins.AGE = pd.cut(x = bins.AGE,\n",
    "                         bins =[-1, 25, 50, 75, 100],\n",
    "                         labels = ['Young', 'Adult', 'Senior', 'Elderly'])"
   ]
  },
  {
   "cell_type": "code",
   "execution_count": 91,
   "metadata": {},
   "outputs": [
    {
     "data": {
      "text/plain": [
       "Adult      809521\n",
       "Senior     361302\n",
       "Young      281923\n",
       "Elderly     27489\n",
       "Name: AGE, dtype: int64"
      ]
     },
     "execution_count": 91,
     "metadata": {},
     "output_type": "execute_result"
    }
   ],
   "source": [
    "bins.AGE.value_counts()"
   ]
  },
  {
   "cell_type": "markdown",
   "metadata": {},
   "source": [
    "**Safety Equipment**"
   ]
  },
  {
   "cell_type": "code",
   "execution_count": 92,
   "metadata": {},
   "outputs": [
    {
     "data": {
      "text/plain": [
       "SAFETY BELT USED                       934383\n",
       "USAGE UNKNOWN                          500761\n",
       "NONE PRESENT                            33673\n",
       "SAFETY BELT NOT USED                     7272\n",
       "HELMET NOT USED                          1816\n",
       "DOT COMPLIANT MOTORCYCLE HELMET          1237\n",
       "HELMET USED                               718\n",
       "NOT DOT COMPLIANT MOTORCYCLE HELMET       195\n",
       "SHOULD/LAP BELT USED IMPROPERLY           170\n",
       "STRETCHER                                   4\n",
       "WHEELCHAIR                                  3\n",
       "CHILD RESTRAINT USED                        3\n",
       "Name: SAFETY_EQUIPMENT, dtype: int64"
      ]
     },
     "execution_count": 92,
     "metadata": {},
     "output_type": "execute_result"
    }
   ],
   "source": [
    "bins.SAFETY_EQUIPMENT.value_counts()"
   ]
  },
  {
   "cell_type": "code",
   "execution_count": 93,
   "metadata": {},
   "outputs": [],
   "source": [
    "bins['SAFETY_EQUIPMENT'] = bins.SAFETY_EQUIPMENT.map({\n",
    "    'SAFETY BELT USED': 'Used',\n",
    "    'USAGE UNKNOWN': 'Unknown',\n",
    "    'NONE PRESENT': 'Not Used',\n",
    "    'SAFETY BELT NOT USED': 'Not Used',\n",
    "    'HELMET NOT USED': 'Not Used',\n",
    "    'DOT COMPLIANT MOTORCYCLE HELMET': \"Used\",\n",
    "    'HELMET USED': \"Used\",\n",
    "    'NOT DOT COMPLIANT MOTORCYCLE HELMET': \"Used\",\n",
    "    'SHOULD/LAP BELT USED IMPROPERLY': 'Not Used',\n",
    "    'STRETCHER': \"Used\",\n",
    "    'WHEELCHAIR': 'Used',\n",
    "    'CHILD RESTRAINT USED': 'Used'\n",
    "})"
   ]
  },
  {
   "cell_type": "code",
   "execution_count": 94,
   "metadata": {},
   "outputs": [
    {
     "data": {
      "text/plain": [
       "Used        936543\n",
       "Unknown     500761\n",
       "Not Used     42931\n",
       "Name: SAFETY_EQUIPMENT, dtype: int64"
      ]
     },
     "execution_count": 94,
     "metadata": {},
     "output_type": "execute_result"
    }
   ],
   "source": [
    "bins.SAFETY_EQUIPMENT.value_counts()"
   ]
  },
  {
   "cell_type": "code",
   "execution_count": 95,
   "metadata": {},
   "outputs": [
    {
     "data": {
      "text/plain": [
       "0"
      ]
     },
     "execution_count": 95,
     "metadata": {},
     "output_type": "execute_result"
    }
   ],
   "source": [
    "bins.SAFETY_EQUIPMENT.isna().sum()"
   ]
  },
  {
   "cell_type": "markdown",
   "metadata": {},
   "source": [
    "**Driver Vision**"
   ]
  },
  {
   "cell_type": "code",
   "execution_count": 96,
   "metadata": {},
   "outputs": [
    {
     "data": {
      "text/plain": [
       "NOT OBSCURED              993110\n",
       "UNKNOWN                   443484\n",
       "OTHER                      16025\n",
       "MOVING VEHICLES            11206\n",
       "PARKED VEHICLES             7082\n",
       "WINDSHIELD (WATER/ICE)      5266\n",
       "BLINDED - SUNLIGHT          2095\n",
       "TREES, PLANTS                793\n",
       "BUILDINGS                    578\n",
       "HILLCREST                    160\n",
       "BLINDED - HEADLIGHTS         150\n",
       "EMBANKMENT                   122\n",
       "BLOWING MATERIALS            116\n",
       "SIGNBOARD                     48\n",
       "Name: DRIVER_VISION, dtype: int64"
      ]
     },
     "execution_count": 96,
     "metadata": {},
     "output_type": "execute_result"
    }
   ],
   "source": [
    "bins.DRIVER_VISION.value_counts()"
   ]
  },
  {
   "cell_type": "code",
   "execution_count": 97,
   "metadata": {},
   "outputs": [],
   "source": [
    "bins['DRIVER_VISION'] = bins.DRIVER_VISION.map({\n",
    "    'NOT OBSCURED': 'Not Obstructed',\n",
    "    'UNKNOWN': 'Unknown/Other',\n",
    "    'OTHER': 'Uknown/Other',\n",
    "    'MOVING VEHICLES': 'Obstructed',\n",
    "    'PARKED VEHICLES': 'Obstructed',\n",
    "    'WINDSHIELD (WATER/ICE)': \"Obstructed\",\n",
    "    'BLINDED - SUNLIGHT': \"Obstructed\",\n",
    "    'TREES, PLANTS': \"Obstructed\",\n",
    "    'BUILDINGS': 'Obstructed',\n",
    "    'HILLCREST': \"Obstructed\",\n",
    "    'BLINDED - HEADLIGHTS': 'Obstructed',\n",
    "    'EMBANKMENT': 'Obstructed',\n",
    "    'BLOWING MATERIALS': 'Obstructed',\n",
    "    'SIGNBOARD': 'Obstructed'\n",
    "})"
   ]
  },
  {
   "cell_type": "code",
   "execution_count": 98,
   "metadata": {},
   "outputs": [
    {
     "data": {
      "text/plain": [
       "Used        936543\n",
       "Unknown     500761\n",
       "Not Used     42931\n",
       "Name: SAFETY_EQUIPMENT, dtype: int64"
      ]
     },
     "execution_count": 98,
     "metadata": {},
     "output_type": "execute_result"
    }
   ],
   "source": [
    "bins.SAFETY_EQUIPMENT.value_counts()"
   ]
  },
  {
   "cell_type": "code",
   "execution_count": 99,
   "metadata": {},
   "outputs": [
    {
     "data": {
      "text/plain": [
       "0"
      ]
     },
     "execution_count": 99,
     "metadata": {},
     "output_type": "execute_result"
    }
   ],
   "source": [
    "bins.SAFETY_EQUIPMENT.isna().sum()"
   ]
  },
  {
   "cell_type": "markdown",
   "metadata": {},
   "source": [
    "**Airbag Deployed**"
   ]
  },
  {
   "cell_type": "code",
   "execution_count": 100,
   "metadata": {},
   "outputs": [
    {
     "data": {
      "text/plain": [
       "DID NOT DEPLOY                            999013\n",
       "NOT APPLICABLE                            287010\n",
       "DEPLOYMENT UNKNOWN                         73775\n",
       "DEPLOYED, FRONT                            64015\n",
       "DEPLOYED, COMBINATION                      40455\n",
       "DEPLOYED, SIDE                             15171\n",
       "DEPLOYED OTHER (KNEE, AIR, BELT, ETC.)       796\n",
       "Name: AIRBAG_DEPLOYED, dtype: int64"
      ]
     },
     "execution_count": 100,
     "metadata": {},
     "output_type": "execute_result"
    }
   ],
   "source": [
    "bins.AIRBAG_DEPLOYED.value_counts()"
   ]
  },
  {
   "cell_type": "code",
   "execution_count": 101,
   "metadata": {},
   "outputs": [],
   "source": [
    "bins['AIRBAG_DEPLOYED'] = bins.AIRBAG_DEPLOYED.map({\n",
    "    'DID NOT DEPLOY': 'Not Deployed',\n",
    "    'NOT APPLICABLE': 'Not Deployed',\n",
    "    'DEPLOYMENT UNKNOWN': 'Uknown',\n",
    "    'DEPLOYED, FRONT': 'Deployed',\n",
    "    'DEPLOYED, COMBINATION': 'Deployed',\n",
    "    'DEPLOYED, SIDE': 'Deployed',\n",
    "    'DEPLOYED, OTHER (KNEE, AIR, BELT, ETC.)': 'Deployed'\n",
    "})"
   ]
  },
  {
   "cell_type": "code",
   "execution_count": 102,
   "metadata": {},
   "outputs": [
    {
     "data": {
      "text/plain": [
       "Not Deployed    1286023\n",
       "Deployed         119641\n",
       "Uknown            73775\n",
       "Name: AIRBAG_DEPLOYED, dtype: int64"
      ]
     },
     "execution_count": 102,
     "metadata": {},
     "output_type": "execute_result"
    }
   ],
   "source": [
    "bins.AIRBAG_DEPLOYED.value_counts()"
   ]
  },
  {
   "cell_type": "code",
   "execution_count": 103,
   "metadata": {},
   "outputs": [
    {
     "data": {
      "text/plain": [
       "0"
      ]
     },
     "execution_count": 103,
     "metadata": {},
     "output_type": "execute_result"
    }
   ],
   "source": [
    "bins.SAFETY_EQUIPMENT.isna().sum()"
   ]
  },
  {
   "cell_type": "code",
   "execution_count": 104,
   "metadata": {},
   "outputs": [
    {
     "data": {
      "text/html": [
       "<div>\n",
       "<style scoped>\n",
       "    .dataframe tbody tr th:only-of-type {\n",
       "        vertical-align: middle;\n",
       "    }\n",
       "\n",
       "    .dataframe tbody tr th {\n",
       "        vertical-align: top;\n",
       "    }\n",
       "\n",
       "    .dataframe thead th {\n",
       "        text-align: right;\n",
       "    }\n",
       "</style>\n",
       "<table border=\"1\" class=\"dataframe\">\n",
       "  <thead>\n",
       "    <tr style=\"text-align: right;\">\n",
       "      <th></th>\n",
       "      <th>CRASH_RECORD_ID</th>\n",
       "      <th>POSTED_SPEED_LIMIT</th>\n",
       "      <th>DEVICE_CONDITION</th>\n",
       "      <th>WEATHER_CONDITION</th>\n",
       "      <th>LIGHTING_CONDITION</th>\n",
       "      <th>FIRST_CRASH_TYPE</th>\n",
       "      <th>TRAFFICWAY_TYPE</th>\n",
       "      <th>ROADWAY_SURFACE_COND</th>\n",
       "      <th>INJURIES_TOTAL</th>\n",
       "      <th>INJURIES_FATAL</th>\n",
       "      <th>...</th>\n",
       "      <th>LATITUDE</th>\n",
       "      <th>LONGITUDE</th>\n",
       "      <th>UNIT_TYPE</th>\n",
       "      <th>VEHICLE_TYPE</th>\n",
       "      <th>PERSON_TYPE</th>\n",
       "      <th>SEX</th>\n",
       "      <th>AGE</th>\n",
       "      <th>SAFETY_EQUIPMENT</th>\n",
       "      <th>AIRBAG_DEPLOYED</th>\n",
       "      <th>DRIVER_VISION</th>\n",
       "    </tr>\n",
       "  </thead>\n",
       "  <tbody>\n",
       "    <tr>\n",
       "      <th>0</th>\n",
       "      <td>0115ade9a755e835255508463f7e9c4a9a0b47e9304238...</td>\n",
       "      <td>0-30</td>\n",
       "      <td>Unknown</td>\n",
       "      <td>Clear</td>\n",
       "      <td>Night</td>\n",
       "      <td>Moving</td>\n",
       "      <td>Road/Street</td>\n",
       "      <td>Dry</td>\n",
       "      <td>0.0</td>\n",
       "      <td>0.0</td>\n",
       "      <td>...</td>\n",
       "      <td>41.886336</td>\n",
       "      <td>-87.716203</td>\n",
       "      <td>DRIVER</td>\n",
       "      <td>Unknown</td>\n",
       "      <td>DRIVER</td>\n",
       "      <td>M</td>\n",
       "      <td>Senior</td>\n",
       "      <td>Unknown</td>\n",
       "      <td>Not Deployed</td>\n",
       "      <td>Unknown/Other</td>\n",
       "    </tr>\n",
       "    <tr>\n",
       "      <th>1</th>\n",
       "      <td>017040c61958d2fa977c956b2bd2d6759ef7754496dc96...</td>\n",
       "      <td>0-30</td>\n",
       "      <td>Working</td>\n",
       "      <td>Clear</td>\n",
       "      <td>Day</td>\n",
       "      <td>Moving</td>\n",
       "      <td>Road/Street</td>\n",
       "      <td>Dry</td>\n",
       "      <td>0.0</td>\n",
       "      <td>0.0</td>\n",
       "      <td>...</td>\n",
       "      <td>41.925111</td>\n",
       "      <td>-87.667997</td>\n",
       "      <td>DRIVER</td>\n",
       "      <td>Car</td>\n",
       "      <td>DRIVER</td>\n",
       "      <td>F</td>\n",
       "      <td>Senior</td>\n",
       "      <td>Unknown</td>\n",
       "      <td>Not Deployed</td>\n",
       "      <td>Unknown/Other</td>\n",
       "    </tr>\n",
       "    <tr>\n",
       "      <th>2</th>\n",
       "      <td>017040c61958d2fa977c956b2bd2d6759ef7754496dc96...</td>\n",
       "      <td>0-30</td>\n",
       "      <td>Working</td>\n",
       "      <td>Clear</td>\n",
       "      <td>Day</td>\n",
       "      <td>Moving</td>\n",
       "      <td>Road/Street</td>\n",
       "      <td>Dry</td>\n",
       "      <td>0.0</td>\n",
       "      <td>0.0</td>\n",
       "      <td>...</td>\n",
       "      <td>41.925111</td>\n",
       "      <td>-87.667997</td>\n",
       "      <td>DRIVER</td>\n",
       "      <td>Car</td>\n",
       "      <td>DRIVER</td>\n",
       "      <td>M</td>\n",
       "      <td>Adult</td>\n",
       "      <td>Unknown</td>\n",
       "      <td>Not Deployed</td>\n",
       "      <td>Unknown/Other</td>\n",
       "    </tr>\n",
       "    <tr>\n",
       "      <th>3</th>\n",
       "      <td>017040c61958d2fa977c956b2bd2d6759ef7754496dc96...</td>\n",
       "      <td>0-30</td>\n",
       "      <td>Working</td>\n",
       "      <td>Clear</td>\n",
       "      <td>Day</td>\n",
       "      <td>Moving</td>\n",
       "      <td>Road/Street</td>\n",
       "      <td>Dry</td>\n",
       "      <td>0.0</td>\n",
       "      <td>0.0</td>\n",
       "      <td>...</td>\n",
       "      <td>41.925111</td>\n",
       "      <td>-87.667997</td>\n",
       "      <td>DRIVER</td>\n",
       "      <td>Car</td>\n",
       "      <td>DRIVER</td>\n",
       "      <td>F</td>\n",
       "      <td>Senior</td>\n",
       "      <td>Unknown</td>\n",
       "      <td>Not Deployed</td>\n",
       "      <td>Unknown/Other</td>\n",
       "    </tr>\n",
       "    <tr>\n",
       "      <th>4</th>\n",
       "      <td>017040c61958d2fa977c956b2bd2d6759ef7754496dc96...</td>\n",
       "      <td>0-30</td>\n",
       "      <td>Working</td>\n",
       "      <td>Clear</td>\n",
       "      <td>Day</td>\n",
       "      <td>Moving</td>\n",
       "      <td>Road/Street</td>\n",
       "      <td>Dry</td>\n",
       "      <td>0.0</td>\n",
       "      <td>0.0</td>\n",
       "      <td>...</td>\n",
       "      <td>41.925111</td>\n",
       "      <td>-87.667997</td>\n",
       "      <td>DRIVER</td>\n",
       "      <td>Car</td>\n",
       "      <td>DRIVER</td>\n",
       "      <td>M</td>\n",
       "      <td>Adult</td>\n",
       "      <td>Unknown</td>\n",
       "      <td>Not Deployed</td>\n",
       "      <td>Unknown/Other</td>\n",
       "    </tr>\n",
       "  </tbody>\n",
       "</table>\n",
       "<p>5 rows × 23 columns</p>\n",
       "</div>"
      ],
      "text/plain": [
       "                                     CRASH_RECORD_ID POSTED_SPEED_LIMIT  \\\n",
       "0  0115ade9a755e835255508463f7e9c4a9a0b47e9304238...               0-30   \n",
       "1  017040c61958d2fa977c956b2bd2d6759ef7754496dc96...               0-30   \n",
       "2  017040c61958d2fa977c956b2bd2d6759ef7754496dc96...               0-30   \n",
       "3  017040c61958d2fa977c956b2bd2d6759ef7754496dc96...               0-30   \n",
       "4  017040c61958d2fa977c956b2bd2d6759ef7754496dc96...               0-30   \n",
       "\n",
       "  DEVICE_CONDITION WEATHER_CONDITION LIGHTING_CONDITION FIRST_CRASH_TYPE  \\\n",
       "0          Unknown             Clear              Night           Moving   \n",
       "1          Working             Clear                Day           Moving   \n",
       "2          Working             Clear                Day           Moving   \n",
       "3          Working             Clear                Day           Moving   \n",
       "4          Working             Clear                Day           Moving   \n",
       "\n",
       "  TRAFFICWAY_TYPE ROADWAY_SURFACE_COND  INJURIES_TOTAL  INJURIES_FATAL  ...  \\\n",
       "0     Road/Street                  Dry             0.0             0.0  ...   \n",
       "1     Road/Street                  Dry             0.0             0.0  ...   \n",
       "2     Road/Street                  Dry             0.0             0.0  ...   \n",
       "3     Road/Street                  Dry             0.0             0.0  ...   \n",
       "4     Road/Street                  Dry             0.0             0.0  ...   \n",
       "\n",
       "    LATITUDE  LONGITUDE  UNIT_TYPE  VEHICLE_TYPE  PERSON_TYPE SEX     AGE  \\\n",
       "0  41.886336 -87.716203     DRIVER       Unknown       DRIVER   M  Senior   \n",
       "1  41.925111 -87.667997     DRIVER           Car       DRIVER   F  Senior   \n",
       "2  41.925111 -87.667997     DRIVER           Car       DRIVER   M   Adult   \n",
       "3  41.925111 -87.667997     DRIVER           Car       DRIVER   F  Senior   \n",
       "4  41.925111 -87.667997     DRIVER           Car       DRIVER   M   Adult   \n",
       "\n",
       "  SAFETY_EQUIPMENT AIRBAG_DEPLOYED  DRIVER_VISION  \n",
       "0          Unknown    Not Deployed  Unknown/Other  \n",
       "1          Unknown    Not Deployed  Unknown/Other  \n",
       "2          Unknown    Not Deployed  Unknown/Other  \n",
       "3          Unknown    Not Deployed  Unknown/Other  \n",
       "4          Unknown    Not Deployed  Unknown/Other  \n",
       "\n",
       "[5 rows x 23 columns]"
      ]
     },
     "execution_count": 104,
     "metadata": {},
     "output_type": "execute_result"
    }
   ],
   "source": [
    "bins.head()"
   ]
  },
  {
   "cell_type": "code",
   "execution_count": 105,
   "metadata": {},
   "outputs": [
    {
     "name": "stdout",
     "output_type": "stream",
     "text": [
      "<class 'pandas.core.frame.DataFrame'>\n",
      "Int64Index: 1480235 entries, 0 to 1494234\n",
      "Data columns (total 23 columns):\n",
      " #   Column                Non-Null Count    Dtype   \n",
      "---  ------                --------------    -----   \n",
      " 0   CRASH_RECORD_ID       1480235 non-null  object  \n",
      " 1   POSTED_SPEED_LIMIT    1480235 non-null  category\n",
      " 2   DEVICE_CONDITION      1480235 non-null  object  \n",
      " 3   WEATHER_CONDITION     1480235 non-null  object  \n",
      " 4   LIGHTING_CONDITION    1480235 non-null  object  \n",
      " 5   FIRST_CRASH_TYPE      1480235 non-null  object  \n",
      " 6   TRAFFICWAY_TYPE       1480235 non-null  object  \n",
      " 7   ROADWAY_SURFACE_COND  1480235 non-null  object  \n",
      " 8   INJURIES_TOTAL        1480235 non-null  float64 \n",
      " 9   INJURIES_FATAL        1480235 non-null  float64 \n",
      " 10  CRASH_HOUR            1480235 non-null  category\n",
      " 11  CRASH_DAY_OF_WEEK     1480235 non-null  int64   \n",
      " 12  CRASH_MONTH           1480235 non-null  int64   \n",
      " 13  LATITUDE              1480235 non-null  float64 \n",
      " 14  LONGITUDE             1480235 non-null  float64 \n",
      " 15  UNIT_TYPE             1480235 non-null  object  \n",
      " 16  VEHICLE_TYPE          1480235 non-null  object  \n",
      " 17  PERSON_TYPE           1480235 non-null  object  \n",
      " 18  SEX                   1480235 non-null  object  \n",
      " 19  AGE                   1480235 non-null  category\n",
      " 20  SAFETY_EQUIPMENT      1480235 non-null  object  \n",
      " 21  AIRBAG_DEPLOYED       1479439 non-null  object  \n",
      " 22  DRIVER_VISION         1480235 non-null  object  \n",
      "dtypes: category(3), float64(4), int64(2), object(14)\n",
      "memory usage: 241.4+ MB\n"
     ]
    }
   ],
   "source": [
    "bins.info()"
   ]
  },
  {
   "cell_type": "code",
   "execution_count": 106,
   "metadata": {},
   "outputs": [],
   "source": [
    "df_clean = bins"
   ]
  },
  {
   "cell_type": "code",
   "execution_count": 107,
   "metadata": {},
   "outputs": [
    {
     "data": {
      "text/html": [
       "<div>\n",
       "<style scoped>\n",
       "    .dataframe tbody tr th:only-of-type {\n",
       "        vertical-align: middle;\n",
       "    }\n",
       "\n",
       "    .dataframe tbody tr th {\n",
       "        vertical-align: top;\n",
       "    }\n",
       "\n",
       "    .dataframe thead th {\n",
       "        text-align: right;\n",
       "    }\n",
       "</style>\n",
       "<table border=\"1\" class=\"dataframe\">\n",
       "  <thead>\n",
       "    <tr style=\"text-align: right;\">\n",
       "      <th></th>\n",
       "      <th>CRASH_RECORD_ID</th>\n",
       "      <th>POSTED_SPEED_LIMIT</th>\n",
       "      <th>DEVICE_CONDITION</th>\n",
       "      <th>WEATHER_CONDITION</th>\n",
       "      <th>LIGHTING_CONDITION</th>\n",
       "      <th>FIRST_CRASH_TYPE</th>\n",
       "      <th>TRAFFICWAY_TYPE</th>\n",
       "      <th>ROADWAY_SURFACE_COND</th>\n",
       "      <th>INJURIES_TOTAL</th>\n",
       "      <th>INJURIES_FATAL</th>\n",
       "      <th>...</th>\n",
       "      <th>LATITUDE</th>\n",
       "      <th>LONGITUDE</th>\n",
       "      <th>UNIT_TYPE</th>\n",
       "      <th>VEHICLE_TYPE</th>\n",
       "      <th>PERSON_TYPE</th>\n",
       "      <th>SEX</th>\n",
       "      <th>AGE</th>\n",
       "      <th>SAFETY_EQUIPMENT</th>\n",
       "      <th>AIRBAG_DEPLOYED</th>\n",
       "      <th>DRIVER_VISION</th>\n",
       "    </tr>\n",
       "  </thead>\n",
       "  <tbody>\n",
       "    <tr>\n",
       "      <th>0</th>\n",
       "      <td>0115ade9a755e835255508463f7e9c4a9a0b47e9304238...</td>\n",
       "      <td>0-30</td>\n",
       "      <td>Unknown</td>\n",
       "      <td>Clear</td>\n",
       "      <td>Night</td>\n",
       "      <td>Moving</td>\n",
       "      <td>Road/Street</td>\n",
       "      <td>Dry</td>\n",
       "      <td>0.0</td>\n",
       "      <td>0.0</td>\n",
       "      <td>...</td>\n",
       "      <td>41.886336</td>\n",
       "      <td>-87.716203</td>\n",
       "      <td>DRIVER</td>\n",
       "      <td>Unknown</td>\n",
       "      <td>DRIVER</td>\n",
       "      <td>M</td>\n",
       "      <td>Senior</td>\n",
       "      <td>Unknown</td>\n",
       "      <td>Not Deployed</td>\n",
       "      <td>Unknown/Other</td>\n",
       "    </tr>\n",
       "    <tr>\n",
       "      <th>1</th>\n",
       "      <td>017040c61958d2fa977c956b2bd2d6759ef7754496dc96...</td>\n",
       "      <td>0-30</td>\n",
       "      <td>Working</td>\n",
       "      <td>Clear</td>\n",
       "      <td>Day</td>\n",
       "      <td>Moving</td>\n",
       "      <td>Road/Street</td>\n",
       "      <td>Dry</td>\n",
       "      <td>0.0</td>\n",
       "      <td>0.0</td>\n",
       "      <td>...</td>\n",
       "      <td>41.925111</td>\n",
       "      <td>-87.667997</td>\n",
       "      <td>DRIVER</td>\n",
       "      <td>Car</td>\n",
       "      <td>DRIVER</td>\n",
       "      <td>F</td>\n",
       "      <td>Senior</td>\n",
       "      <td>Unknown</td>\n",
       "      <td>Not Deployed</td>\n",
       "      <td>Unknown/Other</td>\n",
       "    </tr>\n",
       "    <tr>\n",
       "      <th>2</th>\n",
       "      <td>017040c61958d2fa977c956b2bd2d6759ef7754496dc96...</td>\n",
       "      <td>0-30</td>\n",
       "      <td>Working</td>\n",
       "      <td>Clear</td>\n",
       "      <td>Day</td>\n",
       "      <td>Moving</td>\n",
       "      <td>Road/Street</td>\n",
       "      <td>Dry</td>\n",
       "      <td>0.0</td>\n",
       "      <td>0.0</td>\n",
       "      <td>...</td>\n",
       "      <td>41.925111</td>\n",
       "      <td>-87.667997</td>\n",
       "      <td>DRIVER</td>\n",
       "      <td>Car</td>\n",
       "      <td>DRIVER</td>\n",
       "      <td>M</td>\n",
       "      <td>Adult</td>\n",
       "      <td>Unknown</td>\n",
       "      <td>Not Deployed</td>\n",
       "      <td>Unknown/Other</td>\n",
       "    </tr>\n",
       "    <tr>\n",
       "      <th>3</th>\n",
       "      <td>017040c61958d2fa977c956b2bd2d6759ef7754496dc96...</td>\n",
       "      <td>0-30</td>\n",
       "      <td>Working</td>\n",
       "      <td>Clear</td>\n",
       "      <td>Day</td>\n",
       "      <td>Moving</td>\n",
       "      <td>Road/Street</td>\n",
       "      <td>Dry</td>\n",
       "      <td>0.0</td>\n",
       "      <td>0.0</td>\n",
       "      <td>...</td>\n",
       "      <td>41.925111</td>\n",
       "      <td>-87.667997</td>\n",
       "      <td>DRIVER</td>\n",
       "      <td>Car</td>\n",
       "      <td>DRIVER</td>\n",
       "      <td>F</td>\n",
       "      <td>Senior</td>\n",
       "      <td>Unknown</td>\n",
       "      <td>Not Deployed</td>\n",
       "      <td>Unknown/Other</td>\n",
       "    </tr>\n",
       "    <tr>\n",
       "      <th>4</th>\n",
       "      <td>017040c61958d2fa977c956b2bd2d6759ef7754496dc96...</td>\n",
       "      <td>0-30</td>\n",
       "      <td>Working</td>\n",
       "      <td>Clear</td>\n",
       "      <td>Day</td>\n",
       "      <td>Moving</td>\n",
       "      <td>Road/Street</td>\n",
       "      <td>Dry</td>\n",
       "      <td>0.0</td>\n",
       "      <td>0.0</td>\n",
       "      <td>...</td>\n",
       "      <td>41.925111</td>\n",
       "      <td>-87.667997</td>\n",
       "      <td>DRIVER</td>\n",
       "      <td>Car</td>\n",
       "      <td>DRIVER</td>\n",
       "      <td>M</td>\n",
       "      <td>Adult</td>\n",
       "      <td>Unknown</td>\n",
       "      <td>Not Deployed</td>\n",
       "      <td>Unknown/Other</td>\n",
       "    </tr>\n",
       "  </tbody>\n",
       "</table>\n",
       "<p>5 rows × 23 columns</p>\n",
       "</div>"
      ],
      "text/plain": [
       "                                     CRASH_RECORD_ID POSTED_SPEED_LIMIT  \\\n",
       "0  0115ade9a755e835255508463f7e9c4a9a0b47e9304238...               0-30   \n",
       "1  017040c61958d2fa977c956b2bd2d6759ef7754496dc96...               0-30   \n",
       "2  017040c61958d2fa977c956b2bd2d6759ef7754496dc96...               0-30   \n",
       "3  017040c61958d2fa977c956b2bd2d6759ef7754496dc96...               0-30   \n",
       "4  017040c61958d2fa977c956b2bd2d6759ef7754496dc96...               0-30   \n",
       "\n",
       "  DEVICE_CONDITION WEATHER_CONDITION LIGHTING_CONDITION FIRST_CRASH_TYPE  \\\n",
       "0          Unknown             Clear              Night           Moving   \n",
       "1          Working             Clear                Day           Moving   \n",
       "2          Working             Clear                Day           Moving   \n",
       "3          Working             Clear                Day           Moving   \n",
       "4          Working             Clear                Day           Moving   \n",
       "\n",
       "  TRAFFICWAY_TYPE ROADWAY_SURFACE_COND  INJURIES_TOTAL  INJURIES_FATAL  ...  \\\n",
       "0     Road/Street                  Dry             0.0             0.0  ...   \n",
       "1     Road/Street                  Dry             0.0             0.0  ...   \n",
       "2     Road/Street                  Dry             0.0             0.0  ...   \n",
       "3     Road/Street                  Dry             0.0             0.0  ...   \n",
       "4     Road/Street                  Dry             0.0             0.0  ...   \n",
       "\n",
       "    LATITUDE  LONGITUDE  UNIT_TYPE  VEHICLE_TYPE  PERSON_TYPE SEX     AGE  \\\n",
       "0  41.886336 -87.716203     DRIVER       Unknown       DRIVER   M  Senior   \n",
       "1  41.925111 -87.667997     DRIVER           Car       DRIVER   F  Senior   \n",
       "2  41.925111 -87.667997     DRIVER           Car       DRIVER   M   Adult   \n",
       "3  41.925111 -87.667997     DRIVER           Car       DRIVER   F  Senior   \n",
       "4  41.925111 -87.667997     DRIVER           Car       DRIVER   M   Adult   \n",
       "\n",
       "  SAFETY_EQUIPMENT AIRBAG_DEPLOYED  DRIVER_VISION  \n",
       "0          Unknown    Not Deployed  Unknown/Other  \n",
       "1          Unknown    Not Deployed  Unknown/Other  \n",
       "2          Unknown    Not Deployed  Unknown/Other  \n",
       "3          Unknown    Not Deployed  Unknown/Other  \n",
       "4          Unknown    Not Deployed  Unknown/Other  \n",
       "\n",
       "[5 rows x 23 columns]"
      ]
     },
     "execution_count": 107,
     "metadata": {},
     "output_type": "execute_result"
    }
   ],
   "source": [
    "df_clean.head()"
   ]
  },
  {
   "cell_type": "code",
   "execution_count": 108,
   "metadata": {},
   "outputs": [],
   "source": [
    "df_clean.to_csv('./zippedData/df_clean.csv')"
   ]
  },
  {
   "cell_type": "code",
   "execution_count": null,
   "metadata": {},
   "outputs": [],
   "source": []
  }
 ],
 "metadata": {
  "kernelspec": {
   "display_name": "Python (learn-env)",
   "language": "python",
   "name": "learn-env"
  },
  "language_info": {
   "codemirror_mode": {
    "name": "ipython",
    "version": 3
   },
   "file_extension": ".py",
   "mimetype": "text/x-python",
   "name": "python",
   "nbconvert_exporter": "python",
   "pygments_lexer": "ipython3",
   "version": "3.8.5"
  }
 },
 "nbformat": 4,
 "nbformat_minor": 4
}
