{
 "cells": [
  {
   "cell_type": "markdown",
   "metadata": {},
   "source": [
    "# Chicago Vehicle Saftey: \n",
    "## Traffic Accident Injury Detection & Reduction\n",
    "Author: Ashli Dougherty\n",
    "***"
   ]
  },
  {
   "cell_type": "markdown",
   "metadata": {},
   "source": [
    "# Overview\n",
    "A one-paragraph overview of the project, including the business problem, data, methods, results and recommendations.\n",
    "***"
   ]
  },
  {
   "cell_type": "markdown",
   "metadata": {},
   "source": [
    "# Business Problem\n",
    "Last year there were 132,967 documented traffic accidents in the city of Chicago. Approximately 20% of all accidents resulted in one or more people injured for a total of 26,593 injuries. The Chicago Department of Transportation is currently working together with [Vision Zero](https://www.chicago.gov/city/en/depts/cdot/supp_info/vision-zero-chicago.html) on a plan to eliminate **ALL** injuries and fatalities whether your mode of transportation is your personal vehicle, public transit, cycling or walking. \n",
    "\n",
    "As a partner with these two institutions I used historical crash data in order to make our city a safer place for all those who live, work, and vacation here. My approach to this problem was to build a machine learning model that would: \n",
    "1. Predict if an injury would be present at an accident site based on a variety of factors.\n",
    "2. Determine which factors increase the probability of an injury being present. \n",
    "\n",
    "The city can then use the identified factors as a starting point for improvements that can increase citizen safety. \n",
    "***"
   ]
  },
  {
   "cell_type": "markdown",
   "metadata": {},
   "source": [
    "# Data\n",
    "There are three datasets on the City of Chicago's [open data website](https://data.cityofchicago.org/browse?category=Transportation). Based on the site all three data sets are meant to be used in combination with one another. Datasets are very large and were accessed locally in order to bypass Git's Large File Storage systems. All CSVs can be accessed and downloaded from the website.  \n",
    "\n",
    "I used the following datasets: \n",
    "- [Crashes Dataset](https://data.cityofchicago.org/Transportation/Traffic-Crashes-Crashes/85ca-t3if): Crash data shows information about each traffic crash on city streets within the City of Chicago limits and under the jurisdiction of Chicago Police Department (CPD).\n",
    "- [Vehicles Dataset](https://data.cityofchicago.org/Transportation/Traffic-Crashes-Vehicles/68nd-jvt3): This dataset contains information about vehicles (or units as they are identified in crash reports) involved in a traffic crash.\n",
    "- [People Dataset](https://data.cityofchicago.org/Transportation/Traffic-Crashes-People/u6pd-qa9d): This data contains information about people involved in a crash and if any injuries were sustained.\n",
    "\n",
    "Only incidents from the calendar year 2021 will be analyzed as it is the last complete year on record. The number of reports is less than 2018 and 2019 but more than 2020 which indicates that people are driving/using transportation more since the pandemic. \n",
    "\n",
    "***"
   ]
  },
  {
   "cell_type": "markdown",
   "metadata": {},
   "source": [
    "# Data Cleaning"
   ]
  },
  {
   "cell_type": "markdown",
   "metadata": {},
   "source": [
    "## Setting Up Imports"
   ]
  },
  {
   "cell_type": "code",
   "execution_count": 718,
   "metadata": {},
   "outputs": [],
   "source": [
    "import pandas as pd\n",
    "import numpy as np\n",
    "import matplotlib.pyplot as plt\n",
    "%matplotlib inline\n",
    "import seaborn as sns"
   ]
  },
  {
   "cell_type": "code",
   "execution_count": 719,
   "metadata": {},
   "outputs": [
    {
     "data": {
      "text/html": [
       "<div>\n",
       "<style scoped>\n",
       "    .dataframe tbody tr th:only-of-type {\n",
       "        vertical-align: middle;\n",
       "    }\n",
       "\n",
       "    .dataframe tbody tr th {\n",
       "        vertical-align: top;\n",
       "    }\n",
       "\n",
       "    .dataframe thead th {\n",
       "        text-align: right;\n",
       "    }\n",
       "</style>\n",
       "<table border=\"1\" class=\"dataframe\">\n",
       "  <thead>\n",
       "    <tr style=\"text-align: right;\">\n",
       "      <th></th>\n",
       "      <th>CRASH_RECORD_ID</th>\n",
       "      <th>RD_NO</th>\n",
       "      <th>CRASH_DATE_EST_I</th>\n",
       "      <th>CRASH_DATE</th>\n",
       "      <th>POSTED_SPEED_LIMIT</th>\n",
       "      <th>TRAFFIC_CONTROL_DEVICE</th>\n",
       "      <th>DEVICE_CONDITION</th>\n",
       "      <th>WEATHER_CONDITION</th>\n",
       "      <th>LIGHTING_CONDITION</th>\n",
       "      <th>FIRST_CRASH_TYPE</th>\n",
       "      <th>...</th>\n",
       "      <th>INJURIES_NON_INCAPACITATING</th>\n",
       "      <th>INJURIES_REPORTED_NOT_EVIDENT</th>\n",
       "      <th>INJURIES_NO_INDICATION</th>\n",
       "      <th>INJURIES_UNKNOWN</th>\n",
       "      <th>CRASH_HOUR</th>\n",
       "      <th>CRASH_DAY_OF_WEEK</th>\n",
       "      <th>CRASH_MONTH</th>\n",
       "      <th>LATITUDE</th>\n",
       "      <th>LONGITUDE</th>\n",
       "      <th>LOCATION</th>\n",
       "    </tr>\n",
       "  </thead>\n",
       "  <tbody>\n",
       "    <tr>\n",
       "      <th>0</th>\n",
       "      <td>0115ade9a755e835255508463f7e9c4a9a0b47e9304238...</td>\n",
       "      <td>JF318029</td>\n",
       "      <td>NaN</td>\n",
       "      <td>07/15/2022 12:45:00 AM</td>\n",
       "      <td>30</td>\n",
       "      <td>UNKNOWN</td>\n",
       "      <td>UNKNOWN</td>\n",
       "      <td>CLEAR</td>\n",
       "      <td>DARKNESS, LIGHTED ROAD</td>\n",
       "      <td>ANGLE</td>\n",
       "      <td>...</td>\n",
       "      <td>0.0</td>\n",
       "      <td>0.0</td>\n",
       "      <td>2.0</td>\n",
       "      <td>0.0</td>\n",
       "      <td>0</td>\n",
       "      <td>6</td>\n",
       "      <td>7</td>\n",
       "      <td>41.886336</td>\n",
       "      <td>-87.716203</td>\n",
       "      <td>POINT (-87.716203130599 41.886336409761)</td>\n",
       "    </tr>\n",
       "    <tr>\n",
       "      <th>1</th>\n",
       "      <td>017040c61958d2fa977c956b2bd2d6759ef7754496dc96...</td>\n",
       "      <td>JF324552</td>\n",
       "      <td>NaN</td>\n",
       "      <td>07/15/2022 06:50:00 PM</td>\n",
       "      <td>30</td>\n",
       "      <td>TRAFFIC SIGNAL</td>\n",
       "      <td>FUNCTIONING PROPERLY</td>\n",
       "      <td>CLEAR</td>\n",
       "      <td>DAYLIGHT</td>\n",
       "      <td>REAR END</td>\n",
       "      <td>...</td>\n",
       "      <td>0.0</td>\n",
       "      <td>0.0</td>\n",
       "      <td>2.0</td>\n",
       "      <td>0.0</td>\n",
       "      <td>18</td>\n",
       "      <td>6</td>\n",
       "      <td>7</td>\n",
       "      <td>41.925111</td>\n",
       "      <td>-87.667997</td>\n",
       "      <td>POINT (-87.667997321599 41.925110815832)</td>\n",
       "    </tr>\n",
       "    <tr>\n",
       "      <th>2</th>\n",
       "      <td>01aaa759c6bbefd0f584226fbd88bdc549de3ed1e46255...</td>\n",
       "      <td>JF319819</td>\n",
       "      <td>NaN</td>\n",
       "      <td>07/15/2022 05:10:00 PM</td>\n",
       "      <td>40</td>\n",
       "      <td>NO CONTROLS</td>\n",
       "      <td>NO CONTROLS</td>\n",
       "      <td>CLOUDY/OVERCAST</td>\n",
       "      <td>DAYLIGHT</td>\n",
       "      <td>ANGLE</td>\n",
       "      <td>...</td>\n",
       "      <td>0.0</td>\n",
       "      <td>0.0</td>\n",
       "      <td>2.0</td>\n",
       "      <td>0.0</td>\n",
       "      <td>17</td>\n",
       "      <td>6</td>\n",
       "      <td>7</td>\n",
       "      <td>41.975826</td>\n",
       "      <td>-87.650420</td>\n",
       "      <td>POINT (-87.650419778017 41.975826016449)</td>\n",
       "    </tr>\n",
       "    <tr>\n",
       "      <th>3</th>\n",
       "      <td>0362b3f8ddb8589dfe889356efbc2ad213efe2031556f0...</td>\n",
       "      <td>JF318271</td>\n",
       "      <td>NaN</td>\n",
       "      <td>07/15/2022 08:44:00 AM</td>\n",
       "      <td>30</td>\n",
       "      <td>NO CONTROLS</td>\n",
       "      <td>NO CONTROLS</td>\n",
       "      <td>RAIN</td>\n",
       "      <td>DAYLIGHT</td>\n",
       "      <td>REAR END</td>\n",
       "      <td>...</td>\n",
       "      <td>0.0</td>\n",
       "      <td>0.0</td>\n",
       "      <td>3.0</td>\n",
       "      <td>0.0</td>\n",
       "      <td>8</td>\n",
       "      <td>6</td>\n",
       "      <td>7</td>\n",
       "      <td>41.944199</td>\n",
       "      <td>-87.747157</td>\n",
       "      <td>POINT (-87.747157281564 41.944198992304)</td>\n",
       "    </tr>\n",
       "    <tr>\n",
       "      <th>4</th>\n",
       "      <td>03d3679ef44bb8aa0f2060cb0376f3eeb1d9dbb2197322...</td>\n",
       "      <td>JF318956</td>\n",
       "      <td>NaN</td>\n",
       "      <td>07/15/2022 04:10:00 PM</td>\n",
       "      <td>30</td>\n",
       "      <td>STOP SIGN/FLASHER</td>\n",
       "      <td>FUNCTIONING PROPERLY</td>\n",
       "      <td>RAIN</td>\n",
       "      <td>DAYLIGHT</td>\n",
       "      <td>PEDESTRIAN</td>\n",
       "      <td>...</td>\n",
       "      <td>1.0</td>\n",
       "      <td>0.0</td>\n",
       "      <td>1.0</td>\n",
       "      <td>0.0</td>\n",
       "      <td>16</td>\n",
       "      <td>6</td>\n",
       "      <td>7</td>\n",
       "      <td>41.855974</td>\n",
       "      <td>-87.663860</td>\n",
       "      <td>POINT (-87.663860117648 41.855973928536)</td>\n",
       "    </tr>\n",
       "  </tbody>\n",
       "</table>\n",
       "<p>5 rows × 49 columns</p>\n",
       "</div>"
      ],
      "text/plain": [
       "                                     CRASH_RECORD_ID     RD_NO  \\\n",
       "0  0115ade9a755e835255508463f7e9c4a9a0b47e9304238...  JF318029   \n",
       "1  017040c61958d2fa977c956b2bd2d6759ef7754496dc96...  JF324552   \n",
       "2  01aaa759c6bbefd0f584226fbd88bdc549de3ed1e46255...  JF319819   \n",
       "3  0362b3f8ddb8589dfe889356efbc2ad213efe2031556f0...  JF318271   \n",
       "4  03d3679ef44bb8aa0f2060cb0376f3eeb1d9dbb2197322...  JF318956   \n",
       "\n",
       "  CRASH_DATE_EST_I              CRASH_DATE  POSTED_SPEED_LIMIT  \\\n",
       "0              NaN  07/15/2022 12:45:00 AM                  30   \n",
       "1              NaN  07/15/2022 06:50:00 PM                  30   \n",
       "2              NaN  07/15/2022 05:10:00 PM                  40   \n",
       "3              NaN  07/15/2022 08:44:00 AM                  30   \n",
       "4              NaN  07/15/2022 04:10:00 PM                  30   \n",
       "\n",
       "  TRAFFIC_CONTROL_DEVICE      DEVICE_CONDITION WEATHER_CONDITION  \\\n",
       "0                UNKNOWN               UNKNOWN             CLEAR   \n",
       "1         TRAFFIC SIGNAL  FUNCTIONING PROPERLY             CLEAR   \n",
       "2            NO CONTROLS           NO CONTROLS   CLOUDY/OVERCAST   \n",
       "3            NO CONTROLS           NO CONTROLS              RAIN   \n",
       "4      STOP SIGN/FLASHER  FUNCTIONING PROPERLY              RAIN   \n",
       "\n",
       "       LIGHTING_CONDITION FIRST_CRASH_TYPE  ... INJURIES_NON_INCAPACITATING  \\\n",
       "0  DARKNESS, LIGHTED ROAD            ANGLE  ...                         0.0   \n",
       "1                DAYLIGHT         REAR END  ...                         0.0   \n",
       "2                DAYLIGHT            ANGLE  ...                         0.0   \n",
       "3                DAYLIGHT         REAR END  ...                         0.0   \n",
       "4                DAYLIGHT       PEDESTRIAN  ...                         1.0   \n",
       "\n",
       "   INJURIES_REPORTED_NOT_EVIDENT INJURIES_NO_INDICATION INJURIES_UNKNOWN  \\\n",
       "0                            0.0                    2.0              0.0   \n",
       "1                            0.0                    2.0              0.0   \n",
       "2                            0.0                    2.0              0.0   \n",
       "3                            0.0                    3.0              0.0   \n",
       "4                            0.0                    1.0              0.0   \n",
       "\n",
       "  CRASH_HOUR CRASH_DAY_OF_WEEK CRASH_MONTH   LATITUDE  LONGITUDE  \\\n",
       "0          0                 6           7  41.886336 -87.716203   \n",
       "1         18                 6           7  41.925111 -87.667997   \n",
       "2         17                 6           7  41.975826 -87.650420   \n",
       "3          8                 6           7  41.944199 -87.747157   \n",
       "4         16                 6           7  41.855974 -87.663860   \n",
       "\n",
       "                                   LOCATION  \n",
       "0  POINT (-87.716203130599 41.886336409761)  \n",
       "1  POINT (-87.667997321599 41.925110815832)  \n",
       "2  POINT (-87.650419778017 41.975826016449)  \n",
       "3  POINT (-87.747157281564 41.944198992304)  \n",
       "4  POINT (-87.663860117648 41.855973928536)  \n",
       "\n",
       "[5 rows x 49 columns]"
      ]
     },
     "execution_count": 719,
     "metadata": {},
     "output_type": "execute_result"
    }
   ],
   "source": [
    "crashes = pd.read_csv('../CarCrashData/Traffic_Crashes_Crashes.csv')\n",
    "crashes.head()"
   ]
  },
  {
   "cell_type": "code",
   "execution_count": 720,
   "metadata": {
    "scrolled": false
   },
   "outputs": [
    {
     "data": {
      "text/plain": [
       "(643075, 49)"
      ]
     },
     "execution_count": 720,
     "metadata": {},
     "output_type": "execute_result"
    }
   ],
   "source": [
    "crashes.shape"
   ]
  },
  {
   "cell_type": "code",
   "execution_count": 721,
   "metadata": {},
   "outputs": [
    {
     "name": "stdout",
     "output_type": "stream",
     "text": [
      "<class 'pandas.core.frame.DataFrame'>\n",
      "RangeIndex: 643075 entries, 0 to 643074\n",
      "Data columns (total 49 columns):\n",
      " #   Column                         Non-Null Count   Dtype  \n",
      "---  ------                         --------------   -----  \n",
      " 0   CRASH_RECORD_ID                643075 non-null  object \n",
      " 1   RD_NO                          639096 non-null  object \n",
      " 2   CRASH_DATE_EST_I               48816 non-null   object \n",
      " 3   CRASH_DATE                     643075 non-null  object \n",
      " 4   POSTED_SPEED_LIMIT             643075 non-null  int64  \n",
      " 5   TRAFFIC_CONTROL_DEVICE         643075 non-null  object \n",
      " 6   DEVICE_CONDITION               643075 non-null  object \n",
      " 7   WEATHER_CONDITION              643075 non-null  object \n",
      " 8   LIGHTING_CONDITION             643075 non-null  object \n",
      " 9   FIRST_CRASH_TYPE               643075 non-null  object \n",
      " 10  TRAFFICWAY_TYPE                643075 non-null  object \n",
      " 11  LANE_CNT                       198990 non-null  float64\n",
      " 12  ALIGNMENT                      643075 non-null  object \n",
      " 13  ROADWAY_SURFACE_COND           643075 non-null  object \n",
      " 14  ROAD_DEFECT                    643075 non-null  object \n",
      " 15  REPORT_TYPE                    626026 non-null  object \n",
      " 16  CRASH_TYPE                     643075 non-null  object \n",
      " 17  INTERSECTION_RELATED_I         147110 non-null  object \n",
      " 18  NOT_RIGHT_OF_WAY_I             30297 non-null   object \n",
      " 19  HIT_AND_RUN_I                  198023 non-null  object \n",
      " 20  DAMAGE                         643075 non-null  object \n",
      " 21  DATE_POLICE_NOTIFIED           643075 non-null  object \n",
      " 22  PRIM_CONTRIBUTORY_CAUSE        643075 non-null  object \n",
      " 23  SEC_CONTRIBUTORY_CAUSE         643075 non-null  object \n",
      " 24  STREET_NO                      643075 non-null  int64  \n",
      " 25  STREET_DIRECTION               643071 non-null  object \n",
      " 26  STREET_NAME                    643074 non-null  object \n",
      " 27  BEAT_OF_OCCURRENCE             643070 non-null  float64\n",
      " 28  PHOTOS_TAKEN_I                 7913 non-null    object \n",
      " 29  STATEMENTS_TAKEN_I             13198 non-null   object \n",
      " 30  DOORING_I                      2013 non-null    object \n",
      " 31  WORK_ZONE_I                    3825 non-null    object \n",
      " 32  WORK_ZONE_TYPE                 3002 non-null    object \n",
      " 33  WORKERS_PRESENT_I              972 non-null     object \n",
      " 34  NUM_UNITS                      643075 non-null  int64  \n",
      " 35  MOST_SEVERE_INJURY             641710 non-null  object \n",
      " 36  INJURIES_TOTAL                 641721 non-null  float64\n",
      " 37  INJURIES_FATAL                 641721 non-null  float64\n",
      " 38  INJURIES_INCAPACITATING        641721 non-null  float64\n",
      " 39  INJURIES_NON_INCAPACITATING    641721 non-null  float64\n",
      " 40  INJURIES_REPORTED_NOT_EVIDENT  641721 non-null  float64\n",
      " 41  INJURIES_NO_INDICATION         641721 non-null  float64\n",
      " 42  INJURIES_UNKNOWN               641721 non-null  float64\n",
      " 43  CRASH_HOUR                     643075 non-null  int64  \n",
      " 44  CRASH_DAY_OF_WEEK              643075 non-null  int64  \n",
      " 45  CRASH_MONTH                    643075 non-null  int64  \n",
      " 46  LATITUDE                       639116 non-null  float64\n",
      " 47  LONGITUDE                      639116 non-null  float64\n",
      " 48  LOCATION                       639116 non-null  object \n",
      "dtypes: float64(11), int64(6), object(32)\n",
      "memory usage: 240.4+ MB\n"
     ]
    }
   ],
   "source": [
    "crashes.info()"
   ]
  },
  {
   "cell_type": "markdown",
   "metadata": {},
   "source": [
    "### Dropping columns with high null counts"
   ]
  },
  {
   "cell_type": "code",
   "execution_count": 722,
   "metadata": {},
   "outputs": [
    {
     "data": {
      "text/html": [
       "<div>\n",
       "<style scoped>\n",
       "    .dataframe tbody tr th:only-of-type {\n",
       "        vertical-align: middle;\n",
       "    }\n",
       "\n",
       "    .dataframe tbody tr th {\n",
       "        vertical-align: top;\n",
       "    }\n",
       "\n",
       "    .dataframe thead th {\n",
       "        text-align: right;\n",
       "    }\n",
       "</style>\n",
       "<table border=\"1\" class=\"dataframe\">\n",
       "  <thead>\n",
       "    <tr style=\"text-align: right;\">\n",
       "      <th></th>\n",
       "      <th>column_name</th>\n",
       "      <th>percent_missing</th>\n",
       "    </tr>\n",
       "  </thead>\n",
       "  <tbody>\n",
       "    <tr>\n",
       "      <th>WORKERS_PRESENT_I</th>\n",
       "      <td>WORKERS_PRESENT_I</td>\n",
       "      <td>99.848851</td>\n",
       "    </tr>\n",
       "    <tr>\n",
       "      <th>DOORING_I</th>\n",
       "      <td>DOORING_I</td>\n",
       "      <td>99.686973</td>\n",
       "    </tr>\n",
       "    <tr>\n",
       "      <th>WORK_ZONE_TYPE</th>\n",
       "      <td>WORK_ZONE_TYPE</td>\n",
       "      <td>99.533180</td>\n",
       "    </tr>\n",
       "    <tr>\n",
       "      <th>WORK_ZONE_I</th>\n",
       "      <td>WORK_ZONE_I</td>\n",
       "      <td>99.405202</td>\n",
       "    </tr>\n",
       "    <tr>\n",
       "      <th>PHOTOS_TAKEN_I</th>\n",
       "      <td>PHOTOS_TAKEN_I</td>\n",
       "      <td>98.769506</td>\n",
       "    </tr>\n",
       "    <tr>\n",
       "      <th>STATEMENTS_TAKEN_I</th>\n",
       "      <td>STATEMENTS_TAKEN_I</td>\n",
       "      <td>97.947673</td>\n",
       "    </tr>\n",
       "    <tr>\n",
       "      <th>NOT_RIGHT_OF_WAY_I</th>\n",
       "      <td>NOT_RIGHT_OF_WAY_I</td>\n",
       "      <td>95.288730</td>\n",
       "    </tr>\n",
       "    <tr>\n",
       "      <th>CRASH_DATE_EST_I</th>\n",
       "      <td>CRASH_DATE_EST_I</td>\n",
       "      <td>92.408973</td>\n",
       "    </tr>\n",
       "    <tr>\n",
       "      <th>INTERSECTION_RELATED_I</th>\n",
       "      <td>INTERSECTION_RELATED_I</td>\n",
       "      <td>77.123975</td>\n",
       "    </tr>\n",
       "    <tr>\n",
       "      <th>HIT_AND_RUN_I</th>\n",
       "      <td>HIT_AND_RUN_I</td>\n",
       "      <td>69.206858</td>\n",
       "    </tr>\n",
       "    <tr>\n",
       "      <th>LANE_CNT</th>\n",
       "      <td>LANE_CNT</td>\n",
       "      <td>69.056486</td>\n",
       "    </tr>\n",
       "    <tr>\n",
       "      <th>REPORT_TYPE</th>\n",
       "      <td>REPORT_TYPE</td>\n",
       "      <td>2.651168</td>\n",
       "    </tr>\n",
       "    <tr>\n",
       "      <th>RD_NO</th>\n",
       "      <td>RD_NO</td>\n",
       "      <td>0.618746</td>\n",
       "    </tr>\n",
       "    <tr>\n",
       "      <th>LOCATION</th>\n",
       "      <td>LOCATION</td>\n",
       "      <td>0.615636</td>\n",
       "    </tr>\n",
       "    <tr>\n",
       "      <th>LONGITUDE</th>\n",
       "      <td>LONGITUDE</td>\n",
       "      <td>0.615636</td>\n",
       "    </tr>\n",
       "    <tr>\n",
       "      <th>LATITUDE</th>\n",
       "      <td>LATITUDE</td>\n",
       "      <td>0.615636</td>\n",
       "    </tr>\n",
       "    <tr>\n",
       "      <th>MOST_SEVERE_INJURY</th>\n",
       "      <td>MOST_SEVERE_INJURY</td>\n",
       "      <td>0.212261</td>\n",
       "    </tr>\n",
       "    <tr>\n",
       "      <th>INJURIES_INCAPACITATING</th>\n",
       "      <td>INJURIES_INCAPACITATING</td>\n",
       "      <td>0.210551</td>\n",
       "    </tr>\n",
       "    <tr>\n",
       "      <th>INJURIES_NON_INCAPACITATING</th>\n",
       "      <td>INJURIES_NON_INCAPACITATING</td>\n",
       "      <td>0.210551</td>\n",
       "    </tr>\n",
       "    <tr>\n",
       "      <th>INJURIES_UNKNOWN</th>\n",
       "      <td>INJURIES_UNKNOWN</td>\n",
       "      <td>0.210551</td>\n",
       "    </tr>\n",
       "    <tr>\n",
       "      <th>INJURIES_NO_INDICATION</th>\n",
       "      <td>INJURIES_NO_INDICATION</td>\n",
       "      <td>0.210551</td>\n",
       "    </tr>\n",
       "    <tr>\n",
       "      <th>INJURIES_TOTAL</th>\n",
       "      <td>INJURIES_TOTAL</td>\n",
       "      <td>0.210551</td>\n",
       "    </tr>\n",
       "    <tr>\n",
       "      <th>INJURIES_REPORTED_NOT_EVIDENT</th>\n",
       "      <td>INJURIES_REPORTED_NOT_EVIDENT</td>\n",
       "      <td>0.210551</td>\n",
       "    </tr>\n",
       "    <tr>\n",
       "      <th>INJURIES_FATAL</th>\n",
       "      <td>INJURIES_FATAL</td>\n",
       "      <td>0.210551</td>\n",
       "    </tr>\n",
       "    <tr>\n",
       "      <th>BEAT_OF_OCCURRENCE</th>\n",
       "      <td>BEAT_OF_OCCURRENCE</td>\n",
       "      <td>0.000778</td>\n",
       "    </tr>\n",
       "    <tr>\n",
       "      <th>STREET_DIRECTION</th>\n",
       "      <td>STREET_DIRECTION</td>\n",
       "      <td>0.000622</td>\n",
       "    </tr>\n",
       "    <tr>\n",
       "      <th>STREET_NAME</th>\n",
       "      <td>STREET_NAME</td>\n",
       "      <td>0.000156</td>\n",
       "    </tr>\n",
       "    <tr>\n",
       "      <th>CRASH_HOUR</th>\n",
       "      <td>CRASH_HOUR</td>\n",
       "      <td>0.000000</td>\n",
       "    </tr>\n",
       "    <tr>\n",
       "      <th>CRASH_DAY_OF_WEEK</th>\n",
       "      <td>CRASH_DAY_OF_WEEK</td>\n",
       "      <td>0.000000</td>\n",
       "    </tr>\n",
       "    <tr>\n",
       "      <th>CRASH_MONTH</th>\n",
       "      <td>CRASH_MONTH</td>\n",
       "      <td>0.000000</td>\n",
       "    </tr>\n",
       "    <tr>\n",
       "      <th>NUM_UNITS</th>\n",
       "      <td>NUM_UNITS</td>\n",
       "      <td>0.000000</td>\n",
       "    </tr>\n",
       "    <tr>\n",
       "      <th>CRASH_RECORD_ID</th>\n",
       "      <td>CRASH_RECORD_ID</td>\n",
       "      <td>0.000000</td>\n",
       "    </tr>\n",
       "    <tr>\n",
       "      <th>SEC_CONTRIBUTORY_CAUSE</th>\n",
       "      <td>SEC_CONTRIBUTORY_CAUSE</td>\n",
       "      <td>0.000000</td>\n",
       "    </tr>\n",
       "    <tr>\n",
       "      <th>FIRST_CRASH_TYPE</th>\n",
       "      <td>FIRST_CRASH_TYPE</td>\n",
       "      <td>0.000000</td>\n",
       "    </tr>\n",
       "    <tr>\n",
       "      <th>CRASH_DATE</th>\n",
       "      <td>CRASH_DATE</td>\n",
       "      <td>0.000000</td>\n",
       "    </tr>\n",
       "    <tr>\n",
       "      <th>POSTED_SPEED_LIMIT</th>\n",
       "      <td>POSTED_SPEED_LIMIT</td>\n",
       "      <td>0.000000</td>\n",
       "    </tr>\n",
       "    <tr>\n",
       "      <th>TRAFFIC_CONTROL_DEVICE</th>\n",
       "      <td>TRAFFIC_CONTROL_DEVICE</td>\n",
       "      <td>0.000000</td>\n",
       "    </tr>\n",
       "    <tr>\n",
       "      <th>DEVICE_CONDITION</th>\n",
       "      <td>DEVICE_CONDITION</td>\n",
       "      <td>0.000000</td>\n",
       "    </tr>\n",
       "    <tr>\n",
       "      <th>WEATHER_CONDITION</th>\n",
       "      <td>WEATHER_CONDITION</td>\n",
       "      <td>0.000000</td>\n",
       "    </tr>\n",
       "    <tr>\n",
       "      <th>LIGHTING_CONDITION</th>\n",
       "      <td>LIGHTING_CONDITION</td>\n",
       "      <td>0.000000</td>\n",
       "    </tr>\n",
       "    <tr>\n",
       "      <th>TRAFFICWAY_TYPE</th>\n",
       "      <td>TRAFFICWAY_TYPE</td>\n",
       "      <td>0.000000</td>\n",
       "    </tr>\n",
       "    <tr>\n",
       "      <th>PRIM_CONTRIBUTORY_CAUSE</th>\n",
       "      <td>PRIM_CONTRIBUTORY_CAUSE</td>\n",
       "      <td>0.000000</td>\n",
       "    </tr>\n",
       "    <tr>\n",
       "      <th>ALIGNMENT</th>\n",
       "      <td>ALIGNMENT</td>\n",
       "      <td>0.000000</td>\n",
       "    </tr>\n",
       "    <tr>\n",
       "      <th>ROADWAY_SURFACE_COND</th>\n",
       "      <td>ROADWAY_SURFACE_COND</td>\n",
       "      <td>0.000000</td>\n",
       "    </tr>\n",
       "    <tr>\n",
       "      <th>ROAD_DEFECT</th>\n",
       "      <td>ROAD_DEFECT</td>\n",
       "      <td>0.000000</td>\n",
       "    </tr>\n",
       "    <tr>\n",
       "      <th>CRASH_TYPE</th>\n",
       "      <td>CRASH_TYPE</td>\n",
       "      <td>0.000000</td>\n",
       "    </tr>\n",
       "    <tr>\n",
       "      <th>DAMAGE</th>\n",
       "      <td>DAMAGE</td>\n",
       "      <td>0.000000</td>\n",
       "    </tr>\n",
       "    <tr>\n",
       "      <th>DATE_POLICE_NOTIFIED</th>\n",
       "      <td>DATE_POLICE_NOTIFIED</td>\n",
       "      <td>0.000000</td>\n",
       "    </tr>\n",
       "    <tr>\n",
       "      <th>STREET_NO</th>\n",
       "      <td>STREET_NO</td>\n",
       "      <td>0.000000</td>\n",
       "    </tr>\n",
       "  </tbody>\n",
       "</table>\n",
       "</div>"
      ],
      "text/plain": [
       "                                                 column_name  percent_missing\n",
       "WORKERS_PRESENT_I                          WORKERS_PRESENT_I        99.848851\n",
       "DOORING_I                                          DOORING_I        99.686973\n",
       "WORK_ZONE_TYPE                                WORK_ZONE_TYPE        99.533180\n",
       "WORK_ZONE_I                                      WORK_ZONE_I        99.405202\n",
       "PHOTOS_TAKEN_I                                PHOTOS_TAKEN_I        98.769506\n",
       "STATEMENTS_TAKEN_I                        STATEMENTS_TAKEN_I        97.947673\n",
       "NOT_RIGHT_OF_WAY_I                        NOT_RIGHT_OF_WAY_I        95.288730\n",
       "CRASH_DATE_EST_I                            CRASH_DATE_EST_I        92.408973\n",
       "INTERSECTION_RELATED_I                INTERSECTION_RELATED_I        77.123975\n",
       "HIT_AND_RUN_I                                  HIT_AND_RUN_I        69.206858\n",
       "LANE_CNT                                            LANE_CNT        69.056486\n",
       "REPORT_TYPE                                      REPORT_TYPE         2.651168\n",
       "RD_NO                                                  RD_NO         0.618746\n",
       "LOCATION                                            LOCATION         0.615636\n",
       "LONGITUDE                                          LONGITUDE         0.615636\n",
       "LATITUDE                                            LATITUDE         0.615636\n",
       "MOST_SEVERE_INJURY                        MOST_SEVERE_INJURY         0.212261\n",
       "INJURIES_INCAPACITATING              INJURIES_INCAPACITATING         0.210551\n",
       "INJURIES_NON_INCAPACITATING      INJURIES_NON_INCAPACITATING         0.210551\n",
       "INJURIES_UNKNOWN                            INJURIES_UNKNOWN         0.210551\n",
       "INJURIES_NO_INDICATION                INJURIES_NO_INDICATION         0.210551\n",
       "INJURIES_TOTAL                                INJURIES_TOTAL         0.210551\n",
       "INJURIES_REPORTED_NOT_EVIDENT  INJURIES_REPORTED_NOT_EVIDENT         0.210551\n",
       "INJURIES_FATAL                                INJURIES_FATAL         0.210551\n",
       "BEAT_OF_OCCURRENCE                        BEAT_OF_OCCURRENCE         0.000778\n",
       "STREET_DIRECTION                            STREET_DIRECTION         0.000622\n",
       "STREET_NAME                                      STREET_NAME         0.000156\n",
       "CRASH_HOUR                                        CRASH_HOUR         0.000000\n",
       "CRASH_DAY_OF_WEEK                          CRASH_DAY_OF_WEEK         0.000000\n",
       "CRASH_MONTH                                      CRASH_MONTH         0.000000\n",
       "NUM_UNITS                                          NUM_UNITS         0.000000\n",
       "CRASH_RECORD_ID                              CRASH_RECORD_ID         0.000000\n",
       "SEC_CONTRIBUTORY_CAUSE                SEC_CONTRIBUTORY_CAUSE         0.000000\n",
       "FIRST_CRASH_TYPE                            FIRST_CRASH_TYPE         0.000000\n",
       "CRASH_DATE                                        CRASH_DATE         0.000000\n",
       "POSTED_SPEED_LIMIT                        POSTED_SPEED_LIMIT         0.000000\n",
       "TRAFFIC_CONTROL_DEVICE                TRAFFIC_CONTROL_DEVICE         0.000000\n",
       "DEVICE_CONDITION                            DEVICE_CONDITION         0.000000\n",
       "WEATHER_CONDITION                          WEATHER_CONDITION         0.000000\n",
       "LIGHTING_CONDITION                        LIGHTING_CONDITION         0.000000\n",
       "TRAFFICWAY_TYPE                              TRAFFICWAY_TYPE         0.000000\n",
       "PRIM_CONTRIBUTORY_CAUSE              PRIM_CONTRIBUTORY_CAUSE         0.000000\n",
       "ALIGNMENT                                          ALIGNMENT         0.000000\n",
       "ROADWAY_SURFACE_COND                    ROADWAY_SURFACE_COND         0.000000\n",
       "ROAD_DEFECT                                      ROAD_DEFECT         0.000000\n",
       "CRASH_TYPE                                        CRASH_TYPE         0.000000\n",
       "DAMAGE                                                DAMAGE         0.000000\n",
       "DATE_POLICE_NOTIFIED                    DATE_POLICE_NOTIFIED         0.000000\n",
       "STREET_NO                                          STREET_NO         0.000000"
      ]
     },
     "execution_count": 722,
     "metadata": {},
     "output_type": "execute_result"
    }
   ],
   "source": [
    "percent_missing = crashes.isnull().sum() * 100 / len(crashes)\n",
    "crashes_null_values = pd.DataFrame({'column_name': crashes.columns,\n",
    "                                    'percent_missing': percent_missing})\n",
    "crashes_null_values.sort_values(by='percent_missing', ascending=False)"
   ]
  },
  {
   "cell_type": "code",
   "execution_count": 723,
   "metadata": {},
   "outputs": [],
   "source": [
    "#columns with high null values (>70%) will be dropped.\n",
    "#WORKERS_PRESENT_I\n",
    "#DOORING_I\n",
    "#WORK_ZONE_TYPE\n",
    "#WORK_ZONE_I\n",
    "#PHOTOS_TAKEN_I\n",
    "#STATEMENTS_TAKEN_I\n",
    "#NOT_RIGHT_OF_WAY_I\n",
    "#CRASH_DATE_EST_I\n",
    "#INTERSECTION_RELATED_I"
   ]
  },
  {
   "cell_type": "code",
   "execution_count": 724,
   "metadata": {},
   "outputs": [],
   "source": [
    "crashes.drop(columns = ['WORKERS_PRESENT_I', 'DOORING_I','WORK_ZONE_TYPE',\n",
    "                        'WORK_ZONE_I','PHOTOS_TAKEN_I', 'STATEMENTS_TAKEN_I', \n",
    "                        'NOT_RIGHT_OF_WAY_I', 'CRASH_DATE_EST_I', 'INTERSECTION_RELATED_I'],\n",
    "             inplace=True)"
   ]
  },
  {
   "cell_type": "code",
   "execution_count": 725,
   "metadata": {
    "scrolled": false
   },
   "outputs": [
    {
     "data": {
      "text/html": [
       "<div>\n",
       "<style scoped>\n",
       "    .dataframe tbody tr th:only-of-type {\n",
       "        vertical-align: middle;\n",
       "    }\n",
       "\n",
       "    .dataframe tbody tr th {\n",
       "        vertical-align: top;\n",
       "    }\n",
       "\n",
       "    .dataframe thead th {\n",
       "        text-align: right;\n",
       "    }\n",
       "</style>\n",
       "<table border=\"1\" class=\"dataframe\">\n",
       "  <thead>\n",
       "    <tr style=\"text-align: right;\">\n",
       "      <th></th>\n",
       "      <th>CRASH_RECORD_ID</th>\n",
       "      <th>RD_NO</th>\n",
       "      <th>CRASH_DATE</th>\n",
       "      <th>POSTED_SPEED_LIMIT</th>\n",
       "      <th>TRAFFIC_CONTROL_DEVICE</th>\n",
       "      <th>DEVICE_CONDITION</th>\n",
       "      <th>WEATHER_CONDITION</th>\n",
       "      <th>LIGHTING_CONDITION</th>\n",
       "      <th>FIRST_CRASH_TYPE</th>\n",
       "      <th>TRAFFICWAY_TYPE</th>\n",
       "      <th>...</th>\n",
       "      <th>INJURIES_NON_INCAPACITATING</th>\n",
       "      <th>INJURIES_REPORTED_NOT_EVIDENT</th>\n",
       "      <th>INJURIES_NO_INDICATION</th>\n",
       "      <th>INJURIES_UNKNOWN</th>\n",
       "      <th>CRASH_HOUR</th>\n",
       "      <th>CRASH_DAY_OF_WEEK</th>\n",
       "      <th>CRASH_MONTH</th>\n",
       "      <th>LATITUDE</th>\n",
       "      <th>LONGITUDE</th>\n",
       "      <th>LOCATION</th>\n",
       "    </tr>\n",
       "  </thead>\n",
       "  <tbody>\n",
       "    <tr>\n",
       "      <th>0</th>\n",
       "      <td>0115ade9a755e835255508463f7e9c4a9a0b47e9304238...</td>\n",
       "      <td>JF318029</td>\n",
       "      <td>07/15/2022 12:45:00 AM</td>\n",
       "      <td>30</td>\n",
       "      <td>UNKNOWN</td>\n",
       "      <td>UNKNOWN</td>\n",
       "      <td>CLEAR</td>\n",
       "      <td>DARKNESS, LIGHTED ROAD</td>\n",
       "      <td>ANGLE</td>\n",
       "      <td>NOT DIVIDED</td>\n",
       "      <td>...</td>\n",
       "      <td>0.0</td>\n",
       "      <td>0.0</td>\n",
       "      <td>2.0</td>\n",
       "      <td>0.0</td>\n",
       "      <td>0</td>\n",
       "      <td>6</td>\n",
       "      <td>7</td>\n",
       "      <td>41.886336</td>\n",
       "      <td>-87.716203</td>\n",
       "      <td>POINT (-87.716203130599 41.886336409761)</td>\n",
       "    </tr>\n",
       "    <tr>\n",
       "      <th>1</th>\n",
       "      <td>017040c61958d2fa977c956b2bd2d6759ef7754496dc96...</td>\n",
       "      <td>JF324552</td>\n",
       "      <td>07/15/2022 06:50:00 PM</td>\n",
       "      <td>30</td>\n",
       "      <td>TRAFFIC SIGNAL</td>\n",
       "      <td>FUNCTIONING PROPERLY</td>\n",
       "      <td>CLEAR</td>\n",
       "      <td>DAYLIGHT</td>\n",
       "      <td>REAR END</td>\n",
       "      <td>NOT DIVIDED</td>\n",
       "      <td>...</td>\n",
       "      <td>0.0</td>\n",
       "      <td>0.0</td>\n",
       "      <td>2.0</td>\n",
       "      <td>0.0</td>\n",
       "      <td>18</td>\n",
       "      <td>6</td>\n",
       "      <td>7</td>\n",
       "      <td>41.925111</td>\n",
       "      <td>-87.667997</td>\n",
       "      <td>POINT (-87.667997321599 41.925110815832)</td>\n",
       "    </tr>\n",
       "    <tr>\n",
       "      <th>2</th>\n",
       "      <td>01aaa759c6bbefd0f584226fbd88bdc549de3ed1e46255...</td>\n",
       "      <td>JF319819</td>\n",
       "      <td>07/15/2022 05:10:00 PM</td>\n",
       "      <td>40</td>\n",
       "      <td>NO CONTROLS</td>\n",
       "      <td>NO CONTROLS</td>\n",
       "      <td>CLOUDY/OVERCAST</td>\n",
       "      <td>DAYLIGHT</td>\n",
       "      <td>ANGLE</td>\n",
       "      <td>DIVIDED - W/MEDIAN BARRIER</td>\n",
       "      <td>...</td>\n",
       "      <td>0.0</td>\n",
       "      <td>0.0</td>\n",
       "      <td>2.0</td>\n",
       "      <td>0.0</td>\n",
       "      <td>17</td>\n",
       "      <td>6</td>\n",
       "      <td>7</td>\n",
       "      <td>41.975826</td>\n",
       "      <td>-87.650420</td>\n",
       "      <td>POINT (-87.650419778017 41.975826016449)</td>\n",
       "    </tr>\n",
       "    <tr>\n",
       "      <th>3</th>\n",
       "      <td>0362b3f8ddb8589dfe889356efbc2ad213efe2031556f0...</td>\n",
       "      <td>JF318271</td>\n",
       "      <td>07/15/2022 08:44:00 AM</td>\n",
       "      <td>30</td>\n",
       "      <td>NO CONTROLS</td>\n",
       "      <td>NO CONTROLS</td>\n",
       "      <td>RAIN</td>\n",
       "      <td>DAYLIGHT</td>\n",
       "      <td>REAR END</td>\n",
       "      <td>DIVIDED - W/MEDIAN (NOT RAISED)</td>\n",
       "      <td>...</td>\n",
       "      <td>0.0</td>\n",
       "      <td>0.0</td>\n",
       "      <td>3.0</td>\n",
       "      <td>0.0</td>\n",
       "      <td>8</td>\n",
       "      <td>6</td>\n",
       "      <td>7</td>\n",
       "      <td>41.944199</td>\n",
       "      <td>-87.747157</td>\n",
       "      <td>POINT (-87.747157281564 41.944198992304)</td>\n",
       "    </tr>\n",
       "    <tr>\n",
       "      <th>4</th>\n",
       "      <td>03d3679ef44bb8aa0f2060cb0376f3eeb1d9dbb2197322...</td>\n",
       "      <td>JF318956</td>\n",
       "      <td>07/15/2022 04:10:00 PM</td>\n",
       "      <td>30</td>\n",
       "      <td>STOP SIGN/FLASHER</td>\n",
       "      <td>FUNCTIONING PROPERLY</td>\n",
       "      <td>RAIN</td>\n",
       "      <td>DAYLIGHT</td>\n",
       "      <td>PEDESTRIAN</td>\n",
       "      <td>FOUR WAY</td>\n",
       "      <td>...</td>\n",
       "      <td>1.0</td>\n",
       "      <td>0.0</td>\n",
       "      <td>1.0</td>\n",
       "      <td>0.0</td>\n",
       "      <td>16</td>\n",
       "      <td>6</td>\n",
       "      <td>7</td>\n",
       "      <td>41.855974</td>\n",
       "      <td>-87.663860</td>\n",
       "      <td>POINT (-87.663860117648 41.855973928536)</td>\n",
       "    </tr>\n",
       "  </tbody>\n",
       "</table>\n",
       "<p>5 rows × 40 columns</p>\n",
       "</div>"
      ],
      "text/plain": [
       "                                     CRASH_RECORD_ID     RD_NO  \\\n",
       "0  0115ade9a755e835255508463f7e9c4a9a0b47e9304238...  JF318029   \n",
       "1  017040c61958d2fa977c956b2bd2d6759ef7754496dc96...  JF324552   \n",
       "2  01aaa759c6bbefd0f584226fbd88bdc549de3ed1e46255...  JF319819   \n",
       "3  0362b3f8ddb8589dfe889356efbc2ad213efe2031556f0...  JF318271   \n",
       "4  03d3679ef44bb8aa0f2060cb0376f3eeb1d9dbb2197322...  JF318956   \n",
       "\n",
       "               CRASH_DATE  POSTED_SPEED_LIMIT TRAFFIC_CONTROL_DEVICE  \\\n",
       "0  07/15/2022 12:45:00 AM                  30                UNKNOWN   \n",
       "1  07/15/2022 06:50:00 PM                  30         TRAFFIC SIGNAL   \n",
       "2  07/15/2022 05:10:00 PM                  40            NO CONTROLS   \n",
       "3  07/15/2022 08:44:00 AM                  30            NO CONTROLS   \n",
       "4  07/15/2022 04:10:00 PM                  30      STOP SIGN/FLASHER   \n",
       "\n",
       "       DEVICE_CONDITION WEATHER_CONDITION      LIGHTING_CONDITION  \\\n",
       "0               UNKNOWN             CLEAR  DARKNESS, LIGHTED ROAD   \n",
       "1  FUNCTIONING PROPERLY             CLEAR                DAYLIGHT   \n",
       "2           NO CONTROLS   CLOUDY/OVERCAST                DAYLIGHT   \n",
       "3           NO CONTROLS              RAIN                DAYLIGHT   \n",
       "4  FUNCTIONING PROPERLY              RAIN                DAYLIGHT   \n",
       "\n",
       "  FIRST_CRASH_TYPE                  TRAFFICWAY_TYPE  ...  \\\n",
       "0            ANGLE                      NOT DIVIDED  ...   \n",
       "1         REAR END                      NOT DIVIDED  ...   \n",
       "2            ANGLE       DIVIDED - W/MEDIAN BARRIER  ...   \n",
       "3         REAR END  DIVIDED - W/MEDIAN (NOT RAISED)  ...   \n",
       "4       PEDESTRIAN                         FOUR WAY  ...   \n",
       "\n",
       "   INJURIES_NON_INCAPACITATING INJURIES_REPORTED_NOT_EVIDENT  \\\n",
       "0                          0.0                           0.0   \n",
       "1                          0.0                           0.0   \n",
       "2                          0.0                           0.0   \n",
       "3                          0.0                           0.0   \n",
       "4                          1.0                           0.0   \n",
       "\n",
       "  INJURIES_NO_INDICATION INJURIES_UNKNOWN CRASH_HOUR CRASH_DAY_OF_WEEK  \\\n",
       "0                    2.0              0.0          0                 6   \n",
       "1                    2.0              0.0         18                 6   \n",
       "2                    2.0              0.0         17                 6   \n",
       "3                    3.0              0.0          8                 6   \n",
       "4                    1.0              0.0         16                 6   \n",
       "\n",
       "  CRASH_MONTH   LATITUDE  LONGITUDE                                  LOCATION  \n",
       "0           7  41.886336 -87.716203  POINT (-87.716203130599 41.886336409761)  \n",
       "1           7  41.925111 -87.667997  POINT (-87.667997321599 41.925110815832)  \n",
       "2           7  41.975826 -87.650420  POINT (-87.650419778017 41.975826016449)  \n",
       "3           7  41.944199 -87.747157  POINT (-87.747157281564 41.944198992304)  \n",
       "4           7  41.855974 -87.663860  POINT (-87.663860117648 41.855973928536)  \n",
       "\n",
       "[5 rows x 40 columns]"
      ]
     },
     "execution_count": 725,
     "metadata": {},
     "output_type": "execute_result"
    }
   ],
   "source": [
    "crashes.head()"
   ]
  },
  {
   "cell_type": "code",
   "execution_count": 726,
   "metadata": {},
   "outputs": [
    {
     "name": "stdout",
     "output_type": "stream",
     "text": [
      "<class 'pandas.core.frame.DataFrame'>\n",
      "RangeIndex: 643075 entries, 0 to 643074\n",
      "Data columns (total 40 columns):\n",
      " #   Column                         Non-Null Count   Dtype  \n",
      "---  ------                         --------------   -----  \n",
      " 0   CRASH_RECORD_ID                643075 non-null  object \n",
      " 1   RD_NO                          639096 non-null  object \n",
      " 2   CRASH_DATE                     643075 non-null  object \n",
      " 3   POSTED_SPEED_LIMIT             643075 non-null  int64  \n",
      " 4   TRAFFIC_CONTROL_DEVICE         643075 non-null  object \n",
      " 5   DEVICE_CONDITION               643075 non-null  object \n",
      " 6   WEATHER_CONDITION              643075 non-null  object \n",
      " 7   LIGHTING_CONDITION             643075 non-null  object \n",
      " 8   FIRST_CRASH_TYPE               643075 non-null  object \n",
      " 9   TRAFFICWAY_TYPE                643075 non-null  object \n",
      " 10  LANE_CNT                       198990 non-null  float64\n",
      " 11  ALIGNMENT                      643075 non-null  object \n",
      " 12  ROADWAY_SURFACE_COND           643075 non-null  object \n",
      " 13  ROAD_DEFECT                    643075 non-null  object \n",
      " 14  REPORT_TYPE                    626026 non-null  object \n",
      " 15  CRASH_TYPE                     643075 non-null  object \n",
      " 16  HIT_AND_RUN_I                  198023 non-null  object \n",
      " 17  DAMAGE                         643075 non-null  object \n",
      " 18  DATE_POLICE_NOTIFIED           643075 non-null  object \n",
      " 19  PRIM_CONTRIBUTORY_CAUSE        643075 non-null  object \n",
      " 20  SEC_CONTRIBUTORY_CAUSE         643075 non-null  object \n",
      " 21  STREET_NO                      643075 non-null  int64  \n",
      " 22  STREET_DIRECTION               643071 non-null  object \n",
      " 23  STREET_NAME                    643074 non-null  object \n",
      " 24  BEAT_OF_OCCURRENCE             643070 non-null  float64\n",
      " 25  NUM_UNITS                      643075 non-null  int64  \n",
      " 26  MOST_SEVERE_INJURY             641710 non-null  object \n",
      " 27  INJURIES_TOTAL                 641721 non-null  float64\n",
      " 28  INJURIES_FATAL                 641721 non-null  float64\n",
      " 29  INJURIES_INCAPACITATING        641721 non-null  float64\n",
      " 30  INJURIES_NON_INCAPACITATING    641721 non-null  float64\n",
      " 31  INJURIES_REPORTED_NOT_EVIDENT  641721 non-null  float64\n",
      " 32  INJURIES_NO_INDICATION         641721 non-null  float64\n",
      " 33  INJURIES_UNKNOWN               641721 non-null  float64\n",
      " 34  CRASH_HOUR                     643075 non-null  int64  \n",
      " 35  CRASH_DAY_OF_WEEK              643075 non-null  int64  \n",
      " 36  CRASH_MONTH                    643075 non-null  int64  \n",
      " 37  LATITUDE                       639116 non-null  float64\n",
      " 38  LONGITUDE                      639116 non-null  float64\n",
      " 39  LOCATION                       639116 non-null  object \n",
      "dtypes: float64(11), int64(6), object(23)\n",
      "memory usage: 196.3+ MB\n"
     ]
    }
   ],
   "source": [
    "crashes.info()"
   ]
  },
  {
   "cell_type": "code",
   "execution_count": 727,
   "metadata": {},
   "outputs": [
    {
     "data": {
      "text/plain": [
       "'01/01/2016 01:00:00 AM'"
      ]
     },
     "execution_count": 727,
     "metadata": {},
     "output_type": "execute_result"
    }
   ],
   "source": [
    "crashes.CRASH_DATE.min()"
   ]
  },
  {
   "cell_type": "code",
   "execution_count": 728,
   "metadata": {},
   "outputs": [
    {
     "data": {
      "text/plain": [
       "'12/31/2021 12:50:00 AM'"
      ]
     },
     "execution_count": 728,
     "metadata": {},
     "output_type": "execute_result"
    }
   ],
   "source": [
    "crashes.CRASH_DATE.max()"
   ]
  },
  {
   "cell_type": "code",
   "execution_count": 729,
   "metadata": {},
   "outputs": [],
   "source": [
    "crashes['YEAR'] = crashes.CRASH_DATE.str[6:10]"
   ]
  },
  {
   "cell_type": "code",
   "execution_count": 730,
   "metadata": {},
   "outputs": [
    {
     "data": {
      "text/plain": [
       "2018    118950\n",
       "2019    117762\n",
       "2021    108751\n",
       "2020     92088\n",
       "2017     83786\n",
       "2022     67605\n",
       "2016     44297\n",
       "2015      9828\n",
       "2014         6\n",
       "2013         2\n",
       "Name: YEAR, dtype: int64"
      ]
     },
     "execution_count": 730,
     "metadata": {},
     "output_type": "execute_result"
    }
   ],
   "source": [
    "crashes.YEAR.value_counts()"
   ]
  },
  {
   "cell_type": "code",
   "execution_count": 731,
   "metadata": {},
   "outputs": [
    {
     "data": {
      "text/plain": [
       "Index(['2018', '2019', '2021', '2020', '2017', '2022', '2016', '2015', '2014',\n",
       "       '2013'],\n",
       "      dtype='object')"
      ]
     },
     "execution_count": 731,
     "metadata": {},
     "output_type": "execute_result"
    }
   ],
   "source": [
    "crashes.YEAR.value_counts().index"
   ]
  },
  {
   "cell_type": "code",
   "execution_count": 732,
   "metadata": {},
   "outputs": [
    {
     "data": {
      "image/png": "[encoded data removed]",
      "text/plain": [
       "<Figure size 432x288 with 1 Axes>"
      ]
     },
     "metadata": {
      "needs_background": "light"
     },
     "output_type": "display_data"
    }
   ],
   "source": [
    "sns.barplot(x =crashes.YEAR.value_counts().index, y=crashes.YEAR.value_counts())\n",
    "plt.title(\"Total Crashes Per Year\", weight='bold')\n",
    "plt.xlabel(\"Year\"),\n",
    "plt.ylabel(\"Number of Crashes\");"
   ]
  },
  {
   "cell_type": "code",
   "execution_count": 733,
   "metadata": {},
   "outputs": [],
   "source": [
    "crashes = crashes[crashes.YEAR == '2021']"
   ]
  },
  {
   "cell_type": "markdown",
   "metadata": {},
   "source": [
    "I will only be keeping records from 2021 as it is representative of a complete calendar year and is relatively 'post' pandemic and travel has seemed to resume close to prepandimic levels (such as years 2018 and 2019)"
   ]
  },
  {
   "cell_type": "code",
   "execution_count": 734,
   "metadata": {},
   "outputs": [
    {
     "data": {
      "text/plain": [
       "2021    108751\n",
       "Name: YEAR, dtype: int64"
      ]
     },
     "execution_count": 734,
     "metadata": {},
     "output_type": "execute_result"
    }
   ],
   "source": [
    "crashes.YEAR.value_counts()"
   ]
  },
  {
   "cell_type": "markdown",
   "metadata": {},
   "source": [
    "### Dropping Irrelavant Columns \n",
    "We want to keep columns that will help us predict the causes of an accident. This decision was based the description of the columns from the City of Chicago website."
   ]
  },
  {
   "cell_type": "code",
   "execution_count": 735,
   "metadata": {},
   "outputs": [],
   "source": [
    "crash_rc = [\n",
    "    'CRASH_RECORD_ID', \n",
    "    'CRASH_DATE', \n",
    "    'POSTED_SPEED_LIMIT', \n",
    "    'DEVICE_CONDITION', \n",
    "    'WEATHER_CONDITION', \n",
    "    'LIGHTING_CONDITION',\n",
    "    'FIRST_CRASH_TYPE',\n",
    "    'TRAFFICWAY_TYPE',\n",
    "    'ALIGNMENT',\n",
    "    'ROADWAY_SURFACE_COND',\n",
    "    'ROAD_DEFECT',\n",
    "    'PRIM_CONTRIBUTORY_CAUSE',\n",
    "    'SEC_CONTRIBUTORY_CAUSE',\n",
    "    'INJURIES_TOTAL',\n",
    "    'INJURIES_FATAL',\n",
    "    'CRASH_HOUR', \n",
    "    'CRASH_DAY_OF_WEEK',\n",
    "    'CRASH_MONTH',\n",
    "    'LATITUDE',\n",
    "    'LONGITUDE']\n",
    "crashes = crashes[crash_rc]"
   ]
  },
  {
   "cell_type": "code",
   "execution_count": 736,
   "metadata": {},
   "outputs": [
    {
     "data": {
      "text/html": [
       "<div>\n",
       "<style scoped>\n",
       "    .dataframe tbody tr th:only-of-type {\n",
       "        vertical-align: middle;\n",
       "    }\n",
       "\n",
       "    .dataframe tbody tr th {\n",
       "        vertical-align: top;\n",
       "    }\n",
       "\n",
       "    .dataframe thead th {\n",
       "        text-align: right;\n",
       "    }\n",
       "</style>\n",
       "<table border=\"1\" class=\"dataframe\">\n",
       "  <thead>\n",
       "    <tr style=\"text-align: right;\">\n",
       "      <th></th>\n",
       "      <th>CRASH_RECORD_ID</th>\n",
       "      <th>CRASH_DATE</th>\n",
       "      <th>POSTED_SPEED_LIMIT</th>\n",
       "      <th>DEVICE_CONDITION</th>\n",
       "      <th>WEATHER_CONDITION</th>\n",
       "      <th>LIGHTING_CONDITION</th>\n",
       "      <th>FIRST_CRASH_TYPE</th>\n",
       "      <th>TRAFFICWAY_TYPE</th>\n",
       "      <th>ALIGNMENT</th>\n",
       "      <th>ROADWAY_SURFACE_COND</th>\n",
       "      <th>ROAD_DEFECT</th>\n",
       "      <th>PRIM_CONTRIBUTORY_CAUSE</th>\n",
       "      <th>SEC_CONTRIBUTORY_CAUSE</th>\n",
       "      <th>INJURIES_TOTAL</th>\n",
       "      <th>INJURIES_FATAL</th>\n",
       "      <th>CRASH_HOUR</th>\n",
       "      <th>CRASH_DAY_OF_WEEK</th>\n",
       "      <th>CRASH_MONTH</th>\n",
       "      <th>LATITUDE</th>\n",
       "      <th>LONGITUDE</th>\n",
       "    </tr>\n",
       "  </thead>\n",
       "  <tbody>\n",
       "    <tr>\n",
       "      <th>114</th>\n",
       "      <td>497cb9e8f3def86057207e3f11469e7dd6ecb2236bf99e...</td>\n",
       "      <td>07/06/2021 06:55:00 PM</td>\n",
       "      <td>15</td>\n",
       "      <td>UNKNOWN</td>\n",
       "      <td>CLEAR</td>\n",
       "      <td>DAYLIGHT</td>\n",
       "      <td>REAR TO SIDE</td>\n",
       "      <td>PARKING LOT</td>\n",
       "      <td>STRAIGHT AND LEVEL</td>\n",
       "      <td>DRY</td>\n",
       "      <td>UNKNOWN</td>\n",
       "      <td>IMPROPER BACKING</td>\n",
       "      <td>UNABLE TO DETERMINE</td>\n",
       "      <td>0.0</td>\n",
       "      <td>0.0</td>\n",
       "      <td>18</td>\n",
       "      <td>3</td>\n",
       "      <td>7</td>\n",
       "      <td>41.929653</td>\n",
       "      <td>-87.675293</td>\n",
       "    </tr>\n",
       "    <tr>\n",
       "      <th>754</th>\n",
       "      <td>01a754e24e2a7cf3611047bc08cefa0d5dcf150e2dab2d...</td>\n",
       "      <td>12/10/2021 01:55:00 PM</td>\n",
       "      <td>20</td>\n",
       "      <td>NO CONTROLS</td>\n",
       "      <td>CLOUDY/OVERCAST</td>\n",
       "      <td>DAYLIGHT</td>\n",
       "      <td>PARKED MOTOR VEHICLE</td>\n",
       "      <td>OTHER</td>\n",
       "      <td>STRAIGHT AND LEVEL</td>\n",
       "      <td>DRY</td>\n",
       "      <td>NO DEFECTS</td>\n",
       "      <td>UNABLE TO DETERMINE</td>\n",
       "      <td>NOT APPLICABLE</td>\n",
       "      <td>0.0</td>\n",
       "      <td>0.0</td>\n",
       "      <td>13</td>\n",
       "      <td>6</td>\n",
       "      <td>12</td>\n",
       "      <td>NaN</td>\n",
       "      <td>NaN</td>\n",
       "    </tr>\n",
       "    <tr>\n",
       "      <th>1683</th>\n",
       "      <td>be7c69045cc5edb1afd241bc875b3faca3040b4a8d63d8...</td>\n",
       "      <td>12/04/2021 11:25:00 AM</td>\n",
       "      <td>30</td>\n",
       "      <td>NO CONTROLS</td>\n",
       "      <td>CLEAR</td>\n",
       "      <td>DAYLIGHT</td>\n",
       "      <td>ANGLE</td>\n",
       "      <td>OTHER</td>\n",
       "      <td>STRAIGHT AND LEVEL</td>\n",
       "      <td>DRY</td>\n",
       "      <td>NO DEFECTS</td>\n",
       "      <td>IMPROPER TURNING/NO SIGNAL</td>\n",
       "      <td>UNABLE TO DETERMINE</td>\n",
       "      <td>0.0</td>\n",
       "      <td>0.0</td>\n",
       "      <td>11</td>\n",
       "      <td>7</td>\n",
       "      <td>12</td>\n",
       "      <td>41.831159</td>\n",
       "      <td>-87.622736</td>\n",
       "    </tr>\n",
       "    <tr>\n",
       "      <th>5225</th>\n",
       "      <td>0cac79ac951b6f22a578745df1ef93fa63ccca2bca0fc4...</td>\n",
       "      <td>02/21/2021 02:50:00 PM</td>\n",
       "      <td>30</td>\n",
       "      <td>NO CONTROLS</td>\n",
       "      <td>CLEAR</td>\n",
       "      <td>DAYLIGHT</td>\n",
       "      <td>REAR END</td>\n",
       "      <td>OTHER</td>\n",
       "      <td>STRAIGHT AND LEVEL</td>\n",
       "      <td>DRY</td>\n",
       "      <td>NO DEFECTS</td>\n",
       "      <td>UNABLE TO DETERMINE</td>\n",
       "      <td>NOT APPLICABLE</td>\n",
       "      <td>0.0</td>\n",
       "      <td>0.0</td>\n",
       "      <td>14</td>\n",
       "      <td>1</td>\n",
       "      <td>2</td>\n",
       "      <td>NaN</td>\n",
       "      <td>NaN</td>\n",
       "    </tr>\n",
       "    <tr>\n",
       "      <th>5777</th>\n",
       "      <td>0d624771ccf0949ed8a5607f3b6c27d9b68364ab9fd8ad...</td>\n",
       "      <td>12/24/2021 12:30:00 PM</td>\n",
       "      <td>30</td>\n",
       "      <td>FUNCTIONING PROPERLY</td>\n",
       "      <td>CLEAR</td>\n",
       "      <td>DAYLIGHT</td>\n",
       "      <td>REAR END</td>\n",
       "      <td>FOUR WAY</td>\n",
       "      <td>STRAIGHT AND LEVEL</td>\n",
       "      <td>DRY</td>\n",
       "      <td>NO DEFECTS</td>\n",
       "      <td>FOLLOWING TOO CLOSELY</td>\n",
       "      <td>NOT APPLICABLE</td>\n",
       "      <td>0.0</td>\n",
       "      <td>0.0</td>\n",
       "      <td>12</td>\n",
       "      <td>6</td>\n",
       "      <td>12</td>\n",
       "      <td>NaN</td>\n",
       "      <td>NaN</td>\n",
       "    </tr>\n",
       "  </tbody>\n",
       "</table>\n",
       "</div>"
      ],
      "text/plain": [
       "                                        CRASH_RECORD_ID  \\\n",
       "114   497cb9e8f3def86057207e3f11469e7dd6ecb2236bf99e...   \n",
       "754   01a754e24e2a7cf3611047bc08cefa0d5dcf150e2dab2d...   \n",
       "1683  be7c69045cc5edb1afd241bc875b3faca3040b4a8d63d8...   \n",
       "5225  0cac79ac951b6f22a578745df1ef93fa63ccca2bca0fc4...   \n",
       "5777  0d624771ccf0949ed8a5607f3b6c27d9b68364ab9fd8ad...   \n",
       "\n",
       "                  CRASH_DATE  POSTED_SPEED_LIMIT      DEVICE_CONDITION  \\\n",
       "114   07/06/2021 06:55:00 PM                  15               UNKNOWN   \n",
       "754   12/10/2021 01:55:00 PM                  20           NO CONTROLS   \n",
       "1683  12/04/2021 11:25:00 AM                  30           NO CONTROLS   \n",
       "5225  02/21/2021 02:50:00 PM                  30           NO CONTROLS   \n",
       "5777  12/24/2021 12:30:00 PM                  30  FUNCTIONING PROPERLY   \n",
       "\n",
       "     WEATHER_CONDITION LIGHTING_CONDITION      FIRST_CRASH_TYPE  \\\n",
       "114              CLEAR           DAYLIGHT          REAR TO SIDE   \n",
       "754    CLOUDY/OVERCAST           DAYLIGHT  PARKED MOTOR VEHICLE   \n",
       "1683             CLEAR           DAYLIGHT                 ANGLE   \n",
       "5225             CLEAR           DAYLIGHT              REAR END   \n",
       "5777             CLEAR           DAYLIGHT              REAR END   \n",
       "\n",
       "     TRAFFICWAY_TYPE           ALIGNMENT ROADWAY_SURFACE_COND ROAD_DEFECT  \\\n",
       "114      PARKING LOT  STRAIGHT AND LEVEL                  DRY     UNKNOWN   \n",
       "754            OTHER  STRAIGHT AND LEVEL                  DRY  NO DEFECTS   \n",
       "1683           OTHER  STRAIGHT AND LEVEL                  DRY  NO DEFECTS   \n",
       "5225           OTHER  STRAIGHT AND LEVEL                  DRY  NO DEFECTS   \n",
       "5777        FOUR WAY  STRAIGHT AND LEVEL                  DRY  NO DEFECTS   \n",
       "\n",
       "         PRIM_CONTRIBUTORY_CAUSE SEC_CONTRIBUTORY_CAUSE  INJURIES_TOTAL  \\\n",
       "114             IMPROPER BACKING    UNABLE TO DETERMINE             0.0   \n",
       "754          UNABLE TO DETERMINE         NOT APPLICABLE             0.0   \n",
       "1683  IMPROPER TURNING/NO SIGNAL    UNABLE TO DETERMINE             0.0   \n",
       "5225         UNABLE TO DETERMINE         NOT APPLICABLE             0.0   \n",
       "5777       FOLLOWING TOO CLOSELY         NOT APPLICABLE             0.0   \n",
       "\n",
       "      INJURIES_FATAL  CRASH_HOUR  CRASH_DAY_OF_WEEK  CRASH_MONTH   LATITUDE  \\\n",
       "114              0.0          18                  3            7  41.929653   \n",
       "754              0.0          13                  6           12        NaN   \n",
       "1683             0.0          11                  7           12  41.831159   \n",
       "5225             0.0          14                  1            2        NaN   \n",
       "5777             0.0          12                  6           12        NaN   \n",
       "\n",
       "      LONGITUDE  \n",
       "114  -87.675293  \n",
       "754         NaN  \n",
       "1683 -87.622736  \n",
       "5225        NaN  \n",
       "5777        NaN  "
      ]
     },
     "execution_count": 736,
     "metadata": {},
     "output_type": "execute_result"
    }
   ],
   "source": [
    "crashes.head()"
   ]
  },
  {
   "cell_type": "code",
   "execution_count": 737,
   "metadata": {},
   "outputs": [
    {
     "data": {
      "text/plain": [
       "(108751, 20)"
      ]
     },
     "execution_count": 737,
     "metadata": {},
     "output_type": "execute_result"
    }
   ],
   "source": [
    "crashes.shape"
   ]
  },
  {
   "cell_type": "code",
   "execution_count": 738,
   "metadata": {},
   "outputs": [
    {
     "data": {
      "text/plain": [
       "114       07/06/2021 06:55:00 PM\n",
       "754       12/10/2021 01:55:00 PM\n",
       "1683      12/04/2021 11:25:00 AM\n",
       "5225      02/21/2021 02:50:00 PM\n",
       "5777      12/24/2021 12:30:00 PM\n",
       "                   ...          \n",
       "643012    06/15/2021 03:42:00 PM\n",
       "643017    03/01/2021 11:22:00 AM\n",
       "643019    04/06/2021 02:30:00 PM\n",
       "643021    01/13/2021 09:00:00 PM\n",
       "643023    08/18/2021 09:25:00 AM\n",
       "Name: CRASH_DATE, Length: 108751, dtype: object"
      ]
     },
     "execution_count": 738,
     "metadata": {},
     "output_type": "execute_result"
    }
   ],
   "source": [
    "crashes['CRASH_DATE']"
   ]
  },
  {
   "cell_type": "markdown",
   "metadata": {},
   "source": [
    "***"
   ]
  },
  {
   "cell_type": "markdown",
   "metadata": {},
   "source": [
    "### Vehicle Dataset"
   ]
  },
  {
   "cell_type": "code",
   "execution_count": 739,
   "metadata": {},
   "outputs": [
    {
     "data": {
      "text/html": [
       "<div>\n",
       "<style scoped>\n",
       "    .dataframe tbody tr th:only-of-type {\n",
       "        vertical-align: middle;\n",
       "    }\n",
       "\n",
       "    .dataframe tbody tr th {\n",
       "        vertical-align: top;\n",
       "    }\n",
       "\n",
       "    .dataframe thead th {\n",
       "        text-align: right;\n",
       "    }\n",
       "</style>\n",
       "<table border=\"1\" class=\"dataframe\">\n",
       "  <thead>\n",
       "    <tr style=\"text-align: right;\">\n",
       "      <th></th>\n",
       "      <th>CRASH_UNIT_ID</th>\n",
       "      <th>CRASH_RECORD_ID</th>\n",
       "      <th>RD_NO</th>\n",
       "      <th>CRASH_DATE</th>\n",
       "      <th>UNIT_NO</th>\n",
       "      <th>UNIT_TYPE</th>\n",
       "      <th>NUM_PASSENGERS</th>\n",
       "      <th>VEHICLE_ID</th>\n",
       "      <th>CMRC_VEH_I</th>\n",
       "      <th>MAKE</th>\n",
       "      <th>...</th>\n",
       "      <th>TRAILER1_LENGTH</th>\n",
       "      <th>TRAILER2_LENGTH</th>\n",
       "      <th>TOTAL_VEHICLE_LENGTH</th>\n",
       "      <th>AXLE_CNT</th>\n",
       "      <th>VEHICLE_CONFIG</th>\n",
       "      <th>CARGO_BODY_TYPE</th>\n",
       "      <th>LOAD_TYPE</th>\n",
       "      <th>HAZMAT_OUT_OF_SERVICE_I</th>\n",
       "      <th>MCS_OUT_OF_SERVICE_I</th>\n",
       "      <th>HAZMAT_CLASS</th>\n",
       "    </tr>\n",
       "  </thead>\n",
       "  <tbody>\n",
       "    <tr>\n",
       "      <th>0</th>\n",
       "      <td>829999</td>\n",
       "      <td>24ddf9fd8542199d832e1c223cc474e5601b356f1d77a6...</td>\n",
       "      <td>JD124535</td>\n",
       "      <td>01/22/2020 06:25:00 AM</td>\n",
       "      <td>1</td>\n",
       "      <td>DRIVER</td>\n",
       "      <td>NaN</td>\n",
       "      <td>796949.0</td>\n",
       "      <td>NaN</td>\n",
       "      <td>INFINITI</td>\n",
       "      <td>...</td>\n",
       "      <td>NaN</td>\n",
       "      <td>NaN</td>\n",
       "      <td>NaN</td>\n",
       "      <td>NaN</td>\n",
       "      <td>NaN</td>\n",
       "      <td>NaN</td>\n",
       "      <td>NaN</td>\n",
       "      <td>NaN</td>\n",
       "      <td>NaN</td>\n",
       "      <td>NaN</td>\n",
       "    </tr>\n",
       "    <tr>\n",
       "      <th>1</th>\n",
       "      <td>749947</td>\n",
       "      <td>81dc0de2ed92aa62baccab641fa377be7feb1cc47e6554...</td>\n",
       "      <td>JC451435</td>\n",
       "      <td>09/28/2019 03:30:00 AM</td>\n",
       "      <td>1</td>\n",
       "      <td>DRIVER</td>\n",
       "      <td>NaN</td>\n",
       "      <td>834816.0</td>\n",
       "      <td>NaN</td>\n",
       "      <td>HONDA</td>\n",
       "      <td>...</td>\n",
       "      <td>NaN</td>\n",
       "      <td>NaN</td>\n",
       "      <td>NaN</td>\n",
       "      <td>NaN</td>\n",
       "      <td>NaN</td>\n",
       "      <td>NaN</td>\n",
       "      <td>NaN</td>\n",
       "      <td>NaN</td>\n",
       "      <td>NaN</td>\n",
       "      <td>NaN</td>\n",
       "    </tr>\n",
       "    <tr>\n",
       "      <th>2</th>\n",
       "      <td>749949</td>\n",
       "      <td>81dc0de2ed92aa62baccab641fa377be7feb1cc47e6554...</td>\n",
       "      <td>JC451435</td>\n",
       "      <td>09/28/2019 03:30:00 AM</td>\n",
       "      <td>2</td>\n",
       "      <td>PARKED</td>\n",
       "      <td>NaN</td>\n",
       "      <td>834819.0</td>\n",
       "      <td>NaN</td>\n",
       "      <td>TOYOTA</td>\n",
       "      <td>...</td>\n",
       "      <td>NaN</td>\n",
       "      <td>NaN</td>\n",
       "      <td>NaN</td>\n",
       "      <td>NaN</td>\n",
       "      <td>NaN</td>\n",
       "      <td>NaN</td>\n",
       "      <td>NaN</td>\n",
       "      <td>NaN</td>\n",
       "      <td>NaN</td>\n",
       "      <td>NaN</td>\n",
       "    </tr>\n",
       "    <tr>\n",
       "      <th>3</th>\n",
       "      <td>749950</td>\n",
       "      <td>81dc0de2ed92aa62baccab641fa377be7feb1cc47e6554...</td>\n",
       "      <td>JC451435</td>\n",
       "      <td>09/28/2019 03:30:00 AM</td>\n",
       "      <td>3</td>\n",
       "      <td>PARKED</td>\n",
       "      <td>NaN</td>\n",
       "      <td>834817.0</td>\n",
       "      <td>NaN</td>\n",
       "      <td>GENERAL MOTORS CORPORATION (GMC)</td>\n",
       "      <td>...</td>\n",
       "      <td>NaN</td>\n",
       "      <td>NaN</td>\n",
       "      <td>NaN</td>\n",
       "      <td>NaN</td>\n",
       "      <td>NaN</td>\n",
       "      <td>NaN</td>\n",
       "      <td>NaN</td>\n",
       "      <td>NaN</td>\n",
       "      <td>NaN</td>\n",
       "      <td>NaN</td>\n",
       "    </tr>\n",
       "    <tr>\n",
       "      <th>4</th>\n",
       "      <td>871921</td>\n",
       "      <td>af84fb5c8d996fcd3aefd36593c3a02e6e7509eeb27568...</td>\n",
       "      <td>JD208731</td>\n",
       "      <td>04/13/2020 10:50:00 PM</td>\n",
       "      <td>2</td>\n",
       "      <td>DRIVER</td>\n",
       "      <td>NaN</td>\n",
       "      <td>827212.0</td>\n",
       "      <td>NaN</td>\n",
       "      <td>BUICK</td>\n",
       "      <td>...</td>\n",
       "      <td>NaN</td>\n",
       "      <td>NaN</td>\n",
       "      <td>NaN</td>\n",
       "      <td>NaN</td>\n",
       "      <td>NaN</td>\n",
       "      <td>NaN</td>\n",
       "      <td>NaN</td>\n",
       "      <td>NaN</td>\n",
       "      <td>NaN</td>\n",
       "      <td>NaN</td>\n",
       "    </tr>\n",
       "  </tbody>\n",
       "</table>\n",
       "<p>5 rows × 72 columns</p>\n",
       "</div>"
      ],
      "text/plain": [
       "   CRASH_UNIT_ID                                    CRASH_RECORD_ID     RD_NO  \\\n",
       "0         829999  24ddf9fd8542199d832e1c223cc474e5601b356f1d77a6...  JD124535   \n",
       "1         749947  81dc0de2ed92aa62baccab641fa377be7feb1cc47e6554...  JC451435   \n",
       "2         749949  81dc0de2ed92aa62baccab641fa377be7feb1cc47e6554...  JC451435   \n",
       "3         749950  81dc0de2ed92aa62baccab641fa377be7feb1cc47e6554...  JC451435   \n",
       "4         871921  af84fb5c8d996fcd3aefd36593c3a02e6e7509eeb27568...  JD208731   \n",
       "\n",
       "               CRASH_DATE  UNIT_NO UNIT_TYPE  NUM_PASSENGERS  VEHICLE_ID  \\\n",
       "0  01/22/2020 06:25:00 AM        1    DRIVER             NaN    796949.0   \n",
       "1  09/28/2019 03:30:00 AM        1    DRIVER             NaN    834816.0   \n",
       "2  09/28/2019 03:30:00 AM        2    PARKED             NaN    834819.0   \n",
       "3  09/28/2019 03:30:00 AM        3    PARKED             NaN    834817.0   \n",
       "4  04/13/2020 10:50:00 PM        2    DRIVER             NaN    827212.0   \n",
       "\n",
       "  CMRC_VEH_I                              MAKE  ... TRAILER1_LENGTH  \\\n",
       "0        NaN                          INFINITI  ...             NaN   \n",
       "1        NaN                             HONDA  ...             NaN   \n",
       "2        NaN                            TOYOTA  ...             NaN   \n",
       "3        NaN  GENERAL MOTORS CORPORATION (GMC)  ...             NaN   \n",
       "4        NaN                             BUICK  ...             NaN   \n",
       "\n",
       "  TRAILER2_LENGTH  TOTAL_VEHICLE_LENGTH AXLE_CNT VEHICLE_CONFIG  \\\n",
       "0             NaN                   NaN      NaN            NaN   \n",
       "1             NaN                   NaN      NaN            NaN   \n",
       "2             NaN                   NaN      NaN            NaN   \n",
       "3             NaN                   NaN      NaN            NaN   \n",
       "4             NaN                   NaN      NaN            NaN   \n",
       "\n",
       "  CARGO_BODY_TYPE LOAD_TYPE HAZMAT_OUT_OF_SERVICE_I MCS_OUT_OF_SERVICE_I  \\\n",
       "0             NaN       NaN                     NaN                  NaN   \n",
       "1             NaN       NaN                     NaN                  NaN   \n",
       "2             NaN       NaN                     NaN                  NaN   \n",
       "3             NaN       NaN                     NaN                  NaN   \n",
       "4             NaN       NaN                     NaN                  NaN   \n",
       "\n",
       "  HAZMAT_CLASS  \n",
       "0          NaN  \n",
       "1          NaN  \n",
       "2          NaN  \n",
       "3          NaN  \n",
       "4          NaN  \n",
       "\n",
       "[5 rows x 72 columns]"
      ]
     },
     "execution_count": 739,
     "metadata": {},
     "output_type": "execute_result"
    }
   ],
   "source": [
    "vehicles = pd.read_csv('../CarCrashData/Traffic_Crashes_Vehicles.csv', low_memory=False)\n",
    "vehicles.head()"
   ]
  },
  {
   "cell_type": "code",
   "execution_count": 740,
   "metadata": {},
   "outputs": [
    {
     "data": {
      "text/plain": [
       "(1310508, 72)"
      ]
     },
     "execution_count": 740,
     "metadata": {},
     "output_type": "execute_result"
    }
   ],
   "source": [
    "vehicles.shape"
   ]
  },
  {
   "cell_type": "code",
   "execution_count": 741,
   "metadata": {},
   "outputs": [
    {
     "name": "stdout",
     "output_type": "stream",
     "text": [
      "<class 'pandas.core.frame.DataFrame'>\n",
      "RangeIndex: 1310508 entries, 0 to 1310507\n",
      "Data columns (total 72 columns):\n",
      " #   Column                    Non-Null Count    Dtype  \n",
      "---  ------                    --------------    -----  \n",
      " 0   CRASH_UNIT_ID             1310508 non-null  int64  \n",
      " 1   CRASH_RECORD_ID           1310508 non-null  object \n",
      " 2   RD_NO                     1302413 non-null  object \n",
      " 3   CRASH_DATE                1310508 non-null  object \n",
      " 4   UNIT_NO                   1310508 non-null  int64  \n",
      " 5   UNIT_TYPE                 1308666 non-null  object \n",
      " 6   NUM_PASSENGERS            194875 non-null   float64\n",
      " 7   VEHICLE_ID                1280912 non-null  float64\n",
      " 8   CMRC_VEH_I                24428 non-null    object \n",
      " 9   MAKE                      1280907 non-null  object \n",
      " 10  MODEL                     1280763 non-null  object \n",
      " 11  LIC_PLATE_STATE           1165456 non-null  object \n",
      " 12  VEHICLE_YEAR              1072167 non-null  float64\n",
      " 13  VEHICLE_DEFECT            1280912 non-null  object \n",
      " 14  VEHICLE_TYPE              1280912 non-null  object \n",
      " 15  VEHICLE_USE               1280912 non-null  object \n",
      " 16  TRAVEL_DIRECTION          1280912 non-null  object \n",
      " 17  MANEUVER                  1280912 non-null  object \n",
      " 18  TOWED_I                   158821 non-null   object \n",
      " 19  FIRE_I                    1042 non-null     object \n",
      " 20  OCCUPANT_CNT              1280912 non-null  float64\n",
      " 21  EXCEED_SPEED_LIMIT_I      2397 non-null     object \n",
      " 22  TOWED_BY                  118011 non-null   object \n",
      " 23  TOWED_TO                  72662 non-null    object \n",
      " 24  AREA_00_I                 47179 non-null    object \n",
      " 25  AREA_01_I                 345019 non-null   object \n",
      " 26  AREA_02_I                 213001 non-null   object \n",
      " 27  AREA_03_I                 124254 non-null   object \n",
      " 28  AREA_04_I                 126575 non-null   object \n",
      " 29  AREA_05_I                 195613 non-null   object \n",
      " 30  AREA_06_I                 202194 non-null   object \n",
      " 31  AREA_07_I                 181038 non-null   object \n",
      " 32  AREA_08_I                 199909 non-null   object \n",
      " 33  AREA_09_I                 74164 non-null    object \n",
      " 34  AREA_10_I                 106994 non-null   object \n",
      " 35  AREA_11_I                 210077 non-null   object \n",
      " 36  AREA_12_I                 207062 non-null   object \n",
      " 37  AREA_99_I                 143619 non-null   object \n",
      " 38  FIRST_CONTACT_POINT       1269789 non-null  object \n",
      " 39  CMV_ID                    13755 non-null    float64\n",
      " 40  USDOT_NO                  7905 non-null     object \n",
      " 41  CCMC_NO                   1717 non-null     object \n",
      " 42  ILCC_NO                   1212 non-null     object \n",
      " 43  COMMERCIAL_SRC            9411 non-null     object \n",
      " 44  GVWR                      7856 non-null     object \n",
      " 45  CARRIER_NAME              13155 non-null    object \n",
      " 46  CARRIER_STATE             12405 non-null    object \n",
      " 47  CARRIER_CITY              12184 non-null    object \n",
      " 48  HAZMAT_PLACARDS_I         273 non-null      object \n",
      " 49  HAZMAT_NAME               51 non-null       object \n",
      " 50  UN_NO                     480 non-null      object \n",
      " 51  HAZMAT_PRESENT_I          10093 non-null    object \n",
      " 52  HAZMAT_REPORT_I           9787 non-null     object \n",
      " 53  HAZMAT_REPORT_NO          1 non-null        object \n",
      " 54  MCS_REPORT_I              9846 non-null     object \n",
      " 55  MCS_REPORT_NO             6 non-null        object \n",
      " 56  HAZMAT_VIO_CAUSE_CRASH_I  9944 non-null     object \n",
      " 57  MCS_VIO_CAUSE_CRASH_I     9762 non-null     object \n",
      " 58  IDOT_PERMIT_NO            784 non-null      object \n",
      " 59  WIDE_LOAD_I               121 non-null      object \n",
      " 60  TRAILER1_WIDTH            2545 non-null     object \n",
      " 61  TRAILER2_WIDTH            298 non-null      object \n",
      " 62  TRAILER1_LENGTH           2096 non-null     float64\n",
      " 63  TRAILER2_LENGTH           58 non-null       float64\n",
      " 64  TOTAL_VEHICLE_LENGTH      2547 non-null     float64\n",
      " 65  AXLE_CNT                  3738 non-null     float64\n",
      " 66  VEHICLE_CONFIG            11425 non-null    object \n",
      " 67  CARGO_BODY_TYPE           10929 non-null    object \n",
      " 68  LOAD_TYPE                 10439 non-null    object \n",
      " 69  HAZMAT_OUT_OF_SERVICE_I   9496 non-null     object \n",
      " 70  MCS_OUT_OF_SERVICE_I      9743 non-null     object \n",
      " 71  HAZMAT_CLASS              921 non-null      object \n",
      "dtypes: float64(9), int64(2), object(61)\n",
      "memory usage: 719.9+ MB\n"
     ]
    }
   ],
   "source": [
    "vehicles.info()"
   ]
  },
  {
   "cell_type": "code",
   "execution_count": 742,
   "metadata": {
    "scrolled": true
   },
   "outputs": [
    {
     "data": {
      "text/html": [
       "<div>\n",
       "<style scoped>\n",
       "    .dataframe tbody tr th:only-of-type {\n",
       "        vertical-align: middle;\n",
       "    }\n",
       "\n",
       "    .dataframe tbody tr th {\n",
       "        vertical-align: top;\n",
       "    }\n",
       "\n",
       "    .dataframe thead th {\n",
       "        text-align: right;\n",
       "    }\n",
       "</style>\n",
       "<table border=\"1\" class=\"dataframe\">\n",
       "  <thead>\n",
       "    <tr style=\"text-align: right;\">\n",
       "      <th></th>\n",
       "      <th>CRASH_UNIT_ID</th>\n",
       "      <th>UNIT_NO</th>\n",
       "      <th>NUM_PASSENGERS</th>\n",
       "      <th>VEHICLE_ID</th>\n",
       "      <th>VEHICLE_YEAR</th>\n",
       "      <th>OCCUPANT_CNT</th>\n",
       "      <th>CMV_ID</th>\n",
       "      <th>TRAILER1_LENGTH</th>\n",
       "      <th>TRAILER2_LENGTH</th>\n",
       "      <th>TOTAL_VEHICLE_LENGTH</th>\n",
       "      <th>AXLE_CNT</th>\n",
       "    </tr>\n",
       "  </thead>\n",
       "  <tbody>\n",
       "    <tr>\n",
       "      <th>count</th>\n",
       "      <td>1.310508e+06</td>\n",
       "      <td>1.310508e+06</td>\n",
       "      <td>194875.000000</td>\n",
       "      <td>1.280912e+06</td>\n",
       "      <td>1.072167e+06</td>\n",
       "      <td>1.280912e+06</td>\n",
       "      <td>13755.000000</td>\n",
       "      <td>2096.000000</td>\n",
       "      <td>58.000000</td>\n",
       "      <td>2547.000000</td>\n",
       "      <td>3738.000000</td>\n",
       "    </tr>\n",
       "    <tr>\n",
       "      <th>mean</th>\n",
       "      <td>7.004904e+05</td>\n",
       "      <td>4.446720e+00</td>\n",
       "      <td>1.471174</td>\n",
       "      <td>6.664611e+05</td>\n",
       "      <td>2.013581e+03</td>\n",
       "      <td>1.079832e+00</td>\n",
       "      <td>7676.348964</td>\n",
       "      <td>48.527195</td>\n",
       "      <td>44.517241</td>\n",
       "      <td>53.125245</td>\n",
       "      <td>10.701980</td>\n",
       "    </tr>\n",
       "    <tr>\n",
       "      <th>std</th>\n",
       "      <td>4.064380e+05</td>\n",
       "      <td>3.300243e+03</td>\n",
       "      <td>1.049482</td>\n",
       "      <td>3.844537e+05</td>\n",
       "      <td>1.440080e+02</td>\n",
       "      <td>7.843180e-01</td>\n",
       "      <td>4453.821184</td>\n",
       "      <td>21.564827</td>\n",
       "      <td>28.649265</td>\n",
       "      <td>32.022755</td>\n",
       "      <td>425.355581</td>\n",
       "    </tr>\n",
       "    <tr>\n",
       "      <th>min</th>\n",
       "      <td>2.000000e+00</td>\n",
       "      <td>0.000000e+00</td>\n",
       "      <td>1.000000</td>\n",
       "      <td>2.000000e+00</td>\n",
       "      <td>1.900000e+03</td>\n",
       "      <td>0.000000e+00</td>\n",
       "      <td>1.000000</td>\n",
       "      <td>1.000000</td>\n",
       "      <td>2.000000</td>\n",
       "      <td>1.000000</td>\n",
       "      <td>1.000000</td>\n",
       "    </tr>\n",
       "    <tr>\n",
       "      <th>25%</th>\n",
       "      <td>3.470888e+05</td>\n",
       "      <td>1.000000e+00</td>\n",
       "      <td>1.000000</td>\n",
       "      <td>3.338198e+05</td>\n",
       "      <td>2.006000e+03</td>\n",
       "      <td>1.000000e+00</td>\n",
       "      <td>3799.500000</td>\n",
       "      <td>45.000000</td>\n",
       "      <td>24.250000</td>\n",
       "      <td>35.000000</td>\n",
       "      <td>2.000000</td>\n",
       "    </tr>\n",
       "    <tr>\n",
       "      <th>50%</th>\n",
       "      <td>7.016955e+05</td>\n",
       "      <td>2.000000e+00</td>\n",
       "      <td>1.000000</td>\n",
       "      <td>6.669690e+05</td>\n",
       "      <td>2.012000e+03</td>\n",
       "      <td>1.000000e+00</td>\n",
       "      <td>7695.000000</td>\n",
       "      <td>53.000000</td>\n",
       "      <td>48.000000</td>\n",
       "      <td>53.000000</td>\n",
       "      <td>3.000000</td>\n",
       "    </tr>\n",
       "    <tr>\n",
       "      <th>75%</th>\n",
       "      <td>1.053070e+06</td>\n",
       "      <td>2.000000e+00</td>\n",
       "      <td>2.000000</td>\n",
       "      <td>9.989482e+05</td>\n",
       "      <td>2.016000e+03</td>\n",
       "      <td>1.000000e+00</td>\n",
       "      <td>11549.500000</td>\n",
       "      <td>53.000000</td>\n",
       "      <td>53.000000</td>\n",
       "      <td>65.000000</td>\n",
       "      <td>5.000000</td>\n",
       "    </tr>\n",
       "    <tr>\n",
       "      <th>max</th>\n",
       "      <td>1.403472e+06</td>\n",
       "      <td>3.778035e+06</td>\n",
       "      <td>59.000000</td>\n",
       "      <td>1.333658e+06</td>\n",
       "      <td>9.999000e+03</td>\n",
       "      <td>9.900000e+01</td>\n",
       "      <td>15365.000000</td>\n",
       "      <td>740.000000</td>\n",
       "      <td>123.000000</td>\n",
       "      <td>999.000000</td>\n",
       "      <td>26009.000000</td>\n",
       "    </tr>\n",
       "  </tbody>\n",
       "</table>\n",
       "</div>"
      ],
      "text/plain": [
       "       CRASH_UNIT_ID       UNIT_NO  NUM_PASSENGERS    VEHICLE_ID  \\\n",
       "count   1.310508e+06  1.310508e+06   194875.000000  1.280912e+06   \n",
       "mean    7.004904e+05  4.446720e+00        1.471174  6.664611e+05   \n",
       "std     4.064380e+05  3.300243e+03        1.049482  3.844537e+05   \n",
       "min     2.000000e+00  0.000000e+00        1.000000  2.000000e+00   \n",
       "25%     3.470888e+05  1.000000e+00        1.000000  3.338198e+05   \n",
       "50%     7.016955e+05  2.000000e+00        1.000000  6.669690e+05   \n",
       "75%     1.053070e+06  2.000000e+00        2.000000  9.989482e+05   \n",
       "max     1.403472e+06  3.778035e+06       59.000000  1.333658e+06   \n",
       "\n",
       "       VEHICLE_YEAR  OCCUPANT_CNT        CMV_ID  TRAILER1_LENGTH  \\\n",
       "count  1.072167e+06  1.280912e+06  13755.000000      2096.000000   \n",
       "mean   2.013581e+03  1.079832e+00   7676.348964        48.527195   \n",
       "std    1.440080e+02  7.843180e-01   4453.821184        21.564827   \n",
       "min    1.900000e+03  0.000000e+00      1.000000         1.000000   \n",
       "25%    2.006000e+03  1.000000e+00   3799.500000        45.000000   \n",
       "50%    2.012000e+03  1.000000e+00   7695.000000        53.000000   \n",
       "75%    2.016000e+03  1.000000e+00  11549.500000        53.000000   \n",
       "max    9.999000e+03  9.900000e+01  15365.000000       740.000000   \n",
       "\n",
       "       TRAILER2_LENGTH  TOTAL_VEHICLE_LENGTH      AXLE_CNT  \n",
       "count        58.000000           2547.000000   3738.000000  \n",
       "mean         44.517241             53.125245     10.701980  \n",
       "std          28.649265             32.022755    425.355581  \n",
       "min           2.000000              1.000000      1.000000  \n",
       "25%          24.250000             35.000000      2.000000  \n",
       "50%          48.000000             53.000000      3.000000  \n",
       "75%          53.000000             65.000000      5.000000  \n",
       "max         123.000000            999.000000  26009.000000  "
      ]
     },
     "execution_count": 742,
     "metadata": {},
     "output_type": "execute_result"
    }
   ],
   "source": [
    "vehicles.describe()"
   ]
  },
  {
   "cell_type": "markdown",
   "metadata": {},
   "source": [
    "### Dropping Columns with high null values"
   ]
  },
  {
   "cell_type": "code",
   "execution_count": 743,
   "metadata": {},
   "outputs": [
    {
     "data": {
      "text/html": [
       "<div>\n",
       "<style scoped>\n",
       "    .dataframe tbody tr th:only-of-type {\n",
       "        vertical-align: middle;\n",
       "    }\n",
       "\n",
       "    .dataframe tbody tr th {\n",
       "        vertical-align: top;\n",
       "    }\n",
       "\n",
       "    .dataframe thead th {\n",
       "        text-align: right;\n",
       "    }\n",
       "</style>\n",
       "<table border=\"1\" class=\"dataframe\">\n",
       "  <thead>\n",
       "    <tr style=\"text-align: right;\">\n",
       "      <th></th>\n",
       "      <th>column_name</th>\n",
       "      <th>percent_missing</th>\n",
       "    </tr>\n",
       "  </thead>\n",
       "  <tbody>\n",
       "    <tr>\n",
       "      <th>HAZMAT_REPORT_NO</th>\n",
       "      <td>HAZMAT_REPORT_NO</td>\n",
       "      <td>99.999924</td>\n",
       "    </tr>\n",
       "    <tr>\n",
       "      <th>MCS_REPORT_NO</th>\n",
       "      <td>MCS_REPORT_NO</td>\n",
       "      <td>99.999542</td>\n",
       "    </tr>\n",
       "    <tr>\n",
       "      <th>HAZMAT_NAME</th>\n",
       "      <td>HAZMAT_NAME</td>\n",
       "      <td>99.996108</td>\n",
       "    </tr>\n",
       "    <tr>\n",
       "      <th>TRAILER2_LENGTH</th>\n",
       "      <td>TRAILER2_LENGTH</td>\n",
       "      <td>99.995574</td>\n",
       "    </tr>\n",
       "    <tr>\n",
       "      <th>WIDE_LOAD_I</th>\n",
       "      <td>WIDE_LOAD_I</td>\n",
       "      <td>99.990767</td>\n",
       "    </tr>\n",
       "    <tr>\n",
       "      <th>...</th>\n",
       "      <td>...</td>\n",
       "      <td>...</td>\n",
       "    </tr>\n",
       "    <tr>\n",
       "      <th>UNIT_TYPE</th>\n",
       "      <td>UNIT_TYPE</td>\n",
       "      <td>0.140556</td>\n",
       "    </tr>\n",
       "    <tr>\n",
       "      <th>CRASH_RECORD_ID</th>\n",
       "      <td>CRASH_RECORD_ID</td>\n",
       "      <td>0.000000</td>\n",
       "    </tr>\n",
       "    <tr>\n",
       "      <th>UNIT_NO</th>\n",
       "      <td>UNIT_NO</td>\n",
       "      <td>0.000000</td>\n",
       "    </tr>\n",
       "    <tr>\n",
       "      <th>CRASH_DATE</th>\n",
       "      <td>CRASH_DATE</td>\n",
       "      <td>0.000000</td>\n",
       "    </tr>\n",
       "    <tr>\n",
       "      <th>CRASH_UNIT_ID</th>\n",
       "      <td>CRASH_UNIT_ID</td>\n",
       "      <td>0.000000</td>\n",
       "    </tr>\n",
       "  </tbody>\n",
       "</table>\n",
       "<p>72 rows × 2 columns</p>\n",
       "</div>"
      ],
      "text/plain": [
       "                       column_name  percent_missing\n",
       "HAZMAT_REPORT_NO  HAZMAT_REPORT_NO        99.999924\n",
       "MCS_REPORT_NO        MCS_REPORT_NO        99.999542\n",
       "HAZMAT_NAME            HAZMAT_NAME        99.996108\n",
       "TRAILER2_LENGTH    TRAILER2_LENGTH        99.995574\n",
       "WIDE_LOAD_I            WIDE_LOAD_I        99.990767\n",
       "...                            ...              ...\n",
       "UNIT_TYPE                UNIT_TYPE         0.140556\n",
       "CRASH_RECORD_ID    CRASH_RECORD_ID         0.000000\n",
       "UNIT_NO                    UNIT_NO         0.000000\n",
       "CRASH_DATE              CRASH_DATE         0.000000\n",
       "CRASH_UNIT_ID        CRASH_UNIT_ID         0.000000\n",
       "\n",
       "[72 rows x 2 columns]"
      ]
     },
     "execution_count": 743,
     "metadata": {},
     "output_type": "execute_result"
    }
   ],
   "source": [
    "percent_missing2 = vehicles.isnull().sum() * 100 / len(vehicles)\n",
    "vehicles_null_values = pd.DataFrame({'column_name': vehicles.columns,'percent_missing': percent_missing2})\n",
    "vehicles_null_values.sort_values(by='percent_missing', ascending=False)"
   ]
  },
  {
   "cell_type": "code",
   "execution_count": 744,
   "metadata": {},
   "outputs": [],
   "source": [
    "relevant_columns = [    \n",
    " 'CRASH_UNIT_ID',\n",
    " 'CRASH_RECORD_ID',    \n",
    " 'RD_NO',  \n",
    " 'CRASH_DATE',  \n",
    " 'UNIT_NO',    \n",
    " 'UNIT_TYPE',    \n",
    " 'VEHICLE_ID', \n",
    " 'MAKE',\n",
    " 'MODEL',\n",
    " 'LIC_PLATE_STATE',\n",
    " 'VEHICLE_YEAR',\n",
    " 'VEHICLE_DEFECT',\n",
    " 'VEHICLE_TYPE',\n",
    " 'VEHICLE_USE',\n",
    " 'TRAVEL_DIRECTION',\n",
    " 'MANEUVER',\n",
    " 'OCCUPANT_CNT',\n",
    " 'FIRST_CONTACT_POINT',\n",
    "]\n",
    "vehicles = vehicles[relevant_columns]"
   ]
  },
  {
   "cell_type": "code",
   "execution_count": 745,
   "metadata": {},
   "outputs": [
    {
     "name": "stdout",
     "output_type": "stream",
     "text": [
      "<class 'pandas.core.frame.DataFrame'>\n",
      "RangeIndex: 1310508 entries, 0 to 1310507\n",
      "Data columns (total 18 columns):\n",
      " #   Column               Non-Null Count    Dtype  \n",
      "---  ------               --------------    -----  \n",
      " 0   CRASH_UNIT_ID        1310508 non-null  int64  \n",
      " 1   CRASH_RECORD_ID      1310508 non-null  object \n",
      " 2   RD_NO                1302413 non-null  object \n",
      " 3   CRASH_DATE           1310508 non-null  object \n",
      " 4   UNIT_NO              1310508 non-null  int64  \n",
      " 5   UNIT_TYPE            1308666 non-null  object \n",
      " 6   VEHICLE_ID           1280912 non-null  float64\n",
      " 7   MAKE                 1280907 non-null  object \n",
      " 8   MODEL                1280763 non-null  object \n",
      " 9   LIC_PLATE_STATE      1165456 non-null  object \n",
      " 10  VEHICLE_YEAR         1072167 non-null  float64\n",
      " 11  VEHICLE_DEFECT       1280912 non-null  object \n",
      " 12  VEHICLE_TYPE         1280912 non-null  object \n",
      " 13  VEHICLE_USE          1280912 non-null  object \n",
      " 14  TRAVEL_DIRECTION     1280912 non-null  object \n",
      " 15  MANEUVER             1280912 non-null  object \n",
      " 16  OCCUPANT_CNT         1280912 non-null  float64\n",
      " 17  FIRST_CONTACT_POINT  1269789 non-null  object \n",
      "dtypes: float64(3), int64(2), object(13)\n",
      "memory usage: 180.0+ MB\n"
     ]
    }
   ],
   "source": [
    "vehicles.info()"
   ]
  },
  {
   "cell_type": "code",
   "execution_count": 746,
   "metadata": {},
   "outputs": [],
   "source": [
    "#columns dropped had more than 70% missing values"
   ]
  },
  {
   "cell_type": "markdown",
   "metadata": {},
   "source": [
    "Same as crashes, will only be keeping records for year 2021."
   ]
  },
  {
   "cell_type": "code",
   "execution_count": 747,
   "metadata": {},
   "outputs": [],
   "source": [
    "vehicles['YEAR'] = vehicles.CRASH_DATE.str[6:10]"
   ]
  },
  {
   "cell_type": "code",
   "execution_count": 748,
   "metadata": {},
   "outputs": [],
   "source": [
    "vehicles = vehicles[vehicles.YEAR == '2021']"
   ]
  },
  {
   "cell_type": "code",
   "execution_count": 749,
   "metadata": {},
   "outputs": [
    {
     "data": {
      "text/plain": [
       "2021    222414\n",
       "Name: YEAR, dtype: int64"
      ]
     },
     "execution_count": 749,
     "metadata": {},
     "output_type": "execute_result"
    }
   ],
   "source": [
    "vehicles['YEAR'].value_counts() "
   ]
  },
  {
   "cell_type": "markdown",
   "metadata": {},
   "source": [
    "### Dropping Irrelevant Columns "
   ]
  },
  {
   "cell_type": "code",
   "execution_count": 750,
   "metadata": {},
   "outputs": [],
   "source": [
    "vehicle_rc = [\n",
    "    'CRASH_UNIT_ID',\n",
    "    'CRASH_RECORD_ID',\n",
    "    'CRASH_DATE',\n",
    "    'UNIT_NO',\n",
    "    'UNIT_TYPE',\n",
    "    'VEHICLE_ID',\n",
    "    'MAKE',\n",
    "    'MODEL',\n",
    "    'LIC_PLATE_STATE',\n",
    "    'VEHICLE_YEAR',\n",
    "    'VEHICLE_DEFECT',\n",
    "    'VEHICLE_TYPE',\n",
    "    'VEHICLE_USE',\n",
    "    'TRAVEL_DIRECTION',\n",
    "    'MANEUVER',\n",
    "    'OCCUPANT_CNT',\n",
    "]\n",
    "\n",
    "vehicles = vehicles[vehicle_rc]"
   ]
  },
  {
   "cell_type": "code",
   "execution_count": 751,
   "metadata": {},
   "outputs": [
    {
     "data": {
      "text/html": [
       "<div>\n",
       "<style scoped>\n",
       "    .dataframe tbody tr th:only-of-type {\n",
       "        vertical-align: middle;\n",
       "    }\n",
       "\n",
       "    .dataframe tbody tr th {\n",
       "        vertical-align: top;\n",
       "    }\n",
       "\n",
       "    .dataframe thead th {\n",
       "        text-align: right;\n",
       "    }\n",
       "</style>\n",
       "<table border=\"1\" class=\"dataframe\">\n",
       "  <thead>\n",
       "    <tr style=\"text-align: right;\">\n",
       "      <th></th>\n",
       "      <th>CRASH_UNIT_ID</th>\n",
       "      <th>CRASH_RECORD_ID</th>\n",
       "      <th>CRASH_DATE</th>\n",
       "      <th>UNIT_NO</th>\n",
       "      <th>UNIT_TYPE</th>\n",
       "      <th>VEHICLE_ID</th>\n",
       "      <th>MAKE</th>\n",
       "      <th>MODEL</th>\n",
       "      <th>LIC_PLATE_STATE</th>\n",
       "      <th>VEHICLE_YEAR</th>\n",
       "      <th>VEHICLE_DEFECT</th>\n",
       "      <th>VEHICLE_TYPE</th>\n",
       "      <th>VEHICLE_USE</th>\n",
       "      <th>TRAVEL_DIRECTION</th>\n",
       "      <th>MANEUVER</th>\n",
       "      <th>OCCUPANT_CNT</th>\n",
       "    </tr>\n",
       "  </thead>\n",
       "  <tbody>\n",
       "    <tr>\n",
       "      <th>733</th>\n",
       "      <td>1213514</td>\n",
       "      <td>9c52c3670052ee15932f7b6e68c58488308d575207632b...</td>\n",
       "      <td>10/26/2021 03:04:00 PM</td>\n",
       "      <td>1</td>\n",
       "      <td>DRIVER</td>\n",
       "      <td>1151483.0</td>\n",
       "      <td>UNKNOWN</td>\n",
       "      <td>MOTORIZED</td>\n",
       "      <td>NaN</td>\n",
       "      <td>NaN</td>\n",
       "      <td>UNKNOWN</td>\n",
       "      <td>PASSENGER</td>\n",
       "      <td>UNKNOWN/NA</td>\n",
       "      <td>W</td>\n",
       "      <td>STRAIGHT AHEAD</td>\n",
       "      <td>1.0</td>\n",
       "    </tr>\n",
       "    <tr>\n",
       "      <th>866</th>\n",
       "      <td>1165440</td>\n",
       "      <td>302a1fe82496e79991dec592178dbb9af59e2b4b44b563...</td>\n",
       "      <td>08/20/2021 07:30:00 AM</td>\n",
       "      <td>1</td>\n",
       "      <td>DRIVER</td>\n",
       "      <td>1105520.0</td>\n",
       "      <td>VOLKSWAGEN</td>\n",
       "      <td>ARTEON</td>\n",
       "      <td>IL</td>\n",
       "      <td>2021.0</td>\n",
       "      <td>NONE</td>\n",
       "      <td>PASSENGER</td>\n",
       "      <td>PERSONAL</td>\n",
       "      <td>W</td>\n",
       "      <td>SLOW/STOP IN TRAFFIC</td>\n",
       "      <td>1.0</td>\n",
       "    </tr>\n",
       "    <tr>\n",
       "      <th>1022</th>\n",
       "      <td>1165444</td>\n",
       "      <td>a7377ec23fdc7001e4e75e88d4427f4f225e00b6942100...</td>\n",
       "      <td>08/20/2021 08:15:00 AM</td>\n",
       "      <td>1</td>\n",
       "      <td>DRIVER</td>\n",
       "      <td>1105525.0</td>\n",
       "      <td>TOYOTA</td>\n",
       "      <td>COROLLA</td>\n",
       "      <td>IL</td>\n",
       "      <td>2017.0</td>\n",
       "      <td>NONE</td>\n",
       "      <td>PASSENGER</td>\n",
       "      <td>PERSONAL</td>\n",
       "      <td>SE</td>\n",
       "      <td>STRAIGHT AHEAD</td>\n",
       "      <td>1.0</td>\n",
       "    </tr>\n",
       "    <tr>\n",
       "      <th>1066</th>\n",
       "      <td>1165445</td>\n",
       "      <td>a7377ec23fdc7001e4e75e88d4427f4f225e00b6942100...</td>\n",
       "      <td>08/20/2021 08:15:00 AM</td>\n",
       "      <td>2</td>\n",
       "      <td>DRIVER</td>\n",
       "      <td>1105523.0</td>\n",
       "      <td>HONDA</td>\n",
       "      <td>CR-V</td>\n",
       "      <td>IL</td>\n",
       "      <td>2019.0</td>\n",
       "      <td>NONE</td>\n",
       "      <td>PASSENGER</td>\n",
       "      <td>PERSONAL</td>\n",
       "      <td>SE</td>\n",
       "      <td>STRAIGHT AHEAD</td>\n",
       "      <td>1.0</td>\n",
       "    </tr>\n",
       "    <tr>\n",
       "      <th>1223</th>\n",
       "      <td>1165450</td>\n",
       "      <td>7ae54d8a4c376515ffcb521e5e392a49da4685170ab8e2...</td>\n",
       "      <td>08/20/2021 08:05:00 AM</td>\n",
       "      <td>1</td>\n",
       "      <td>DRIVER</td>\n",
       "      <td>1105527.0</td>\n",
       "      <td>CHEVROLET</td>\n",
       "      <td>SILVERADO</td>\n",
       "      <td>IL</td>\n",
       "      <td>2003.0</td>\n",
       "      <td>NONE</td>\n",
       "      <td>PICKUP</td>\n",
       "      <td>PERSONAL</td>\n",
       "      <td>S</td>\n",
       "      <td>STRAIGHT AHEAD</td>\n",
       "      <td>1.0</td>\n",
       "    </tr>\n",
       "  </tbody>\n",
       "</table>\n",
       "</div>"
      ],
      "text/plain": [
       "      CRASH_UNIT_ID                                    CRASH_RECORD_ID  \\\n",
       "733         1213514  9c52c3670052ee15932f7b6e68c58488308d575207632b...   \n",
       "866         1165440  302a1fe82496e79991dec592178dbb9af59e2b4b44b563...   \n",
       "1022        1165444  a7377ec23fdc7001e4e75e88d4427f4f225e00b6942100...   \n",
       "1066        1165445  a7377ec23fdc7001e4e75e88d4427f4f225e00b6942100...   \n",
       "1223        1165450  7ae54d8a4c376515ffcb521e5e392a49da4685170ab8e2...   \n",
       "\n",
       "                  CRASH_DATE  UNIT_NO UNIT_TYPE  VEHICLE_ID        MAKE  \\\n",
       "733   10/26/2021 03:04:00 PM        1    DRIVER   1151483.0     UNKNOWN   \n",
       "866   08/20/2021 07:30:00 AM        1    DRIVER   1105520.0  VOLKSWAGEN   \n",
       "1022  08/20/2021 08:15:00 AM        1    DRIVER   1105525.0      TOYOTA   \n",
       "1066  08/20/2021 08:15:00 AM        2    DRIVER   1105523.0       HONDA   \n",
       "1223  08/20/2021 08:05:00 AM        1    DRIVER   1105527.0   CHEVROLET   \n",
       "\n",
       "          MODEL LIC_PLATE_STATE  VEHICLE_YEAR VEHICLE_DEFECT VEHICLE_TYPE  \\\n",
       "733   MOTORIZED             NaN           NaN        UNKNOWN    PASSENGER   \n",
       "866      ARTEON              IL        2021.0           NONE    PASSENGER   \n",
       "1022    COROLLA              IL        2017.0           NONE    PASSENGER   \n",
       "1066       CR-V              IL        2019.0           NONE    PASSENGER   \n",
       "1223  SILVERADO              IL        2003.0           NONE       PICKUP   \n",
       "\n",
       "     VEHICLE_USE TRAVEL_DIRECTION              MANEUVER  OCCUPANT_CNT  \n",
       "733   UNKNOWN/NA                W        STRAIGHT AHEAD           1.0  \n",
       "866     PERSONAL                W  SLOW/STOP IN TRAFFIC           1.0  \n",
       "1022    PERSONAL               SE        STRAIGHT AHEAD           1.0  \n",
       "1066    PERSONAL               SE        STRAIGHT AHEAD           1.0  \n",
       "1223    PERSONAL                S        STRAIGHT AHEAD           1.0  "
      ]
     },
     "execution_count": 751,
     "metadata": {},
     "output_type": "execute_result"
    }
   ],
   "source": [
    "vehicles.head()"
   ]
  },
  {
   "cell_type": "code",
   "execution_count": 752,
   "metadata": {},
   "outputs": [
    {
     "data": {
      "text/plain": [
       "(222414, 16)"
      ]
     },
     "execution_count": 752,
     "metadata": {},
     "output_type": "execute_result"
    }
   ],
   "source": [
    "vehicles.shape"
   ]
  },
  {
   "cell_type": "markdown",
   "metadata": {},
   "source": [
    "***"
   ]
  },
  {
   "cell_type": "markdown",
   "metadata": {},
   "source": [
    "### People Dataset"
   ]
  },
  {
   "cell_type": "code",
   "execution_count": 753,
   "metadata": {},
   "outputs": [
    {
     "data": {
      "text/html": [
       "<div>\n",
       "<style scoped>\n",
       "    .dataframe tbody tr th:only-of-type {\n",
       "        vertical-align: middle;\n",
       "    }\n",
       "\n",
       "    .dataframe tbody tr th {\n",
       "        vertical-align: top;\n",
       "    }\n",
       "\n",
       "    .dataframe thead th {\n",
       "        text-align: right;\n",
       "    }\n",
       "</style>\n",
       "<table border=\"1\" class=\"dataframe\">\n",
       "  <thead>\n",
       "    <tr style=\"text-align: right;\">\n",
       "      <th></th>\n",
       "      <th>PERSON_ID</th>\n",
       "      <th>PERSON_TYPE</th>\n",
       "      <th>CRASH_RECORD_ID</th>\n",
       "      <th>RD_NO</th>\n",
       "      <th>VEHICLE_ID</th>\n",
       "      <th>CRASH_DATE</th>\n",
       "      <th>SEAT_NO</th>\n",
       "      <th>CITY</th>\n",
       "      <th>STATE</th>\n",
       "      <th>ZIPCODE</th>\n",
       "      <th>...</th>\n",
       "      <th>EMS_RUN_NO</th>\n",
       "      <th>DRIVER_ACTION</th>\n",
       "      <th>DRIVER_VISION</th>\n",
       "      <th>PHYSICAL_CONDITION</th>\n",
       "      <th>PEDPEDAL_ACTION</th>\n",
       "      <th>PEDPEDAL_VISIBILITY</th>\n",
       "      <th>PEDPEDAL_LOCATION</th>\n",
       "      <th>BAC_RESULT</th>\n",
       "      <th>BAC_RESULT VALUE</th>\n",
       "      <th>CELL_PHONE_USE</th>\n",
       "    </tr>\n",
       "  </thead>\n",
       "  <tbody>\n",
       "    <tr>\n",
       "      <th>0</th>\n",
       "      <td>O749947</td>\n",
       "      <td>DRIVER</td>\n",
       "      <td>81dc0de2ed92aa62baccab641fa377be7feb1cc47e6554...</td>\n",
       "      <td>JC451435</td>\n",
       "      <td>834816.0</td>\n",
       "      <td>09/28/2019 03:30:00 AM</td>\n",
       "      <td>NaN</td>\n",
       "      <td>CHICAGO</td>\n",
       "      <td>IL</td>\n",
       "      <td>60651</td>\n",
       "      <td>...</td>\n",
       "      <td>NaN</td>\n",
       "      <td>UNKNOWN</td>\n",
       "      <td>UNKNOWN</td>\n",
       "      <td>UNKNOWN</td>\n",
       "      <td>NaN</td>\n",
       "      <td>NaN</td>\n",
       "      <td>NaN</td>\n",
       "      <td>TEST NOT OFFERED</td>\n",
       "      <td>NaN</td>\n",
       "      <td>NaN</td>\n",
       "    </tr>\n",
       "    <tr>\n",
       "      <th>1</th>\n",
       "      <td>O871921</td>\n",
       "      <td>DRIVER</td>\n",
       "      <td>af84fb5c8d996fcd3aefd36593c3a02e6e7509eeb27568...</td>\n",
       "      <td>JD208731</td>\n",
       "      <td>827212.0</td>\n",
       "      <td>04/13/2020 10:50:00 PM</td>\n",
       "      <td>NaN</td>\n",
       "      <td>CHICAGO</td>\n",
       "      <td>IL</td>\n",
       "      <td>60620</td>\n",
       "      <td>...</td>\n",
       "      <td>NaN</td>\n",
       "      <td>NONE</td>\n",
       "      <td>NOT OBSCURED</td>\n",
       "      <td>NORMAL</td>\n",
       "      <td>NaN</td>\n",
       "      <td>NaN</td>\n",
       "      <td>NaN</td>\n",
       "      <td>TEST NOT OFFERED</td>\n",
       "      <td>NaN</td>\n",
       "      <td>NaN</td>\n",
       "    </tr>\n",
       "    <tr>\n",
       "      <th>2</th>\n",
       "      <td>O10018</td>\n",
       "      <td>DRIVER</td>\n",
       "      <td>71162af7bf22799b776547132ebf134b5b438dcf3dac6b...</td>\n",
       "      <td>HY484534</td>\n",
       "      <td>9579.0</td>\n",
       "      <td>11/01/2015 05:00:00 AM</td>\n",
       "      <td>NaN</td>\n",
       "      <td>NaN</td>\n",
       "      <td>NaN</td>\n",
       "      <td>NaN</td>\n",
       "      <td>...</td>\n",
       "      <td>NaN</td>\n",
       "      <td>IMPROPER BACKING</td>\n",
       "      <td>UNKNOWN</td>\n",
       "      <td>UNKNOWN</td>\n",
       "      <td>NaN</td>\n",
       "      <td>NaN</td>\n",
       "      <td>NaN</td>\n",
       "      <td>TEST NOT OFFERED</td>\n",
       "      <td>NaN</td>\n",
       "      <td>NaN</td>\n",
       "    </tr>\n",
       "    <tr>\n",
       "      <th>3</th>\n",
       "      <td>O10038</td>\n",
       "      <td>DRIVER</td>\n",
       "      <td>c21c476e2ccc41af550b5d858d22aaac4ffc88745a1700...</td>\n",
       "      <td>HY484750</td>\n",
       "      <td>9598.0</td>\n",
       "      <td>11/01/2015 08:00:00 AM</td>\n",
       "      <td>NaN</td>\n",
       "      <td>NaN</td>\n",
       "      <td>NaN</td>\n",
       "      <td>NaN</td>\n",
       "      <td>...</td>\n",
       "      <td>NaN</td>\n",
       "      <td>UNKNOWN</td>\n",
       "      <td>UNKNOWN</td>\n",
       "      <td>UNKNOWN</td>\n",
       "      <td>NaN</td>\n",
       "      <td>NaN</td>\n",
       "      <td>NaN</td>\n",
       "      <td>TEST NOT OFFERED</td>\n",
       "      <td>NaN</td>\n",
       "      <td>NaN</td>\n",
       "    </tr>\n",
       "    <tr>\n",
       "      <th>4</th>\n",
       "      <td>O10039</td>\n",
       "      <td>DRIVER</td>\n",
       "      <td>eb390a4c8e114c69488f5fb8a097fe629f5a92fd528cf4...</td>\n",
       "      <td>HY484778</td>\n",
       "      <td>9600.0</td>\n",
       "      <td>11/01/2015 10:15:00 AM</td>\n",
       "      <td>NaN</td>\n",
       "      <td>NaN</td>\n",
       "      <td>NaN</td>\n",
       "      <td>NaN</td>\n",
       "      <td>...</td>\n",
       "      <td>NaN</td>\n",
       "      <td>UNKNOWN</td>\n",
       "      <td>UNKNOWN</td>\n",
       "      <td>UNKNOWN</td>\n",
       "      <td>NaN</td>\n",
       "      <td>NaN</td>\n",
       "      <td>NaN</td>\n",
       "      <td>TEST NOT OFFERED</td>\n",
       "      <td>NaN</td>\n",
       "      <td>NaN</td>\n",
       "    </tr>\n",
       "  </tbody>\n",
       "</table>\n",
       "<p>5 rows × 30 columns</p>\n",
       "</div>"
      ],
      "text/plain": [
       "  PERSON_ID PERSON_TYPE                                    CRASH_RECORD_ID  \\\n",
       "0   O749947      DRIVER  81dc0de2ed92aa62baccab641fa377be7feb1cc47e6554...   \n",
       "1   O871921      DRIVER  af84fb5c8d996fcd3aefd36593c3a02e6e7509eeb27568...   \n",
       "2    O10018      DRIVER  71162af7bf22799b776547132ebf134b5b438dcf3dac6b...   \n",
       "3    O10038      DRIVER  c21c476e2ccc41af550b5d858d22aaac4ffc88745a1700...   \n",
       "4    O10039      DRIVER  eb390a4c8e114c69488f5fb8a097fe629f5a92fd528cf4...   \n",
       "\n",
       "      RD_NO  VEHICLE_ID              CRASH_DATE  SEAT_NO     CITY STATE  \\\n",
       "0  JC451435    834816.0  09/28/2019 03:30:00 AM      NaN  CHICAGO    IL   \n",
       "1  JD208731    827212.0  04/13/2020 10:50:00 PM      NaN  CHICAGO    IL   \n",
       "2  HY484534      9579.0  11/01/2015 05:00:00 AM      NaN      NaN   NaN   \n",
       "3  HY484750      9598.0  11/01/2015 08:00:00 AM      NaN      NaN   NaN   \n",
       "4  HY484778      9600.0  11/01/2015 10:15:00 AM      NaN      NaN   NaN   \n",
       "\n",
       "  ZIPCODE  ... EMS_RUN_NO     DRIVER_ACTION DRIVER_VISION PHYSICAL_CONDITION  \\\n",
       "0   60651  ...        NaN           UNKNOWN       UNKNOWN            UNKNOWN   \n",
       "1   60620  ...        NaN              NONE  NOT OBSCURED             NORMAL   \n",
       "2     NaN  ...        NaN  IMPROPER BACKING       UNKNOWN            UNKNOWN   \n",
       "3     NaN  ...        NaN           UNKNOWN       UNKNOWN            UNKNOWN   \n",
       "4     NaN  ...        NaN           UNKNOWN       UNKNOWN            UNKNOWN   \n",
       "\n",
       "  PEDPEDAL_ACTION PEDPEDAL_VISIBILITY PEDPEDAL_LOCATION        BAC_RESULT  \\\n",
       "0             NaN                 NaN               NaN  TEST NOT OFFERED   \n",
       "1             NaN                 NaN               NaN  TEST NOT OFFERED   \n",
       "2             NaN                 NaN               NaN  TEST NOT OFFERED   \n",
       "3             NaN                 NaN               NaN  TEST NOT OFFERED   \n",
       "4             NaN                 NaN               NaN  TEST NOT OFFERED   \n",
       "\n",
       "  BAC_RESULT VALUE CELL_PHONE_USE  \n",
       "0              NaN            NaN  \n",
       "1              NaN            NaN  \n",
       "2              NaN            NaN  \n",
       "3              NaN            NaN  \n",
       "4              NaN            NaN  \n",
       "\n",
       "[5 rows x 30 columns]"
      ]
     },
     "execution_count": 753,
     "metadata": {},
     "output_type": "execute_result"
    }
   ],
   "source": [
    "people = pd.read_csv('../CarCrashData/Traffic_Crashes_People.csv', low_memory = False)\n",
    "people.head()"
   ]
  },
  {
   "cell_type": "code",
   "execution_count": 754,
   "metadata": {},
   "outputs": [
    {
     "data": {
      "text/plain": [
       "(1411302, 30)"
      ]
     },
     "execution_count": 754,
     "metadata": {},
     "output_type": "execute_result"
    }
   ],
   "source": [
    "people.shape"
   ]
  },
  {
   "cell_type": "code",
   "execution_count": 755,
   "metadata": {},
   "outputs": [
    {
     "name": "stdout",
     "output_type": "stream",
     "text": [
      "<class 'pandas.core.frame.DataFrame'>\n",
      "RangeIndex: 1411302 entries, 0 to 1411301\n",
      "Data columns (total 30 columns):\n",
      " #   Column                 Non-Null Count    Dtype  \n",
      "---  ------                 --------------    -----  \n",
      " 0   PERSON_ID              1411302 non-null  object \n",
      " 1   PERSON_TYPE            1411302 non-null  object \n",
      " 2   CRASH_RECORD_ID        1411302 non-null  object \n",
      " 3   RD_NO                  1402786 non-null  object \n",
      " 4   VEHICLE_ID             1383689 non-null  float64\n",
      " 5   CRASH_DATE             1411302 non-null  object \n",
      " 6   SEAT_NO                286695 non-null   float64\n",
      " 7   CITY                   1032365 non-null  object \n",
      " 8   STATE                  1045620 non-null  object \n",
      " 9   ZIPCODE                943216 non-null   object \n",
      " 10  SEX                    1389569 non-null  object \n",
      " 11  AGE                    1002324 non-null  float64\n",
      " 12  DRIVERS_LICENSE_STATE  830404 non-null   object \n",
      " 13  DRIVERS_LICENSE_CLASS  706269 non-null   object \n",
      " 14  SAFETY_EQUIPMENT       1407276 non-null  object \n",
      " 15  AIRBAG_DEPLOYED        1384813 non-null  object \n",
      " 16  EJECTION               1394291 non-null  object \n",
      " 17  INJURY_CLASSIFICATION  1410679 non-null  object \n",
      " 18  HOSPITAL               247011 non-null   object \n",
      " 19  EMS_AGENCY             154288 non-null   object \n",
      " 20  EMS_RUN_NO             25294 non-null    object \n",
      " 21  DRIVER_ACTION          1122032 non-null  object \n",
      " 22  DRIVER_VISION          1121621 non-null  object \n",
      " 23  PHYSICAL_CONDITION     1122820 non-null  object \n",
      " 24  PEDPEDAL_ACTION        26099 non-null    object \n",
      " 25  PEDPEDAL_VISIBILITY    26046 non-null    object \n",
      " 26  PEDPEDAL_LOCATION      26096 non-null    object \n",
      " 27  BAC_RESULT             1123055 non-null  object \n",
      " 28  BAC_RESULT VALUE       1726 non-null     float64\n",
      " 29  CELL_PHONE_USE         1157 non-null     object \n",
      "dtypes: float64(4), object(26)\n",
      "memory usage: 323.0+ MB\n"
     ]
    }
   ],
   "source": [
    "people.info()"
   ]
  },
  {
   "cell_type": "code",
   "execution_count": 756,
   "metadata": {},
   "outputs": [
    {
     "data": {
      "text/html": [
       "<div>\n",
       "<style scoped>\n",
       "    .dataframe tbody tr th:only-of-type {\n",
       "        vertical-align: middle;\n",
       "    }\n",
       "\n",
       "    .dataframe tbody tr th {\n",
       "        vertical-align: top;\n",
       "    }\n",
       "\n",
       "    .dataframe thead th {\n",
       "        text-align: right;\n",
       "    }\n",
       "</style>\n",
       "<table border=\"1\" class=\"dataframe\">\n",
       "  <thead>\n",
       "    <tr style=\"text-align: right;\">\n",
       "      <th></th>\n",
       "      <th>VEHICLE_ID</th>\n",
       "      <th>SEAT_NO</th>\n",
       "      <th>AGE</th>\n",
       "      <th>BAC_RESULT VALUE</th>\n",
       "    </tr>\n",
       "  </thead>\n",
       "  <tbody>\n",
       "    <tr>\n",
       "      <th>count</th>\n",
       "      <td>1.383689e+06</td>\n",
       "      <td>286695.000000</td>\n",
       "      <td>1.002324e+06</td>\n",
       "      <td>1726.000000</td>\n",
       "    </tr>\n",
       "    <tr>\n",
       "      <th>mean</th>\n",
       "      <td>6.615749e+05</td>\n",
       "      <td>4.160526</td>\n",
       "      <td>3.780826e+01</td>\n",
       "      <td>0.168662</td>\n",
       "    </tr>\n",
       "    <tr>\n",
       "      <th>std</th>\n",
       "      <td>3.832647e+05</td>\n",
       "      <td>2.196837</td>\n",
       "      <td>1.710068e+01</td>\n",
       "      <td>0.102762</td>\n",
       "    </tr>\n",
       "    <tr>\n",
       "      <th>min</th>\n",
       "      <td>2.000000e+00</td>\n",
       "      <td>1.000000</td>\n",
       "      <td>-1.770000e+02</td>\n",
       "      <td>0.000000</td>\n",
       "    </tr>\n",
       "    <tr>\n",
       "      <th>25%</th>\n",
       "      <td>3.317300e+05</td>\n",
       "      <td>3.000000</td>\n",
       "      <td>2.500000e+01</td>\n",
       "      <td>0.120000</td>\n",
       "    </tr>\n",
       "    <tr>\n",
       "      <th>50%</th>\n",
       "      <td>6.573470e+05</td>\n",
       "      <td>3.000000</td>\n",
       "      <td>3.500000e+01</td>\n",
       "      <td>0.170000</td>\n",
       "    </tr>\n",
       "    <tr>\n",
       "      <th>75%</th>\n",
       "      <td>9.928570e+05</td>\n",
       "      <td>5.000000</td>\n",
       "      <td>5.000000e+01</td>\n",
       "      <td>0.217500</td>\n",
       "    </tr>\n",
       "    <tr>\n",
       "      <th>max</th>\n",
       "      <td>1.333658e+06</td>\n",
       "      <td>12.000000</td>\n",
       "      <td>1.100000e+02</td>\n",
       "      <td>1.000000</td>\n",
       "    </tr>\n",
       "  </tbody>\n",
       "</table>\n",
       "</div>"
      ],
      "text/plain": [
       "         VEHICLE_ID        SEAT_NO           AGE  BAC_RESULT VALUE\n",
       "count  1.383689e+06  286695.000000  1.002324e+06       1726.000000\n",
       "mean   6.615749e+05       4.160526  3.780826e+01          0.168662\n",
       "std    3.832647e+05       2.196837  1.710068e+01          0.102762\n",
       "min    2.000000e+00       1.000000 -1.770000e+02          0.000000\n",
       "25%    3.317300e+05       3.000000  2.500000e+01          0.120000\n",
       "50%    6.573470e+05       3.000000  3.500000e+01          0.170000\n",
       "75%    9.928570e+05       5.000000  5.000000e+01          0.217500\n",
       "max    1.333658e+06      12.000000  1.100000e+02          1.000000"
      ]
     },
     "execution_count": 756,
     "metadata": {},
     "output_type": "execute_result"
    }
   ],
   "source": [
    "people.describe()"
   ]
  },
  {
   "cell_type": "markdown",
   "metadata": {},
   "source": [
    "### Dropping columns with high null values"
   ]
  },
  {
   "cell_type": "code",
   "execution_count": 757,
   "metadata": {},
   "outputs": [
    {
     "data": {
      "text/html": [
       "<div>\n",
       "<style scoped>\n",
       "    .dataframe tbody tr th:only-of-type {\n",
       "        vertical-align: middle;\n",
       "    }\n",
       "\n",
       "    .dataframe tbody tr th {\n",
       "        vertical-align: top;\n",
       "    }\n",
       "\n",
       "    .dataframe thead th {\n",
       "        text-align: right;\n",
       "    }\n",
       "</style>\n",
       "<table border=\"1\" class=\"dataframe\">\n",
       "  <thead>\n",
       "    <tr style=\"text-align: right;\">\n",
       "      <th></th>\n",
       "      <th>column_name</th>\n",
       "      <th>percent_missing</th>\n",
       "    </tr>\n",
       "  </thead>\n",
       "  <tbody>\n",
       "    <tr>\n",
       "      <th>CELL_PHONE_USE</th>\n",
       "      <td>CELL_PHONE_USE</td>\n",
       "      <td>99.918019</td>\n",
       "    </tr>\n",
       "    <tr>\n",
       "      <th>BAC_RESULT VALUE</th>\n",
       "      <td>BAC_RESULT VALUE</td>\n",
       "      <td>99.877702</td>\n",
       "    </tr>\n",
       "    <tr>\n",
       "      <th>EMS_RUN_NO</th>\n",
       "      <td>EMS_RUN_NO</td>\n",
       "      <td>98.207754</td>\n",
       "    </tr>\n",
       "    <tr>\n",
       "      <th>PEDPEDAL_VISIBILITY</th>\n",
       "      <td>PEDPEDAL_VISIBILITY</td>\n",
       "      <td>98.154470</td>\n",
       "    </tr>\n",
       "    <tr>\n",
       "      <th>PEDPEDAL_LOCATION</th>\n",
       "      <td>PEDPEDAL_LOCATION</td>\n",
       "      <td>98.150927</td>\n",
       "    </tr>\n",
       "    <tr>\n",
       "      <th>PEDPEDAL_ACTION</th>\n",
       "      <td>PEDPEDAL_ACTION</td>\n",
       "      <td>98.150715</td>\n",
       "    </tr>\n",
       "    <tr>\n",
       "      <th>EMS_AGENCY</th>\n",
       "      <td>EMS_AGENCY</td>\n",
       "      <td>89.067684</td>\n",
       "    </tr>\n",
       "    <tr>\n",
       "      <th>HOSPITAL</th>\n",
       "      <td>HOSPITAL</td>\n",
       "      <td>82.497651</td>\n",
       "    </tr>\n",
       "    <tr>\n",
       "      <th>SEAT_NO</th>\n",
       "      <td>SEAT_NO</td>\n",
       "      <td>79.685780</td>\n",
       "    </tr>\n",
       "    <tr>\n",
       "      <th>DRIVERS_LICENSE_CLASS</th>\n",
       "      <td>DRIVERS_LICENSE_CLASS</td>\n",
       "      <td>49.956211</td>\n",
       "    </tr>\n",
       "    <tr>\n",
       "      <th>DRIVERS_LICENSE_STATE</th>\n",
       "      <td>DRIVERS_LICENSE_STATE</td>\n",
       "      <td>41.160432</td>\n",
       "    </tr>\n",
       "    <tr>\n",
       "      <th>ZIPCODE</th>\n",
       "      <td>ZIPCODE</td>\n",
       "      <td>33.166962</td>\n",
       "    </tr>\n",
       "    <tr>\n",
       "      <th>AGE</th>\n",
       "      <td>AGE</td>\n",
       "      <td>28.978773</td>\n",
       "    </tr>\n",
       "    <tr>\n",
       "      <th>CITY</th>\n",
       "      <td>CITY</td>\n",
       "      <td>26.850171</td>\n",
       "    </tr>\n",
       "    <tr>\n",
       "      <th>STATE</th>\n",
       "      <td>STATE</td>\n",
       "      <td>25.910967</td>\n",
       "    </tr>\n",
       "    <tr>\n",
       "      <th>DRIVER_VISION</th>\n",
       "      <td>DRIVER_VISION</td>\n",
       "      <td>20.525798</td>\n",
       "    </tr>\n",
       "    <tr>\n",
       "      <th>DRIVER_ACTION</th>\n",
       "      <td>DRIVER_ACTION</td>\n",
       "      <td>20.496676</td>\n",
       "    </tr>\n",
       "    <tr>\n",
       "      <th>PHYSICAL_CONDITION</th>\n",
       "      <td>PHYSICAL_CONDITION</td>\n",
       "      <td>20.440841</td>\n",
       "    </tr>\n",
       "    <tr>\n",
       "      <th>BAC_RESULT</th>\n",
       "      <td>BAC_RESULT</td>\n",
       "      <td>20.424190</td>\n",
       "    </tr>\n",
       "    <tr>\n",
       "      <th>VEHICLE_ID</th>\n",
       "      <td>VEHICLE_ID</td>\n",
       "      <td>1.956562</td>\n",
       "    </tr>\n",
       "    <tr>\n",
       "      <th>AIRBAG_DEPLOYED</th>\n",
       "      <td>AIRBAG_DEPLOYED</td>\n",
       "      <td>1.876919</td>\n",
       "    </tr>\n",
       "    <tr>\n",
       "      <th>SEX</th>\n",
       "      <td>SEX</td>\n",
       "      <td>1.539926</td>\n",
       "    </tr>\n",
       "    <tr>\n",
       "      <th>EJECTION</th>\n",
       "      <td>EJECTION</td>\n",
       "      <td>1.205341</td>\n",
       "    </tr>\n",
       "    <tr>\n",
       "      <th>RD_NO</th>\n",
       "      <td>RD_NO</td>\n",
       "      <td>0.603414</td>\n",
       "    </tr>\n",
       "    <tr>\n",
       "      <th>SAFETY_EQUIPMENT</th>\n",
       "      <td>SAFETY_EQUIPMENT</td>\n",
       "      <td>0.285268</td>\n",
       "    </tr>\n",
       "    <tr>\n",
       "      <th>INJURY_CLASSIFICATION</th>\n",
       "      <td>INJURY_CLASSIFICATION</td>\n",
       "      <td>0.044144</td>\n",
       "    </tr>\n",
       "    <tr>\n",
       "      <th>PERSON_TYPE</th>\n",
       "      <td>PERSON_TYPE</td>\n",
       "      <td>0.000000</td>\n",
       "    </tr>\n",
       "    <tr>\n",
       "      <th>CRASH_DATE</th>\n",
       "      <td>CRASH_DATE</td>\n",
       "      <td>0.000000</td>\n",
       "    </tr>\n",
       "    <tr>\n",
       "      <th>CRASH_RECORD_ID</th>\n",
       "      <td>CRASH_RECORD_ID</td>\n",
       "      <td>0.000000</td>\n",
       "    </tr>\n",
       "    <tr>\n",
       "      <th>PERSON_ID</th>\n",
       "      <td>PERSON_ID</td>\n",
       "      <td>0.000000</td>\n",
       "    </tr>\n",
       "  </tbody>\n",
       "</table>\n",
       "</div>"
      ],
      "text/plain": [
       "                                 column_name  percent_missing\n",
       "CELL_PHONE_USE                CELL_PHONE_USE        99.918019\n",
       "BAC_RESULT VALUE            BAC_RESULT VALUE        99.877702\n",
       "EMS_RUN_NO                        EMS_RUN_NO        98.207754\n",
       "PEDPEDAL_VISIBILITY      PEDPEDAL_VISIBILITY        98.154470\n",
       "PEDPEDAL_LOCATION          PEDPEDAL_LOCATION        98.150927\n",
       "PEDPEDAL_ACTION              PEDPEDAL_ACTION        98.150715\n",
       "EMS_AGENCY                        EMS_AGENCY        89.067684\n",
       "HOSPITAL                            HOSPITAL        82.497651\n",
       "SEAT_NO                              SEAT_NO        79.685780\n",
       "DRIVERS_LICENSE_CLASS  DRIVERS_LICENSE_CLASS        49.956211\n",
       "DRIVERS_LICENSE_STATE  DRIVERS_LICENSE_STATE        41.160432\n",
       "ZIPCODE                              ZIPCODE        33.166962\n",
       "AGE                                      AGE        28.978773\n",
       "CITY                                    CITY        26.850171\n",
       "STATE                                  STATE        25.910967\n",
       "DRIVER_VISION                  DRIVER_VISION        20.525798\n",
       "DRIVER_ACTION                  DRIVER_ACTION        20.496676\n",
       "PHYSICAL_CONDITION        PHYSICAL_CONDITION        20.440841\n",
       "BAC_RESULT                        BAC_RESULT        20.424190\n",
       "VEHICLE_ID                        VEHICLE_ID         1.956562\n",
       "AIRBAG_DEPLOYED              AIRBAG_DEPLOYED         1.876919\n",
       "SEX                                      SEX         1.539926\n",
       "EJECTION                            EJECTION         1.205341\n",
       "RD_NO                                  RD_NO         0.603414\n",
       "SAFETY_EQUIPMENT            SAFETY_EQUIPMENT         0.285268\n",
       "INJURY_CLASSIFICATION  INJURY_CLASSIFICATION         0.044144\n",
       "PERSON_TYPE                      PERSON_TYPE         0.000000\n",
       "CRASH_DATE                        CRASH_DATE         0.000000\n",
       "CRASH_RECORD_ID              CRASH_RECORD_ID         0.000000\n",
       "PERSON_ID                          PERSON_ID         0.000000"
      ]
     },
     "execution_count": 757,
     "metadata": {},
     "output_type": "execute_result"
    }
   ],
   "source": [
    "percent_missing3 = people.isnull().sum() * 100 / len(people)\n",
    "people_null_values = pd.DataFrame({'column_name': people.columns,'percent_missing': percent_missing3})\n",
    "people_null_values.sort_values(by='percent_missing', ascending=False)"
   ]
  },
  {
   "cell_type": "code",
   "execution_count": 758,
   "metadata": {},
   "outputs": [],
   "source": [
    "people.drop(columns = ['CELL_PHONE_USE', 'BAC_RESULT VALUE','EMS_RUN_NO',\n",
    "                      'PEDPEDAL_VISIBILITY', 'PEDPEDAL_LOCATION', 'PEDPEDAL_ACTION',\n",
    "                      'EMS_AGENCY', 'HOSPITAL', 'SEAT_NO'],\n",
    "             inplace=True)"
   ]
  },
  {
   "cell_type": "code",
   "execution_count": 759,
   "metadata": {},
   "outputs": [
    {
     "data": {
      "text/html": [
       "<div>\n",
       "<style scoped>\n",
       "    .dataframe tbody tr th:only-of-type {\n",
       "        vertical-align: middle;\n",
       "    }\n",
       "\n",
       "    .dataframe tbody tr th {\n",
       "        vertical-align: top;\n",
       "    }\n",
       "\n",
       "    .dataframe thead th {\n",
       "        text-align: right;\n",
       "    }\n",
       "</style>\n",
       "<table border=\"1\" class=\"dataframe\">\n",
       "  <thead>\n",
       "    <tr style=\"text-align: right;\">\n",
       "      <th></th>\n",
       "      <th>PERSON_ID</th>\n",
       "      <th>PERSON_TYPE</th>\n",
       "      <th>CRASH_RECORD_ID</th>\n",
       "      <th>RD_NO</th>\n",
       "      <th>VEHICLE_ID</th>\n",
       "      <th>CRASH_DATE</th>\n",
       "      <th>CITY</th>\n",
       "      <th>STATE</th>\n",
       "      <th>ZIPCODE</th>\n",
       "      <th>SEX</th>\n",
       "      <th>...</th>\n",
       "      <th>DRIVERS_LICENSE_STATE</th>\n",
       "      <th>DRIVERS_LICENSE_CLASS</th>\n",
       "      <th>SAFETY_EQUIPMENT</th>\n",
       "      <th>AIRBAG_DEPLOYED</th>\n",
       "      <th>EJECTION</th>\n",
       "      <th>INJURY_CLASSIFICATION</th>\n",
       "      <th>DRIVER_ACTION</th>\n",
       "      <th>DRIVER_VISION</th>\n",
       "      <th>PHYSICAL_CONDITION</th>\n",
       "      <th>BAC_RESULT</th>\n",
       "    </tr>\n",
       "  </thead>\n",
       "  <tbody>\n",
       "    <tr>\n",
       "      <th>0</th>\n",
       "      <td>O749947</td>\n",
       "      <td>DRIVER</td>\n",
       "      <td>81dc0de2ed92aa62baccab641fa377be7feb1cc47e6554...</td>\n",
       "      <td>JC451435</td>\n",
       "      <td>834816.0</td>\n",
       "      <td>09/28/2019 03:30:00 AM</td>\n",
       "      <td>CHICAGO</td>\n",
       "      <td>IL</td>\n",
       "      <td>60651</td>\n",
       "      <td>M</td>\n",
       "      <td>...</td>\n",
       "      <td>IL</td>\n",
       "      <td>D</td>\n",
       "      <td>NONE PRESENT</td>\n",
       "      <td>DEPLOYMENT UNKNOWN</td>\n",
       "      <td>NONE</td>\n",
       "      <td>NO INDICATION OF INJURY</td>\n",
       "      <td>UNKNOWN</td>\n",
       "      <td>UNKNOWN</td>\n",
       "      <td>UNKNOWN</td>\n",
       "      <td>TEST NOT OFFERED</td>\n",
       "    </tr>\n",
       "    <tr>\n",
       "      <th>1</th>\n",
       "      <td>O871921</td>\n",
       "      <td>DRIVER</td>\n",
       "      <td>af84fb5c8d996fcd3aefd36593c3a02e6e7509eeb27568...</td>\n",
       "      <td>JD208731</td>\n",
       "      <td>827212.0</td>\n",
       "      <td>04/13/2020 10:50:00 PM</td>\n",
       "      <td>CHICAGO</td>\n",
       "      <td>IL</td>\n",
       "      <td>60620</td>\n",
       "      <td>M</td>\n",
       "      <td>...</td>\n",
       "      <td>IL</td>\n",
       "      <td>NaN</td>\n",
       "      <td>SAFETY BELT USED</td>\n",
       "      <td>DID NOT DEPLOY</td>\n",
       "      <td>NONE</td>\n",
       "      <td>NO INDICATION OF INJURY</td>\n",
       "      <td>NONE</td>\n",
       "      <td>NOT OBSCURED</td>\n",
       "      <td>NORMAL</td>\n",
       "      <td>TEST NOT OFFERED</td>\n",
       "    </tr>\n",
       "    <tr>\n",
       "      <th>2</th>\n",
       "      <td>O10018</td>\n",
       "      <td>DRIVER</td>\n",
       "      <td>71162af7bf22799b776547132ebf134b5b438dcf3dac6b...</td>\n",
       "      <td>HY484534</td>\n",
       "      <td>9579.0</td>\n",
       "      <td>11/01/2015 05:00:00 AM</td>\n",
       "      <td>NaN</td>\n",
       "      <td>NaN</td>\n",
       "      <td>NaN</td>\n",
       "      <td>X</td>\n",
       "      <td>...</td>\n",
       "      <td>NaN</td>\n",
       "      <td>NaN</td>\n",
       "      <td>USAGE UNKNOWN</td>\n",
       "      <td>DEPLOYMENT UNKNOWN</td>\n",
       "      <td>NONE</td>\n",
       "      <td>NO INDICATION OF INJURY</td>\n",
       "      <td>IMPROPER BACKING</td>\n",
       "      <td>UNKNOWN</td>\n",
       "      <td>UNKNOWN</td>\n",
       "      <td>TEST NOT OFFERED</td>\n",
       "    </tr>\n",
       "    <tr>\n",
       "      <th>3</th>\n",
       "      <td>O10038</td>\n",
       "      <td>DRIVER</td>\n",
       "      <td>c21c476e2ccc41af550b5d858d22aaac4ffc88745a1700...</td>\n",
       "      <td>HY484750</td>\n",
       "      <td>9598.0</td>\n",
       "      <td>11/01/2015 08:00:00 AM</td>\n",
       "      <td>NaN</td>\n",
       "      <td>NaN</td>\n",
       "      <td>NaN</td>\n",
       "      <td>X</td>\n",
       "      <td>...</td>\n",
       "      <td>NaN</td>\n",
       "      <td>NaN</td>\n",
       "      <td>USAGE UNKNOWN</td>\n",
       "      <td>DEPLOYMENT UNKNOWN</td>\n",
       "      <td>UNKNOWN</td>\n",
       "      <td>NO INDICATION OF INJURY</td>\n",
       "      <td>UNKNOWN</td>\n",
       "      <td>UNKNOWN</td>\n",
       "      <td>UNKNOWN</td>\n",
       "      <td>TEST NOT OFFERED</td>\n",
       "    </tr>\n",
       "    <tr>\n",
       "      <th>4</th>\n",
       "      <td>O10039</td>\n",
       "      <td>DRIVER</td>\n",
       "      <td>eb390a4c8e114c69488f5fb8a097fe629f5a92fd528cf4...</td>\n",
       "      <td>HY484778</td>\n",
       "      <td>9600.0</td>\n",
       "      <td>11/01/2015 10:15:00 AM</td>\n",
       "      <td>NaN</td>\n",
       "      <td>NaN</td>\n",
       "      <td>NaN</td>\n",
       "      <td>X</td>\n",
       "      <td>...</td>\n",
       "      <td>NaN</td>\n",
       "      <td>NaN</td>\n",
       "      <td>USAGE UNKNOWN</td>\n",
       "      <td>DEPLOYMENT UNKNOWN</td>\n",
       "      <td>UNKNOWN</td>\n",
       "      <td>NO INDICATION OF INJURY</td>\n",
       "      <td>UNKNOWN</td>\n",
       "      <td>UNKNOWN</td>\n",
       "      <td>UNKNOWN</td>\n",
       "      <td>TEST NOT OFFERED</td>\n",
       "    </tr>\n",
       "  </tbody>\n",
       "</table>\n",
       "<p>5 rows × 21 columns</p>\n",
       "</div>"
      ],
      "text/plain": [
       "  PERSON_ID PERSON_TYPE                                    CRASH_RECORD_ID  \\\n",
       "0   O749947      DRIVER  81dc0de2ed92aa62baccab641fa377be7feb1cc47e6554...   \n",
       "1   O871921      DRIVER  af84fb5c8d996fcd3aefd36593c3a02e6e7509eeb27568...   \n",
       "2    O10018      DRIVER  71162af7bf22799b776547132ebf134b5b438dcf3dac6b...   \n",
       "3    O10038      DRIVER  c21c476e2ccc41af550b5d858d22aaac4ffc88745a1700...   \n",
       "4    O10039      DRIVER  eb390a4c8e114c69488f5fb8a097fe629f5a92fd528cf4...   \n",
       "\n",
       "      RD_NO  VEHICLE_ID              CRASH_DATE     CITY STATE ZIPCODE SEX  \\\n",
       "0  JC451435    834816.0  09/28/2019 03:30:00 AM  CHICAGO    IL   60651   M   \n",
       "1  JD208731    827212.0  04/13/2020 10:50:00 PM  CHICAGO    IL   60620   M   \n",
       "2  HY484534      9579.0  11/01/2015 05:00:00 AM      NaN   NaN     NaN   X   \n",
       "3  HY484750      9598.0  11/01/2015 08:00:00 AM      NaN   NaN     NaN   X   \n",
       "4  HY484778      9600.0  11/01/2015 10:15:00 AM      NaN   NaN     NaN   X   \n",
       "\n",
       "   ...  DRIVERS_LICENSE_STATE DRIVERS_LICENSE_CLASS  SAFETY_EQUIPMENT  \\\n",
       "0  ...                     IL                     D      NONE PRESENT   \n",
       "1  ...                     IL                   NaN  SAFETY BELT USED   \n",
       "2  ...                    NaN                   NaN     USAGE UNKNOWN   \n",
       "3  ...                    NaN                   NaN     USAGE UNKNOWN   \n",
       "4  ...                    NaN                   NaN     USAGE UNKNOWN   \n",
       "\n",
       "      AIRBAG_DEPLOYED EJECTION    INJURY_CLASSIFICATION     DRIVER_ACTION  \\\n",
       "0  DEPLOYMENT UNKNOWN     NONE  NO INDICATION OF INJURY           UNKNOWN   \n",
       "1      DID NOT DEPLOY     NONE  NO INDICATION OF INJURY              NONE   \n",
       "2  DEPLOYMENT UNKNOWN     NONE  NO INDICATION OF INJURY  IMPROPER BACKING   \n",
       "3  DEPLOYMENT UNKNOWN  UNKNOWN  NO INDICATION OF INJURY           UNKNOWN   \n",
       "4  DEPLOYMENT UNKNOWN  UNKNOWN  NO INDICATION OF INJURY           UNKNOWN   \n",
       "\n",
       "  DRIVER_VISION PHYSICAL_CONDITION        BAC_RESULT  \n",
       "0       UNKNOWN            UNKNOWN  TEST NOT OFFERED  \n",
       "1  NOT OBSCURED             NORMAL  TEST NOT OFFERED  \n",
       "2       UNKNOWN            UNKNOWN  TEST NOT OFFERED  \n",
       "3       UNKNOWN            UNKNOWN  TEST NOT OFFERED  \n",
       "4       UNKNOWN            UNKNOWN  TEST NOT OFFERED  \n",
       "\n",
       "[5 rows x 21 columns]"
      ]
     },
     "execution_count": 759,
     "metadata": {},
     "output_type": "execute_result"
    }
   ],
   "source": [
    "people.head()"
   ]
  },
  {
   "cell_type": "code",
   "execution_count": 760,
   "metadata": {},
   "outputs": [],
   "source": [
    "# all dropped columns were missing more than 70% of data"
   ]
  },
  {
   "cell_type": "markdown",
   "metadata": {},
   "source": [
    "Again, only keeping rows from year 2021."
   ]
  },
  {
   "cell_type": "code",
   "execution_count": 761,
   "metadata": {},
   "outputs": [],
   "source": [
    "people['YEAR'] = people.CRASH_DATE.str[6:10]"
   ]
  },
  {
   "cell_type": "code",
   "execution_count": 762,
   "metadata": {},
   "outputs": [],
   "source": [
    "people = people[people.YEAR == '2021']"
   ]
  },
  {
   "cell_type": "code",
   "execution_count": 763,
   "metadata": {},
   "outputs": [
    {
     "data": {
      "text/plain": [
       "2021    233757\n",
       "Name: YEAR, dtype: int64"
      ]
     },
     "execution_count": 763,
     "metadata": {},
     "output_type": "execute_result"
    }
   ],
   "source": [
    "people['YEAR'].value_counts() "
   ]
  },
  {
   "cell_type": "code",
   "execution_count": 764,
   "metadata": {},
   "outputs": [
    {
     "data": {
      "text/html": [
       "<div>\n",
       "<style scoped>\n",
       "    .dataframe tbody tr th:only-of-type {\n",
       "        vertical-align: middle;\n",
       "    }\n",
       "\n",
       "    .dataframe tbody tr th {\n",
       "        vertical-align: top;\n",
       "    }\n",
       "\n",
       "    .dataframe thead th {\n",
       "        text-align: right;\n",
       "    }\n",
       "</style>\n",
       "<table border=\"1\" class=\"dataframe\">\n",
       "  <thead>\n",
       "    <tr style=\"text-align: right;\">\n",
       "      <th></th>\n",
       "      <th>PERSON_ID</th>\n",
       "      <th>PERSON_TYPE</th>\n",
       "      <th>CRASH_RECORD_ID</th>\n",
       "      <th>RD_NO</th>\n",
       "      <th>VEHICLE_ID</th>\n",
       "      <th>CRASH_DATE</th>\n",
       "      <th>CITY</th>\n",
       "      <th>STATE</th>\n",
       "      <th>ZIPCODE</th>\n",
       "      <th>SEX</th>\n",
       "      <th>...</th>\n",
       "      <th>DRIVERS_LICENSE_CLASS</th>\n",
       "      <th>SAFETY_EQUIPMENT</th>\n",
       "      <th>AIRBAG_DEPLOYED</th>\n",
       "      <th>EJECTION</th>\n",
       "      <th>INJURY_CLASSIFICATION</th>\n",
       "      <th>DRIVER_ACTION</th>\n",
       "      <th>DRIVER_VISION</th>\n",
       "      <th>PHYSICAL_CONDITION</th>\n",
       "      <th>BAC_RESULT</th>\n",
       "      <th>YEAR</th>\n",
       "    </tr>\n",
       "  </thead>\n",
       "  <tbody>\n",
       "    <tr>\n",
       "      <th>10604</th>\n",
       "      <td>O1094328</td>\n",
       "      <td>DRIVER</td>\n",
       "      <td>dccd19b99ed730f6fbd6788f9720c421411e61686b68c2...</td>\n",
       "      <td>JE228278</td>\n",
       "      <td>1037948.0</td>\n",
       "      <td>05/12/2021 04:00:00 PM</td>\n",
       "      <td>BLOOMINGTON</td>\n",
       "      <td>IL</td>\n",
       "      <td>60701</td>\n",
       "      <td>F</td>\n",
       "      <td>...</td>\n",
       "      <td>NaN</td>\n",
       "      <td>USAGE UNKNOWN</td>\n",
       "      <td>DID NOT DEPLOY</td>\n",
       "      <td>NONE</td>\n",
       "      <td>NO INDICATION OF INJURY</td>\n",
       "      <td>UNKNOWN</td>\n",
       "      <td>UNKNOWN</td>\n",
       "      <td>UNKNOWN</td>\n",
       "      <td>TEST NOT OFFERED</td>\n",
       "      <td>2021</td>\n",
       "    </tr>\n",
       "    <tr>\n",
       "      <th>21035</th>\n",
       "      <td>O1094329</td>\n",
       "      <td>DRIVER</td>\n",
       "      <td>dccd19b99ed730f6fbd6788f9720c421411e61686b68c2...</td>\n",
       "      <td>JE228278</td>\n",
       "      <td>1037954.0</td>\n",
       "      <td>05/12/2021 04:00:00 PM</td>\n",
       "      <td>CHICAGO</td>\n",
       "      <td>IL</td>\n",
       "      <td>60617</td>\n",
       "      <td>F</td>\n",
       "      <td>...</td>\n",
       "      <td>D</td>\n",
       "      <td>SAFETY BELT USED</td>\n",
       "      <td>DID NOT DEPLOY</td>\n",
       "      <td>NONE</td>\n",
       "      <td>NO INDICATION OF INJURY</td>\n",
       "      <td>UNKNOWN</td>\n",
       "      <td>UNKNOWN</td>\n",
       "      <td>NORMAL</td>\n",
       "      <td>TEST NOT OFFERED</td>\n",
       "      <td>2021</td>\n",
       "    </tr>\n",
       "    <tr>\n",
       "      <th>33144</th>\n",
       "      <td>O1233469</td>\n",
       "      <td>DRIVER</td>\n",
       "      <td>24366036b48debddfe4274f8415c19fdb160dcbd704c63...</td>\n",
       "      <td>JE455604</td>\n",
       "      <td>1170625.0</td>\n",
       "      <td>11/24/2021 11:36:00 AM</td>\n",
       "      <td>CHICAGO</td>\n",
       "      <td>IL</td>\n",
       "      <td>60643</td>\n",
       "      <td>M</td>\n",
       "      <td>...</td>\n",
       "      <td>D</td>\n",
       "      <td>SAFETY BELT USED</td>\n",
       "      <td>DID NOT DEPLOY</td>\n",
       "      <td>NONE</td>\n",
       "      <td>NO INDICATION OF INJURY</td>\n",
       "      <td>OTHER</td>\n",
       "      <td>NOT OBSCURED</td>\n",
       "      <td>NORMAL</td>\n",
       "      <td>TEST NOT OFFERED</td>\n",
       "      <td>2021</td>\n",
       "    </tr>\n",
       "    <tr>\n",
       "      <th>47127</th>\n",
       "      <td>O1233470</td>\n",
       "      <td>DRIVER</td>\n",
       "      <td>24366036b48debddfe4274f8415c19fdb160dcbd704c63...</td>\n",
       "      <td>JE455604</td>\n",
       "      <td>1170622.0</td>\n",
       "      <td>11/24/2021 11:36:00 AM</td>\n",
       "      <td>SHOREWOOD</td>\n",
       "      <td>IL</td>\n",
       "      <td>60404</td>\n",
       "      <td>F</td>\n",
       "      <td>...</td>\n",
       "      <td>D</td>\n",
       "      <td>SAFETY BELT USED</td>\n",
       "      <td>DID NOT DEPLOY</td>\n",
       "      <td>NONE</td>\n",
       "      <td>NO INDICATION OF INJURY</td>\n",
       "      <td>NONE</td>\n",
       "      <td>NOT OBSCURED</td>\n",
       "      <td>NORMAL</td>\n",
       "      <td>TEST NOT OFFERED</td>\n",
       "      <td>2021</td>\n",
       "    </tr>\n",
       "    <tr>\n",
       "      <th>94039</th>\n",
       "      <td>O1119948</td>\n",
       "      <td>DRIVER</td>\n",
       "      <td>dabd1660ae1201641d053c59e4672d9295f05812015a55...</td>\n",
       "      <td>JE269246</td>\n",
       "      <td>1062297.0</td>\n",
       "      <td>06/17/2021 12:00:00 PM</td>\n",
       "      <td>NaN</td>\n",
       "      <td>NaN</td>\n",
       "      <td>NaN</td>\n",
       "      <td>X</td>\n",
       "      <td>...</td>\n",
       "      <td>NaN</td>\n",
       "      <td>USAGE UNKNOWN</td>\n",
       "      <td>DEPLOYMENT UNKNOWN</td>\n",
       "      <td>UNKNOWN</td>\n",
       "      <td>NO INDICATION OF INJURY</td>\n",
       "      <td>UNKNOWN</td>\n",
       "      <td>UNKNOWN</td>\n",
       "      <td>UNKNOWN</td>\n",
       "      <td>TEST NOT OFFERED</td>\n",
       "      <td>2021</td>\n",
       "    </tr>\n",
       "  </tbody>\n",
       "</table>\n",
       "<p>5 rows × 22 columns</p>\n",
       "</div>"
      ],
      "text/plain": [
       "      PERSON_ID PERSON_TYPE  \\\n",
       "10604  O1094328      DRIVER   \n",
       "21035  O1094329      DRIVER   \n",
       "33144  O1233469      DRIVER   \n",
       "47127  O1233470      DRIVER   \n",
       "94039  O1119948      DRIVER   \n",
       "\n",
       "                                         CRASH_RECORD_ID     RD_NO  \\\n",
       "10604  dccd19b99ed730f6fbd6788f9720c421411e61686b68c2...  JE228278   \n",
       "21035  dccd19b99ed730f6fbd6788f9720c421411e61686b68c2...  JE228278   \n",
       "33144  24366036b48debddfe4274f8415c19fdb160dcbd704c63...  JE455604   \n",
       "47127  24366036b48debddfe4274f8415c19fdb160dcbd704c63...  JE455604   \n",
       "94039  dabd1660ae1201641d053c59e4672d9295f05812015a55...  JE269246   \n",
       "\n",
       "       VEHICLE_ID              CRASH_DATE         CITY STATE ZIPCODE SEX  ...  \\\n",
       "10604   1037948.0  05/12/2021 04:00:00 PM  BLOOMINGTON    IL   60701   F  ...   \n",
       "21035   1037954.0  05/12/2021 04:00:00 PM      CHICAGO    IL   60617   F  ...   \n",
       "33144   1170625.0  11/24/2021 11:36:00 AM      CHICAGO    IL   60643   M  ...   \n",
       "47127   1170622.0  11/24/2021 11:36:00 AM    SHOREWOOD    IL   60404   F  ...   \n",
       "94039   1062297.0  06/17/2021 12:00:00 PM          NaN   NaN     NaN   X  ...   \n",
       "\n",
       "       DRIVERS_LICENSE_CLASS  SAFETY_EQUIPMENT     AIRBAG_DEPLOYED EJECTION  \\\n",
       "10604                    NaN     USAGE UNKNOWN      DID NOT DEPLOY     NONE   \n",
       "21035                      D  SAFETY BELT USED      DID NOT DEPLOY     NONE   \n",
       "33144                      D  SAFETY BELT USED      DID NOT DEPLOY     NONE   \n",
       "47127                      D  SAFETY BELT USED      DID NOT DEPLOY     NONE   \n",
       "94039                    NaN     USAGE UNKNOWN  DEPLOYMENT UNKNOWN  UNKNOWN   \n",
       "\n",
       "         INJURY_CLASSIFICATION DRIVER_ACTION DRIVER_VISION PHYSICAL_CONDITION  \\\n",
       "10604  NO INDICATION OF INJURY       UNKNOWN       UNKNOWN            UNKNOWN   \n",
       "21035  NO INDICATION OF INJURY       UNKNOWN       UNKNOWN             NORMAL   \n",
       "33144  NO INDICATION OF INJURY         OTHER  NOT OBSCURED             NORMAL   \n",
       "47127  NO INDICATION OF INJURY          NONE  NOT OBSCURED             NORMAL   \n",
       "94039  NO INDICATION OF INJURY       UNKNOWN       UNKNOWN            UNKNOWN   \n",
       "\n",
       "             BAC_RESULT  YEAR  \n",
       "10604  TEST NOT OFFERED  2021  \n",
       "21035  TEST NOT OFFERED  2021  \n",
       "33144  TEST NOT OFFERED  2021  \n",
       "47127  TEST NOT OFFERED  2021  \n",
       "94039  TEST NOT OFFERED  2021  \n",
       "\n",
       "[5 rows x 22 columns]"
      ]
     },
     "execution_count": 764,
     "metadata": {},
     "output_type": "execute_result"
    }
   ],
   "source": [
    "people.head()"
   ]
  },
  {
   "cell_type": "code",
   "execution_count": 765,
   "metadata": {},
   "outputs": [
    {
     "data": {
      "text/plain": [
       "(233757, 22)"
      ]
     },
     "execution_count": 765,
     "metadata": {},
     "output_type": "execute_result"
    }
   ],
   "source": [
    "people.shape"
   ]
  },
  {
   "cell_type": "markdown",
   "metadata": {},
   "source": [
    "### Dropping Irrelevant Columns"
   ]
  },
  {
   "cell_type": "code",
   "execution_count": 766,
   "metadata": {},
   "outputs": [
    {
     "name": "stdout",
     "output_type": "stream",
     "text": [
      "<class 'pandas.core.frame.DataFrame'>\n",
      "Int64Index: 233757 entries, 10604 to 1411215\n",
      "Data columns (total 22 columns):\n",
      " #   Column                 Non-Null Count   Dtype  \n",
      "---  ------                 --------------   -----  \n",
      " 0   PERSON_ID              233757 non-null  object \n",
      " 1   PERSON_TYPE            233757 non-null  object \n",
      " 2   CRASH_RECORD_ID        233757 non-null  object \n",
      " 3   RD_NO                  233757 non-null  object \n",
      " 4   VEHICLE_ID             229459 non-null  float64\n",
      " 5   CRASH_DATE             233757 non-null  object \n",
      " 6   CITY                   164645 non-null  object \n",
      " 7   STATE                  167525 non-null  object \n",
      " 8   ZIPCODE                149992 non-null  object \n",
      " 9   SEX                    229859 non-null  object \n",
      " 10  AGE                    161635 non-null  float64\n",
      " 11  DRIVERS_LICENSE_STATE  133446 non-null  object \n",
      " 12  DRIVERS_LICENSE_CLASS  106818 non-null  object \n",
      " 13  SAFETY_EQUIPMENT       233160 non-null  object \n",
      " 14  AIRBAG_DEPLOYED        229621 non-null  object \n",
      " 15  EJECTION               231133 non-null  object \n",
      " 16  INJURY_CLASSIFICATION  233707 non-null  object \n",
      " 17  DRIVER_ACTION          186849 non-null  object \n",
      " 18  DRIVER_VISION          186761 non-null  object \n",
      " 19  PHYSICAL_CONDITION     186963 non-null  object \n",
      " 20  BAC_RESULT             186826 non-null  object \n",
      " 21  YEAR                   233757 non-null  object \n",
      "dtypes: float64(2), object(20)\n",
      "memory usage: 41.0+ MB\n"
     ]
    }
   ],
   "source": [
    "people.info()"
   ]
  },
  {
   "cell_type": "code",
   "execution_count": 767,
   "metadata": {},
   "outputs": [],
   "source": [
    "people_rc = [\n",
    "    'PERSON_ID',\n",
    "    'PERSON_TYPE',\n",
    "    'CRASH_RECORD_ID',\n",
    "    'VEHICLE_ID',\n",
    "    'CRASH_DATE',\n",
    "    'CITY',\n",
    "    'STATE',\n",
    "    'ZIPCODE',\n",
    "    'SEX',\n",
    "    'AGE',\n",
    "    'DRIVERS_LICENSE_STATE',\n",
    "    'DRIVERS_LICENSE_CLASS',\n",
    "    'SAFETY_EQUIPMENT',\n",
    "    'AIRBAG_DEPLOYED',\n",
    "    'INJURY_CLASSIFICATION',\n",
    "    'DRIVER_ACTION',\n",
    "    'DRIVER_VISION',\n",
    "    'PHYSICAL_CONDITION',\n",
    "]\n",
    "\n",
    "people = people[people_rc]"
   ]
  },
  {
   "cell_type": "code",
   "execution_count": 768,
   "metadata": {},
   "outputs": [
    {
     "data": {
      "text/plain": [
       "(233757, 18)"
      ]
     },
     "execution_count": 768,
     "metadata": {},
     "output_type": "execute_result"
    }
   ],
   "source": [
    "people.shape"
   ]
  },
  {
   "cell_type": "markdown",
   "metadata": {},
   "source": [
    "***"
   ]
  },
  {
   "cell_type": "markdown",
   "metadata": {},
   "source": [
    "##  Combining the Data"
   ]
  },
  {
   "cell_type": "markdown",
   "metadata": {},
   "source": [
    "As stated by the City of Chicago's website, the three datasets should be used in conjunction with one another. Therefore I will need to merge them into one data frame. **Crash Record ID** is a consistent identifier for each table and will be merged on this column.\n",
    "- **Crash Record ID:** This number can be used to link to the same crash in the Crashes and Vehicles datasets. This number also serves as a unique ID in the Crashes dataset.\n",
    " "
   ]
  },
  {
   "cell_type": "code",
   "execution_count": 769,
   "metadata": {},
   "outputs": [],
   "source": [
    "merged1 = pd.merge(left=crashes, right=vehicles, on='CRASH_RECORD_ID')"
   ]
  },
  {
   "cell_type": "code",
   "execution_count": 770,
   "metadata": {
    "scrolled": true
   },
   "outputs": [
    {
     "data": {
      "text/html": [
       "<div>\n",
       "<style scoped>\n",
       "    .dataframe tbody tr th:only-of-type {\n",
       "        vertical-align: middle;\n",
       "    }\n",
       "\n",
       "    .dataframe tbody tr th {\n",
       "        vertical-align: top;\n",
       "    }\n",
       "\n",
       "    .dataframe thead th {\n",
       "        text-align: right;\n",
       "    }\n",
       "</style>\n",
       "<table border=\"1\" class=\"dataframe\">\n",
       "  <thead>\n",
       "    <tr style=\"text-align: right;\">\n",
       "      <th></th>\n",
       "      <th>CRASH_RECORD_ID</th>\n",
       "      <th>CRASH_DATE_x</th>\n",
       "      <th>POSTED_SPEED_LIMIT</th>\n",
       "      <th>DEVICE_CONDITION</th>\n",
       "      <th>WEATHER_CONDITION</th>\n",
       "      <th>LIGHTING_CONDITION</th>\n",
       "      <th>FIRST_CRASH_TYPE</th>\n",
       "      <th>TRAFFICWAY_TYPE</th>\n",
       "      <th>ALIGNMENT</th>\n",
       "      <th>ROADWAY_SURFACE_COND</th>\n",
       "      <th>...</th>\n",
       "      <th>MAKE</th>\n",
       "      <th>MODEL</th>\n",
       "      <th>LIC_PLATE_STATE</th>\n",
       "      <th>VEHICLE_YEAR</th>\n",
       "      <th>VEHICLE_DEFECT</th>\n",
       "      <th>VEHICLE_TYPE</th>\n",
       "      <th>VEHICLE_USE</th>\n",
       "      <th>TRAVEL_DIRECTION</th>\n",
       "      <th>MANEUVER</th>\n",
       "      <th>OCCUPANT_CNT</th>\n",
       "    </tr>\n",
       "  </thead>\n",
       "  <tbody>\n",
       "    <tr>\n",
       "      <th>0</th>\n",
       "      <td>497cb9e8f3def86057207e3f11469e7dd6ecb2236bf99e...</td>\n",
       "      <td>07/06/2021 06:55:00 PM</td>\n",
       "      <td>15</td>\n",
       "      <td>UNKNOWN</td>\n",
       "      <td>CLEAR</td>\n",
       "      <td>DAYLIGHT</td>\n",
       "      <td>REAR TO SIDE</td>\n",
       "      <td>PARKING LOT</td>\n",
       "      <td>STRAIGHT AND LEVEL</td>\n",
       "      <td>DRY</td>\n",
       "      <td>...</td>\n",
       "      <td>LEXUS</td>\n",
       "      <td>RX350</td>\n",
       "      <td>IL</td>\n",
       "      <td>2011.0</td>\n",
       "      <td>UNKNOWN</td>\n",
       "      <td>PASSENGER</td>\n",
       "      <td>PERSONAL</td>\n",
       "      <td>UNKNOWN</td>\n",
       "      <td>BACKING</td>\n",
       "      <td>2.0</td>\n",
       "    </tr>\n",
       "    <tr>\n",
       "      <th>1</th>\n",
       "      <td>497cb9e8f3def86057207e3f11469e7dd6ecb2236bf99e...</td>\n",
       "      <td>07/06/2021 06:55:00 PM</td>\n",
       "      <td>15</td>\n",
       "      <td>UNKNOWN</td>\n",
       "      <td>CLEAR</td>\n",
       "      <td>DAYLIGHT</td>\n",
       "      <td>REAR TO SIDE</td>\n",
       "      <td>PARKING LOT</td>\n",
       "      <td>STRAIGHT AND LEVEL</td>\n",
       "      <td>DRY</td>\n",
       "      <td>...</td>\n",
       "      <td>HYUNDAI</td>\n",
       "      <td>TUCSON</td>\n",
       "      <td>IL</td>\n",
       "      <td>2020.0</td>\n",
       "      <td>UNKNOWN</td>\n",
       "      <td>PASSENGER</td>\n",
       "      <td>PERSONAL</td>\n",
       "      <td>UNKNOWN</td>\n",
       "      <td>STRAIGHT AHEAD</td>\n",
       "      <td>1.0</td>\n",
       "    </tr>\n",
       "    <tr>\n",
       "      <th>2</th>\n",
       "      <td>01a754e24e2a7cf3611047bc08cefa0d5dcf150e2dab2d...</td>\n",
       "      <td>12/10/2021 01:55:00 PM</td>\n",
       "      <td>20</td>\n",
       "      <td>NO CONTROLS</td>\n",
       "      <td>CLOUDY/OVERCAST</td>\n",
       "      <td>DAYLIGHT</td>\n",
       "      <td>PARKED MOTOR VEHICLE</td>\n",
       "      <td>OTHER</td>\n",
       "      <td>STRAIGHT AND LEVEL</td>\n",
       "      <td>DRY</td>\n",
       "      <td>...</td>\n",
       "      <td>FORD</td>\n",
       "      <td>OTHER (EXPLAIN IN NARRATIVE)</td>\n",
       "      <td>IL</td>\n",
       "      <td>2007.0</td>\n",
       "      <td>UNKNOWN</td>\n",
       "      <td>OTHER</td>\n",
       "      <td>OTHER</td>\n",
       "      <td>E</td>\n",
       "      <td>PASSING/OVERTAKING</td>\n",
       "      <td>1.0</td>\n",
       "    </tr>\n",
       "    <tr>\n",
       "      <th>3</th>\n",
       "      <td>01a754e24e2a7cf3611047bc08cefa0d5dcf150e2dab2d...</td>\n",
       "      <td>12/10/2021 01:55:00 PM</td>\n",
       "      <td>20</td>\n",
       "      <td>NO CONTROLS</td>\n",
       "      <td>CLOUDY/OVERCAST</td>\n",
       "      <td>DAYLIGHT</td>\n",
       "      <td>PARKED MOTOR VEHICLE</td>\n",
       "      <td>OTHER</td>\n",
       "      <td>STRAIGHT AND LEVEL</td>\n",
       "      <td>DRY</td>\n",
       "      <td>...</td>\n",
       "      <td>MERCEDES-BENZ</td>\n",
       "      <td>ML450</td>\n",
       "      <td>IL</td>\n",
       "      <td>2015.0</td>\n",
       "      <td>UNKNOWN</td>\n",
       "      <td>PASSENGER</td>\n",
       "      <td>PERSONAL</td>\n",
       "      <td>E</td>\n",
       "      <td>PARKED IN TRAFFIC LANE</td>\n",
       "      <td>0.0</td>\n",
       "    </tr>\n",
       "    <tr>\n",
       "      <th>4</th>\n",
       "      <td>be7c69045cc5edb1afd241bc875b3faca3040b4a8d63d8...</td>\n",
       "      <td>12/04/2021 11:25:00 AM</td>\n",
       "      <td>30</td>\n",
       "      <td>NO CONTROLS</td>\n",
       "      <td>CLEAR</td>\n",
       "      <td>DAYLIGHT</td>\n",
       "      <td>ANGLE</td>\n",
       "      <td>OTHER</td>\n",
       "      <td>STRAIGHT AND LEVEL</td>\n",
       "      <td>DRY</td>\n",
       "      <td>...</td>\n",
       "      <td>HONDA</td>\n",
       "      <td>OTHER (EXPLAIN IN NARRATIVE)</td>\n",
       "      <td>IL</td>\n",
       "      <td>2016.0</td>\n",
       "      <td>NONE</td>\n",
       "      <td>PASSENGER</td>\n",
       "      <td>PERSONAL</td>\n",
       "      <td>N</td>\n",
       "      <td>STRAIGHT AHEAD</td>\n",
       "      <td>1.0</td>\n",
       "    </tr>\n",
       "  </tbody>\n",
       "</table>\n",
       "<p>5 rows × 35 columns</p>\n",
       "</div>"
      ],
      "text/plain": [
       "                                     CRASH_RECORD_ID            CRASH_DATE_x  \\\n",
       "0  497cb9e8f3def86057207e3f11469e7dd6ecb2236bf99e...  07/06/2021 06:55:00 PM   \n",
       "1  497cb9e8f3def86057207e3f11469e7dd6ecb2236bf99e...  07/06/2021 06:55:00 PM   \n",
       "2  01a754e24e2a7cf3611047bc08cefa0d5dcf150e2dab2d...  12/10/2021 01:55:00 PM   \n",
       "3  01a754e24e2a7cf3611047bc08cefa0d5dcf150e2dab2d...  12/10/2021 01:55:00 PM   \n",
       "4  be7c69045cc5edb1afd241bc875b3faca3040b4a8d63d8...  12/04/2021 11:25:00 AM   \n",
       "\n",
       "   POSTED_SPEED_LIMIT DEVICE_CONDITION WEATHER_CONDITION LIGHTING_CONDITION  \\\n",
       "0                  15          UNKNOWN             CLEAR           DAYLIGHT   \n",
       "1                  15          UNKNOWN             CLEAR           DAYLIGHT   \n",
       "2                  20      NO CONTROLS   CLOUDY/OVERCAST           DAYLIGHT   \n",
       "3                  20      NO CONTROLS   CLOUDY/OVERCAST           DAYLIGHT   \n",
       "4                  30      NO CONTROLS             CLEAR           DAYLIGHT   \n",
       "\n",
       "       FIRST_CRASH_TYPE TRAFFICWAY_TYPE           ALIGNMENT  \\\n",
       "0          REAR TO SIDE     PARKING LOT  STRAIGHT AND LEVEL   \n",
       "1          REAR TO SIDE     PARKING LOT  STRAIGHT AND LEVEL   \n",
       "2  PARKED MOTOR VEHICLE           OTHER  STRAIGHT AND LEVEL   \n",
       "3  PARKED MOTOR VEHICLE           OTHER  STRAIGHT AND LEVEL   \n",
       "4                 ANGLE           OTHER  STRAIGHT AND LEVEL   \n",
       "\n",
       "  ROADWAY_SURFACE_COND  ...           MAKE                         MODEL  \\\n",
       "0                  DRY  ...          LEXUS                         RX350   \n",
       "1                  DRY  ...        HYUNDAI                        TUCSON   \n",
       "2                  DRY  ...           FORD  OTHER (EXPLAIN IN NARRATIVE)   \n",
       "3                  DRY  ...  MERCEDES-BENZ                         ML450   \n",
       "4                  DRY  ...          HONDA  OTHER (EXPLAIN IN NARRATIVE)   \n",
       "\n",
       "  LIC_PLATE_STATE  VEHICLE_YEAR  VEHICLE_DEFECT  VEHICLE_TYPE  VEHICLE_USE  \\\n",
       "0              IL        2011.0         UNKNOWN     PASSENGER     PERSONAL   \n",
       "1              IL        2020.0         UNKNOWN     PASSENGER     PERSONAL   \n",
       "2              IL        2007.0         UNKNOWN         OTHER        OTHER   \n",
       "3              IL        2015.0         UNKNOWN     PASSENGER     PERSONAL   \n",
       "4              IL        2016.0            NONE     PASSENGER     PERSONAL   \n",
       "\n",
       "   TRAVEL_DIRECTION                MANEUVER  OCCUPANT_CNT  \n",
       "0           UNKNOWN                 BACKING           2.0  \n",
       "1           UNKNOWN          STRAIGHT AHEAD           1.0  \n",
       "2                 E      PASSING/OVERTAKING           1.0  \n",
       "3                 E  PARKED IN TRAFFIC LANE           0.0  \n",
       "4                 N          STRAIGHT AHEAD           1.0  \n",
       "\n",
       "[5 rows x 35 columns]"
      ]
     },
     "execution_count": 770,
     "metadata": {},
     "output_type": "execute_result"
    }
   ],
   "source": [
    "merged1.head()"
   ]
  },
  {
   "cell_type": "code",
   "execution_count": 771,
   "metadata": {},
   "outputs": [
    {
     "data": {
      "text/plain": [
       "(222414, 35)"
      ]
     },
     "execution_count": 771,
     "metadata": {},
     "output_type": "execute_result"
    }
   ],
   "source": [
    "merged1.shape"
   ]
  },
  {
   "cell_type": "markdown",
   "metadata": {},
   "source": [
    "### merging with people"
   ]
  },
  {
   "cell_type": "code",
   "execution_count": 772,
   "metadata": {},
   "outputs": [],
   "source": [
    "merged2 = pd.merge(left=merged1, right=people, on='CRASH_RECORD_ID')"
   ]
  },
  {
   "cell_type": "code",
   "execution_count": 773,
   "metadata": {},
   "outputs": [
    {
     "data": {
      "text/plain": [
       "(492019, 52)"
      ]
     },
     "execution_count": 773,
     "metadata": {},
     "output_type": "execute_result"
    }
   ],
   "source": [
    "merged2.shape"
   ]
  },
  {
   "cell_type": "code",
   "execution_count": 774,
   "metadata": {
    "scrolled": true
   },
   "outputs": [
    {
     "name": "stdout",
     "output_type": "stream",
     "text": [
      "<class 'pandas.core.frame.DataFrame'>\n",
      "Int64Index: 492019 entries, 0 to 492018\n",
      "Data columns (total 52 columns):\n",
      " #   Column                   Non-Null Count   Dtype  \n",
      "---  ------                   --------------   -----  \n",
      " 0   CRASH_RECORD_ID          492019 non-null  object \n",
      " 1   CRASH_DATE_x             492019 non-null  object \n",
      " 2   POSTED_SPEED_LIMIT       492019 non-null  int64  \n",
      " 3   DEVICE_CONDITION         492019 non-null  object \n",
      " 4   WEATHER_CONDITION        492019 non-null  object \n",
      " 5   LIGHTING_CONDITION       492019 non-null  object \n",
      " 6   FIRST_CRASH_TYPE         492019 non-null  object \n",
      " 7   TRAFFICWAY_TYPE          492019 non-null  object \n",
      " 8   ALIGNMENT                492019 non-null  object \n",
      " 9   ROADWAY_SURFACE_COND     492019 non-null  object \n",
      " 10  ROAD_DEFECT              492019 non-null  object \n",
      " 11  PRIM_CONTRIBUTORY_CAUSE  492019 non-null  object \n",
      " 12  SEC_CONTRIBUTORY_CAUSE   492019 non-null  object \n",
      " 13  INJURIES_TOTAL           492019 non-null  float64\n",
      " 14  INJURIES_FATAL           492019 non-null  float64\n",
      " 15  CRASH_HOUR               492019 non-null  int64  \n",
      " 16  CRASH_DAY_OF_WEEK        492019 non-null  int64  \n",
      " 17  CRASH_MONTH              492019 non-null  int64  \n",
      " 18  LATITUDE                 488408 non-null  float64\n",
      " 19  LONGITUDE                488408 non-null  float64\n",
      " 20  CRASH_UNIT_ID            492019 non-null  int64  \n",
      " 21  CRASH_DATE_y             492019 non-null  object \n",
      " 22  UNIT_NO                  492019 non-null  int64  \n",
      " 23  UNIT_TYPE                491530 non-null  object \n",
      " 24  VEHICLE_ID_x             481745 non-null  float64\n",
      " 25  MAKE                     481745 non-null  object \n",
      " 26  MODEL                    481745 non-null  object \n",
      " 27  LIC_PLATE_STATE          438492 non-null  object \n",
      " 28  VEHICLE_YEAR             411867 non-null  float64\n",
      " 29  VEHICLE_DEFECT           481745 non-null  object \n",
      " 30  VEHICLE_TYPE             481745 non-null  object \n",
      " 31  VEHICLE_USE              481745 non-null  object \n",
      " 32  TRAVEL_DIRECTION         481745 non-null  object \n",
      " 33  MANEUVER                 481745 non-null  object \n",
      " 34  OCCUPANT_CNT             481745 non-null  float64\n",
      " 35  PERSON_ID                492019 non-null  object \n",
      " 36  PERSON_TYPE              492019 non-null  object \n",
      " 37  VEHICLE_ID_y             482836 non-null  float64\n",
      " 38  CRASH_DATE               492019 non-null  object \n",
      " 39  CITY                     347227 non-null  object \n",
      " 40  STATE                    353443 non-null  object \n",
      " 41  ZIPCODE                  316631 non-null  object \n",
      " 42  SEX                      483585 non-null  object \n",
      " 43  AGE                      341297 non-null  float64\n",
      " 44  DRIVERS_LICENSE_STATE    280076 non-null  object \n",
      " 45  DRIVERS_LICENSE_CLASS    224505 non-null  object \n",
      " 46  SAFETY_EQUIPMENT         490670 non-null  object \n",
      " 47  AIRBAG_DEPLOYED          483215 non-null  object \n",
      " 48  INJURY_CLASSIFICATION    491887 non-null  object \n",
      " 49  DRIVER_ACTION            391800 non-null  object \n",
      " 50  DRIVER_VISION            391587 non-null  object \n",
      " 51  PHYSICAL_CONDITION       392062 non-null  object \n",
      "dtypes: float64(9), int64(6), object(37)\n",
      "memory usage: 199.0+ MB\n"
     ]
    }
   ],
   "source": [
    "merged2.info()"
   ]
  },
  {
   "cell_type": "code",
   "execution_count": 775,
   "metadata": {},
   "outputs": [],
   "source": [
    "# dropping duplicate columns"
   ]
  },
  {
   "cell_type": "code",
   "execution_count": 776,
   "metadata": {},
   "outputs": [],
   "source": [
    "merged2.drop(columns=['CRASH_DATE','CRASH_DATE_x', 'CRASH_DATE_y',\n",
    "                      'VEHICLE_ID_x','VEHICLE_ID_y'], inplace=True)"
   ]
  },
  {
   "cell_type": "code",
   "execution_count": 777,
   "metadata": {
    "scrolled": true
   },
   "outputs": [
    {
     "data": {
      "text/plain": [
       "(492019, 47)"
      ]
     },
     "execution_count": 777,
     "metadata": {},
     "output_type": "execute_result"
    }
   ],
   "source": [
    "merged2.shape"
   ]
  },
  {
   "cell_type": "markdown",
   "metadata": {},
   "source": [
    "There are still too many features and several will need to be binned (age, time of day, weather...).\n",
    "The problem I am addressing is \"how to decrease injuries\" so certain features may still be irrelevant. Based on further research I will also drop the following columns: \n",
    "- **ALIGNMENT**: 97% were straight and level\n",
    "- **ROAD_DEFECT**: 83% were none and 15% unknown\n",
    "- **SEC_CONTRIBUTORY_CAUSE**: 73% were n/a or unable to determine\n",
    "- **MAKE**: maker of car not relevant\n",
    "- **MODEL**: model of car not relevant \n",
    "- **LIC_PLATE_STATE**: 91% from IL, not relevant\n",
    "- **VEHICLE_DEFECT**: 98% either none or unknown\n",
    "- **TRAVEL_DIRECTION**: entered by officer, not relevant\n",
    "- **PERSON_ID**: not relevant, record is captured by CRASH_ID\n",
    "- **CITY**: not relevant as it refers to where the people lived, all crashes occured in Chicago\n",
    "- **STATE**: not relevant as it refers to where the people lived, all crashes occured in Chicago\n",
    "- **ZIPCODE**: not relevant as it refers to where the people lived, all crashes occured in Chicago\n",
    "- **DRIVERS_LICENSE_STATE**: not relevant as it refers to where the people lived, all crashes occured in Chicago\n",
    "- **DRIVERS_LICENSE_CLASS**: not relevant as it refers to where the people lived, all crashes occured in Chicago\n",
    "- **INJURY_CLASSIFICATION**: redundant\n",
    "- **DRIVER_ACTION**: subjective, reported by officer\n",
    "- **VEHICLE_ID**: not relevant, record is captured by CRASH_ID\n",
    "- **PHYSICAL_CONDITION**: 91% none or unknown\n",
    "- **PRIM_CONTRIBUTORY_CAUSE**: subjective, given by officer\n",
    "- **L"
   ]
  },
  {
   "cell_type": "code",
   "execution_count": 778,
   "metadata": {},
   "outputs": [],
   "source": [
    "merged2.drop(columns=[\n",
    "    'ALIGNMENT', 'ROAD_DEFECT', 'SEC_CONTRIBUTORY_CAUSE', 'MAKE', 'MODEL',\n",
    "    'LIC_PLATE_STATE', 'VEHICLE_DEFECT', 'TRAVEL_DIRECTION', 'PERSON_ID', 'CITY', 'STATE',\n",
    "    'ZIPCODE', 'DRIVERS_LICENSE_STATE', 'DRIVERS_LICENSE_CLASS', 'INJURY_CLASSIFICATION', \n",
    "    'DRIVER_ACTION', 'PHYSICAL_CONDITION', 'PRIM_CONTRIBUTORY_CAUSE', 'CRASH_UNIT_ID'\n",
    "], inplace=True)"
   ]
  },
  {
   "cell_type": "code",
   "execution_count": 779,
   "metadata": {},
   "outputs": [
    {
     "data": {
      "text/plain": [
       "(492019, 28)"
      ]
     },
     "execution_count": 779,
     "metadata": {},
     "output_type": "execute_result"
    }
   ],
   "source": [
    "merged2.shape"
   ]
  },
  {
   "cell_type": "code",
   "execution_count": 780,
   "metadata": {},
   "outputs": [],
   "source": [
    "#checking nulls after combining"
   ]
  },
  {
   "cell_type": "code",
   "execution_count": 781,
   "metadata": {},
   "outputs": [
    {
     "data": {
      "text/plain": [
       "CRASH_RECORD_ID              0\n",
       "POSTED_SPEED_LIMIT           0\n",
       "DEVICE_CONDITION             0\n",
       "WEATHER_CONDITION            0\n",
       "LIGHTING_CONDITION           0\n",
       "FIRST_CRASH_TYPE             0\n",
       "TRAFFICWAY_TYPE              0\n",
       "ROADWAY_SURFACE_COND         0\n",
       "INJURIES_TOTAL               0\n",
       "INJURIES_FATAL               0\n",
       "CRASH_HOUR                   0\n",
       "CRASH_DAY_OF_WEEK            0\n",
       "CRASH_MONTH                  0\n",
       "LATITUDE                  3611\n",
       "LONGITUDE                 3611\n",
       "UNIT_NO                      0\n",
       "UNIT_TYPE                  489\n",
       "VEHICLE_YEAR             80152\n",
       "VEHICLE_TYPE             10274\n",
       "VEHICLE_USE              10274\n",
       "MANEUVER                 10274\n",
       "OCCUPANT_CNT             10274\n",
       "PERSON_TYPE                  0\n",
       "SEX                       8434\n",
       "AGE                     150722\n",
       "SAFETY_EQUIPMENT          1349\n",
       "AIRBAG_DEPLOYED           8804\n",
       "DRIVER_VISION           100432\n",
       "dtype: int64"
      ]
     },
     "execution_count": 781,
     "metadata": {},
     "output_type": "execute_result"
    }
   ],
   "source": [
    "merged2.isna().sum()"
   ]
  },
  {
   "cell_type": "code",
   "execution_count": 782,
   "metadata": {},
   "outputs": [],
   "source": [
    "#due to size of data set all null values will be dropped"
   ]
  },
  {
   "cell_type": "code",
   "execution_count": 783,
   "metadata": {},
   "outputs": [],
   "source": [
    "merged2.dropna(inplace=True)"
   ]
  },
  {
   "cell_type": "code",
   "execution_count": 784,
   "metadata": {},
   "outputs": [
    {
     "data": {
      "text/plain": [
       "CRASH_RECORD_ID         0\n",
       "POSTED_SPEED_LIMIT      0\n",
       "DEVICE_CONDITION        0\n",
       "WEATHER_CONDITION       0\n",
       "LIGHTING_CONDITION      0\n",
       "FIRST_CRASH_TYPE        0\n",
       "TRAFFICWAY_TYPE         0\n",
       "ROADWAY_SURFACE_COND    0\n",
       "INJURIES_TOTAL          0\n",
       "INJURIES_FATAL          0\n",
       "CRASH_HOUR              0\n",
       "CRASH_DAY_OF_WEEK       0\n",
       "CRASH_MONTH             0\n",
       "LATITUDE                0\n",
       "LONGITUDE               0\n",
       "UNIT_NO                 0\n",
       "UNIT_TYPE               0\n",
       "VEHICLE_YEAR            0\n",
       "VEHICLE_TYPE            0\n",
       "VEHICLE_USE             0\n",
       "MANEUVER                0\n",
       "OCCUPANT_CNT            0\n",
       "PERSON_TYPE             0\n",
       "SEX                     0\n",
       "AGE                     0\n",
       "SAFETY_EQUIPMENT        0\n",
       "AIRBAG_DEPLOYED         0\n",
       "DRIVER_VISION           0\n",
       "dtype: int64"
      ]
     },
     "execution_count": 784,
     "metadata": {},
     "output_type": "execute_result"
    }
   ],
   "source": [
    "merged2.isna().sum()"
   ]
  },
  {
   "cell_type": "code",
   "execution_count": 785,
   "metadata": {
    "scrolled": false
   },
   "outputs": [
    {
     "data": {
      "text/html": [
       "<div>\n",
       "<style scoped>\n",
       "    .dataframe tbody tr th:only-of-type {\n",
       "        vertical-align: middle;\n",
       "    }\n",
       "\n",
       "    .dataframe tbody tr th {\n",
       "        vertical-align: top;\n",
       "    }\n",
       "\n",
       "    .dataframe thead th {\n",
       "        text-align: right;\n",
       "    }\n",
       "</style>\n",
       "<table border=\"1\" class=\"dataframe\">\n",
       "  <thead>\n",
       "    <tr style=\"text-align: right;\">\n",
       "      <th></th>\n",
       "      <th>CRASH_RECORD_ID</th>\n",
       "      <th>POSTED_SPEED_LIMIT</th>\n",
       "      <th>DEVICE_CONDITION</th>\n",
       "      <th>WEATHER_CONDITION</th>\n",
       "      <th>LIGHTING_CONDITION</th>\n",
       "      <th>FIRST_CRASH_TYPE</th>\n",
       "      <th>TRAFFICWAY_TYPE</th>\n",
       "      <th>ROADWAY_SURFACE_COND</th>\n",
       "      <th>INJURIES_TOTAL</th>\n",
       "      <th>INJURIES_FATAL</th>\n",
       "      <th>...</th>\n",
       "      <th>VEHICLE_TYPE</th>\n",
       "      <th>VEHICLE_USE</th>\n",
       "      <th>MANEUVER</th>\n",
       "      <th>OCCUPANT_CNT</th>\n",
       "      <th>PERSON_TYPE</th>\n",
       "      <th>SEX</th>\n",
       "      <th>AGE</th>\n",
       "      <th>SAFETY_EQUIPMENT</th>\n",
       "      <th>AIRBAG_DEPLOYED</th>\n",
       "      <th>DRIVER_VISION</th>\n",
       "    </tr>\n",
       "  </thead>\n",
       "  <tbody>\n",
       "    <tr>\n",
       "      <th>0</th>\n",
       "      <td>497cb9e8f3def86057207e3f11469e7dd6ecb2236bf99e...</td>\n",
       "      <td>15</td>\n",
       "      <td>UNKNOWN</td>\n",
       "      <td>CLEAR</td>\n",
       "      <td>DAYLIGHT</td>\n",
       "      <td>REAR TO SIDE</td>\n",
       "      <td>PARKING LOT</td>\n",
       "      <td>DRY</td>\n",
       "      <td>0.0</td>\n",
       "      <td>0.0</td>\n",
       "      <td>...</td>\n",
       "      <td>PASSENGER</td>\n",
       "      <td>PERSONAL</td>\n",
       "      <td>BACKING</td>\n",
       "      <td>2.0</td>\n",
       "      <td>DRIVER</td>\n",
       "      <td>F</td>\n",
       "      <td>62.0</td>\n",
       "      <td>USAGE UNKNOWN</td>\n",
       "      <td>DEPLOYMENT UNKNOWN</td>\n",
       "      <td>UNKNOWN</td>\n",
       "    </tr>\n",
       "    <tr>\n",
       "      <th>1</th>\n",
       "      <td>497cb9e8f3def86057207e3f11469e7dd6ecb2236bf99e...</td>\n",
       "      <td>15</td>\n",
       "      <td>UNKNOWN</td>\n",
       "      <td>CLEAR</td>\n",
       "      <td>DAYLIGHT</td>\n",
       "      <td>REAR TO SIDE</td>\n",
       "      <td>PARKING LOT</td>\n",
       "      <td>DRY</td>\n",
       "      <td>0.0</td>\n",
       "      <td>0.0</td>\n",
       "      <td>...</td>\n",
       "      <td>PASSENGER</td>\n",
       "      <td>PERSONAL</td>\n",
       "      <td>BACKING</td>\n",
       "      <td>2.0</td>\n",
       "      <td>DRIVER</td>\n",
       "      <td>F</td>\n",
       "      <td>26.0</td>\n",
       "      <td>USAGE UNKNOWN</td>\n",
       "      <td>DEPLOYMENT UNKNOWN</td>\n",
       "      <td>UNKNOWN</td>\n",
       "    </tr>\n",
       "    <tr>\n",
       "      <th>2</th>\n",
       "      <td>497cb9e8f3def86057207e3f11469e7dd6ecb2236bf99e...</td>\n",
       "      <td>15</td>\n",
       "      <td>UNKNOWN</td>\n",
       "      <td>CLEAR</td>\n",
       "      <td>DAYLIGHT</td>\n",
       "      <td>REAR TO SIDE</td>\n",
       "      <td>PARKING LOT</td>\n",
       "      <td>DRY</td>\n",
       "      <td>0.0</td>\n",
       "      <td>0.0</td>\n",
       "      <td>...</td>\n",
       "      <td>PASSENGER</td>\n",
       "      <td>PERSONAL</td>\n",
       "      <td>STRAIGHT AHEAD</td>\n",
       "      <td>1.0</td>\n",
       "      <td>DRIVER</td>\n",
       "      <td>F</td>\n",
       "      <td>62.0</td>\n",
       "      <td>USAGE UNKNOWN</td>\n",
       "      <td>DEPLOYMENT UNKNOWN</td>\n",
       "      <td>UNKNOWN</td>\n",
       "    </tr>\n",
       "    <tr>\n",
       "      <th>3</th>\n",
       "      <td>497cb9e8f3def86057207e3f11469e7dd6ecb2236bf99e...</td>\n",
       "      <td>15</td>\n",
       "      <td>UNKNOWN</td>\n",
       "      <td>CLEAR</td>\n",
       "      <td>DAYLIGHT</td>\n",
       "      <td>REAR TO SIDE</td>\n",
       "      <td>PARKING LOT</td>\n",
       "      <td>DRY</td>\n",
       "      <td>0.0</td>\n",
       "      <td>0.0</td>\n",
       "      <td>...</td>\n",
       "      <td>PASSENGER</td>\n",
       "      <td>PERSONAL</td>\n",
       "      <td>STRAIGHT AHEAD</td>\n",
       "      <td>1.0</td>\n",
       "      <td>DRIVER</td>\n",
       "      <td>F</td>\n",
       "      <td>26.0</td>\n",
       "      <td>USAGE UNKNOWN</td>\n",
       "      <td>DEPLOYMENT UNKNOWN</td>\n",
       "      <td>UNKNOWN</td>\n",
       "    </tr>\n",
       "    <tr>\n",
       "      <th>4</th>\n",
       "      <td>be7c69045cc5edb1afd241bc875b3faca3040b4a8d63d8...</td>\n",
       "      <td>30</td>\n",
       "      <td>NO CONTROLS</td>\n",
       "      <td>CLEAR</td>\n",
       "      <td>DAYLIGHT</td>\n",
       "      <td>ANGLE</td>\n",
       "      <td>OTHER</td>\n",
       "      <td>DRY</td>\n",
       "      <td>0.0</td>\n",
       "      <td>0.0</td>\n",
       "      <td>...</td>\n",
       "      <td>PASSENGER</td>\n",
       "      <td>PERSONAL</td>\n",
       "      <td>STRAIGHT AHEAD</td>\n",
       "      <td>1.0</td>\n",
       "      <td>DRIVER</td>\n",
       "      <td>F</td>\n",
       "      <td>32.0</td>\n",
       "      <td>USAGE UNKNOWN</td>\n",
       "      <td>NOT APPLICABLE</td>\n",
       "      <td>NOT OBSCURED</td>\n",
       "    </tr>\n",
       "    <tr>\n",
       "      <th>...</th>\n",
       "      <td>...</td>\n",
       "      <td>...</td>\n",
       "      <td>...</td>\n",
       "      <td>...</td>\n",
       "      <td>...</td>\n",
       "      <td>...</td>\n",
       "      <td>...</td>\n",
       "      <td>...</td>\n",
       "      <td>...</td>\n",
       "      <td>...</td>\n",
       "      <td>...</td>\n",
       "      <td>...</td>\n",
       "      <td>...</td>\n",
       "      <td>...</td>\n",
       "      <td>...</td>\n",
       "      <td>...</td>\n",
       "      <td>...</td>\n",
       "      <td>...</td>\n",
       "      <td>...</td>\n",
       "      <td>...</td>\n",
       "      <td>...</td>\n",
       "    </tr>\n",
       "    <tr>\n",
       "      <th>241689</th>\n",
       "      <td>fe03571ea7c45bff64bddf77d2d840bd069569a11b7d04...</td>\n",
       "      <td>25</td>\n",
       "      <td>NO CONTROLS</td>\n",
       "      <td>CLEAR</td>\n",
       "      <td>DARKNESS, LIGHTED ROAD</td>\n",
       "      <td>REAR END</td>\n",
       "      <td>ONE-WAY</td>\n",
       "      <td>UNKNOWN</td>\n",
       "      <td>0.0</td>\n",
       "      <td>0.0</td>\n",
       "      <td>...</td>\n",
       "      <td>PASSENGER</td>\n",
       "      <td>PERSONAL</td>\n",
       "      <td>STRAIGHT AHEAD</td>\n",
       "      <td>1.0</td>\n",
       "      <td>DRIVER</td>\n",
       "      <td>M</td>\n",
       "      <td>42.0</td>\n",
       "      <td>SAFETY BELT USED</td>\n",
       "      <td>NOT APPLICABLE</td>\n",
       "      <td>UNKNOWN</td>\n",
       "    </tr>\n",
       "    <tr>\n",
       "      <th>241690</th>\n",
       "      <td>fe3fd2ed43d9e96cea4fe8746f3fde81b532dc9929c7fb...</td>\n",
       "      <td>30</td>\n",
       "      <td>FUNCTIONING PROPERLY</td>\n",
       "      <td>CLEAR</td>\n",
       "      <td>DAYLIGHT</td>\n",
       "      <td>REAR END</td>\n",
       "      <td>FOUR WAY</td>\n",
       "      <td>DRY</td>\n",
       "      <td>0.0</td>\n",
       "      <td>0.0</td>\n",
       "      <td>...</td>\n",
       "      <td>SPORT UTILITY VEHICLE (SUV)</td>\n",
       "      <td>PERSONAL</td>\n",
       "      <td>STRAIGHT AHEAD</td>\n",
       "      <td>1.0</td>\n",
       "      <td>DRIVER</td>\n",
       "      <td>M</td>\n",
       "      <td>55.0</td>\n",
       "      <td>SAFETY BELT USED</td>\n",
       "      <td>DID NOT DEPLOY</td>\n",
       "      <td>NOT OBSCURED</td>\n",
       "    </tr>\n",
       "    <tr>\n",
       "      <th>241691</th>\n",
       "      <td>fe3fd2ed43d9e96cea4fe8746f3fde81b532dc9929c7fb...</td>\n",
       "      <td>30</td>\n",
       "      <td>FUNCTIONING PROPERLY</td>\n",
       "      <td>CLEAR</td>\n",
       "      <td>DAYLIGHT</td>\n",
       "      <td>REAR END</td>\n",
       "      <td>FOUR WAY</td>\n",
       "      <td>DRY</td>\n",
       "      <td>0.0</td>\n",
       "      <td>0.0</td>\n",
       "      <td>...</td>\n",
       "      <td>SPORT UTILITY VEHICLE (SUV)</td>\n",
       "      <td>PERSONAL</td>\n",
       "      <td>STRAIGHT AHEAD</td>\n",
       "      <td>1.0</td>\n",
       "      <td>DRIVER</td>\n",
       "      <td>M</td>\n",
       "      <td>43.0</td>\n",
       "      <td>SAFETY BELT USED</td>\n",
       "      <td>DID NOT DEPLOY</td>\n",
       "      <td>NOT OBSCURED</td>\n",
       "    </tr>\n",
       "    <tr>\n",
       "      <th>241692</th>\n",
       "      <td>fe3fd2ed43d9e96cea4fe8746f3fde81b532dc9929c7fb...</td>\n",
       "      <td>30</td>\n",
       "      <td>FUNCTIONING PROPERLY</td>\n",
       "      <td>CLEAR</td>\n",
       "      <td>DAYLIGHT</td>\n",
       "      <td>REAR END</td>\n",
       "      <td>FOUR WAY</td>\n",
       "      <td>DRY</td>\n",
       "      <td>0.0</td>\n",
       "      <td>0.0</td>\n",
       "      <td>...</td>\n",
       "      <td>PICKUP</td>\n",
       "      <td>PERSONAL</td>\n",
       "      <td>SLOW/STOP IN TRAFFIC</td>\n",
       "      <td>1.0</td>\n",
       "      <td>DRIVER</td>\n",
       "      <td>M</td>\n",
       "      <td>55.0</td>\n",
       "      <td>SAFETY BELT USED</td>\n",
       "      <td>DID NOT DEPLOY</td>\n",
       "      <td>NOT OBSCURED</td>\n",
       "    </tr>\n",
       "    <tr>\n",
       "      <th>241693</th>\n",
       "      <td>fe3fd2ed43d9e96cea4fe8746f3fde81b532dc9929c7fb...</td>\n",
       "      <td>30</td>\n",
       "      <td>FUNCTIONING PROPERLY</td>\n",
       "      <td>CLEAR</td>\n",
       "      <td>DAYLIGHT</td>\n",
       "      <td>REAR END</td>\n",
       "      <td>FOUR WAY</td>\n",
       "      <td>DRY</td>\n",
       "      <td>0.0</td>\n",
       "      <td>0.0</td>\n",
       "      <td>...</td>\n",
       "      <td>PICKUP</td>\n",
       "      <td>PERSONAL</td>\n",
       "      <td>SLOW/STOP IN TRAFFIC</td>\n",
       "      <td>1.0</td>\n",
       "      <td>DRIVER</td>\n",
       "      <td>M</td>\n",
       "      <td>43.0</td>\n",
       "      <td>SAFETY BELT USED</td>\n",
       "      <td>DID NOT DEPLOY</td>\n",
       "      <td>NOT OBSCURED</td>\n",
       "    </tr>\n",
       "  </tbody>\n",
       "</table>\n",
       "<p>241694 rows × 28 columns</p>\n",
       "</div>"
      ],
      "text/plain": [
       "                                          CRASH_RECORD_ID  POSTED_SPEED_LIMIT  \\\n",
       "0       497cb9e8f3def86057207e3f11469e7dd6ecb2236bf99e...                  15   \n",
       "1       497cb9e8f3def86057207e3f11469e7dd6ecb2236bf99e...                  15   \n",
       "2       497cb9e8f3def86057207e3f11469e7dd6ecb2236bf99e...                  15   \n",
       "3       497cb9e8f3def86057207e3f11469e7dd6ecb2236bf99e...                  15   \n",
       "4       be7c69045cc5edb1afd241bc875b3faca3040b4a8d63d8...                  30   \n",
       "...                                                   ...                 ...   \n",
       "241689  fe03571ea7c45bff64bddf77d2d840bd069569a11b7d04...                  25   \n",
       "241690  fe3fd2ed43d9e96cea4fe8746f3fde81b532dc9929c7fb...                  30   \n",
       "241691  fe3fd2ed43d9e96cea4fe8746f3fde81b532dc9929c7fb...                  30   \n",
       "241692  fe3fd2ed43d9e96cea4fe8746f3fde81b532dc9929c7fb...                  30   \n",
       "241693  fe3fd2ed43d9e96cea4fe8746f3fde81b532dc9929c7fb...                  30   \n",
       "\n",
       "            DEVICE_CONDITION WEATHER_CONDITION      LIGHTING_CONDITION  \\\n",
       "0                    UNKNOWN             CLEAR                DAYLIGHT   \n",
       "1                    UNKNOWN             CLEAR                DAYLIGHT   \n",
       "2                    UNKNOWN             CLEAR                DAYLIGHT   \n",
       "3                    UNKNOWN             CLEAR                DAYLIGHT   \n",
       "4                NO CONTROLS             CLEAR                DAYLIGHT   \n",
       "...                      ...               ...                     ...   \n",
       "241689           NO CONTROLS             CLEAR  DARKNESS, LIGHTED ROAD   \n",
       "241690  FUNCTIONING PROPERLY             CLEAR                DAYLIGHT   \n",
       "241691  FUNCTIONING PROPERLY             CLEAR                DAYLIGHT   \n",
       "241692  FUNCTIONING PROPERLY             CLEAR                DAYLIGHT   \n",
       "241693  FUNCTIONING PROPERLY             CLEAR                DAYLIGHT   \n",
       "\n",
       "       FIRST_CRASH_TYPE TRAFFICWAY_TYPE ROADWAY_SURFACE_COND  INJURIES_TOTAL  \\\n",
       "0          REAR TO SIDE     PARKING LOT                  DRY             0.0   \n",
       "1          REAR TO SIDE     PARKING LOT                  DRY             0.0   \n",
       "2          REAR TO SIDE     PARKING LOT                  DRY             0.0   \n",
       "3          REAR TO SIDE     PARKING LOT                  DRY             0.0   \n",
       "4                 ANGLE           OTHER                  DRY             0.0   \n",
       "...                 ...             ...                  ...             ...   \n",
       "241689         REAR END         ONE-WAY              UNKNOWN             0.0   \n",
       "241690         REAR END        FOUR WAY                  DRY             0.0   \n",
       "241691         REAR END        FOUR WAY                  DRY             0.0   \n",
       "241692         REAR END        FOUR WAY                  DRY             0.0   \n",
       "241693         REAR END        FOUR WAY                  DRY             0.0   \n",
       "\n",
       "        INJURIES_FATAL  ...                 VEHICLE_TYPE  VEHICLE_USE  \\\n",
       "0                  0.0  ...                    PASSENGER     PERSONAL   \n",
       "1                  0.0  ...                    PASSENGER     PERSONAL   \n",
       "2                  0.0  ...                    PASSENGER     PERSONAL   \n",
       "3                  0.0  ...                    PASSENGER     PERSONAL   \n",
       "4                  0.0  ...                    PASSENGER     PERSONAL   \n",
       "...                ...  ...                          ...          ...   \n",
       "241689             0.0  ...                    PASSENGER     PERSONAL   \n",
       "241690             0.0  ...  SPORT UTILITY VEHICLE (SUV)     PERSONAL   \n",
       "241691             0.0  ...  SPORT UTILITY VEHICLE (SUV)     PERSONAL   \n",
       "241692             0.0  ...                       PICKUP     PERSONAL   \n",
       "241693             0.0  ...                       PICKUP     PERSONAL   \n",
       "\n",
       "                    MANEUVER  OCCUPANT_CNT  PERSON_TYPE  SEX   AGE  \\\n",
       "0                    BACKING           2.0       DRIVER    F  62.0   \n",
       "1                    BACKING           2.0       DRIVER    F  26.0   \n",
       "2             STRAIGHT AHEAD           1.0       DRIVER    F  62.0   \n",
       "3             STRAIGHT AHEAD           1.0       DRIVER    F  26.0   \n",
       "4             STRAIGHT AHEAD           1.0       DRIVER    F  32.0   \n",
       "...                      ...           ...          ...  ...   ...   \n",
       "241689        STRAIGHT AHEAD           1.0       DRIVER    M  42.0   \n",
       "241690        STRAIGHT AHEAD           1.0       DRIVER    M  55.0   \n",
       "241691        STRAIGHT AHEAD           1.0       DRIVER    M  43.0   \n",
       "241692  SLOW/STOP IN TRAFFIC           1.0       DRIVER    M  55.0   \n",
       "241693  SLOW/STOP IN TRAFFIC           1.0       DRIVER    M  43.0   \n",
       "\n",
       "        SAFETY_EQUIPMENT     AIRBAG_DEPLOYED DRIVER_VISION  \n",
       "0          USAGE UNKNOWN  DEPLOYMENT UNKNOWN       UNKNOWN  \n",
       "1          USAGE UNKNOWN  DEPLOYMENT UNKNOWN       UNKNOWN  \n",
       "2          USAGE UNKNOWN  DEPLOYMENT UNKNOWN       UNKNOWN  \n",
       "3          USAGE UNKNOWN  DEPLOYMENT UNKNOWN       UNKNOWN  \n",
       "4          USAGE UNKNOWN      NOT APPLICABLE  NOT OBSCURED  \n",
       "...                  ...                 ...           ...  \n",
       "241689  SAFETY BELT USED      NOT APPLICABLE       UNKNOWN  \n",
       "241690  SAFETY BELT USED      DID NOT DEPLOY  NOT OBSCURED  \n",
       "241691  SAFETY BELT USED      DID NOT DEPLOY  NOT OBSCURED  \n",
       "241692  SAFETY BELT USED      DID NOT DEPLOY  NOT OBSCURED  \n",
       "241693  SAFETY BELT USED      DID NOT DEPLOY  NOT OBSCURED  \n",
       "\n",
       "[241694 rows x 28 columns]"
      ]
     },
     "execution_count": 785,
     "metadata": {},
     "output_type": "execute_result"
    }
   ],
   "source": [
    "merged2.reset_index(drop=True)"
   ]
  },
  {
   "cell_type": "markdown",
   "metadata": {},
   "source": [
    "### Dropping Duplicate Records"
   ]
  },
  {
   "cell_type": "code",
   "execution_count": 786,
   "metadata": {},
   "outputs": [
    {
     "data": {
      "text/plain": [
       "744"
      ]
     },
     "execution_count": 786,
     "metadata": {},
     "output_type": "execute_result"
    }
   ],
   "source": [
    "merged2.duplicated().sum()"
   ]
  },
  {
   "cell_type": "code",
   "execution_count": 787,
   "metadata": {},
   "outputs": [],
   "source": [
    "merged2.drop_duplicates(keep='first', inplace=True)"
   ]
  },
  {
   "cell_type": "code",
   "execution_count": 788,
   "metadata": {},
   "outputs": [
    {
     "data": {
      "text/plain": [
       "0"
      ]
     },
     "execution_count": 788,
     "metadata": {},
     "output_type": "execute_result"
    }
   ],
   "source": [
    "merged2.duplicated().sum()"
   ]
  },
  {
   "cell_type": "code",
   "execution_count": 789,
   "metadata": {},
   "outputs": [
    {
     "data": {
      "text/plain": [
       "(240950, 28)"
      ]
     },
     "execution_count": 789,
     "metadata": {},
     "output_type": "execute_result"
    }
   ],
   "source": [
    "merged2.shape"
   ]
  },
  {
   "cell_type": "markdown",
   "metadata": {},
   "source": [
    "***"
   ]
  },
  {
   "cell_type": "markdown",
   "metadata": {},
   "source": [
    "## Binning Data\n",
    "\n",
    "Several of the columns have a high number of unique entries. For categorical columns especially these values/descriptions will be binned inorder to increase future model efficiancy. "
   ]
  },
  {
   "cell_type": "markdown",
   "metadata": {},
   "source": [
    "**Device Condition**"
   ]
  },
  {
   "cell_type": "code",
   "execution_count": 790,
   "metadata": {},
   "outputs": [
    {
     "data": {
      "text/plain": [
       "NO CONTROLS                 119443\n",
       "FUNCTIONING PROPERLY        104039\n",
       "UNKNOWN                      13391\n",
       "OTHER                         2041\n",
       "FUNCTIONING IMPROPERLY        1146\n",
       "NOT FUNCTIONING                794\n",
       "WORN REFLECTIVE MATERIAL        54\n",
       "MISSING                         42\n",
       "Name: DEVICE_CONDITION, dtype: int64"
      ]
     },
     "execution_count": 790,
     "metadata": {},
     "output_type": "execute_result"
    }
   ],
   "source": [
    "merged2.DEVICE_CONDITION.value_counts()\n",
    "#Condition of traffic control device, as determined by reporting officer"
   ]
  },
  {
   "cell_type": "code",
   "execution_count": 791,
   "metadata": {},
   "outputs": [],
   "source": [
    "merged2['DEVICE_CONDITION'] = merged2.DEVICE_CONDITION.map({\n",
    "    'NO CONTROLS':'Not Working',\n",
    "    'FUNCTIONING PROPERLY':'Working', \n",
    "    'UNKNOWN': 'Unknown',\n",
    "    'OTHER': 'Unknown',\n",
    "    'FUNCTIONING IMPROPERLY': 'Not Working',\n",
    "    'NOT FUNCTIONING': 'Not Working',\n",
    "    'WORN REFLECTIVE MATERIAL': 'Working',\n",
    "    'MISSING': 'Unknown' \n",
    "})"
   ]
  },
  {
   "cell_type": "code",
   "execution_count": 792,
   "metadata": {},
   "outputs": [
    {
     "data": {
      "text/plain": [
       "Not Working    121383\n",
       "Working        104093\n",
       "Unknown         15474\n",
       "Name: DEVICE_CONDITION, dtype: int64"
      ]
     },
     "execution_count": 792,
     "metadata": {},
     "output_type": "execute_result"
    }
   ],
   "source": [
    "merged2.DEVICE_CONDITION.value_counts()"
   ]
  },
  {
   "cell_type": "code",
   "execution_count": 793,
   "metadata": {},
   "outputs": [
    {
     "data": {
      "text/plain": [
       "0"
      ]
     },
     "execution_count": 793,
     "metadata": {},
     "output_type": "execute_result"
    }
   ],
   "source": [
    "merged2.DEVICE_CONDITION.isna().sum()"
   ]
  },
  {
   "cell_type": "markdown",
   "metadata": {},
   "source": [
    "**Posted Speed Limit**"
   ]
  },
  {
   "cell_type": "code",
   "execution_count": 794,
   "metadata": {},
   "outputs": [
    {
     "data": {
      "text/plain": [
       "30    185095\n",
       "35     18121\n",
       "25     13425\n",
       "20      7937\n",
       "15      5688\n",
       "10      4054\n",
       "40      3256\n",
       "45      1982\n",
       "5        569\n",
       "0        338\n",
       "55       244\n",
       "50        71\n",
       "3         65\n",
       "39        33\n",
       "34        16\n",
       "24        14\n",
       "60        13\n",
       "9          5\n",
       "32         4\n",
       "7          4\n",
       "33         4\n",
       "4          3\n",
       "2          3\n",
       "1          3\n",
       "11         2\n",
       "38         1\n",
       "Name: POSTED_SPEED_LIMIT, dtype: int64"
      ]
     },
     "execution_count": 794,
     "metadata": {},
     "output_type": "execute_result"
    }
   ],
   "source": [
    "merged2.POSTED_SPEED_LIMIT.value_counts()"
   ]
  },
  {
   "cell_type": "code",
   "execution_count": 795,
   "metadata": {},
   "outputs": [],
   "source": [
    "speed_bins = [-1, 30, 60, 100]\n",
    "speed_labels = ['0-30', '30-60', '60-100']"
   ]
  },
  {
   "cell_type": "code",
   "execution_count": 796,
   "metadata": {},
   "outputs": [],
   "source": [
    "merged2.POSTED_SPEED_LIMIT = pd.cut(x=merged2.POSTED_SPEED_LIMIT, \n",
    "                                    bins= speed_bins,\n",
    "                                    labels = speed_labels\n",
    "                                   ,)\n",
    "                                   "
   ]
  },
  {
   "cell_type": "code",
   "execution_count": 797,
   "metadata": {},
   "outputs": [
    {
     "data": {
      "text/plain": [
       "0-30      217205\n",
       "30-60      23745\n",
       "60-100         0\n",
       "Name: POSTED_SPEED_LIMIT, dtype: int64"
      ]
     },
     "execution_count": 797,
     "metadata": {},
     "output_type": "execute_result"
    }
   ],
   "source": [
    "merged2.POSTED_SPEED_LIMIT.value_counts()"
   ]
  },
  {
   "cell_type": "code",
   "execution_count": 798,
   "metadata": {},
   "outputs": [
    {
     "data": {
      "text/plain": [
       "0"
      ]
     },
     "execution_count": 798,
     "metadata": {},
     "output_type": "execute_result"
    }
   ],
   "source": [
    "merged2.POSTED_SPEED_LIMIT.isna().sum()"
   ]
  },
  {
   "cell_type": "markdown",
   "metadata": {},
   "source": [
    "**Weather Condition**"
   ]
  },
  {
   "cell_type": "code",
   "execution_count": 799,
   "metadata": {},
   "outputs": [
    {
     "data": {
      "text/plain": [
       "CLEAR                     196134\n",
       "RAIN                       19505\n",
       "SNOW                        8550\n",
       "CLOUDY/OVERCAST             7938\n",
       "UNKNOWN                     6929\n",
       "OTHER                        740\n",
       "FREEZING RAIN/DRIZZLE        571\n",
       "BLOWING SNOW                 197\n",
       "SLEET/HAIL                   179\n",
       "FOG/SMOKE/HAZE               144\n",
       "SEVERE CROSS WIND GATE        63\n",
       "Name: WEATHER_CONDITION, dtype: int64"
      ]
     },
     "execution_count": 799,
     "metadata": {},
     "output_type": "execute_result"
    }
   ],
   "source": [
    "merged2.WEATHER_CONDITION.value_counts()"
   ]
  },
  {
   "cell_type": "code",
   "execution_count": 800,
   "metadata": {},
   "outputs": [],
   "source": [
    "merged2['WEATHER_CONDITION'] = merged2.WEATHER_CONDITION.map({\n",
    "    'CLEAR':'Clear',\n",
    "    'RAIN':'Rain/Sleet/Snow', \n",
    "    'SNOW': 'Rain/Sleet/Snow',\n",
    "    'CLOUDY/OVERCAST': 'Cloudy',\n",
    "    'UNKNOWN': 'Other/Unknown',\n",
    "    'OTHER': 'Other/Unknown',\n",
    "    'FREEZING RAIN/DRIZZLE':'Rain/Sleet/Snow',\n",
    "    'SLEET/HAIL': 'Rain/Sleet/Snow',\n",
    "    'FOG/SMOKE/HAZE': 'Fog/Smoke/Haze',\n",
    "    'BLOWING SNOW':'Rain/Sleet/Snow', \n",
    "    'SEVERE CROSS WIND GATE': 'Windy',\n",
    "    'BLOWING SAND, SOIL, DIRT': 'Windy'\n",
    "})"
   ]
  },
  {
   "cell_type": "code",
   "execution_count": 801,
   "metadata": {},
   "outputs": [
    {
     "data": {
      "text/plain": [
       "Clear              196134\n",
       "Rain/Sleet/Snow     29002\n",
       "Cloudy               7938\n",
       "Other/Unknown        7669\n",
       "Fog/Smoke/Haze        144\n",
       "Windy                  63\n",
       "Name: WEATHER_CONDITION, dtype: int64"
      ]
     },
     "execution_count": 801,
     "metadata": {},
     "output_type": "execute_result"
    }
   ],
   "source": [
    "merged2.WEATHER_CONDITION.value_counts()"
   ]
  },
  {
   "cell_type": "code",
   "execution_count": 802,
   "metadata": {},
   "outputs": [
    {
     "data": {
      "text/plain": [
       "0"
      ]
     },
     "execution_count": 802,
     "metadata": {},
     "output_type": "execute_result"
    }
   ],
   "source": [
    "merged2.WEATHER_CONDITION.isna().sum()"
   ]
  },
  {
   "cell_type": "markdown",
   "metadata": {},
   "source": [
    "**Lighting Condition**"
   ]
  },
  {
   "cell_type": "code",
   "execution_count": 803,
   "metadata": {},
   "outputs": [
    {
     "data": {
      "text/plain": [
       "DAYLIGHT                  163360\n",
       "DARKNESS, LIGHTED ROAD     54075\n",
       "DARKNESS                    8417\n",
       "DUSK                        6925\n",
       "UNKNOWN                     4378\n",
       "DAWN                        3795\n",
       "Name: LIGHTING_CONDITION, dtype: int64"
      ]
     },
     "execution_count": 803,
     "metadata": {},
     "output_type": "execute_result"
    }
   ],
   "source": [
    "merged2.LIGHTING_CONDITION.value_counts()"
   ]
  },
  {
   "cell_type": "code",
   "execution_count": 804,
   "metadata": {},
   "outputs": [],
   "source": [
    "merged2['LIGHTING_CONDITION'] = merged2.LIGHTING_CONDITION.map({\n",
    "    'DAYLIGHT':'Day',\n",
    "    'DARKNESS, LIGHTED ROAD':'Night', \n",
    "    'DARKNESS': 'Night',\n",
    "    'DUSK': 'Night',\n",
    "    'DAWN': 'Day',\n",
    "    'UNKNOWN': 'Unknown',\n",
    "\n",
    "})"
   ]
  },
  {
   "cell_type": "code",
   "execution_count": 805,
   "metadata": {},
   "outputs": [
    {
     "data": {
      "text/plain": [
       "Day        167155\n",
       "Night       69417\n",
       "Unknown      4378\n",
       "Name: LIGHTING_CONDITION, dtype: int64"
      ]
     },
     "execution_count": 805,
     "metadata": {},
     "output_type": "execute_result"
    }
   ],
   "source": [
    "merged2.LIGHTING_CONDITION.value_counts()"
   ]
  },
  {
   "cell_type": "code",
   "execution_count": 806,
   "metadata": {},
   "outputs": [
    {
     "data": {
      "text/plain": [
       "0"
      ]
     },
     "execution_count": 806,
     "metadata": {},
     "output_type": "execute_result"
    }
   ],
   "source": [
    "merged2.LIGHTING_CONDITION.isna().sum()"
   ]
  },
  {
   "cell_type": "markdown",
   "metadata": {},
   "source": [
    "**Crash Type**"
   ]
  },
  {
   "cell_type": "code",
   "execution_count": 807,
   "metadata": {},
   "outputs": [
    {
     "data": {
      "text/plain": [
       "REAR END                        68508\n",
       "TURNING                         48623\n",
       "SIDESWIPE SAME DIRECTION        41602\n",
       "ANGLE                           38374\n",
       "PARKED MOTOR VEHICLE            21063\n",
       "REAR TO FRONT                    4224\n",
       "FIXED OBJECT                     4194\n",
       "SIDESWIPE OPPOSITE DIRECTION     4151\n",
       "HEAD ON                          3223\n",
       "REAR TO SIDE                     2771\n",
       "PEDESTRIAN                       1181\n",
       "REAR TO REAR                      898\n",
       "PEDALCYCLIST                      894\n",
       "OTHER OBJECT                      872\n",
       "OTHER NONCOLLISION                219\n",
       "OVERTURNED                         90\n",
       "ANIMAL                             54\n",
       "TRAIN                               9\n",
       "Name: FIRST_CRASH_TYPE, dtype: int64"
      ]
     },
     "execution_count": 807,
     "metadata": {},
     "output_type": "execute_result"
    }
   ],
   "source": [
    "merged2.FIRST_CRASH_TYPE.value_counts()"
   ]
  },
  {
   "cell_type": "code",
   "execution_count": 808,
   "metadata": {},
   "outputs": [],
   "source": [
    "merged2['FIRST_CRASH_TYPE'] = merged2.FIRST_CRASH_TYPE.map({\n",
    "    'REAR END':'Moving',\n",
    "    'TURNING':'Moving', \n",
    "    'SIDESWIPE SAME DIRECTION': 'Moving',\n",
    "    'ANGLE': 'Moving',\n",
    "    'PARKED MOTOR VEHICLE': 'Stationary',\n",
    "    'SIDESWIPE OPPOSITE DIRECTION': 'Moving',\n",
    "    'FIXED OBJECT':'Stationary', \n",
    "    'HEAD ON': 'Moving',\n",
    "    'REAR TO FRONT': 'Moving',\n",
    "    'REAR TO SIDE': 'Moving',\n",
    "    'PEDESTRIAN': 'Object/Person',\n",
    "    'PEDALCYCLIST': 'Object/Person',\n",
    "    'OTHER OBJECT':'Object/Person', \n",
    "    'REAR TO REAR': 'Moving',\n",
    "    'OTHER NONCOLLISION': 'Other',\n",
    "    'OVERTURNED': 'Moving',\n",
    "    'ANIMAL': 'Object/Person',\n",
    "    'TRAIN': 'Train'\n",
    "})"
   ]
  },
  {
   "cell_type": "code",
   "execution_count": 809,
   "metadata": {},
   "outputs": [
    {
     "data": {
      "text/plain": [
       "Moving           212464\n",
       "Stationary        25257\n",
       "Object/Person      3001\n",
       "Other               219\n",
       "Train                 9\n",
       "Name: FIRST_CRASH_TYPE, dtype: int64"
      ]
     },
     "execution_count": 809,
     "metadata": {},
     "output_type": "execute_result"
    }
   ],
   "source": [
    "merged2.FIRST_CRASH_TYPE.value_counts()"
   ]
  },
  {
   "cell_type": "code",
   "execution_count": 810,
   "metadata": {},
   "outputs": [
    {
     "data": {
      "text/plain": [
       "0"
      ]
     },
     "execution_count": 810,
     "metadata": {},
     "output_type": "execute_result"
    }
   ],
   "source": [
    "merged2.FIRST_CRASH_TYPE.isna().sum()"
   ]
  },
  {
   "cell_type": "markdown",
   "metadata": {},
   "source": [
    "**Trafficway Type**"
   ]
  },
  {
   "cell_type": "code",
   "execution_count": 811,
   "metadata": {},
   "outputs": [
    {
     "data": {
      "text/plain": [
       "NOT DIVIDED                        103929\n",
       "DIVIDED - W/MEDIAN (NOT RAISED)     41274\n",
       "FOUR WAY                            29662\n",
       "ONE-WAY                             19214\n",
       "DIVIDED - W/MEDIAN BARRIER          15384\n",
       "PARKING LOT                          9696\n",
       "T-INTERSECTION                       5873\n",
       "OTHER                                4909\n",
       "ALLEY                                2505\n",
       "UNKNOWN                              1971\n",
       "CENTER TURN LANE                     1799\n",
       "UNKNOWN INTERSECTION TYPE            1166\n",
       "FIVE POINT, OR MORE                   700\n",
       "Y-INTERSECTION                        662\n",
       "RAMP                                  656\n",
       "TRAFFIC ROUTE                         555\n",
       "DRIVEWAY                              504\n",
       "NOT REPORTED                          295\n",
       "ROUNDABOUT                            104\n",
       "L-INTERSECTION                         92\n",
       "Name: TRAFFICWAY_TYPE, dtype: int64"
      ]
     },
     "execution_count": 811,
     "metadata": {},
     "output_type": "execute_result"
    }
   ],
   "source": [
    "merged2.TRAFFICWAY_TYPE.value_counts()"
   ]
  },
  {
   "cell_type": "code",
   "execution_count": 812,
   "metadata": {},
   "outputs": [],
   "source": [
    "merged2['TRAFFICWAY_TYPE'] = merged2.TRAFFICWAY_TYPE.map({\n",
    "    'NOT DIVIDED': 'Road/Street',\n",
    "    'DIVIDED - W/MEDIAN (NOT RAISED)': 'Road/Street',\n",
    "    'ONE-WAY': 'Road/Street',\n",
    "    'DIVIDED - W/MEDIAN BARRIER': 'Road/Street',\n",
    "    'FOUR WAY': 'Intersection',\n",
    "    'PARKING LOT': 'Parking lot',\n",
    "    'OTHER': \"Other/Unknown\",\n",
    "    'T-INTERSECTION': 'Intersection',\n",
    "    'CENTER TURN LANE': 'Road/Street',\n",
    "    'ALLEY': 'Road/Street',\n",
    "    'UNKNOWN': 'Other/Unknown',\n",
    "    'RAMP': 'Highway',\n",
    "    'UNKNOWN INTERSECTION TYPE': \"Other/Unknown\",\n",
    "    'DRIVEWAY': 'Parking lot',\n",
    "    'FIVE POINT, OR MORE': 'Intersection',\n",
    "    'Y-INTERSECTION': 'Intersection',\n",
    "    'TRAFFIC ROUTE': 'Other/Unknown',\n",
    "    'NOT REPORTED': 'Other/Unknown',\n",
    "    'ROUNDABOUT': 'Intersection',\n",
    "    'L-INTERSECTION': 'Intersection'\n",
    "})"
   ]
  },
  {
   "cell_type": "code",
   "execution_count": 813,
   "metadata": {},
   "outputs": [
    {
     "data": {
      "text/plain": [
       "Road/Street      184105\n",
       "Intersection      37093\n",
       "Parking lot       10200\n",
       "Other/Unknown      8896\n",
       "Highway             656\n",
       "Name: TRAFFICWAY_TYPE, dtype: int64"
      ]
     },
     "execution_count": 813,
     "metadata": {},
     "output_type": "execute_result"
    }
   ],
   "source": [
    "merged2.TRAFFICWAY_TYPE.value_counts()"
   ]
  },
  {
   "cell_type": "code",
   "execution_count": 814,
   "metadata": {},
   "outputs": [
    {
     "data": {
      "text/plain": [
       "0"
      ]
     },
     "execution_count": 814,
     "metadata": {},
     "output_type": "execute_result"
    }
   ],
   "source": [
    "merged2.TRAFFICWAY_TYPE.isna().sum()"
   ]
  },
  {
   "cell_type": "markdown",
   "metadata": {},
   "source": [
    "**Roadway Surface Condition**"
   ]
  },
  {
   "cell_type": "code",
   "execution_count": 815,
   "metadata": {},
   "outputs": [
    {
     "data": {
      "text/plain": [
       "DRY                184494\n",
       "WET                 30691\n",
       "UNKNOWN             14058\n",
       "SNOW OR SLUSH        9812\n",
       "ICE                  1182\n",
       "OTHER                 672\n",
       "SAND, MUD, DIRT        41\n",
       "Name: ROADWAY_SURFACE_COND, dtype: int64"
      ]
     },
     "execution_count": 815,
     "metadata": {},
     "output_type": "execute_result"
    }
   ],
   "source": [
    "merged2.ROADWAY_SURFACE_COND.value_counts()"
   ]
  },
  {
   "cell_type": "code",
   "execution_count": 816,
   "metadata": {},
   "outputs": [],
   "source": [
    "merged2['ROADWAY_SURFACE_COND'] = merged2.ROADWAY_SURFACE_COND.map({\n",
    "    'DRY': 'Dry',\n",
    "    'WET': 'Wet',\n",
    "    'UNKNOWN': 'Other/Unknown',\n",
    "    'SNOW OR SLUSH': 'Ice',\n",
    "    'ICE': 'Ice',\n",
    "    'OTHER': \"Other/Unknown\",\n",
    "    'SAND, MUD, DIRT': \"Other/Unknown\"\n",
    "})"
   ]
  },
  {
   "cell_type": "code",
   "execution_count": 817,
   "metadata": {},
   "outputs": [
    {
     "data": {
      "text/plain": [
       "Dry              184494\n",
       "Wet               30691\n",
       "Other/Unknown     14771\n",
       "Ice               10994\n",
       "Name: ROADWAY_SURFACE_COND, dtype: int64"
      ]
     },
     "execution_count": 817,
     "metadata": {},
     "output_type": "execute_result"
    }
   ],
   "source": [
    "merged2.ROADWAY_SURFACE_COND.value_counts()"
   ]
  },
  {
   "cell_type": "code",
   "execution_count": 818,
   "metadata": {},
   "outputs": [
    {
     "data": {
      "text/plain": [
       "0"
      ]
     },
     "execution_count": 818,
     "metadata": {},
     "output_type": "execute_result"
    }
   ],
   "source": [
    "merged2.CRASH_HOUR.isna().sum()"
   ]
  },
  {
   "cell_type": "markdown",
   "metadata": {},
   "source": [
    "**Crash Hour**"
   ]
  },
  {
   "cell_type": "code",
   "execution_count": 819,
   "metadata": {},
   "outputs": [
    {
     "data": {
      "text/plain": [
       "15    20098\n",
       "16    20082\n",
       "17    19327\n",
       "14    17180\n",
       "13    16110\n",
       "18    15960\n",
       "12    14508\n",
       "11    13224\n",
       "19    11245\n",
       "10    10958\n",
       "8     10869\n",
       "9     10264\n",
       "20     8927\n",
       "7      8278\n",
       "21     7940\n",
       "22     7117\n",
       "23     6034\n",
       "0      4712\n",
       "6      4223\n",
       "1      3997\n",
       "2      3195\n",
       "5      2495\n",
       "3      2291\n",
       "4      1916\n",
       "Name: CRASH_HOUR, dtype: int64"
      ]
     },
     "execution_count": 819,
     "metadata": {},
     "output_type": "execute_result"
    }
   ],
   "source": [
    "merged2.CRASH_HOUR.value_counts()"
   ]
  },
  {
   "cell_type": "code",
   "execution_count": 820,
   "metadata": {},
   "outputs": [],
   "source": [
    "merged2.CRASH_HOUR = pd.cut(x = merged2.CRASH_HOUR,\n",
    "                                   bins =[-1, 6, 12, 18, 23],\n",
    "                                   labels = ['Early Morning', 'Morning', 'Afternoon', 'Evening/Night'])"
   ]
  },
  {
   "cell_type": "code",
   "execution_count": 821,
   "metadata": {},
   "outputs": [
    {
     "data": {
      "text/plain": [
       "Afternoon        108757\n",
       "Morning           68101\n",
       "Evening/Night     41263\n",
       "Early Morning     22829\n",
       "Name: CRASH_HOUR, dtype: int64"
      ]
     },
     "execution_count": 821,
     "metadata": {},
     "output_type": "execute_result"
    }
   ],
   "source": [
    "merged2.CRASH_HOUR.value_counts()"
   ]
  },
  {
   "cell_type": "code",
   "execution_count": 822,
   "metadata": {},
   "outputs": [
    {
     "data": {
      "text/plain": [
       "0"
      ]
     },
     "execution_count": 822,
     "metadata": {},
     "output_type": "execute_result"
    }
   ],
   "source": [
    "merged2.CRASH_HOUR.isna().sum()"
   ]
  },
  {
   "cell_type": "markdown",
   "metadata": {},
   "source": [
    "**Unit Number**\n",
    "\n",
    "A unique ID for each unit within a specific crash report."
   ]
  },
  {
   "cell_type": "code",
   "execution_count": 823,
   "metadata": {},
   "outputs": [
    {
     "data": {
      "text/plain": [
       "2     115035\n",
       "1     109823\n",
       "3      12286\n",
       "4       2658\n",
       "5        692\n",
       "6        262\n",
       "7        129\n",
       "8         53\n",
       "9         11\n",
       "10         1\n",
       "Name: UNIT_NO, dtype: int64"
      ]
     },
     "execution_count": 823,
     "metadata": {},
     "output_type": "execute_result"
    }
   ],
   "source": [
    "merged2.UNIT_NO.value_counts()"
   ]
  },
  {
   "cell_type": "code",
   "execution_count": 824,
   "metadata": {},
   "outputs": [],
   "source": [
    "#after looking at value counts, \n",
    "#this column is not helpful and will be dropped"
   ]
  },
  {
   "cell_type": "code",
   "execution_count": 825,
   "metadata": {},
   "outputs": [],
   "source": [
    "merged2.drop('UNIT_NO', axis =1, inplace=True)"
   ]
  },
  {
   "cell_type": "markdown",
   "metadata": {},
   "source": [
    "**Unit Type**"
   ]
  },
  {
   "cell_type": "code",
   "execution_count": 826,
   "metadata": {},
   "outputs": [
    {
     "data": {
      "text/plain": [
       "DRIVER                 226266\n",
       "PARKED                  13897\n",
       "DRIVERLESS                752\n",
       "DISABLED VEHICLE           22\n",
       "NON-CONTACT VEHICLE        13\n",
       "Name: UNIT_TYPE, dtype: int64"
      ]
     },
     "execution_count": 826,
     "metadata": {},
     "output_type": "execute_result"
    }
   ],
   "source": [
    "merged2.UNIT_TYPE.value_counts()"
   ]
  },
  {
   "cell_type": "code",
   "execution_count": 827,
   "metadata": {},
   "outputs": [],
   "source": [
    "merged2.drop('UNIT_TYPE', axis =1, inplace=True)"
   ]
  },
  {
   "cell_type": "markdown",
   "metadata": {},
   "source": [
    "**Vehicle Year**"
   ]
  },
  {
   "cell_type": "code",
   "execution_count": 828,
   "metadata": {},
   "outputs": [
    {
     "data": {
      "text/plain": [
       "2017.0    18178\n",
       "2015.0    16136\n",
       "2016.0    15813\n",
       "2018.0    15476\n",
       "2019.0    15065\n",
       "          ...  \n",
       "9900.0        1\n",
       "1965.0        1\n",
       "7372.0        1\n",
       "1929.0        1\n",
       "2201.0        1\n",
       "Name: VEHICLE_YEAR, Length: 115, dtype: int64"
      ]
     },
     "execution_count": 828,
     "metadata": {},
     "output_type": "execute_result"
    }
   ],
   "source": [
    "merged2.VEHICLE_YEAR.value_counts()"
   ]
  },
  {
   "cell_type": "code",
   "execution_count": 829,
   "metadata": {},
   "outputs": [
    {
     "data": {
      "text/plain": [
       "115"
      ]
     },
     "execution_count": 829,
     "metadata": {},
     "output_type": "execute_result"
    }
   ],
   "source": [
    "merged2.VEHICLE_YEAR.nunique()"
   ]
  },
  {
   "cell_type": "code",
   "execution_count": 830,
   "metadata": {},
   "outputs": [],
   "source": [
    "#several issues with year entries, will drop column\n",
    "merged2.drop('VEHICLE_YEAR', axis =1, inplace=True)"
   ]
  },
  {
   "cell_type": "code",
   "execution_count": 831,
   "metadata": {},
   "outputs": [
    {
     "name": "stdout",
     "output_type": "stream",
     "text": [
      "<class 'pandas.core.frame.DataFrame'>\n",
      "Int64Index: 240950 entries, 0 to 492018\n",
      "Data columns (total 25 columns):\n",
      " #   Column                Non-Null Count   Dtype   \n",
      "---  ------                --------------   -----   \n",
      " 0   CRASH_RECORD_ID       240950 non-null  object  \n",
      " 1   POSTED_SPEED_LIMIT    240950 non-null  category\n",
      " 2   DEVICE_CONDITION      240950 non-null  object  \n",
      " 3   WEATHER_CONDITION     240950 non-null  object  \n",
      " 4   LIGHTING_CONDITION    240950 non-null  object  \n",
      " 5   FIRST_CRASH_TYPE      240950 non-null  object  \n",
      " 6   TRAFFICWAY_TYPE       240950 non-null  object  \n",
      " 7   ROADWAY_SURFACE_COND  240950 non-null  object  \n",
      " 8   INJURIES_TOTAL        240950 non-null  float64 \n",
      " 9   INJURIES_FATAL        240950 non-null  float64 \n",
      " 10  CRASH_HOUR            240950 non-null  category\n",
      " 11  CRASH_DAY_OF_WEEK     240950 non-null  int64   \n",
      " 12  CRASH_MONTH           240950 non-null  int64   \n",
      " 13  LATITUDE              240950 non-null  float64 \n",
      " 14  LONGITUDE             240950 non-null  float64 \n",
      " 15  VEHICLE_TYPE          240950 non-null  object  \n",
      " 16  VEHICLE_USE           240950 non-null  object  \n",
      " 17  MANEUVER              240950 non-null  object  \n",
      " 18  OCCUPANT_CNT          240950 non-null  float64 \n",
      " 19  PERSON_TYPE           240950 non-null  object  \n",
      " 20  SEX                   240950 non-null  object  \n",
      " 21  AGE                   240950 non-null  float64 \n",
      " 22  SAFETY_EQUIPMENT      240950 non-null  object  \n",
      " 23  AIRBAG_DEPLOYED       240950 non-null  object  \n",
      " 24  DRIVER_VISION         240950 non-null  object  \n",
      "dtypes: category(2), float64(6), int64(2), object(15)\n",
      "memory usage: 44.6+ MB\n"
     ]
    }
   ],
   "source": [
    "merged2.info()"
   ]
  },
  {
   "cell_type": "markdown",
   "metadata": {},
   "source": [
    "**Vehicle Type**"
   ]
  },
  {
   "cell_type": "code",
   "execution_count": 832,
   "metadata": {},
   "outputs": [
    {
     "data": {
      "text/plain": [
       "PASSENGER                               165063\n",
       "SPORT UTILITY VEHICLE (SUV)              36896\n",
       "VAN/MINI-VAN                             10891\n",
       "PICKUP                                    8587\n",
       "UNKNOWN/NA                                5619\n",
       "TRUCK - SINGLE UNIT                       4097\n",
       "OTHER                                     2531\n",
       "BUS OVER 15 PASS.                         2372\n",
       "TRACTOR W/ SEMI-TRAILER                   2343\n",
       "BUS UP TO 15 PASS.                         668\n",
       "MOTORCYCLE (OVER 150CC)                    660\n",
       "SINGLE UNIT TRUCK WITH TRAILER             536\n",
       "TRACTOR W/O SEMI-TRAILER                   281\n",
       "OTHER VEHICLE WITH TRAILER                 260\n",
       "MOPED OR MOTORIZED BICYCLE                 104\n",
       "3-WHEELED MOTORCYCLE (2 REAR WHEELS)        15\n",
       "AUTOCYCLE                                   10\n",
       "FARM EQUIPMENT                               8\n",
       "ALL-TERRAIN VEHICLE (ATV)                    5\n",
       "MOTOR DRIVEN CYCLE                           4\n",
       "Name: VEHICLE_TYPE, dtype: int64"
      ]
     },
     "execution_count": 832,
     "metadata": {},
     "output_type": "execute_result"
    }
   ],
   "source": [
    "merged2.VEHICLE_TYPE.value_counts()"
   ]
  },
  {
   "cell_type": "code",
   "execution_count": 833,
   "metadata": {},
   "outputs": [],
   "source": [
    "merged2['VEHICLE_TYPE'] = merged2.VEHICLE_TYPE.map({\n",
    "    'PASSENGER': 'Car',\n",
    "    'SPORT UTILITY VEHICLE (SUV)': 'SUV/Van',\n",
    "    'VAN/MINI-VAN': 'SUV/Van',\n",
    "    'PICKUP': 'Truck',\n",
    "    'UNKNOWN/NA': 'Unknown',\n",
    "    'TRUCK - SINGLE UNIT': \"Truck\",\n",
    "    'BUS OVER 15 PASS.': \"Bus\",\n",
    "    'OTHER': \"Other\",\n",
    "    'TRACTOR W/ SEMI-TRAILER': 'Semi',\n",
    "    'TRACTOR W/O SEMI-TRAILER': \"Semi\",\n",
    "    'MOTORCYCLE (OVER 150CC)': 'Motorbike/cycle',\n",
    "    'BUS UP TO 15 PASS.': 'Bus',\n",
    "    'OTHER VEHICLE WITH TRAILER': \"Trailer\",\n",
    "    'SINGLE UNIT TRUCK WITH TRAILER': \"Trailer\",\n",
    "    'MOTOR DRIVEN CYCLE': \"Motorbike/cycle\",\n",
    "    'MOPED OR MOTORIZED BICYCLE': \"Motorbike/cycle\",\n",
    "    'AUTOCYCLE': \"Motorbike/cycle\",\n",
    "    'ALL-TERRAIN VEHICLE (ATV)': \"Other\",\n",
    "    '3-WHEELED MOTORCYCLE (2 REAR WHEELS)': \"Motorbike/cycle\",\n",
    "    'FARM EQUIPMENT': \"Other\",\n",
    "    'RECREATIONAL OFF-HIGHWAY VEHICLE (ROV)': \"Other\"\n",
    "})"
   ]
  },
  {
   "cell_type": "code",
   "execution_count": 834,
   "metadata": {},
   "outputs": [
    {
     "data": {
      "text/plain": [
       "Car                165063\n",
       "SUV/Van             47787\n",
       "Truck               12684\n",
       "Unknown              5619\n",
       "Bus                  3040\n",
       "Semi                 2624\n",
       "Other                2544\n",
       "Trailer               796\n",
       "Motorbike/cycle       793\n",
       "Name: VEHICLE_TYPE, dtype: int64"
      ]
     },
     "execution_count": 834,
     "metadata": {},
     "output_type": "execute_result"
    }
   ],
   "source": [
    "merged2.VEHICLE_TYPE.value_counts()"
   ]
  },
  {
   "cell_type": "code",
   "execution_count": 835,
   "metadata": {},
   "outputs": [
    {
     "data": {
      "text/plain": [
       "0"
      ]
     },
     "execution_count": 835,
     "metadata": {},
     "output_type": "execute_result"
    }
   ],
   "source": [
    "merged2.VEHICLE_TYPE.isna().sum()"
   ]
  },
  {
   "cell_type": "markdown",
   "metadata": {},
   "source": [
    "**Vehicle Use**"
   ]
  },
  {
   "cell_type": "code",
   "execution_count": 836,
   "metadata": {},
   "outputs": [
    {
     "data": {
      "text/plain": [
       "PERSONAL                        188456\n",
       "UNKNOWN/NA                       25721\n",
       "OTHER                             7534\n",
       "NOT IN USE                        6033\n",
       "COMMERCIAL - SINGLE UNIT          2911\n",
       "CTA                               1930\n",
       "RIDESHARE SERVICE                 1642\n",
       "POLICE                            1542\n",
       "CONSTRUCTION/MAINTENANCE          1125\n",
       "TAXI/FOR HIRE                     1036\n",
       "COMMERCIAL - MULTI-UNIT            970\n",
       "TOW TRUCK                          539\n",
       "SCHOOL BUS                         461\n",
       "AMBULANCE                          320\n",
       "DRIVER EDUCATION                   229\n",
       "STATE OWNED                        202\n",
       "FIRE                               180\n",
       "LAWN CARE/LANDSCAPING               78\n",
       "AGRICULTURE                         24\n",
       "CAMPER/RV - SINGLE UNIT              6\n",
       "MILITARY                             6\n",
       "HOUSE TRAILER                        3\n",
       "CAMPER/RV - TOWED/MULTI-UNIT         2\n",
       "Name: VEHICLE_USE, dtype: int64"
      ]
     },
     "execution_count": 836,
     "metadata": {},
     "output_type": "execute_result"
    }
   ],
   "source": [
    "merged2.VEHICLE_USE.value_counts()\n",
    "#after further inspection, does not seem descriptive enough, \n",
    "#will be dropped"
   ]
  },
  {
   "cell_type": "code",
   "execution_count": 837,
   "metadata": {},
   "outputs": [],
   "source": [
    "merged2.drop('VEHICLE_USE', axis =1, inplace=True)"
   ]
  },
  {
   "cell_type": "markdown",
   "metadata": {},
   "source": [
    "**Maneuver**"
   ]
  },
  {
   "cell_type": "code",
   "execution_count": 838,
   "metadata": {},
   "outputs": [
    {
     "data": {
      "text/plain": [
       "STRAIGHT AHEAD                        133906\n",
       "SLOW/STOP IN TRAFFIC                   24025\n",
       "TURNING LEFT                           18524\n",
       "PARKED                                 13890\n",
       "TURNING RIGHT                           8487\n",
       "BACKING                                 7745\n",
       "UNKNOWN/NA                              5765\n",
       "PASSING/OVERTAKING                      5346\n",
       "CHANGING LANES                          4682\n",
       "OTHER                                   4634\n",
       "ENTERING TRAFFIC LANE FROM PARKING      3282\n",
       "MERGING                                 1910\n",
       "STARTING IN TRAFFIC                     1738\n",
       "U-TURN                                  1721\n",
       "AVOIDING VEHICLES/OBJECTS               1227\n",
       "SKIDDING/CONTROL LOSS                   1026\n",
       "ENTER FROM DRIVE/ALLEY                   999\n",
       "LEAVING TRAFFIC LANE TO PARK             762\n",
       "PARKED IN TRAFFIC LANE                   408\n",
       "DRIVING WRONG WAY                        378\n",
       "NEGOTIATING A CURVE                      281\n",
       "TURNING ON RED                           103\n",
       "DRIVERLESS                                41\n",
       "DIVERGING                                 39\n",
       "DISABLED                                  23\n",
       "SLOW/STOP - RIGHT TURN                     4\n",
       "SLOW/STOP - LEFT TURN                      4\n",
       "Name: MANEUVER, dtype: int64"
      ]
     },
     "execution_count": 838,
     "metadata": {},
     "output_type": "execute_result"
    }
   ],
   "source": [
    "merged2.MANEUVER.value_counts()"
   ]
  },
  {
   "cell_type": "code",
   "execution_count": 839,
   "metadata": {},
   "outputs": [],
   "source": [
    "#seems redundant of crash type, will drop "
   ]
  },
  {
   "cell_type": "code",
   "execution_count": 840,
   "metadata": {},
   "outputs": [],
   "source": [
    "merged2.drop('MANEUVER', axis =1, inplace=True)"
   ]
  },
  {
   "cell_type": "markdown",
   "metadata": {},
   "source": [
    "**Occupant Count**"
   ]
  },
  {
   "cell_type": "code",
   "execution_count": 841,
   "metadata": {},
   "outputs": [
    {
     "data": {
      "text/plain": [
       "1.0     181835\n",
       "2.0      32588\n",
       "0.0      13368\n",
       "3.0       8413\n",
       "4.0       3228\n",
       "5.0       1063\n",
       "6.0        272\n",
       "7.0        110\n",
       "8.0         36\n",
       "11.0         9\n",
       "10.0         6\n",
       "9.0          6\n",
       "20.0         4\n",
       "13.0         4\n",
       "23.0         2\n",
       "25.0         2\n",
       "18.0         2\n",
       "12.0         1\n",
       "19.0         1\n",
       "Name: OCCUPANT_CNT, dtype: int64"
      ]
     },
     "execution_count": 841,
     "metadata": {},
     "output_type": "execute_result"
    }
   ],
   "source": [
    "merged2.OCCUPANT_CNT.value_counts()"
   ]
  },
  {
   "cell_type": "code",
   "execution_count": 842,
   "metadata": {},
   "outputs": [],
   "source": [
    "#since most vehicles are not buses or trains \n",
    "#and can hold 7 or less people this feature does not seem helpful\n",
    "# and will be dropped\n",
    "# number injured in each crash will be more valueable "
   ]
  },
  {
   "cell_type": "code",
   "execution_count": 843,
   "metadata": {},
   "outputs": [],
   "source": [
    "merged2.drop('OCCUPANT_CNT', axis =1, inplace=True)"
   ]
  },
  {
   "cell_type": "markdown",
   "metadata": {},
   "source": [
    "**Person Type**"
   ]
  },
  {
   "cell_type": "code",
   "execution_count": 844,
   "metadata": {},
   "outputs": [
    {
     "data": {
      "text/plain": [
       "DRIVER                 240896\n",
       "NON-MOTOR VEHICLE          35\n",
       "NON-CONTACT VEHICLE        19\n",
       "Name: PERSON_TYPE, dtype: int64"
      ]
     },
     "execution_count": 844,
     "metadata": {},
     "output_type": "execute_result"
    }
   ],
   "source": [
    "merged2.PERSON_TYPE.value_counts()"
   ]
  },
  {
   "cell_type": "markdown",
   "metadata": {},
   "source": [
    "**Sex**"
   ]
  },
  {
   "cell_type": "code",
   "execution_count": 845,
   "metadata": {},
   "outputs": [
    {
     "data": {
      "text/plain": [
       "M    144263\n",
       "F     96373\n",
       "X       314\n",
       "Name: SEX, dtype: int64"
      ]
     },
     "execution_count": 845,
     "metadata": {},
     "output_type": "execute_result"
    }
   ],
   "source": [
    "merged2.SEX.value_counts()"
   ]
  },
  {
   "cell_type": "markdown",
   "metadata": {},
   "source": [
    "**Age**"
   ]
  },
  {
   "cell_type": "code",
   "execution_count": 846,
   "metadata": {},
   "outputs": [
    {
     "data": {
      "text/plain": [
       "28.0    7253\n",
       "25.0    7247\n",
       "26.0    7235\n",
       "27.0    7182\n",
       "29.0    6916\n",
       "        ... \n",
       "5.0        4\n",
       "98.0       4\n",
       "6.0        3\n",
       "96.0       3\n",
       "97.0       2\n",
       "Name: AGE, Length: 103, dtype: int64"
      ]
     },
     "execution_count": 846,
     "metadata": {},
     "output_type": "execute_result"
    }
   ],
   "source": [
    "merged2.AGE.value_counts()"
   ]
  },
  {
   "cell_type": "code",
   "execution_count": 847,
   "metadata": {},
   "outputs": [],
   "source": [
    "#seems to be data entry errors, \n",
    "#will only keep rows with people between 0 and 100 years of age"
   ]
  },
  {
   "cell_type": "code",
   "execution_count": 848,
   "metadata": {},
   "outputs": [],
   "source": [
    "merged2 = merged2[merged2.AGE > 0]"
   ]
  },
  {
   "cell_type": "code",
   "execution_count": 849,
   "metadata": {},
   "outputs": [
    {
     "data": {
      "text/html": [
       "<div>\n",
       "<style scoped>\n",
       "    .dataframe tbody tr th:only-of-type {\n",
       "        vertical-align: middle;\n",
       "    }\n",
       "\n",
       "    .dataframe tbody tr th {\n",
       "        vertical-align: top;\n",
       "    }\n",
       "\n",
       "    .dataframe thead th {\n",
       "        text-align: right;\n",
       "    }\n",
       "</style>\n",
       "<table border=\"1\" class=\"dataframe\">\n",
       "  <thead>\n",
       "    <tr style=\"text-align: right;\">\n",
       "      <th></th>\n",
       "      <th>CRASH_RECORD_ID</th>\n",
       "      <th>POSTED_SPEED_LIMIT</th>\n",
       "      <th>DEVICE_CONDITION</th>\n",
       "      <th>WEATHER_CONDITION</th>\n",
       "      <th>LIGHTING_CONDITION</th>\n",
       "      <th>FIRST_CRASH_TYPE</th>\n",
       "      <th>TRAFFICWAY_TYPE</th>\n",
       "      <th>ROADWAY_SURFACE_COND</th>\n",
       "      <th>INJURIES_TOTAL</th>\n",
       "      <th>INJURIES_FATAL</th>\n",
       "      <th>...</th>\n",
       "      <th>CRASH_MONTH</th>\n",
       "      <th>LATITUDE</th>\n",
       "      <th>LONGITUDE</th>\n",
       "      <th>VEHICLE_TYPE</th>\n",
       "      <th>PERSON_TYPE</th>\n",
       "      <th>SEX</th>\n",
       "      <th>AGE</th>\n",
       "      <th>SAFETY_EQUIPMENT</th>\n",
       "      <th>AIRBAG_DEPLOYED</th>\n",
       "      <th>DRIVER_VISION</th>\n",
       "    </tr>\n",
       "  </thead>\n",
       "  <tbody>\n",
       "    <tr>\n",
       "      <th>0</th>\n",
       "      <td>497cb9e8f3def86057207e3f11469e7dd6ecb2236bf99e...</td>\n",
       "      <td>0-30</td>\n",
       "      <td>Unknown</td>\n",
       "      <td>Clear</td>\n",
       "      <td>Day</td>\n",
       "      <td>Moving</td>\n",
       "      <td>Parking lot</td>\n",
       "      <td>Dry</td>\n",
       "      <td>0.0</td>\n",
       "      <td>0.0</td>\n",
       "      <td>...</td>\n",
       "      <td>7</td>\n",
       "      <td>41.929653</td>\n",
       "      <td>-87.675293</td>\n",
       "      <td>Car</td>\n",
       "      <td>DRIVER</td>\n",
       "      <td>F</td>\n",
       "      <td>62.0</td>\n",
       "      <td>USAGE UNKNOWN</td>\n",
       "      <td>DEPLOYMENT UNKNOWN</td>\n",
       "      <td>UNKNOWN</td>\n",
       "    </tr>\n",
       "    <tr>\n",
       "      <th>1</th>\n",
       "      <td>497cb9e8f3def86057207e3f11469e7dd6ecb2236bf99e...</td>\n",
       "      <td>0-30</td>\n",
       "      <td>Unknown</td>\n",
       "      <td>Clear</td>\n",
       "      <td>Day</td>\n",
       "      <td>Moving</td>\n",
       "      <td>Parking lot</td>\n",
       "      <td>Dry</td>\n",
       "      <td>0.0</td>\n",
       "      <td>0.0</td>\n",
       "      <td>...</td>\n",
       "      <td>7</td>\n",
       "      <td>41.929653</td>\n",
       "      <td>-87.675293</td>\n",
       "      <td>Car</td>\n",
       "      <td>DRIVER</td>\n",
       "      <td>F</td>\n",
       "      <td>26.0</td>\n",
       "      <td>USAGE UNKNOWN</td>\n",
       "      <td>DEPLOYMENT UNKNOWN</td>\n",
       "      <td>UNKNOWN</td>\n",
       "    </tr>\n",
       "    <tr>\n",
       "      <th>3</th>\n",
       "      <td>497cb9e8f3def86057207e3f11469e7dd6ecb2236bf99e...</td>\n",
       "      <td>0-30</td>\n",
       "      <td>Unknown</td>\n",
       "      <td>Clear</td>\n",
       "      <td>Day</td>\n",
       "      <td>Moving</td>\n",
       "      <td>Parking lot</td>\n",
       "      <td>Dry</td>\n",
       "      <td>0.0</td>\n",
       "      <td>0.0</td>\n",
       "      <td>...</td>\n",
       "      <td>7</td>\n",
       "      <td>41.929653</td>\n",
       "      <td>-87.675293</td>\n",
       "      <td>Car</td>\n",
       "      <td>DRIVER</td>\n",
       "      <td>F</td>\n",
       "      <td>62.0</td>\n",
       "      <td>USAGE UNKNOWN</td>\n",
       "      <td>DEPLOYMENT UNKNOWN</td>\n",
       "      <td>UNKNOWN</td>\n",
       "    </tr>\n",
       "    <tr>\n",
       "      <th>4</th>\n",
       "      <td>497cb9e8f3def86057207e3f11469e7dd6ecb2236bf99e...</td>\n",
       "      <td>0-30</td>\n",
       "      <td>Unknown</td>\n",
       "      <td>Clear</td>\n",
       "      <td>Day</td>\n",
       "      <td>Moving</td>\n",
       "      <td>Parking lot</td>\n",
       "      <td>Dry</td>\n",
       "      <td>0.0</td>\n",
       "      <td>0.0</td>\n",
       "      <td>...</td>\n",
       "      <td>7</td>\n",
       "      <td>41.929653</td>\n",
       "      <td>-87.675293</td>\n",
       "      <td>Car</td>\n",
       "      <td>DRIVER</td>\n",
       "      <td>F</td>\n",
       "      <td>26.0</td>\n",
       "      <td>USAGE UNKNOWN</td>\n",
       "      <td>DEPLOYMENT UNKNOWN</td>\n",
       "      <td>UNKNOWN</td>\n",
       "    </tr>\n",
       "    <tr>\n",
       "      <th>9</th>\n",
       "      <td>be7c69045cc5edb1afd241bc875b3faca3040b4a8d63d8...</td>\n",
       "      <td>0-30</td>\n",
       "      <td>Not Working</td>\n",
       "      <td>Clear</td>\n",
       "      <td>Day</td>\n",
       "      <td>Moving</td>\n",
       "      <td>Other/Unknown</td>\n",
       "      <td>Dry</td>\n",
       "      <td>0.0</td>\n",
       "      <td>0.0</td>\n",
       "      <td>...</td>\n",
       "      <td>12</td>\n",
       "      <td>41.831159</td>\n",
       "      <td>-87.622736</td>\n",
       "      <td>Car</td>\n",
       "      <td>DRIVER</td>\n",
       "      <td>F</td>\n",
       "      <td>32.0</td>\n",
       "      <td>USAGE UNKNOWN</td>\n",
       "      <td>NOT APPLICABLE</td>\n",
       "      <td>NOT OBSCURED</td>\n",
       "    </tr>\n",
       "  </tbody>\n",
       "</table>\n",
       "<p>5 rows × 22 columns</p>\n",
       "</div>"
      ],
      "text/plain": [
       "                                     CRASH_RECORD_ID POSTED_SPEED_LIMIT  \\\n",
       "0  497cb9e8f3def86057207e3f11469e7dd6ecb2236bf99e...               0-30   \n",
       "1  497cb9e8f3def86057207e3f11469e7dd6ecb2236bf99e...               0-30   \n",
       "3  497cb9e8f3def86057207e3f11469e7dd6ecb2236bf99e...               0-30   \n",
       "4  497cb9e8f3def86057207e3f11469e7dd6ecb2236bf99e...               0-30   \n",
       "9  be7c69045cc5edb1afd241bc875b3faca3040b4a8d63d8...               0-30   \n",
       "\n",
       "  DEVICE_CONDITION WEATHER_CONDITION LIGHTING_CONDITION FIRST_CRASH_TYPE  \\\n",
       "0          Unknown             Clear                Day           Moving   \n",
       "1          Unknown             Clear                Day           Moving   \n",
       "3          Unknown             Clear                Day           Moving   \n",
       "4          Unknown             Clear                Day           Moving   \n",
       "9      Not Working             Clear                Day           Moving   \n",
       "\n",
       "  TRAFFICWAY_TYPE ROADWAY_SURFACE_COND  INJURIES_TOTAL  INJURIES_FATAL  ...  \\\n",
       "0     Parking lot                  Dry             0.0             0.0  ...   \n",
       "1     Parking lot                  Dry             0.0             0.0  ...   \n",
       "3     Parking lot                  Dry             0.0             0.0  ...   \n",
       "4     Parking lot                  Dry             0.0             0.0  ...   \n",
       "9   Other/Unknown                  Dry             0.0             0.0  ...   \n",
       "\n",
       "  CRASH_MONTH   LATITUDE  LONGITUDE  VEHICLE_TYPE  PERSON_TYPE SEX   AGE  \\\n",
       "0           7  41.929653 -87.675293           Car       DRIVER   F  62.0   \n",
       "1           7  41.929653 -87.675293           Car       DRIVER   F  26.0   \n",
       "3           7  41.929653 -87.675293           Car       DRIVER   F  62.0   \n",
       "4           7  41.929653 -87.675293           Car       DRIVER   F  26.0   \n",
       "9          12  41.831159 -87.622736           Car       DRIVER   F  32.0   \n",
       "\n",
       "  SAFETY_EQUIPMENT     AIRBAG_DEPLOYED DRIVER_VISION  \n",
       "0    USAGE UNKNOWN  DEPLOYMENT UNKNOWN       UNKNOWN  \n",
       "1    USAGE UNKNOWN  DEPLOYMENT UNKNOWN       UNKNOWN  \n",
       "3    USAGE UNKNOWN  DEPLOYMENT UNKNOWN       UNKNOWN  \n",
       "4    USAGE UNKNOWN  DEPLOYMENT UNKNOWN       UNKNOWN  \n",
       "9    USAGE UNKNOWN      NOT APPLICABLE  NOT OBSCURED  \n",
       "\n",
       "[5 rows x 22 columns]"
      ]
     },
     "execution_count": 849,
     "metadata": {},
     "output_type": "execute_result"
    }
   ],
   "source": [
    "merged2.head()"
   ]
  },
  {
   "cell_type": "code",
   "execution_count": 850,
   "metadata": {},
   "outputs": [
    {
     "data": {
      "text/plain": [
       "28.0    7253\n",
       "25.0    7247\n",
       "26.0    7235\n",
       "27.0    7182\n",
       "29.0    6916\n",
       "        ... \n",
       "5.0        4\n",
       "98.0       4\n",
       "6.0        3\n",
       "96.0       3\n",
       "97.0       2\n",
       "Name: AGE, Length: 102, dtype: int64"
      ]
     },
     "execution_count": 850,
     "metadata": {},
     "output_type": "execute_result"
    }
   ],
   "source": [
    "merged2.AGE.value_counts()"
   ]
  },
  {
   "cell_type": "code",
   "execution_count": 851,
   "metadata": {},
   "outputs": [],
   "source": [
    "merged2 = merged2[merged2.AGE < 100]"
   ]
  },
  {
   "cell_type": "code",
   "execution_count": 852,
   "metadata": {},
   "outputs": [
    {
     "data": {
      "text/plain": [
       "28.0    7253\n",
       "25.0    7247\n",
       "26.0    7235\n",
       "27.0    7182\n",
       "29.0    6916\n",
       "        ... \n",
       "5.0        4\n",
       "98.0       4\n",
       "96.0       3\n",
       "6.0        3\n",
       "97.0       2\n",
       "Name: AGE, Length: 99, dtype: int64"
      ]
     },
     "execution_count": 852,
     "metadata": {},
     "output_type": "execute_result"
    }
   ],
   "source": [
    "merged2.AGE.value_counts()"
   ]
  },
  {
   "cell_type": "code",
   "execution_count": 853,
   "metadata": {},
   "outputs": [],
   "source": [
    "merged2.AGE = pd.cut(x = merged2.AGE,\n",
    "                         bins =[-1, 25, 50, 75, 100],\n",
    "                         labels = ['Young', 'Adult', 'Senior', 'Elderly'])"
   ]
  },
  {
   "cell_type": "code",
   "execution_count": 854,
   "metadata": {},
   "outputs": [
    {
     "data": {
      "text/plain": [
       "Adult      129499\n",
       "Senior      55854\n",
       "Young       49376\n",
       "Elderly      4185\n",
       "Name: AGE, dtype: int64"
      ]
     },
     "execution_count": 854,
     "metadata": {},
     "output_type": "execute_result"
    }
   ],
   "source": [
    "merged2.AGE.value_counts()"
   ]
  },
  {
   "cell_type": "markdown",
   "metadata": {},
   "source": [
    "**Safety Equipment**"
   ]
  },
  {
   "cell_type": "code",
   "execution_count": 855,
   "metadata": {},
   "outputs": [
    {
     "data": {
      "text/plain": [
       "SAFETY BELT USED                       138545\n",
       "USAGE UNKNOWN                           92190\n",
       "NONE PRESENT                             6205\n",
       "SAFETY BELT NOT USED                     1083\n",
       "HELMET NOT USED                           391\n",
       "DOT COMPLIANT MOTORCYCLE HELMET           387\n",
       "NOT DOT COMPLIANT MOTORCYCLE HELMET        56\n",
       "SHOULD/LAP BELT USED IMPROPERLY            54\n",
       "HELMET USED                                 3\n",
       "Name: SAFETY_EQUIPMENT, dtype: int64"
      ]
     },
     "execution_count": 855,
     "metadata": {},
     "output_type": "execute_result"
    }
   ],
   "source": [
    "merged2.SAFETY_EQUIPMENT.value_counts()"
   ]
  },
  {
   "cell_type": "code",
   "execution_count": 856,
   "metadata": {},
   "outputs": [],
   "source": [
    "merged2['SAFETY_EQUIPMENT'] = merged2.SAFETY_EQUIPMENT.map({\n",
    "    'SAFETY BELT USED': 'Used',\n",
    "    'USAGE UNKNOWN': 'Unknown',\n",
    "    'NONE PRESENT': 'Not Used',\n",
    "    'SAFETY BELT NOT USED': 'Not Used',\n",
    "    'HELMET NOT USED': 'Not Used',\n",
    "    'DOT COMPLIANT MOTORCYCLE HELMET': \"Used\",\n",
    "    'HELMET USED': \"Used\",\n",
    "    'NOT DOT COMPLIANT MOTORCYCLE HELMET': \"Used\",\n",
    "    'SHOULD/LAP BELT USED IMPROPERLY': 'Not Used',\n",
    "    'STRETCHER': \"Used\",\n",
    "    'WHEELCHAIR': 'Used',\n",
    "    'CHILD RESTRAINT USED': 'Used'\n",
    "})"
   ]
  },
  {
   "cell_type": "code",
   "execution_count": 857,
   "metadata": {},
   "outputs": [
    {
     "data": {
      "text/plain": [
       "Used        138991\n",
       "Unknown      92190\n",
       "Not Used      7733\n",
       "Name: SAFETY_EQUIPMENT, dtype: int64"
      ]
     },
     "execution_count": 857,
     "metadata": {},
     "output_type": "execute_result"
    }
   ],
   "source": [
    "merged2.SAFETY_EQUIPMENT.value_counts()"
   ]
  },
  {
   "cell_type": "code",
   "execution_count": 858,
   "metadata": {},
   "outputs": [
    {
     "data": {
      "text/plain": [
       "0"
      ]
     },
     "execution_count": 858,
     "metadata": {},
     "output_type": "execute_result"
    }
   ],
   "source": [
    "merged2.SAFETY_EQUIPMENT.isna().sum()"
   ]
  },
  {
   "cell_type": "markdown",
   "metadata": {},
   "source": [
    "**Driver Vision**"
   ]
  },
  {
   "cell_type": "code",
   "execution_count": 859,
   "metadata": {},
   "outputs": [
    {
     "data": {
      "text/plain": [
       "NOT OBSCURED              144161\n",
       "UNKNOWN                    87766\n",
       "OTHER                       2698\n",
       "MOVING VEHICLES             1733\n",
       "PARKED VEHICLES             1233\n",
       "WINDSHIELD (WATER/ICE)       683\n",
       "BLINDED - SUNLIGHT           343\n",
       "TREES, PLANTS                127\n",
       "BUILDINGS                     69\n",
       "EMBANKMENT                    35\n",
       "BLINDED - HEADLIGHTS          24\n",
       "HILLCREST                     21\n",
       "BLOWING MATERIALS             16\n",
       "SIGNBOARD                      5\n",
       "Name: DRIVER_VISION, dtype: int64"
      ]
     },
     "execution_count": 859,
     "metadata": {},
     "output_type": "execute_result"
    }
   ],
   "source": [
    "merged2.DRIVER_VISION.value_counts()"
   ]
  },
  {
   "cell_type": "code",
   "execution_count": 860,
   "metadata": {},
   "outputs": [],
   "source": [
    "merged2['DRIVER_VISION'] = merged2.DRIVER_VISION.map({\n",
    "    'NOT OBSCURED': 'Not Obscured',\n",
    "    'UNKNOWN': 'Unknown/Other',\n",
    "    'OTHER': 'Unknown/Other',\n",
    "    'MOVING VEHICLES': 'Obscured',\n",
    "    'PARKED VEHICLES': 'Obscured',\n",
    "    'WINDSHIELD (WATER/ICE)': \"Obscured\",\n",
    "    'BLINDED - SUNLIGHT': \"Obscured\",\n",
    "    'TREES, PLANTS': \"Obscured\",\n",
    "    'BUILDINGS': 'Obscured',\n",
    "    'HILLCREST': \"Obscured\",\n",
    "    'BLINDED - HEADLIGHTS': 'Obscured',\n",
    "    'EMBANKMENT': 'Obscured',\n",
    "    'BLOWING MATERIALS': 'Obscured',\n",
    "    'SIGNBOARD': 'Obscured'\n",
    "})"
   ]
  },
  {
   "cell_type": "code",
   "execution_count": 861,
   "metadata": {},
   "outputs": [
    {
     "data": {
      "text/plain": [
       "Not Obscured     144161\n",
       "Unknown/Other     90464\n",
       "Obscured           4289\n",
       "Name: DRIVER_VISION, dtype: int64"
      ]
     },
     "execution_count": 861,
     "metadata": {},
     "output_type": "execute_result"
    }
   ],
   "source": [
    "merged2.DRIVER_VISION.value_counts()"
   ]
  },
  {
   "cell_type": "code",
   "execution_count": 862,
   "metadata": {},
   "outputs": [
    {
     "data": {
      "text/plain": [
       "0"
      ]
     },
     "execution_count": 862,
     "metadata": {},
     "output_type": "execute_result"
    }
   ],
   "source": [
    "merged2.DRIVER_VISION.isna().sum()"
   ]
  },
  {
   "cell_type": "markdown",
   "metadata": {},
   "source": [
    "**Airbag Deployed**"
   ]
  },
  {
   "cell_type": "code",
   "execution_count": 863,
   "metadata": {},
   "outputs": [
    {
     "data": {
      "text/plain": [
       "DID NOT DEPLOY                            126189\n",
       "NOT APPLICABLE                             73060\n",
       "DEPLOYMENT UNKNOWN                         13073\n",
       "DEPLOYED, FRONT                            13038\n",
       "DEPLOYED, COMBINATION                      10088\n",
       "DEPLOYED, SIDE                              3303\n",
       "DEPLOYED OTHER (KNEE, AIR, BELT, ETC.)       163\n",
       "Name: AIRBAG_DEPLOYED, dtype: int64"
      ]
     },
     "execution_count": 863,
     "metadata": {},
     "output_type": "execute_result"
    }
   ],
   "source": [
    "merged2.AIRBAG_DEPLOYED.value_counts()"
   ]
  },
  {
   "cell_type": "code",
   "execution_count": 864,
   "metadata": {},
   "outputs": [],
   "source": [
    "merged2['AIRBAG_DEPLOYED'] = merged2.AIRBAG_DEPLOYED.map({\n",
    "    'DID NOT DEPLOY': 'Not Deployed',\n",
    "    'NOT APPLICABLE': 'Not Deployed',\n",
    "    'DEPLOYMENT UNKNOWN': 'Unknown',\n",
    "    'DEPLOYED, FRONT': 'Deployed',\n",
    "    'DEPLOYED, COMBINATION': 'Deployed',\n",
    "    'DEPLOYED, SIDE': 'Deployed',\n",
    "    'DEPLOYED OTHER (KNEE, AIR, BELT, ETC.)': 'Deployed'\n",
    "})"
   ]
  },
  {
   "cell_type": "code",
   "execution_count": 436,
   "metadata": {},
   "outputs": [
    {
     "data": {
      "text/plain": [
       "Not Deployed    199249\n",
       "Deployed         26592\n",
       "Unknown          13073\n",
       "Name: AIRBAG_DEPLOYED, dtype: int64"
      ]
     },
     "execution_count": 436,
     "metadata": {},
     "output_type": "execute_result"
    }
   ],
   "source": [
    "merged2.AIRBAG_DEPLOYED.value_counts()"
   ]
  },
  {
   "cell_type": "code",
   "execution_count": 865,
   "metadata": {},
   "outputs": [
    {
     "data": {
      "text/plain": [
       "0"
      ]
     },
     "execution_count": 865,
     "metadata": {},
     "output_type": "execute_result"
    }
   ],
   "source": [
    "merged2.SAFETY_EQUIPMENT.isna().sum()"
   ]
  },
  {
   "cell_type": "markdown",
   "metadata": {},
   "source": [
    "### Target Preparation\n",
    "Because we are trying to predict if an injury occurred and not how many or severity, our target will be **INJURIES_TOTAL** (INJURIES_FATAL will be dropped). Entries with an injury will be set to 1 and no injuries will be set to 0. "
   ]
  },
  {
   "cell_type": "markdown",
   "metadata": {},
   "source": [
    "**Injuries**"
   ]
  },
  {
   "cell_type": "code",
   "execution_count": 866,
   "metadata": {},
   "outputs": [],
   "source": [
    "merged2.drop('INJURIES_FATAL', axis =1, inplace=True)"
   ]
  },
  {
   "cell_type": "code",
   "execution_count": 867,
   "metadata": {},
   "outputs": [
    {
     "data": {
      "text/plain": [
       "0.0     0.804210\n",
       "1.0     0.128134\n",
       "2.0     0.042111\n",
       "3.0     0.015164\n",
       "4.0     0.006496\n",
       "5.0     0.001904\n",
       "6.0     0.001164\n",
       "7.0     0.000419\n",
       "8.0     0.000347\n",
       "9.0     0.000033\n",
       "21.0    0.000017\n",
       "Name: INJURIES_TOTAL, dtype: float64"
      ]
     },
     "execution_count": 867,
     "metadata": {},
     "output_type": "execute_result"
    }
   ],
   "source": [
    "merged2.INJURIES_TOTAL.value_counts(normalize=True)"
   ]
  },
  {
   "cell_type": "code",
   "execution_count": 868,
   "metadata": {},
   "outputs": [],
   "source": [
    "merged2.INJURIES_TOTAL = merged2.INJURIES_TOTAL.apply(lambda x: 0 if x == 0.0 else 1)"
   ]
  },
  {
   "cell_type": "code",
   "execution_count": 869,
   "metadata": {},
   "outputs": [
    {
     "data": {
      "text/plain": [
       "0    0.80421\n",
       "1    0.19579\n",
       "Name: INJURIES_TOTAL, dtype: float64"
      ]
     },
     "execution_count": 869,
     "metadata": {},
     "output_type": "execute_result"
    }
   ],
   "source": [
    "merged2.INJURIES_TOTAL.value_counts(normalize=True)"
   ]
  },
  {
   "cell_type": "code",
   "execution_count": 870,
   "metadata": {},
   "outputs": [
    {
     "data": {
      "text/plain": [
       "CRASH_RECORD_ID         0\n",
       "POSTED_SPEED_LIMIT      0\n",
       "DEVICE_CONDITION        0\n",
       "WEATHER_CONDITION       0\n",
       "LIGHTING_CONDITION      0\n",
       "FIRST_CRASH_TYPE        0\n",
       "TRAFFICWAY_TYPE         0\n",
       "ROADWAY_SURFACE_COND    0\n",
       "INJURIES_TOTAL          0\n",
       "CRASH_HOUR              0\n",
       "CRASH_DAY_OF_WEEK       0\n",
       "CRASH_MONTH             0\n",
       "LATITUDE                0\n",
       "LONGITUDE               0\n",
       "VEHICLE_TYPE            0\n",
       "PERSON_TYPE             0\n",
       "SEX                     0\n",
       "AGE                     0\n",
       "SAFETY_EQUIPMENT        0\n",
       "AIRBAG_DEPLOYED         0\n",
       "DRIVER_VISION           0\n",
       "dtype: int64"
      ]
     },
     "execution_count": 870,
     "metadata": {},
     "output_type": "execute_result"
    }
   ],
   "source": [
    "merged2.isna().sum()"
   ]
  },
  {
   "cell_type": "code",
   "execution_count": 872,
   "metadata": {},
   "outputs": [
    {
     "data": {
      "text/plain": [
       "CRASH_RECORD_ID           object\n",
       "POSTED_SPEED_LIMIT      category\n",
       "DEVICE_CONDITION          object\n",
       "WEATHER_CONDITION         object\n",
       "LIGHTING_CONDITION        object\n",
       "FIRST_CRASH_TYPE          object\n",
       "TRAFFICWAY_TYPE           object\n",
       "ROADWAY_SURFACE_COND      object\n",
       "INJURIES_TOTAL             int64\n",
       "CRASH_HOUR              category\n",
       "CRASH_DAY_OF_WEEK          int64\n",
       "CRASH_MONTH                int64\n",
       "LATITUDE                 float64\n",
       "LONGITUDE                float64\n",
       "VEHICLE_TYPE              object\n",
       "PERSON_TYPE               object\n",
       "SEX                       object\n",
       "AGE                     category\n",
       "SAFETY_EQUIPMENT          object\n",
       "AIRBAG_DEPLOYED           object\n",
       "DRIVER_VISION             object\n",
       "dtype: object"
      ]
     },
     "execution_count": 872,
     "metadata": {},
     "output_type": "execute_result"
    }
   ],
   "source": [
    "merged2.dtypes"
   ]
  },
  {
   "cell_type": "code",
   "execution_count": 873,
   "metadata": {},
   "outputs": [],
   "source": [
    "merged2.POSTED_SPEED_LIMIT = merged2.POSTED_SPEED_LIMIT.astype(object)"
   ]
  },
  {
   "cell_type": "code",
   "execution_count": 874,
   "metadata": {},
   "outputs": [],
   "source": [
    "merged2.CRASH_HOUR = merged2.CRASH_HOUR.astype(object)"
   ]
  },
  {
   "cell_type": "code",
   "execution_count": 875,
   "metadata": {},
   "outputs": [],
   "source": [
    "merged2.AGE = merged2.AGE.astype(object)"
   ]
  },
  {
   "cell_type": "code",
   "execution_count": 876,
   "metadata": {
    "scrolled": true
   },
   "outputs": [
    {
     "data": {
      "text/plain": [
       "(238914, 21)"
      ]
     },
     "execution_count": 876,
     "metadata": {},
     "output_type": "execute_result"
    }
   ],
   "source": [
    "merged2.shape"
   ]
  },
  {
   "cell_type": "code",
   "execution_count": 877,
   "metadata": {},
   "outputs": [],
   "source": [
    "#can now drop crash record ID it was useful for \n",
    "#merging data but will not be useful for predicting injuries"
   ]
  },
  {
   "cell_type": "code",
   "execution_count": 878,
   "metadata": {},
   "outputs": [],
   "source": [
    "merged2.drop('CRASH_RECORD_ID', axis =1, inplace=True)"
   ]
  },
  {
   "cell_type": "code",
   "execution_count": 879,
   "metadata": {},
   "outputs": [],
   "source": [
    "#looking at latitude and longitude, since they are all in the city limits\n",
    "#it will likely be too clustered to really help in any type of prediction"
   ]
  },
  {
   "cell_type": "code",
   "execution_count": 880,
   "metadata": {},
   "outputs": [],
   "source": [
    "merged2.drop(columns=['LATITUDE', 'LONGITUDE'], axis =1, inplace=True)"
   ]
  },
  {
   "cell_type": "code",
   "execution_count": 881,
   "metadata": {},
   "outputs": [
    {
     "data": {
      "text/html": [
       "<div>\n",
       "<style scoped>\n",
       "    .dataframe tbody tr th:only-of-type {\n",
       "        vertical-align: middle;\n",
       "    }\n",
       "\n",
       "    .dataframe tbody tr th {\n",
       "        vertical-align: top;\n",
       "    }\n",
       "\n",
       "    .dataframe thead th {\n",
       "        text-align: right;\n",
       "    }\n",
       "</style>\n",
       "<table border=\"1\" class=\"dataframe\">\n",
       "  <thead>\n",
       "    <tr style=\"text-align: right;\">\n",
       "      <th></th>\n",
       "      <th>POSTED_SPEED_LIMIT</th>\n",
       "      <th>DEVICE_CONDITION</th>\n",
       "      <th>WEATHER_CONDITION</th>\n",
       "      <th>LIGHTING_CONDITION</th>\n",
       "      <th>FIRST_CRASH_TYPE</th>\n",
       "      <th>TRAFFICWAY_TYPE</th>\n",
       "      <th>ROADWAY_SURFACE_COND</th>\n",
       "      <th>INJURIES_TOTAL</th>\n",
       "      <th>CRASH_HOUR</th>\n",
       "      <th>CRASH_DAY_OF_WEEK</th>\n",
       "      <th>CRASH_MONTH</th>\n",
       "      <th>VEHICLE_TYPE</th>\n",
       "      <th>PERSON_TYPE</th>\n",
       "      <th>SEX</th>\n",
       "      <th>AGE</th>\n",
       "      <th>SAFETY_EQUIPMENT</th>\n",
       "      <th>AIRBAG_DEPLOYED</th>\n",
       "      <th>DRIVER_VISION</th>\n",
       "    </tr>\n",
       "  </thead>\n",
       "  <tbody>\n",
       "    <tr>\n",
       "      <th>0</th>\n",
       "      <td>0-30</td>\n",
       "      <td>Unknown</td>\n",
       "      <td>Clear</td>\n",
       "      <td>Day</td>\n",
       "      <td>Moving</td>\n",
       "      <td>Parking lot</td>\n",
       "      <td>Dry</td>\n",
       "      <td>0</td>\n",
       "      <td>Afternoon</td>\n",
       "      <td>3</td>\n",
       "      <td>7</td>\n",
       "      <td>Car</td>\n",
       "      <td>DRIVER</td>\n",
       "      <td>F</td>\n",
       "      <td>Senior</td>\n",
       "      <td>Unknown</td>\n",
       "      <td>Unknown</td>\n",
       "      <td>Unknown/Other</td>\n",
       "    </tr>\n",
       "    <tr>\n",
       "      <th>1</th>\n",
       "      <td>0-30</td>\n",
       "      <td>Unknown</td>\n",
       "      <td>Clear</td>\n",
       "      <td>Day</td>\n",
       "      <td>Moving</td>\n",
       "      <td>Parking lot</td>\n",
       "      <td>Dry</td>\n",
       "      <td>0</td>\n",
       "      <td>Afternoon</td>\n",
       "      <td>3</td>\n",
       "      <td>7</td>\n",
       "      <td>Car</td>\n",
       "      <td>DRIVER</td>\n",
       "      <td>F</td>\n",
       "      <td>Adult</td>\n",
       "      <td>Unknown</td>\n",
       "      <td>Unknown</td>\n",
       "      <td>Unknown/Other</td>\n",
       "    </tr>\n",
       "    <tr>\n",
       "      <th>3</th>\n",
       "      <td>0-30</td>\n",
       "      <td>Unknown</td>\n",
       "      <td>Clear</td>\n",
       "      <td>Day</td>\n",
       "      <td>Moving</td>\n",
       "      <td>Parking lot</td>\n",
       "      <td>Dry</td>\n",
       "      <td>0</td>\n",
       "      <td>Afternoon</td>\n",
       "      <td>3</td>\n",
       "      <td>7</td>\n",
       "      <td>Car</td>\n",
       "      <td>DRIVER</td>\n",
       "      <td>F</td>\n",
       "      <td>Senior</td>\n",
       "      <td>Unknown</td>\n",
       "      <td>Unknown</td>\n",
       "      <td>Unknown/Other</td>\n",
       "    </tr>\n",
       "    <tr>\n",
       "      <th>4</th>\n",
       "      <td>0-30</td>\n",
       "      <td>Unknown</td>\n",
       "      <td>Clear</td>\n",
       "      <td>Day</td>\n",
       "      <td>Moving</td>\n",
       "      <td>Parking lot</td>\n",
       "      <td>Dry</td>\n",
       "      <td>0</td>\n",
       "      <td>Afternoon</td>\n",
       "      <td>3</td>\n",
       "      <td>7</td>\n",
       "      <td>Car</td>\n",
       "      <td>DRIVER</td>\n",
       "      <td>F</td>\n",
       "      <td>Adult</td>\n",
       "      <td>Unknown</td>\n",
       "      <td>Unknown</td>\n",
       "      <td>Unknown/Other</td>\n",
       "    </tr>\n",
       "    <tr>\n",
       "      <th>9</th>\n",
       "      <td>0-30</td>\n",
       "      <td>Not Working</td>\n",
       "      <td>Clear</td>\n",
       "      <td>Day</td>\n",
       "      <td>Moving</td>\n",
       "      <td>Other/Unknown</td>\n",
       "      <td>Dry</td>\n",
       "      <td>0</td>\n",
       "      <td>Morning</td>\n",
       "      <td>7</td>\n",
       "      <td>12</td>\n",
       "      <td>Car</td>\n",
       "      <td>DRIVER</td>\n",
       "      <td>F</td>\n",
       "      <td>Adult</td>\n",
       "      <td>Unknown</td>\n",
       "      <td>Not Deployed</td>\n",
       "      <td>Not Obscured</td>\n",
       "    </tr>\n",
       "  </tbody>\n",
       "</table>\n",
       "</div>"
      ],
      "text/plain": [
       "  POSTED_SPEED_LIMIT DEVICE_CONDITION WEATHER_CONDITION LIGHTING_CONDITION  \\\n",
       "0               0-30          Unknown             Clear                Day   \n",
       "1               0-30          Unknown             Clear                Day   \n",
       "3               0-30          Unknown             Clear                Day   \n",
       "4               0-30          Unknown             Clear                Day   \n",
       "9               0-30      Not Working             Clear                Day   \n",
       "\n",
       "  FIRST_CRASH_TYPE TRAFFICWAY_TYPE ROADWAY_SURFACE_COND  INJURIES_TOTAL  \\\n",
       "0           Moving     Parking lot                  Dry               0   \n",
       "1           Moving     Parking lot                  Dry               0   \n",
       "3           Moving     Parking lot                  Dry               0   \n",
       "4           Moving     Parking lot                  Dry               0   \n",
       "9           Moving   Other/Unknown                  Dry               0   \n",
       "\n",
       "  CRASH_HOUR  CRASH_DAY_OF_WEEK  CRASH_MONTH VEHICLE_TYPE PERSON_TYPE SEX  \\\n",
       "0  Afternoon                  3            7          Car      DRIVER   F   \n",
       "1  Afternoon                  3            7          Car      DRIVER   F   \n",
       "3  Afternoon                  3            7          Car      DRIVER   F   \n",
       "4  Afternoon                  3            7          Car      DRIVER   F   \n",
       "9    Morning                  7           12          Car      DRIVER   F   \n",
       "\n",
       "      AGE SAFETY_EQUIPMENT AIRBAG_DEPLOYED  DRIVER_VISION  \n",
       "0  Senior          Unknown         Unknown  Unknown/Other  \n",
       "1   Adult          Unknown         Unknown  Unknown/Other  \n",
       "3  Senior          Unknown         Unknown  Unknown/Other  \n",
       "4   Adult          Unknown         Unknown  Unknown/Other  \n",
       "9   Adult          Unknown    Not Deployed   Not Obscured  "
      ]
     },
     "execution_count": 881,
     "metadata": {},
     "output_type": "execute_result"
    }
   ],
   "source": [
    "merged2.head()"
   ]
  },
  {
   "cell_type": "code",
   "execution_count": 882,
   "metadata": {},
   "outputs": [
    {
     "data": {
      "text/plain": [
       "113546"
      ]
     },
     "execution_count": 882,
     "metadata": {},
     "output_type": "execute_result"
    }
   ],
   "source": [
    "merged2.duplicated().sum()"
   ]
  },
  {
   "cell_type": "code",
   "execution_count": 883,
   "metadata": {},
   "outputs": [],
   "source": [
    "merged2.drop_duplicates(keep='first', inplace=True)"
   ]
  },
  {
   "cell_type": "code",
   "execution_count": 884,
   "metadata": {},
   "outputs": [
    {
     "name": "stdout",
     "output_type": "stream",
     "text": [
      "<class 'pandas.core.frame.DataFrame'>\n",
      "Int64Index: 125368 entries, 0 to 492018\n",
      "Data columns (total 18 columns):\n",
      " #   Column                Non-Null Count   Dtype \n",
      "---  ------                --------------   ----- \n",
      " 0   POSTED_SPEED_LIMIT    125368 non-null  object\n",
      " 1   DEVICE_CONDITION      125368 non-null  object\n",
      " 2   WEATHER_CONDITION     125368 non-null  object\n",
      " 3   LIGHTING_CONDITION    125368 non-null  object\n",
      " 4   FIRST_CRASH_TYPE      125368 non-null  object\n",
      " 5   TRAFFICWAY_TYPE       125368 non-null  object\n",
      " 6   ROADWAY_SURFACE_COND  125368 non-null  object\n",
      " 7   INJURIES_TOTAL        125368 non-null  int64 \n",
      " 8   CRASH_HOUR            125368 non-null  object\n",
      " 9   CRASH_DAY_OF_WEEK     125368 non-null  int64 \n",
      " 10  CRASH_MONTH           125368 non-null  int64 \n",
      " 11  VEHICLE_TYPE          125368 non-null  object\n",
      " 12  PERSON_TYPE           125368 non-null  object\n",
      " 13  SEX                   125368 non-null  object\n",
      " 14  AGE                   125368 non-null  object\n",
      " 15  SAFETY_EQUIPMENT      125368 non-null  object\n",
      " 16  AIRBAG_DEPLOYED       125368 non-null  object\n",
      " 17  DRIVER_VISION         125368 non-null  object\n",
      "dtypes: int64(3), object(15)\n",
      "memory usage: 18.2+ MB\n"
     ]
    }
   ],
   "source": [
    "merged2.info()"
   ]
  },
  {
   "cell_type": "code",
   "execution_count": 885,
   "metadata": {},
   "outputs": [
    {
     "data": {
      "text/plain": [
       "0"
      ]
     },
     "execution_count": 885,
     "metadata": {},
     "output_type": "execute_result"
    }
   ],
   "source": [
    "merged2.duplicated().sum()"
   ]
  },
  {
   "cell_type": "markdown",
   "metadata": {},
   "source": [
    "***"
   ]
  },
  {
   "cell_type": "markdown",
   "metadata": {},
   "source": [
    "## Visual Inspection of Features vs Target (Injury)"
   ]
  },
  {
   "cell_type": "code",
   "execution_count": 886,
   "metadata": {},
   "outputs": [
    {
     "data": {
      "text/plain": [
       "<AxesSubplot:xlabel='POSTED_SPEED_LIMIT', ylabel='count'>"
      ]
     },
     "execution_count": 886,
     "metadata": {},
     "output_type": "execute_result"
    },
    {
     "data": {
      "image/png": "[encoded data removed]",
      "text/plain": [
       "<Figure size 432x288 with 1 Axes>"
      ]
     },
     "metadata": {
      "needs_background": "light"
     },
     "output_type": "display_data"
    }
   ],
   "source": [
    "sns.countplot(x='POSTED_SPEED_LIMIT', hue = 'INJURIES_TOTAL', data=merged2)"
   ]
  },
  {
   "cell_type": "code",
   "execution_count": 887,
   "metadata": {},
   "outputs": [
    {
     "data": {
      "text/plain": [
       "<AxesSubplot:xlabel='DEVICE_CONDITION', ylabel='count'>"
      ]
     },
     "execution_count": 887,
     "metadata": {},
     "output_type": "execute_result"
    },
    {
     "data": {
      "image/png": "[encoded data removed]",
      "text/plain": [
       "<Figure size 432x288 with 1 Axes>"
      ]
     },
     "metadata": {
      "needs_background": "light"
     },
     "output_type": "display_data"
    }
   ],
   "source": [
    "sns.countplot(x='DEVICE_CONDITION', hue = 'INJURIES_TOTAL', data=merged2)"
   ]
  },
  {
   "cell_type": "code",
   "execution_count": 888,
   "metadata": {},
   "outputs": [
    {
     "data": {
      "image/png": "[encoded data removed]",
      "text/plain": [
       "<Figure size 432x288 with 1 Axes>"
      ]
     },
     "metadata": {
      "needs_background": "light"
     },
     "output_type": "display_data"
    }
   ],
   "source": [
    "sns.countplot(x='WEATHER_CONDITION', hue = 'INJURIES_TOTAL', data=merged2)\n",
    "plt.xticks(rotation=45);"
   ]
  },
  {
   "cell_type": "code",
   "execution_count": 889,
   "metadata": {},
   "outputs": [
    {
     "data": {
      "text/plain": [
       "<AxesSubplot:xlabel='LIGHTING_CONDITION', ylabel='count'>"
      ]
     },
     "execution_count": 889,
     "metadata": {},
     "output_type": "execute_result"
    },
    {
     "data": {
      "image/png": "[encoded data removed]",
      "text/plain": [
       "<Figure size 432x288 with 1 Axes>"
      ]
     },
     "metadata": {
      "needs_background": "light"
     },
     "output_type": "display_data"
    }
   ],
   "source": [
    "sns.countplot(x='LIGHTING_CONDITION', hue = 'INJURIES_TOTAL', data=merged2)"
   ]
  },
  {
   "cell_type": "code",
   "execution_count": 890,
   "metadata": {},
   "outputs": [
    {
     "data": {
      "text/plain": [
       "<AxesSubplot:xlabel='FIRST_CRASH_TYPE', ylabel='count'>"
      ]
     },
     "execution_count": 890,
     "metadata": {},
     "output_type": "execute_result"
    },
    {
     "data": {
      "image/png": "[encoded data removed]",
      "text/plain": [
       "<Figure size 432x288 with 1 Axes>"
      ]
     },
     "metadata": {
      "needs_background": "light"
     },
     "output_type": "display_data"
    }
   ],
   "source": [
    "sns.countplot(x='FIRST_CRASH_TYPE', hue = 'INJURIES_TOTAL', data=merged2)"
   ]
  },
  {
   "cell_type": "code",
   "execution_count": 891,
   "metadata": {},
   "outputs": [
    {
     "data": {
      "image/png": "[encoded data removed]",
      "text/plain": [
       "<Figure size 432x288 with 1 Axes>"
      ]
     },
     "metadata": {
      "needs_background": "light"
     },
     "output_type": "display_data"
    }
   ],
   "source": [
    "sns.countplot(x='TRAFFICWAY_TYPE', hue = 'INJURIES_TOTAL', data=merged2)\n",
    "plt.xticks(rotation=45);"
   ]
  },
  {
   "cell_type": "code",
   "execution_count": 892,
   "metadata": {},
   "outputs": [
    {
     "data": {
      "text/plain": [
       "<AxesSubplot:xlabel='ROADWAY_SURFACE_COND', ylabel='count'>"
      ]
     },
     "execution_count": 892,
     "metadata": {},
     "output_type": "execute_result"
    },
    {
     "data": {
      "image/png": "[encoded data removed]",
      "text/plain": [
       "<Figure size 432x288 with 1 Axes>"
      ]
     },
     "metadata": {
      "needs_background": "light"
     },
     "output_type": "display_data"
    }
   ],
   "source": [
    "sns.countplot(x='ROADWAY_SURFACE_COND', hue = 'INJURIES_TOTAL', data=merged2)"
   ]
  },
  {
   "cell_type": "code",
   "execution_count": 893,
   "metadata": {},
   "outputs": [
    {
     "data": {
      "text/plain": [
       "<AxesSubplot:xlabel='CRASH_HOUR', ylabel='count'>"
      ]
     },
     "execution_count": 893,
     "metadata": {},
     "output_type": "execute_result"
    },
    {
     "data": {
      "image/png": "[encoded data removed]",
      "text/plain": [
       "<Figure size 432x288 with 1 Axes>"
      ]
     },
     "metadata": {
      "needs_background": "light"
     },
     "output_type": "display_data"
    }
   ],
   "source": [
    "sns.countplot(x='CRASH_HOUR', hue = 'INJURIES_TOTAL', data=merged2)"
   ]
  },
  {
   "cell_type": "code",
   "execution_count": 894,
   "metadata": {},
   "outputs": [
    {
     "data": {
      "text/plain": [
       "<AxesSubplot:xlabel='CRASH_DAY_OF_WEEK', ylabel='count'>"
      ]
     },
     "execution_count": 894,
     "metadata": {},
     "output_type": "execute_result"
    },
    {
     "data": {
      "image/png": "[encoded data removed]",
      "text/plain": [
       "<Figure size 432x288 with 1 Axes>"
      ]
     },
     "metadata": {
      "needs_background": "light"
     },
     "output_type": "display_data"
    }
   ],
   "source": [
    "sns.countplot(x='CRASH_DAY_OF_WEEK', hue = 'INJURIES_TOTAL', data=merged2)"
   ]
  },
  {
   "cell_type": "code",
   "execution_count": 895,
   "metadata": {},
   "outputs": [
    {
     "data": {
      "text/plain": [
       "<AxesSubplot:xlabel='CRASH_MONTH', ylabel='count'>"
      ]
     },
     "execution_count": 895,
     "metadata": {},
     "output_type": "execute_result"
    },
    {
     "data": {
      "image/png": "[encoded data removed]",
      "text/plain": [
       "<Figure size 432x288 with 1 Axes>"
      ]
     },
     "metadata": {
      "needs_background": "light"
     },
     "output_type": "display_data"
    }
   ],
   "source": [
    "sns.countplot(x='CRASH_MONTH', hue = 'INJURIES_TOTAL', data=merged2)"
   ]
  },
  {
   "cell_type": "code",
   "execution_count": 897,
   "metadata": {},
   "outputs": [
    {
     "data": {
      "image/png": "[encoded data removed]",
      "text/plain": [
       "<Figure size 432x288 with 1 Axes>"
      ]
     },
     "metadata": {
      "needs_background": "light"
     },
     "output_type": "display_data"
    }
   ],
   "source": [
    "sns.countplot(x='VEHICLE_TYPE', hue = 'INJURIES_TOTAL', data=merged2)\n",
    "plt.xticks(rotation=45);"
   ]
  },
  {
   "cell_type": "code",
   "execution_count": 898,
   "metadata": {},
   "outputs": [
    {
     "data": {
      "text/plain": [
       "<AxesSubplot:xlabel='PERSON_TYPE', ylabel='count'>"
      ]
     },
     "execution_count": 898,
     "metadata": {},
     "output_type": "execute_result"
    },
    {
     "data": {
      "image/png": "[encoded data removed]",
      "text/plain": [
       "<Figure size 432x288 with 1 Axes>"
      ]
     },
     "metadata": {
      "needs_background": "light"
     },
     "output_type": "display_data"
    }
   ],
   "source": [
    "sns.countplot(x='PERSON_TYPE', hue = 'INJURIES_TOTAL', data=merged2)"
   ]
  },
  {
   "cell_type": "code",
   "execution_count": 899,
   "metadata": {},
   "outputs": [
    {
     "data": {
      "text/plain": [
       "<AxesSubplot:xlabel='SEX', ylabel='count'>"
      ]
     },
     "execution_count": 899,
     "metadata": {},
     "output_type": "execute_result"
    },
    {
     "data": {
      "image/png": "[encoded data removed]",
      "text/plain": [
       "<Figure size 432x288 with 1 Axes>"
      ]
     },
     "metadata": {
      "needs_background": "light"
     },
     "output_type": "display_data"
    }
   ],
   "source": [
    "sns.countplot(x='SEX', hue = 'INJURIES_TOTAL', data=merged2)"
   ]
  },
  {
   "cell_type": "code",
   "execution_count": 900,
   "metadata": {},
   "outputs": [
    {
     "data": {
      "text/plain": [
       "<AxesSubplot:xlabel='AGE', ylabel='count'>"
      ]
     },
     "execution_count": 900,
     "metadata": {},
     "output_type": "execute_result"
    },
    {
     "data": {
      "image/png": "[encoded data removed]",
      "text/plain": [
       "<Figure size 432x288 with 1 Axes>"
      ]
     },
     "metadata": {
      "needs_background": "light"
     },
     "output_type": "display_data"
    }
   ],
   "source": [
    "sns.countplot(x='AGE', hue = 'INJURIES_TOTAL', data=merged2)"
   ]
  },
  {
   "cell_type": "code",
   "execution_count": 901,
   "metadata": {},
   "outputs": [
    {
     "data": {
      "text/plain": [
       "<AxesSubplot:xlabel='SAFETY_EQUIPMENT', ylabel='count'>"
      ]
     },
     "execution_count": 901,
     "metadata": {},
     "output_type": "execute_result"
    },
    {
     "data": {
      "image/png": "[encoded data removed]",
      "text/plain": [
       "<Figure size 432x288 with 1 Axes>"
      ]
     },
     "metadata": {
      "needs_background": "light"
     },
     "output_type": "display_data"
    }
   ],
   "source": [
    "sns.countplot(x='SAFETY_EQUIPMENT', hue = 'INJURIES_TOTAL', data=merged2)"
   ]
  },
  {
   "cell_type": "code",
   "execution_count": 902,
   "metadata": {},
   "outputs": [
    {
     "data": {
      "text/plain": [
       "<AxesSubplot:xlabel='AIRBAG_DEPLOYED', ylabel='count'>"
      ]
     },
     "execution_count": 902,
     "metadata": {},
     "output_type": "execute_result"
    },
    {
     "data": {
      "image/png": "[encoded data removed]",
      "text/plain": [
       "<Figure size 432x288 with 1 Axes>"
      ]
     },
     "metadata": {
      "needs_background": "light"
     },
     "output_type": "display_data"
    }
   ],
   "source": [
    "sns.countplot(x='AIRBAG_DEPLOYED', hue = 'INJURIES_TOTAL', data=merged2)"
   ]
  },
  {
   "cell_type": "code",
   "execution_count": 903,
   "metadata": {},
   "outputs": [
    {
     "data": {
      "text/plain": [
       "<AxesSubplot:xlabel='DRIVER_VISION', ylabel='count'>"
      ]
     },
     "execution_count": 903,
     "metadata": {},
     "output_type": "execute_result"
    },
    {
     "data": {
      "image/png": "[encoded data removed]",
      "text/plain": [
       "<Figure size 432x288 with 1 Axes>"
      ]
     },
     "metadata": {
      "needs_background": "light"
     },
     "output_type": "display_data"
    }
   ],
   "source": [
    "sns.countplot(x='DRIVER_VISION', hue = 'INJURIES_TOTAL', data=merged2)"
   ]
  },
  {
   "cell_type": "code",
   "execution_count": 904,
   "metadata": {},
   "outputs": [],
   "source": [
    "#after visual inspection is appears that PERSON_TYPE\n",
    "# will not be helpful as it is so skewed and will be dropped"
   ]
  },
  {
   "cell_type": "code",
   "execution_count": 905,
   "metadata": {},
   "outputs": [],
   "source": [
    "merged2.drop('PERSON_TYPE', axis =1, inplace=True)"
   ]
  },
  {
   "cell_type": "code",
   "execution_count": 906,
   "metadata": {
    "scrolled": true
   },
   "outputs": [
    {
     "data": {
      "text/html": [
       "<div>\n",
       "<style scoped>\n",
       "    .dataframe tbody tr th:only-of-type {\n",
       "        vertical-align: middle;\n",
       "    }\n",
       "\n",
       "    .dataframe tbody tr th {\n",
       "        vertical-align: top;\n",
       "    }\n",
       "\n",
       "    .dataframe thead th {\n",
       "        text-align: right;\n",
       "    }\n",
       "</style>\n",
       "<table border=\"1\" class=\"dataframe\">\n",
       "  <thead>\n",
       "    <tr style=\"text-align: right;\">\n",
       "      <th></th>\n",
       "      <th>POSTED_SPEED_LIMIT</th>\n",
       "      <th>DEVICE_CONDITION</th>\n",
       "      <th>WEATHER_CONDITION</th>\n",
       "      <th>LIGHTING_CONDITION</th>\n",
       "      <th>FIRST_CRASH_TYPE</th>\n",
       "      <th>TRAFFICWAY_TYPE</th>\n",
       "      <th>ROADWAY_SURFACE_COND</th>\n",
       "      <th>INJURIES_TOTAL</th>\n",
       "      <th>CRASH_HOUR</th>\n",
       "      <th>CRASH_DAY_OF_WEEK</th>\n",
       "      <th>CRASH_MONTH</th>\n",
       "      <th>VEHICLE_TYPE</th>\n",
       "      <th>SEX</th>\n",
       "      <th>AGE</th>\n",
       "      <th>SAFETY_EQUIPMENT</th>\n",
       "      <th>AIRBAG_DEPLOYED</th>\n",
       "      <th>DRIVER_VISION</th>\n",
       "    </tr>\n",
       "  </thead>\n",
       "  <tbody>\n",
       "    <tr>\n",
       "      <th>0</th>\n",
       "      <td>0-30</td>\n",
       "      <td>Unknown</td>\n",
       "      <td>Clear</td>\n",
       "      <td>Day</td>\n",
       "      <td>Moving</td>\n",
       "      <td>Parking lot</td>\n",
       "      <td>Dry</td>\n",
       "      <td>0</td>\n",
       "      <td>Afternoon</td>\n",
       "      <td>3</td>\n",
       "      <td>7</td>\n",
       "      <td>Car</td>\n",
       "      <td>F</td>\n",
       "      <td>Senior</td>\n",
       "      <td>Unknown</td>\n",
       "      <td>Unknown</td>\n",
       "      <td>Unknown/Other</td>\n",
       "    </tr>\n",
       "    <tr>\n",
       "      <th>1</th>\n",
       "      <td>0-30</td>\n",
       "      <td>Unknown</td>\n",
       "      <td>Clear</td>\n",
       "      <td>Day</td>\n",
       "      <td>Moving</td>\n",
       "      <td>Parking lot</td>\n",
       "      <td>Dry</td>\n",
       "      <td>0</td>\n",
       "      <td>Afternoon</td>\n",
       "      <td>3</td>\n",
       "      <td>7</td>\n",
       "      <td>Car</td>\n",
       "      <td>F</td>\n",
       "      <td>Adult</td>\n",
       "      <td>Unknown</td>\n",
       "      <td>Unknown</td>\n",
       "      <td>Unknown/Other</td>\n",
       "    </tr>\n",
       "    <tr>\n",
       "      <th>9</th>\n",
       "      <td>0-30</td>\n",
       "      <td>Not Working</td>\n",
       "      <td>Clear</td>\n",
       "      <td>Day</td>\n",
       "      <td>Moving</td>\n",
       "      <td>Other/Unknown</td>\n",
       "      <td>Dry</td>\n",
       "      <td>0</td>\n",
       "      <td>Morning</td>\n",
       "      <td>7</td>\n",
       "      <td>12</td>\n",
       "      <td>Car</td>\n",
       "      <td>F</td>\n",
       "      <td>Adult</td>\n",
       "      <td>Unknown</td>\n",
       "      <td>Not Deployed</td>\n",
       "      <td>Not Obscured</td>\n",
       "    </tr>\n",
       "    <tr>\n",
       "      <th>33</th>\n",
       "      <td>30-60</td>\n",
       "      <td>Not Working</td>\n",
       "      <td>Clear</td>\n",
       "      <td>Night</td>\n",
       "      <td>Moving</td>\n",
       "      <td>Road/Street</td>\n",
       "      <td>Dry</td>\n",
       "      <td>0</td>\n",
       "      <td>Evening/Night</td>\n",
       "      <td>7</td>\n",
       "      <td>10</td>\n",
       "      <td>Car</td>\n",
       "      <td>M</td>\n",
       "      <td>Young</td>\n",
       "      <td>Used</td>\n",
       "      <td>Not Deployed</td>\n",
       "      <td>Not Obscured</td>\n",
       "    </tr>\n",
       "    <tr>\n",
       "      <th>34</th>\n",
       "      <td>30-60</td>\n",
       "      <td>Not Working</td>\n",
       "      <td>Clear</td>\n",
       "      <td>Night</td>\n",
       "      <td>Moving</td>\n",
       "      <td>Road/Street</td>\n",
       "      <td>Dry</td>\n",
       "      <td>0</td>\n",
       "      <td>Evening/Night</td>\n",
       "      <td>7</td>\n",
       "      <td>10</td>\n",
       "      <td>Car</td>\n",
       "      <td>M</td>\n",
       "      <td>Adult</td>\n",
       "      <td>Used</td>\n",
       "      <td>Not Deployed</td>\n",
       "      <td>Not Obscured</td>\n",
       "    </tr>\n",
       "  </tbody>\n",
       "</table>\n",
       "</div>"
      ],
      "text/plain": [
       "   POSTED_SPEED_LIMIT DEVICE_CONDITION WEATHER_CONDITION LIGHTING_CONDITION  \\\n",
       "0                0-30          Unknown             Clear                Day   \n",
       "1                0-30          Unknown             Clear                Day   \n",
       "9                0-30      Not Working             Clear                Day   \n",
       "33              30-60      Not Working             Clear              Night   \n",
       "34              30-60      Not Working             Clear              Night   \n",
       "\n",
       "   FIRST_CRASH_TYPE TRAFFICWAY_TYPE ROADWAY_SURFACE_COND  INJURIES_TOTAL  \\\n",
       "0            Moving     Parking lot                  Dry               0   \n",
       "1            Moving     Parking lot                  Dry               0   \n",
       "9            Moving   Other/Unknown                  Dry               0   \n",
       "33           Moving     Road/Street                  Dry               0   \n",
       "34           Moving     Road/Street                  Dry               0   \n",
       "\n",
       "       CRASH_HOUR  CRASH_DAY_OF_WEEK  CRASH_MONTH VEHICLE_TYPE SEX     AGE  \\\n",
       "0       Afternoon                  3            7          Car   F  Senior   \n",
       "1       Afternoon                  3            7          Car   F   Adult   \n",
       "9         Morning                  7           12          Car   F   Adult   \n",
       "33  Evening/Night                  7           10          Car   M   Young   \n",
       "34  Evening/Night                  7           10          Car   M   Adult   \n",
       "\n",
       "   SAFETY_EQUIPMENT AIRBAG_DEPLOYED  DRIVER_VISION  \n",
       "0           Unknown         Unknown  Unknown/Other  \n",
       "1           Unknown         Unknown  Unknown/Other  \n",
       "9           Unknown    Not Deployed   Not Obscured  \n",
       "33             Used    Not Deployed   Not Obscured  \n",
       "34             Used    Not Deployed   Not Obscured  "
      ]
     },
     "execution_count": 906,
     "metadata": {},
     "output_type": "execute_result"
    }
   ],
   "source": [
    "merged2.head()"
   ]
  },
  {
   "cell_type": "code",
   "execution_count": 907,
   "metadata": {},
   "outputs": [
    {
     "data": {
      "text/plain": [
       "9"
      ]
     },
     "execution_count": 907,
     "metadata": {},
     "output_type": "execute_result"
    }
   ],
   "source": [
    "merged2.duplicated().sum()"
   ]
  },
  {
   "cell_type": "code",
   "execution_count": 908,
   "metadata": {},
   "outputs": [],
   "source": [
    "merged2.drop_duplicates(keep='first', inplace=True)"
   ]
  },
  {
   "cell_type": "code",
   "execution_count": 909,
   "metadata": {},
   "outputs": [
    {
     "data": {
      "text/plain": [
       "0"
      ]
     },
     "execution_count": 909,
     "metadata": {},
     "output_type": "execute_result"
    }
   ],
   "source": [
    "merged2.duplicated().sum()"
   ]
  },
  {
   "cell_type": "code",
   "execution_count": 910,
   "metadata": {},
   "outputs": [],
   "source": [
    "df = merged2"
   ]
  },
  {
   "cell_type": "code",
   "execution_count": 911,
   "metadata": {},
   "outputs": [
    {
     "data": {
      "text/plain": [
       "(125359, 17)"
      ]
     },
     "execution_count": 911,
     "metadata": {},
     "output_type": "execute_result"
    }
   ],
   "source": [
    "df.shape"
   ]
  },
  {
   "cell_type": "markdown",
   "metadata": {},
   "source": [
    "***"
   ]
  },
  {
   "cell_type": "markdown",
   "metadata": {},
   "source": [
    "# Begin Modeling "
   ]
  },
  {
   "cell_type": "markdown",
   "metadata": {},
   "source": [
    "## Setting up imports"
   ]
  },
  {
   "cell_type": "code",
   "execution_count": 912,
   "metadata": {},
   "outputs": [],
   "source": [
    "from sklearn.model_selection import train_test_split, GridSearchCV, cross_val_score\n",
    "from sklearn.pipeline import Pipeline\n",
    "from sklearn.preprocessing import StandardScaler, OneHotEncoder, FunctionTransformer\n",
    "from sklearn.impute import SimpleImputer\n",
    "from sklearn.compose import ColumnTransformer,  make_column_selector as selector\n",
    "from sklearn.linear_model import LogisticRegression\n",
    "from sklearn.ensemble import RandomForestClassifier, GradientBoostingClassifier\n",
    "from sklearn.metrics import plot_confusion_matrix, recall_score,\\\n",
    "    accuracy_score, precision_score, f1_score\n",
    "\n",
    "from sklearn.dummy import DummyClassifier\n",
    "from sklearn.neighbors import KNeighborsClassifier, NearestNeighbors\n",
    "from sklearn.inspection import permutation_importance\n",
    "from sklearn.metrics import roc_curve, plot_roc_curve"
   ]
  },
  {
   "cell_type": "markdown",
   "metadata": {},
   "source": [
    "### Scoring Function"
   ]
  },
  {
   "cell_type": "code",
   "execution_count": 913,
   "metadata": {},
   "outputs": [],
   "source": [
    "# from lecture, added roc curve\n",
    "\n",
    "def scoring(estimator, X, y):\n",
    "    '''\n",
    "    Prints the accuracy, precision, and recall score of the given fitted estimator and data.\n",
    "\n",
    "    Plots the confusion matrix and ROC/AUC.\n",
    "    '''\n",
    "    p_score = precision_score(y, estimator.predict(X))\n",
    "    r_score = recall_score(y, estimator.predict(X)) \n",
    "    \n",
    "    print(f'Accuracy: {estimator.score(X, y)}')\n",
    "    print(f'Precision: {p_score}')\n",
    "    print(f'Recall: {r_score}')\n",
    "    \n",
    "    plot_confusion_matrix(estimator, X, y)\n",
    "    plot_roc_curve(estimator, X, y)"
   ]
  },
  {
   "cell_type": "markdown",
   "metadata": {},
   "source": [
    "#### Train Test Split"
   ]
  },
  {
   "cell_type": "code",
   "execution_count": 914,
   "metadata": {},
   "outputs": [],
   "source": [
    "X = df.drop('INJURIES_TOTAL', axis=1)\n",
    "y = df.INJURIES_TOTAL"
   ]
  },
  {
   "cell_type": "code",
   "execution_count": 915,
   "metadata": {},
   "outputs": [],
   "source": [
    "X_train, X_test, y_train, y_test = train_test_split(X, y, random_state=42)"
   ]
  },
  {
   "cell_type": "markdown",
   "metadata": {},
   "source": [
    "#### Set Up for Pipelines"
   ]
  },
  {
   "cell_type": "code",
   "execution_count": 916,
   "metadata": {
    "scrolled": true
   },
   "outputs": [
    {
     "data": {
      "text/plain": [
       "['POSTED_SPEED_LIMIT',\n",
       " 'DEVICE_CONDITION',\n",
       " 'WEATHER_CONDITION',\n",
       " 'LIGHTING_CONDITION',\n",
       " 'FIRST_CRASH_TYPE',\n",
       " 'TRAFFICWAY_TYPE',\n",
       " 'ROADWAY_SURFACE_COND',\n",
       " 'CRASH_HOUR',\n",
       " 'VEHICLE_TYPE',\n",
       " 'SEX',\n",
       " 'AGE',\n",
       " 'SAFETY_EQUIPMENT',\n",
       " 'AIRBAG_DEPLOYED',\n",
       " 'DRIVER_VISION']"
      ]
     },
     "execution_count": 916,
     "metadata": {},
     "output_type": "execute_result"
    }
   ],
   "source": [
    "test = selector(dtype_include=object)\n",
    "\n",
    "test(X)"
   ]
  },
  {
   "cell_type": "code",
   "execution_count": 917,
   "metadata": {},
   "outputs": [],
   "source": [
    "#creating mini-pipelines for ColumnTransformer: numeric and categorical\n",
    "\n",
    "subpipe_num = Pipeline(steps=[\n",
    "    ('num_impute', SimpleImputer(strategy='median')),\n",
    "    ('ss', StandardScaler())\n",
    "])\n",
    "\n",
    "\n",
    "subpipe_cat = Pipeline(steps=[\n",
    "    ('cat_impute',SimpleImputer(strategy='most_frequent')),\n",
    "    ('ohe', OneHotEncoder(sparse=False, handle_unknown='ignore'))\n",
    "])\n"
   ]
  },
  {
   "cell_type": "code",
   "execution_count": 918,
   "metadata": {},
   "outputs": [],
   "source": [
    "CT = ColumnTransformer(transformers=[\n",
    "    ('subpipe_num', subpipe_num, selector(dtype_include=np.number)),\n",
    "     ('subpipe_cat', subpipe_cat, selector(dtype_include=object))], remainder='passthrough')"
   ]
  },
  {
   "cell_type": "markdown",
   "metadata": {},
   "source": [
    "### Dummy Model"
   ]
  },
  {
   "cell_type": "code",
   "execution_count": 919,
   "metadata": {},
   "outputs": [],
   "source": [
    "# The `ColumnTransformer` will take care of our preprocessing,\n",
    "# so now we can add our model at the end of the pipeline.\n",
    "\n",
    "dummy_model_pipe = Pipeline(steps=[\n",
    "    ('ct', CT),\n",
    "    ('dum', DummyClassifier(strategy='most_frequent'))\n",
    "])\n"
   ]
  },
  {
   "cell_type": "code",
   "execution_count": 920,
   "metadata": {},
   "outputs": [
    {
     "data": {
      "text/plain": [
       "Pipeline(steps=[('ct',\n",
       "                 ColumnTransformer(remainder='passthrough',\n",
       "                                   transformers=[('subpipe_num',\n",
       "                                                  Pipeline(steps=[('num_impute',\n",
       "                                                                   SimpleImputer(strategy='median')),\n",
       "                                                                  ('ss',\n",
       "                                                                   StandardScaler())]),\n",
       "                                                  <sklearn.compose._column_transformer.make_column_selector object at 0x7f8c918c0880>),\n",
       "                                                 ('subpipe_cat',\n",
       "                                                  Pipeline(steps=[('cat_impute',\n",
       "                                                                   SimpleImputer(strategy='most_frequent')),\n",
       "                                                                  ('ohe',\n",
       "                                                                   OneHotEncoder(handle_unknown='ignore',\n",
       "                                                                                 sparse=False))]),\n",
       "                                                  <sklearn.compose._column_transformer.make_column_selector object at 0x7f8c918c06a0>)])),\n",
       "                ('dum', DummyClassifier(strategy='most_frequent'))])"
      ]
     },
     "execution_count": 920,
     "metadata": {},
     "output_type": "execute_result"
    }
   ],
   "source": [
    "dummy_model_pipe.fit(X_train, y_train)"
   ]
  },
  {
   "cell_type": "code",
   "execution_count": 921,
   "metadata": {},
   "outputs": [
    {
     "data": {
      "text/plain": [
       "0.7791640076579451"
      ]
     },
     "execution_count": 921,
     "metadata": {},
     "output_type": "execute_result"
    }
   ],
   "source": [
    "dummy_model_pipe.score(X_test, y_test)"
   ]
  },
  {
   "cell_type": "markdown",
   "metadata": {},
   "source": [
    "### First Simple Model"
   ]
  },
  {
   "cell_type": "code",
   "execution_count": 922,
   "metadata": {},
   "outputs": [],
   "source": [
    "logreg_model_pipe = Pipeline([\n",
    "    ('ct', CT),\n",
    "    ('logreg', LogisticRegression(random_state=42, max_iter=1000))\n",
    "])"
   ]
  },
  {
   "cell_type": "code",
   "execution_count": 923,
   "metadata": {},
   "outputs": [
    {
     "data": {
      "text/plain": [
       "Pipeline(steps=[('ct',\n",
       "                 ColumnTransformer(remainder='passthrough',\n",
       "                                   transformers=[('subpipe_num',\n",
       "                                                  Pipeline(steps=[('num_impute',\n",
       "                                                                   SimpleImputer(strategy='median')),\n",
       "                                                                  ('ss',\n",
       "                                                                   StandardScaler())]),\n",
       "                                                  <sklearn.compose._column_transformer.make_column_selector object at 0x7f8c918c0880>),\n",
       "                                                 ('subpipe_cat',\n",
       "                                                  Pipeline(steps=[('cat_impute',\n",
       "                                                                   SimpleImputer(strategy='most_frequent')),\n",
       "                                                                  ('ohe',\n",
       "                                                                   OneHotEncoder(handle_unknown='ignore',\n",
       "                                                                                 sparse=False))]),\n",
       "                                                  <sklearn.compose._column_transformer.make_column_selector object at 0x7f8c918c06a0>)])),\n",
       "                ('logreg', LogisticRegression(max_iter=1000, random_state=42))])"
      ]
     },
     "execution_count": 923,
     "metadata": {},
     "output_type": "execute_result"
    }
   ],
   "source": [
    "logreg_model_pipe.fit(X_train, y_train)"
   ]
  },
  {
   "cell_type": "code",
   "execution_count": 924,
   "metadata": {},
   "outputs": [
    {
     "data": {
      "text/plain": [
       "0.8010402152756357"
      ]
     },
     "execution_count": 924,
     "metadata": {},
     "output_type": "execute_result"
    }
   ],
   "source": [
    "logreg_model_pipe.score(X_train, y_train)"
   ]
  },
  {
   "cell_type": "code",
   "execution_count": 925,
   "metadata": {},
   "outputs": [
    {
     "name": "stdout",
     "output_type": "stream",
     "text": [
      "Accuracy: 0.8005424377791959\n",
      "Precision: 0.5959335624284078\n",
      "Recall: 0.3006790926166739\n"
     ]
    },
    {
     "data": {
      "image/png": "[encoded data removed]",
      "text/plain": [
       "<Figure size 432x288 with 2 Axes>"
      ]
     },
     "metadata": {
      "needs_background": "light"
     },
     "output_type": "display_data"
    },
    {
     "data": {
      "image/png": "[encoded data removed]",
      "text/plain": [
       "<Figure size 432x288 with 1 Axes>"
      ]
     },
     "metadata": {
      "needs_background": "light"
     },
     "output_type": "display_data"
    }
   ],
   "source": [
    "scoring(logreg_model_pipe, X_test, y_test)"
   ]
  },
  {
   "cell_type": "code",
   "execution_count": 926,
   "metadata": {},
   "outputs": [
    {
     "data": {
      "text/plain": [
       "0.3996926918275233"
      ]
     },
     "execution_count": 926,
     "metadata": {},
     "output_type": "execute_result"
    }
   ],
   "source": [
    "f1_score(y_test, logreg_model_pipe.predict(X_test))"
   ]
  },
  {
   "cell_type": "code",
   "execution_count": 927,
   "metadata": {},
   "outputs": [],
   "source": [
    "#model is not great..."
   ]
  },
  {
   "cell_type": "markdown",
   "metadata": {},
   "source": [
    "### Random Forest Model"
   ]
  },
  {
   "cell_type": "code",
   "execution_count": 928,
   "metadata": {},
   "outputs": [],
   "source": [
    "rfc_model_pipe = Pipeline([('ct',CT),\n",
    "                           ('rfc',RandomForestClassifier(random_state=42))\n",
    "                          ])"
   ]
  },
  {
   "cell_type": "code",
   "execution_count": 929,
   "metadata": {},
   "outputs": [
    {
     "data": {
      "text/plain": [
       "Pipeline(steps=[('ct',\n",
       "                 ColumnTransformer(remainder='passthrough',\n",
       "                                   transformers=[('subpipe_num',\n",
       "                                                  Pipeline(steps=[('num_impute',\n",
       "                                                                   SimpleImputer(strategy='median')),\n",
       "                                                                  ('ss',\n",
       "                                                                   StandardScaler())]),\n",
       "                                                  <sklearn.compose._column_transformer.make_column_selector object at 0x7f8c918c0880>),\n",
       "                                                 ('subpipe_cat',\n",
       "                                                  Pipeline(steps=[('cat_impute',\n",
       "                                                                   SimpleImputer(strategy='most_frequent')),\n",
       "                                                                  ('ohe',\n",
       "                                                                   OneHotEncoder(handle_unknown='ignore',\n",
       "                                                                                 sparse=False))]),\n",
       "                                                  <sklearn.compose._column_transformer.make_column_selector object at 0x7f8c918c06a0>)])),\n",
       "                ('rfc', RandomForestClassifier(random_state=42))])"
      ]
     },
     "execution_count": 929,
     "metadata": {},
     "output_type": "execute_result"
    }
   ],
   "source": [
    "rfc_model_pipe.fit(X_train, y_train)"
   ]
  },
  {
   "cell_type": "code",
   "execution_count": 930,
   "metadata": {},
   "outputs": [
    {
     "data": {
      "text/plain": [
       "0.9652836128867569"
      ]
     },
     "execution_count": 930,
     "metadata": {},
     "output_type": "execute_result"
    }
   ],
   "source": [
    "rfc_model_pipe.score(X_train, y_train)"
   ]
  },
  {
   "cell_type": "code",
   "execution_count": 931,
   "metadata": {},
   "outputs": [],
   "source": [
    "#model is overfit"
   ]
  },
  {
   "cell_type": "code",
   "execution_count": 932,
   "metadata": {},
   "outputs": [
    {
     "name": "stdout",
     "output_type": "stream",
     "text": [
      "Accuracy: 0.7675175494575622\n",
      "Precision: 0.46016153678236194\n",
      "Recall: 0.30458026296777924\n"
     ]
    },
    {
     "data": {
      "image/png": "[encoded data removed]",
      "text/plain": [
       "<Figure size 432x288 with 2 Axes>"
      ]
     },
     "metadata": {
      "needs_background": "light"
     },
     "output_type": "display_data"
    },
    {
     "data": {
      "image/png": "[encoded data removed]",
      "text/plain": [
       "<Figure size 432x288 with 1 Axes>"
      ]
     },
     "metadata": {
      "needs_background": "light"
     },
     "output_type": "display_data"
    }
   ],
   "source": [
    "scoring(rfc_model_pipe, X_test, y_test)"
   ]
  },
  {
   "cell_type": "code",
   "execution_count": 933,
   "metadata": {},
   "outputs": [
    {
     "data": {
      "text/plain": [
       "0.36654494870457316"
      ]
     },
     "execution_count": 933,
     "metadata": {},
     "output_type": "execute_result"
    }
   ],
   "source": [
    "f1_score(y_test, rfc_model_pipe.predict(X_test))"
   ]
  },
  {
   "cell_type": "code",
   "execution_count": 934,
   "metadata": {},
   "outputs": [],
   "source": [
    "#about the same as logreg, but slightly worse"
   ]
  },
  {
   "cell_type": "markdown",
   "metadata": {},
   "source": [
    "### Gradient Booster"
   ]
  },
  {
   "cell_type": "code",
   "execution_count": 935,
   "metadata": {},
   "outputs": [],
   "source": [
    "gbc = GradientBoostingClassifier(random_state=42)\n",
    "\n",
    "gbc_model_pipe = Pipeline([('ct', CT), ('gbc',gbc)])"
   ]
  },
  {
   "cell_type": "code",
   "execution_count": 936,
   "metadata": {},
   "outputs": [
    {
     "data": {
      "text/plain": [
       "Pipeline(steps=[('ct',\n",
       "                 ColumnTransformer(remainder='passthrough',\n",
       "                                   transformers=[('subpipe_num',\n",
       "                                                  Pipeline(steps=[('num_impute',\n",
       "                                                                   SimpleImputer(strategy='median')),\n",
       "                                                                  ('ss',\n",
       "                                                                   StandardScaler())]),\n",
       "                                                  <sklearn.compose._column_transformer.make_column_selector object at 0x7f8c918c0880>),\n",
       "                                                 ('subpipe_cat',\n",
       "                                                  Pipeline(steps=[('cat_impute',\n",
       "                                                                   SimpleImputer(strategy='most_frequent')),\n",
       "                                                                  ('ohe',\n",
       "                                                                   OneHotEncoder(handle_unknown='ignore',\n",
       "                                                                                 sparse=False))]),\n",
       "                                                  <sklearn.compose._column_transformer.make_column_selector object at 0x7f8c918c06a0>)])),\n",
       "                ('gbc', GradientBoostingClassifier(random_state=42))])"
      ]
     },
     "execution_count": 936,
     "metadata": {},
     "output_type": "execute_result"
    }
   ],
   "source": [
    "gbc_model_pipe.fit(X_train, y_train)"
   ]
  },
  {
   "cell_type": "code",
   "execution_count": 937,
   "metadata": {},
   "outputs": [
    {
     "data": {
      "text/plain": [
       "0.8045182356757676"
      ]
     },
     "execution_count": 937,
     "metadata": {},
     "output_type": "execute_result"
    }
   ],
   "source": [
    "gbc_model_pipe.score(X_train, y_train)"
   ]
  },
  {
   "cell_type": "code",
   "execution_count": 938,
   "metadata": {},
   "outputs": [
    {
     "name": "stdout",
     "output_type": "stream",
     "text": [
      "Accuracy: 0.8029674537332483\n",
      "Precision: 0.6052483069977427\n",
      "Recall: 0.30992631122670133\n"
     ]
    },
    {
     "data": {
      "image/png": "[encoded data removed]",
      "text/plain": [
       "<Figure size 432x288 with 2 Axes>"
      ]
     },
     "metadata": {
      "needs_background": "light"
     },
     "output_type": "display_data"
    },
    {
     "data": {
      "image/png": "[encoded data removed]",
      "text/plain": [
       "<Figure size 432x288 with 1 Axes>"
      ]
     },
     "metadata": {
      "needs_background": "light"
     },
     "output_type": "display_data"
    }
   ],
   "source": [
    "scoring(gbc_model_pipe, X_test, y_test)"
   ]
  },
  {
   "cell_type": "code",
   "execution_count": 939,
   "metadata": {},
   "outputs": [
    {
     "data": {
      "text/plain": [
       "0.40993788819875776"
      ]
     },
     "execution_count": 939,
     "metadata": {},
     "output_type": "execute_result"
    }
   ],
   "source": [
    "f1_score(y_test, gbc_model_pipe.predict(X_test))"
   ]
  },
  {
   "cell_type": "code",
   "execution_count": 940,
   "metadata": {},
   "outputs": [],
   "source": [
    "#model still has issues, will conduct grid search next."
   ]
  },
  {
   "cell_type": "markdown",
   "metadata": {},
   "source": [
    "***"
   ]
  },
  {
   "cell_type": "markdown",
   "metadata": {},
   "source": [
    "## Grid Searching"
   ]
  },
  {
   "cell_type": "markdown",
   "metadata": {},
   "source": [
    "For model tuning I am going to focus on the Random Forests model. It had the highest recall score (at an amazing 0.32), but when dealing with predicting if an injury has occured there is a higher 'cost' for a false negative."
   ]
  },
  {
   "cell_type": "code",
   "execution_count": 941,
   "metadata": {},
   "outputs": [
    {
     "data": {
      "text/plain": [
       "Pipeline(steps=[('ct',\n",
       "                 ColumnTransformer(remainder='passthrough',\n",
       "                                   transformers=[('subpipe_num',\n",
       "                                                  Pipeline(steps=[('num_impute',\n",
       "                                                                   SimpleImputer(strategy='median')),\n",
       "                                                                  ('ss',\n",
       "                                                                   StandardScaler())]),\n",
       "                                                  <sklearn.compose._column_transformer.make_column_selector object at 0x7f8c918c0880>),\n",
       "                                                 ('subpipe_cat',\n",
       "                                                  Pipeline(steps=[('cat_impute',\n",
       "                                                                   SimpleImputer(strategy='most_frequent')),\n",
       "                                                                  ('ohe',\n",
       "                                                                   OneHotEncoder(handle_unknown='ignore',\n",
       "                                                                                 sparse=False))]),\n",
       "                                                  <sklearn.compose._column_transformer.make_column_selector object at 0x7f8c918c06a0>)])),\n",
       "                ('rfc', RandomForestClassifier(random_state=42))])"
      ]
     },
     "execution_count": 941,
     "metadata": {},
     "output_type": "execute_result"
    }
   ],
   "source": [
    "rfc_model_pipe"
   ]
  },
  {
   "cell_type": "code",
   "execution_count": null,
   "metadata": {},
   "outputs": [],
   "source": [
    "RandomForestClassifier()"
   ]
  },
  {
   "cell_type": "code",
   "execution_count": 942,
   "metadata": {},
   "outputs": [],
   "source": [
    "params = {}\n",
    "params['ct__subpipe_num__num_impute__strategy'] = ['mean', 'median']\n",
    "params['rfc__criterion'] = ['gini', 'entropy']\n",
    "params['rfc__min_samples_leaf'] = [1,5,10]"
   ]
  },
  {
   "cell_type": "code",
   "execution_count": 943,
   "metadata": {},
   "outputs": [
    {
     "data": {
      "text/plain": [
       "{'ct__subpipe_num__num_impute__strategy': ['mean', 'median'],\n",
       " 'rfc__criterion': ['gini', 'entropy'],\n",
       " 'rfc__min_samples_leaf': [1, 5, 10]}"
      ]
     },
     "execution_count": 943,
     "metadata": {},
     "output_type": "execute_result"
    }
   ],
   "source": [
    "params"
   ]
  },
  {
   "cell_type": "code",
   "execution_count": 946,
   "metadata": {},
   "outputs": [],
   "source": [
    "gs = GridSearchCV(rfc_model_pipe,params, cv=10, verbose=1, n_jobs=-1)"
   ]
  },
  {
   "cell_type": "code",
   "execution_count": 947,
   "metadata": {},
   "outputs": [
    {
     "name": "stdout",
     "output_type": "stream",
     "text": [
      "Fitting 10 folds for each of 12 candidates, totalling 120 fits\n"
     ]
    },
    {
     "name": "stderr",
     "output_type": "stream",
     "text": [
      "[Parallel(n_jobs=-1)]: Using backend LokyBackend with 8 concurrent workers.\n",
      "[Parallel(n_jobs=-1)]: Done  34 tasks      | elapsed:  3.4min\n",
      "[Parallel(n_jobs=-1)]: Done 120 out of 120 | elapsed: 10.9min finished\n"
     ]
    },
    {
     "data": {
      "text/plain": [
       "GridSearchCV(cv=10,\n",
       "             estimator=Pipeline(steps=[('ct',\n",
       "                                        ColumnTransformer(remainder='passthrough',\n",
       "                                                          transformers=[('subpipe_num',\n",
       "                                                                         Pipeline(steps=[('num_impute',\n",
       "                                                                                          SimpleImputer(strategy='median')),\n",
       "                                                                                         ('ss',\n",
       "                                                                                          StandardScaler())]),\n",
       "                                                                         <sklearn.compose._column_transformer.make_column_selector object at 0x7f8c918c0880>),\n",
       "                                                                        ('subpipe_cat',\n",
       "                                                                         Pipeline(steps=[('cat_impute',\n",
       "                                                                                          SimpleImput...\n",
       "                                                                                          OneHotEncoder(handle_unknown='ignore',\n",
       "                                                                                                        sparse=False))]),\n",
       "                                                                         <sklearn.compose._column_transformer.make_column_selector object at 0x7f8c918c06a0>)])),\n",
       "                                       ('rfc',\n",
       "                                        RandomForestClassifier(random_state=42))]),\n",
       "             n_jobs=-1,\n",
       "             param_grid={'ct__subpipe_num__num_impute__strategy': ['mean',\n",
       "                                                                   'median'],\n",
       "                         'rfc__criterion': ['gini', 'entropy'],\n",
       "                         'rfc__min_samples_leaf': [1, 5, 10]},\n",
       "             verbose=1)"
      ]
     },
     "execution_count": 947,
     "metadata": {},
     "output_type": "execute_result"
    }
   ],
   "source": [
    "gs.fit(X_train, y_train)"
   ]
  },
  {
   "cell_type": "code",
   "execution_count": 948,
   "metadata": {},
   "outputs": [
    {
     "data": {
      "text/plain": [
       "{'ct__subpipe_num__num_impute__strategy': 'mean',\n",
       " 'rfc__criterion': 'entropy',\n",
       " 'rfc__min_samples_leaf': 5}"
      ]
     },
     "execution_count": 948,
     "metadata": {},
     "output_type": "execute_result"
    }
   ],
   "source": [
    "gs.best_params_"
   ]
  },
  {
   "cell_type": "code",
   "execution_count": 949,
   "metadata": {},
   "outputs": [
    {
     "data": {
      "text/plain": [
       "0.8291940990650826"
      ]
     },
     "execution_count": 949,
     "metadata": {},
     "output_type": "execute_result"
    }
   ],
   "source": [
    "gs.score(X_train, y_train)"
   ]
  },
  {
   "cell_type": "code",
   "execution_count": 950,
   "metadata": {},
   "outputs": [
    {
     "data": {
      "text/plain": [
       "0.8074664964901085"
      ]
     },
     "execution_count": 950,
     "metadata": {},
     "output_type": "execute_result"
    }
   ],
   "source": [
    "gs.score(X_test, y_test)"
   ]
  },
  {
   "cell_type": "code",
   "execution_count": 951,
   "metadata": {},
   "outputs": [
    {
     "data": {
      "text/plain": [
       "0.4076182996269389"
      ]
     },
     "execution_count": 951,
     "metadata": {},
     "output_type": "execute_result"
    }
   ],
   "source": [
    "f1_score(y_test, gs.predict(X_test))"
   ]
  },
  {
   "cell_type": "markdown",
   "metadata": {},
   "source": [
    "## Final Model"
   ]
  },
  {
   "cell_type": "markdown",
   "metadata": {},
   "source": [
    "Taking best parameters from grid search to make final model."
   ]
  },
  {
   "cell_type": "code",
   "execution_count": 954,
   "metadata": {},
   "outputs": [],
   "source": [
    "final_model = Pipeline([\n",
    "    ('ct', CT),\n",
    "    ('rfc', RandomForestClassifier(random_state=42, criterion='entropy', min_samples_leaf=5))])"
   ]
  },
  {
   "cell_type": "code",
   "execution_count": 955,
   "metadata": {},
   "outputs": [
    {
     "data": {
      "text/plain": [
       "Pipeline(steps=[('ct',\n",
       "                 ColumnTransformer(remainder='passthrough',\n",
       "                                   transformers=[('subpipe_num',\n",
       "                                                  Pipeline(steps=[('num_impute',\n",
       "                                                                   SimpleImputer(strategy='median')),\n",
       "                                                                  ('ss',\n",
       "                                                                   StandardScaler())]),\n",
       "                                                  <sklearn.compose._column_transformer.make_column_selector object at 0x7f8c918c0880>),\n",
       "                                                 ('subpipe_cat',\n",
       "                                                  Pipeline(steps=[('cat_impute',\n",
       "                                                                   SimpleImputer(strategy='most_frequent')),\n",
       "                                                                  ('ohe',\n",
       "                                                                   OneHotEncoder(handle_unknown='ignore',\n",
       "                                                                                 sparse=False))]),\n",
       "                                                  <sklearn.compose._column_transformer.make_column_selector object at 0x7f8c918c06a0>)])),\n",
       "                ('rfc',\n",
       "                 RandomForestClassifier(criterion='entropy', min_samples_leaf=5,\n",
       "                                        random_state=42))])"
      ]
     },
     "execution_count": 955,
     "metadata": {},
     "output_type": "execute_result"
    }
   ],
   "source": [
    "final_model.fit(X_train, y_train)"
   ]
  },
  {
   "cell_type": "code",
   "execution_count": 956,
   "metadata": {},
   "outputs": [
    {
     "data": {
      "text/plain": [
       "0.8291940990650826"
      ]
     },
     "execution_count": 956,
     "metadata": {},
     "output_type": "execute_result"
    }
   ],
   "source": [
    "final_model.score(X_train, y_train)"
   ]
  },
  {
   "cell_type": "code",
   "execution_count": 957,
   "metadata": {
    "scrolled": false
   },
   "outputs": [
    {
     "name": "stdout",
     "output_type": "stream",
     "text": [
      "Accuracy: 0.8074664964901085\n",
      "Precision: 0.6358346094946401\n",
      "Recall: 0.29995665366276547\n"
     ]
    },
    {
     "data": {
      "image/png": "[encoded data removed]",
      "text/plain": [
       "<Figure size 432x288 with 2 Axes>"
      ]
     },
     "metadata": {
      "needs_background": "light"
     },
     "output_type": "display_data"
    },
    {
     "data": {
      "image/png": "[encoded data removed]",
      "text/plain": [
       "<Figure size 432x288 with 1 Axes>"
      ]
     },
     "metadata": {
      "needs_background": "light"
     },
     "output_type": "display_data"
    }
   ],
   "source": [
    "scoring(final_model, X_test, y_test)"
   ]
  },
  {
   "cell_type": "markdown",
   "metadata": {},
   "source": [
    "## Determining Feature Importance"
   ]
  },
  {
   "cell_type": "code",
   "execution_count": 958,
   "metadata": {},
   "outputs": [],
   "source": [
    "features = permutation_importance(final_model, X_test, y_test, n_repeats=30, random_state=42)"
   ]
  },
  {
   "cell_type": "code",
   "execution_count": 959,
   "metadata": {},
   "outputs": [
    {
     "name": "stdout",
     "output_type": "stream",
     "text": [
      "SAFETY_EQUIPMENT0.057 +/- 0.001\n",
      "FIRST_CRASH_TYPE0.019 +/- 0.001\n",
      "DEVICE_CONDITION0.004 +/- 0.001\n",
      "TRAFFICWAY_TYPE0.003 +/- 0.001\n",
      "INJURIES_TOTAL0.003 +/- 0.000\n",
      "AGE     0.002 +/- 0.000\n",
      "CRASH_DAY_OF_WEEK0.002 +/- 0.000\n",
      "ROADWAY_SURFACE_COND0.002 +/- 0.000\n",
      "CRASH_HOUR0.002 +/- 0.000\n",
      "CRASH_MONTH0.002 +/- 0.000\n",
      "AIRBAG_DEPLOYED0.002 +/- 0.000\n",
      "LIGHTING_CONDITION0.002 +/- 0.000\n",
      "WEATHER_CONDITION0.001 +/- 0.000\n",
      "VEHICLE_TYPE0.001 +/- 0.000\n",
      "POSTED_SPEED_LIMIT0.001 +/- 0.000\n"
     ]
    }
   ],
   "source": [
    "#from sklearn documentation\n",
    "\n",
    "for i in features.importances_mean.argsort()[::-1]:\n",
    "     if features.importances_mean[i] - 2 * features.importances_std[i] > 0:\n",
    "         print(f\"{merged2.columns[i]:<8}\"\n",
    "               f\"{features.importances_mean[i]:.3f}\"\n",
    "               f\" +/- {features.importances_std[i]:.3f}\")"
   ]
  },
  {
   "cell_type": "code",
   "execution_count": null,
   "metadata": {},
   "outputs": [],
   "source": []
  }
 ],
 "metadata": {
  "kernelspec": {
   "display_name": "Python (learn-env)",
   "language": "python",
   "name": "learn-env"
  },
  "language_info": {
   "codemirror_mode": {
    "name": "ipython",
    "version": 3
   },
   "file_extension": ".py",
   "mimetype": "text/x-python",
   "name": "python",
   "nbconvert_exporter": "python",
   "pygments_lexer": "ipython3",
   "version": "3.8.5"
  }
 },
 "nbformat": 4,
 "nbformat_minor": 4
}
